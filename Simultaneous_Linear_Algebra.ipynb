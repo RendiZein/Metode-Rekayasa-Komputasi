{
  "nbformat": 4,
  "nbformat_minor": 0,
  "metadata": {
    "colab": {
      "provenance": [],
      "authorship_tag": "ABX9TyMv0cUs1L9qHo/morG7hhPW",
      "include_colab_link": true
    },
    "kernelspec": {
      "name": "python3",
      "display_name": "Python 3"
    },
    "language_info": {
      "name": "python"
    }
  },
  "cells": [
    {
      "cell_type": "markdown",
      "metadata": {
        "id": "view-in-github",
        "colab_type": "text"
      },
      "source": [
        "<a href=\"https://colab.research.google.com/github/RendiZein/Metode-Rekayasa-Komputasi/blob/main/Simultaneous_Linear_Algebra.ipynb\" target=\"_parent\"><img src=\"https://colab.research.google.com/assets/colab-badge.svg\" alt=\"Open In Colab\"/></a>"
      ]
    },
    {
      "cell_type": "code",
      "source": [
        "import numpy as np"
      ],
      "metadata": {
        "id": "ntXG07jhqOZE"
      },
      "execution_count": 198,
      "outputs": []
    },
    {
      "cell_type": "markdown",
      "source": [
        "# Nomor 21 (Cramer)"
      ],
      "metadata": {
        "id": "ZoEMMqNarU_X"
      }
    },
    {
      "cell_type": "code",
      "execution_count": 5,
      "metadata": {
        "id": "ZN-7vpzXqCKY"
      },
      "outputs": [],
      "source": [
        "def cramer(mat, constant): # takes the matrix and the costants\n",
        "\n",
        "    D = np.linalg.det(mat) # calculating the determinant of the original matrix\n",
        "\n",
        "    # substitution of the column with costant and creating new matrix\n",
        "    mat1 = np.array([constant, mat[:, 1], mat[:, 2]])\n",
        "    mat2 = np.array([mat[:, 0], constant, mat[:, 2]])\n",
        "    mat3 = np.array([mat[:, 0], mat[:, 1], constant])\n",
        "    Dx = np.linalg.det([mat1, mat2, mat3])\n",
        "\n",
        "    #calculatin determinant of the matrix\n",
        "    Dx = np.linalg.det(mat1)\n",
        "    Dy = np.linalg.det(mat2)\n",
        "    Dz = np.linalg.det(mat3)\n",
        "\n",
        "    #finding the X1, X2, X3\n",
        "    X1 = Dx/D\n",
        "    X2 = Dy/D\n",
        "    X3 = Dz/D\n",
        "\n",
        "    print(X1, X2, X3)"
      ]
    },
    {
      "cell_type": "code",
      "source": [
        "a = np.array([[10, 40, 70],\n",
        "             [20, 50, 80],\n",
        "             [30, 60, 80]])\n",
        "\n",
        "b = np.array([300, 360, 390])\n",
        "cramer(a,b)"
      ],
      "metadata": {
        "colab": {
          "base_uri": "https://localhost:8080/"
        },
        "id": "xg9s3UNcqclP",
        "outputId": "ebd06f2d-16d8-4731-bc2c-01469e5dd2af"
      },
      "execution_count": 7,
      "outputs": [
        {
          "output_type": "stream",
          "name": "stdout",
          "text": [
            "1.0000000000000018 2.0 3.0000000000000036\n"
          ]
        }
      ]
    },
    {
      "cell_type": "code",
      "source": [
        "a = np.array([[5, -1, 10],\n",
        "             [-6, 3, 22],\n",
        "             [7, -8, -12]])\n",
        "\n",
        "b = np.array([-17, 23, -52])\n",
        "cramer(a,b)"
      ],
      "metadata": {
        "colab": {
          "base_uri": "https://localhost:8080/"
        },
        "id": "--54CNN0q-gt",
        "outputId": "3a98c352-5d40-48bf-f6b4-0b8a9bbdc577"
      },
      "execution_count": 146,
      "outputs": [
        {
          "output_type": "stream",
          "name": "stdout",
          "text": [
            "-2.0180180180180196 5.018018018018025 -0.18918918918918934\n"
          ]
        }
      ]
    },
    {
      "cell_type": "markdown",
      "source": [
        "# Nomor 22 (eliminasi Gauss-Naif )"
      ],
      "metadata": {
        "id": "0fPpyD1csJl-"
      }
    },
    {
      "cell_type": "code",
      "source": [
        "a = np.array([[5.0, -1.0, 10.0],\n",
        "             [-6.0, 3.0, 22.0],\n",
        "             [7.0, -8.0, -12.0]])\n",
        "\n",
        "b = np.array([-17.0, 23.0, -52.0])"
      ],
      "metadata": {
        "id": "rjJm9tSEskAF"
      },
      "execution_count": 199,
      "outputs": []
    },
    {
      "cell_type": "code",
      "source": [
        "def egn(a,b,pr):\n",
        "  # eliminasi subtitusi baris 2 dan 3\n",
        "  n_baris,n_kolom=a.shape\n",
        "  a1=np.zeros(a.shape)\n",
        "  b1=np.zeros(b.shape)\n",
        "  ## Iterasi setiap baris\n",
        "  for j in range(1,n_baris):\n",
        "    ### iterasi setiap kolom\n",
        "    for k in range(n_kolom):\n",
        "      ### hitung a[j,k]\n",
        "      a1[j,k]=a[j,k]-(a[j,0]/a[0,0])*a[0,k]\n",
        "    ## hitung b[j]\n",
        "    b1[j]=b[j]-(a[j,0]/a[0,0])*b[0]\n",
        "  # eliminasi subtitusi baris 3\n",
        "  a2=np.zeros(a.shape)\n",
        "  b2=np.zeros(b.shape)\n",
        "  for j in range(2,n_baris):\n",
        "    ## iterasi setiap kolom\n",
        "    for k in range(n_kolom):\n",
        "      ## hitung a[j,k]\n",
        "      a2[j,k]=a1[j,k]-(a1[j,1]/a1[1,1])*a1[1,k]\n",
        "      ## hitung b[j]\n",
        "      b2[j]=b1[j]-(a1[j,1]/a1[1,1])*b1[1]\n",
        "  # masukkan nilai baru pada matrix a dan b\n",
        "  a[1]=a1[1]\n",
        "  b[1]=b1[1]\n",
        "  a[2]=a2[2]\n",
        "  b[2]=b2[2]\n",
        "  # hitung y3\n",
        "  y3=b[2]/a[2,2]\n",
        "  # hitung y2\n",
        "  y2=(b[1]-a[1,2]*y3)/a[1,1]\n",
        "  # hitung y1\n",
        "  y1=(b[0]-y2*a[0,1]-a[0,2]*y3)/a[0,0]\n",
        "  print(y3,y2,y1)\n",
        "  if pr==1:\n",
        "    return a,b"
      ],
      "metadata": {
        "id": "a4OPvv0Stnr3"
      },
      "execution_count": 200,
      "outputs": []
    },
    {
      "cell_type": "code",
      "source": [
        "egn(a,b,pr=2)"
      ],
      "metadata": {
        "colab": {
          "base_uri": "https://localhost:8080/"
        },
        "id": "RjjqVVwnJdyG",
        "outputId": "480e68b5-92a0-42dd-9cf5-4e4034bc4b44"
      },
      "execution_count": 201,
      "outputs": [
        {
          "output_type": "stream",
          "name": "stdout",
          "text": [
            "-0.18918918918918917 5.018018018018018 -2.018018018018018\n"
          ]
        }
      ]
    },
    {
      "cell_type": "markdown",
      "source": [
        "# Nomor 23 (Gauss-Jordan)"
      ],
      "metadata": {
        "id": "VAG6z0_asNf4"
      }
    },
    {
      "cell_type": "code",
      "source": [
        "a,b=egn(a,b,pr=1)"
      ],
      "metadata": {
        "colab": {
          "base_uri": "https://localhost:8080/"
        },
        "id": "3Mcdd6GHKaqR",
        "outputId": "b29a13fb-1e61-4b95-f8da-46b04786aa08"
      },
      "execution_count": 202,
      "outputs": [
        {
          "output_type": "stream",
          "name": "stdout",
          "text": [
            "-0.18918918918918917 5.018018018018018 -2.018018018018018\n"
          ]
        }
      ]
    },
    {
      "cell_type": "code",
      "source": [
        "def gj (a,b):\n",
        "  # membuat matriks diagonal bernilai 1\n",
        "  for i in range(3):\n",
        "    b[i]=b[i]/a[i,i]\n",
        "    a[i]=a[i]/a[i,i]\n",
        "  #nilai pada baris 2 semua nol kecuali kolom 2\n",
        "  b[1]=b[1]-a[1,2]*b[2]\n",
        "  a[1,2]=a[1,2]-a[1,2]*a[2,2]\n",
        "  #nilai pada baris 1 semua nol kecuali kolom 1\n",
        "  b[0]=b[0]-a[0,2]*b[2]\n",
        "  a[0,2]=a[0,2]-a[0,2]*a[2,2]\n",
        "  b[0]=b[0]-a[0,1]*b[1]\n",
        "  a[0,1]=a[0,1]-a[0,1]*a[1,1]\n",
        "  y3=b[2]\n",
        "  y2=b[1]\n",
        "  y1=b[0]\n",
        "  print(y3,y2,y1)"
      ],
      "metadata": {
        "id": "pi7R8L-HsLPk"
      },
      "execution_count": 203,
      "outputs": []
    },
    {
      "cell_type": "code",
      "source": [
        "gj (a,b)"
      ],
      "metadata": {
        "colab": {
          "base_uri": "https://localhost:8080/"
        },
        "id": "c0_EmzHrwaB7",
        "outputId": "8f4cb0c1-c5a8-4be8-94b8-5c558882538a"
      },
      "execution_count": 205,
      "outputs": [
        {
          "output_type": "stream",
          "name": "stdout",
          "text": [
            "-0.18918918918918917 5.018018018018019 -2.018018018018018\n"
          ]
        }
      ]
    }
  ]
}