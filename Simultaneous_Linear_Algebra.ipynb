{
  "nbformat": 4,
  "nbformat_minor": 0,
  "metadata": {
    "colab": {
      "provenance": [],
      "authorship_tag": "ABX9TyN4FNFcI/nSgXOqUvO1joEu",
      "include_colab_link": true
    },
    "kernelspec": {
      "name": "python3",
      "display_name": "Python 3"
    },
    "language_info": {
      "name": "python"
    }
  },
  "cells": [
    {
      "cell_type": "markdown",
      "metadata": {
        "id": "view-in-github",
        "colab_type": "text"
      },
      "source": [
        "<a href=\"https://colab.research.google.com/github/RendiZein/Metode-Rekayasa-Komputasi/blob/main/Simultaneous_Linear_Algebra.ipynb\" target=\"_parent\"><img src=\"https://colab.research.google.com/assets/colab-badge.svg\" alt=\"Open In Colab\"/></a>"
      ]
    },
    {
      "cell_type": "code",
      "source": [
        "import numpy as np"
      ],
      "metadata": {
        "id": "ntXG07jhqOZE"
      },
      "execution_count": 1,
      "outputs": []
    },
    {
      "cell_type": "markdown",
      "source": [
        "# Nomor 21 (Cramer)"
      ],
      "metadata": {
        "id": "ZoEMMqNarU_X"
      }
    },
    {
      "cell_type": "code",
      "execution_count": 32,
      "metadata": {
        "id": "ZN-7vpzXqCKY"
      },
      "outputs": [],
      "source": [
        "def cramer(mat, constant): # takes the matrix and the costants\n",
        "\n",
        "    D = np.linalg.det(mat) # calculating the determinant of the original matrix\n",
        "\n",
        "    # substitution of the column with costant and creating new matrix\n",
        "    mat1 = np.array([constant, mat[:, 1], mat[:, 2]])\n",
        "    mat2 = np.array([mat[:, 0], constant, mat[:, 2]])\n",
        "    mat3 = np.array([mat[:, 0], mat[:, 1], constant])\n",
        "    Dx = np.linalg.det([mat1, mat2, mat3])\n",
        "\n",
        "    #calculatin determinant of the matrix\n",
        "    Dx = np.linalg.det(mat1)\n",
        "    Dy = np.linalg.det(mat2)\n",
        "    Dz = np.linalg.det(mat3)\n",
        "\n",
        "    #finding the X1, X2, X3\n",
        "    y1 = Dx/D\n",
        "    y2 = Dy/D\n",
        "    y3 = Dz/D\n",
        "\n",
        "    print(\"Nilai y1 adalah {}\".format(round(y1,5)))\n",
        "    print(\"Nilai y2 adalah {}\".format(round(y2,5)))\n",
        "    print(\"Nilai y3 adalah {}\".format(round(y3,5)))"
      ]
    },
    {
      "cell_type": "markdown",
      "source": [
        "## Soal"
      ],
      "metadata": {
        "id": "uZxGXape2boV"
      }
    },
    {
      "cell_type": "code",
      "source": [
        "a_soal = np.array([[15., -2., 10.],\n",
        "             [-16., 13., -22.],\n",
        "             [27., -18., -12.]])\n",
        "\n",
        "b_soal = np.array([54., -44., -3.])\n",
        "cramer(a_soal,b_soal)"
      ],
      "metadata": {
        "colab": {
          "base_uri": "https://localhost:8080/"
        },
        "id": "_jrxkm112abB",
        "outputId": "00ea33f7-0310-4974-beaf-9975f0320af0"
      },
      "execution_count": 33,
      "outputs": [
        {
          "output_type": "stream",
          "name": "stdout",
          "text": [
            "Nilai y1 adalah 2.80376\n",
            "Nilai y2 adalah 3.15536\n",
            "Nilai y3 adalah 1.82543\n"
          ]
        }
      ]
    },
    {
      "cell_type": "markdown",
      "source": [
        "## Contoh"
      ],
      "metadata": {
        "id": "J-vCKD0g25wC"
      }
    },
    {
      "cell_type": "code",
      "source": [
        "a = np.array([[5., -1., 10.],\n",
        "             [-6., 3., 22.],\n",
        "             [7., -8., -12.]])\n",
        "\n",
        "b = np.array([-17., 23., -52.])\n",
        "cramer(a,b)"
      ],
      "metadata": {
        "colab": {
          "base_uri": "https://localhost:8080/"
        },
        "id": "--54CNN0q-gt",
        "outputId": "479607b0-41f1-4132-a748-c8fc82ac7746"
      },
      "execution_count": 39,
      "outputs": [
        {
          "output_type": "stream",
          "name": "stdout",
          "text": [
            "Nilai y1 adalah -2.01802\n",
            "Nilai y2 adalah 5.01802\n",
            "Nilai y3 adalah -0.18919\n"
          ]
        }
      ]
    },
    {
      "cell_type": "code",
      "source": [
        "\n",
        "print(\"Matrix a adalah\\n{}\".format(a))"
      ],
      "metadata": {
        "colab": {
          "base_uri": "https://localhost:8080/"
        },
        "id": "0aJujUc46jxg",
        "outputId": "6f1035ec-9bc1-4e03-ca78-22044715a8d6"
      },
      "execution_count": 41,
      "outputs": [
        {
          "output_type": "stream",
          "name": "stdout",
          "text": [
            "Matrix a adalah\n",
            "[[  5.  -1.  10.]\n",
            " [ -6.   3.  22.]\n",
            " [  7.  -8. -12.]]\n"
          ]
        }
      ]
    },
    {
      "cell_type": "markdown",
      "source": [
        "# Nomor 22 (eliminasi Gauss-Naif )"
      ],
      "metadata": {
        "id": "0fPpyD1csJl-"
      }
    },
    {
      "cell_type": "code",
      "source": [
        "def egn(a,b,pr):\n",
        "  # eliminasi subtitusi baris 2 dan 3\n",
        "  n_baris,n_kolom=a.shape\n",
        "  a1=np.zeros(a.shape)\n",
        "  b1=np.zeros(b.shape)\n",
        "  a_view=a\n",
        "  b_view=b\n",
        "  ## Iterasi setiap baris\n",
        "  for j in range(1,n_baris):\n",
        "    ### iterasi setiap kolom\n",
        "    for k in range(n_kolom):\n",
        "      ### hitung a[j,k]\n",
        "      a1[j,k]=a[j,k]-(a[j,0]/a[0,0])*a[0,k]\n",
        "    ## hitung b[j]\n",
        "    b1[j]=b[j]-(a[j,0]/a[0,0])*b[0]\n",
        "  a_view[1]=a1[1]\n",
        "  b_view[1]=b1[1]\n",
        "  a_view[2]=a1[2]\n",
        "  b_view[2]=b1[2]\n",
        "  if pr==2:\n",
        "    print(\"Matrix hasil substitusi baris 2 dan 3\")\n",
        "    print(\"Matrix a adalah\\n{}\".format(a_view))\n",
        "    print(\"Matrix b adalah\\n{}\\n\\n\".format(b_view))\n",
        "  # eliminasi subtitusi baris 3\n",
        "  a2=np.zeros(a.shape)\n",
        "  b2=np.zeros(b.shape)\n",
        "  for j in range(2,n_baris):\n",
        "    ## iterasi setiap kolom\n",
        "    for k in range(n_kolom):\n",
        "      ## hitung a[j,k]\n",
        "      a2[j,k]=a1[j,k]-(a1[j,1]/a1[1,1])*a1[1,k]\n",
        "      ## hitung b[j]\n",
        "      b2[j]=b1[j]-(a1[j,1]/a1[1,1])*b1[1]\n",
        "  # masukkan nilai baru pada matrix a dan b\n",
        "  a[1]=a1[1]\n",
        "  b[1]=b1[1]\n",
        "  a[2]=a2[2]\n",
        "  b[2]=b2[2]\n",
        "  if pr==2:\n",
        "    print(\"Matrix hasil operasi\")\n",
        "    print(\"Matrix a adalah\\n{}\".format(a))\n",
        "    print(\"Matrix b adalah\\n{}\\n\\n\".format(b))\n",
        "  # hitung y3\n",
        "  y3=b[2]/a[2,2]\n",
        "  # hitung y2\n",
        "  y2=(b[1]-a[1,2]*y3)/a[1,1]\n",
        "  # hitung y1\n",
        "  y1=(b[0]-y2*a[0,1]-a[0,2]*y3)/a[0,0]\n",
        "  if pr==2:\n",
        "    print(\"Nilai y1 adalah {}\".format(round(y1,5)))\n",
        "    print(\"Nilai y2 adalah {}\".format(round(y2,5)))\n",
        "    print(\"Nilai y3 adalah {}\".format(round(y3,5)))\n",
        "  if pr==1:\n",
        "    return a,b"
      ],
      "metadata": {
        "id": "a4OPvv0Stnr3"
      },
      "execution_count": 48,
      "outputs": []
    },
    {
      "cell_type": "markdown",
      "source": [
        "## Soal"
      ],
      "metadata": {
        "id": "56siaHtg35Hv"
      }
    },
    {
      "cell_type": "code",
      "source": [
        "a_soal = np.array([[15., -2., 10.],\n",
        "             [-16., 13., -22.],\n",
        "             [27., -18., -12.]])\n",
        "\n",
        "b_soal = np.array([54., -44., -3.])\n",
        "egn(a_soal,b_soal,pr=2)"
      ],
      "metadata": {
        "colab": {
          "base_uri": "https://localhost:8080/"
        },
        "id": "ypUQh0Km34Xj",
        "outputId": "5bb7795b-0023-40d0-ac6d-7c37b1175ecc"
      },
      "execution_count": 51,
      "outputs": [
        {
          "output_type": "stream",
          "name": "stdout",
          "text": [
            "Matrix hasil substitusi baris 2 dan 3\n",
            "Matrix a adalah\n",
            "[[ 15.          -2.          10.        ]\n",
            " [  0.          10.86666667 -11.33333333]\n",
            " [  0.         -14.4        -30.        ]]\n",
            "Matrix b adalah\n",
            "[  54.    13.6 -100.2]\n",
            "\n",
            "\n",
            "Matrix hasil operasi\n",
            "Matrix a adalah\n",
            "[[ 15.          -2.          10.        ]\n",
            " [  0.          10.86666667 -11.33333333]\n",
            " [  0.           0.         -45.01840491]]\n",
            "Matrix b adalah\n",
            "[ 54.          13.6        -82.17791411]\n",
            "\n",
            "\n",
            "Nilai y1 adalah 2.80376\n",
            "Nilai y2 adalah 3.15536\n",
            "Nilai y3 adalah 1.82543\n"
          ]
        }
      ]
    },
    {
      "cell_type": "markdown",
      "source": [
        "## Contoh"
      ],
      "metadata": {
        "id": "-yS7pSYh36i1"
      }
    },
    {
      "cell_type": "code",
      "source": [
        "a = np.array([[5., -1., 10.],\n",
        "             [-6., 3., 22.],\n",
        "             [7., -8., -12.]])\n",
        "\n",
        "b = np.array([-17., 23., -52.])\n",
        "egn(a,b,pr=2)"
      ],
      "metadata": {
        "colab": {
          "base_uri": "https://localhost:8080/"
        },
        "id": "RjjqVVwnJdyG",
        "outputId": "5c4728dd-859c-4bc0-ed67-5353c7fa4d63"
      },
      "execution_count": 52,
      "outputs": [
        {
          "output_type": "stream",
          "name": "stdout",
          "text": [
            "Matrix hasil substitusi baris 2 dan 3\n",
            "Matrix a adalah\n",
            "[[  5.   -1.   10. ]\n",
            " [  0.    1.8  34. ]\n",
            " [  0.   -6.6 -26. ]]\n",
            "Matrix b adalah\n",
            "[-17.    2.6 -28.2]\n",
            "\n",
            "\n",
            "Matrix hasil operasi\n",
            "Matrix a adalah\n",
            "[[ 5.         -1.         10.        ]\n",
            " [ 0.          1.8        34.        ]\n",
            " [ 0.          0.         98.66666667]]\n",
            "Matrix b adalah\n",
            "[-17.           2.6        -18.66666667]\n",
            "\n",
            "\n",
            "Nilai y1 adalah -2.01802\n",
            "Nilai y2 adalah 5.01802\n",
            "Nilai y3 adalah -0.18919\n"
          ]
        }
      ]
    },
    {
      "cell_type": "markdown",
      "source": [
        "# Nomor 23 (Gauss-Jordan)"
      ],
      "metadata": {
        "id": "VAG6z0_asNf4"
      }
    },
    {
      "cell_type": "code",
      "source": [
        "def gj (a,b):\n",
        "  # membuat matriks diagonal bernilai 1\n",
        "  for i in range(3):\n",
        "    b[i]=b[i]/a[i,i]\n",
        "    a[i]=a[i]/a[i,i]\n",
        "  print(\"Matrix a adalah\\n{}\".format(a))\n",
        "  print(\"Matrix b adalah\\n{}\\n\\n\".format(b))\n",
        "  #nilai pada baris 2 semua nol kecuali kolom 2\n",
        "  b[1]=b[1]-a[1,2]*b[2]\n",
        "  a[1,2]=a[1,2]-a[1,2]*a[2,2]\n",
        "  print(\"Matrix a adalah\\n{}\".format(a))\n",
        "  print(\"Matrix b adalah\\n{}\\n\\n\".format(b))\n",
        "  #nilai pada baris 1 semua nol kecuali kolom 1\n",
        "  b[0]=b[0]-a[0,2]*b[2]\n",
        "  a[0,2]=a[0,2]-a[0,2]*a[2,2]\n",
        "  print(\"Matrix a adalah\\n{}\".format(a))\n",
        "  print(\"Matrix b adalah\\n{}\\n\\n\".format(b))\n",
        "  b[0]=b[0]-a[0,1]*b[1]\n",
        "  a[0,1]=a[0,1]-a[0,1]*a[1,1]\n",
        "  print(\"Matrix a adalah\\n{}\".format(a))\n",
        "  print(\"Matrix b adalah\\n{}\\n\\n\".format(b))\n",
        "  y3=b[2]\n",
        "  y2=b[1]\n",
        "  y1=b[0]\n",
        "  print(\"Nilai y1 adalah {}\".format(round(y1,5)))\n",
        "  print(\"Nilai y2 adalah {}\".format(round(y2,5)))\n",
        "  print(\"Nilai y3 adalah {}\".format(round(y3,5)))"
      ],
      "metadata": {
        "id": "pi7R8L-HsLPk"
      },
      "execution_count": 56,
      "outputs": []
    },
    {
      "cell_type": "markdown",
      "source": [
        "## Soal"
      ],
      "metadata": {
        "id": "7PYxi4HM5mnr"
      }
    },
    {
      "cell_type": "code",
      "source": [
        "a_soal = np.array([[15., -2., 10.],\n",
        "             [-16., 13., -22.],\n",
        "             [27., -18., -12.]])\n",
        "\n",
        "b_soal = np.array([54., -44., -3.])\n",
        "a_soal,b_soal=egn(a_soal,b_soal,pr=1)"
      ],
      "metadata": {
        "id": "cRcggIU65vY6"
      },
      "execution_count": 57,
      "outputs": []
    },
    {
      "cell_type": "code",
      "source": [
        "gj(a_soal,b_soal)"
      ],
      "metadata": {
        "colab": {
          "base_uri": "https://localhost:8080/"
        },
        "id": "9_JgoKfU5zhG",
        "outputId": "293fd7f4-a21c-4107-d9f9-157b79f1fb96"
      },
      "execution_count": 58,
      "outputs": [
        {
          "output_type": "stream",
          "name": "stdout",
          "text": [
            "Matrix a adalah\n",
            "[[ 1.         -0.13333333  0.66666667]\n",
            " [ 0.          1.         -1.04294479]\n",
            " [-0.         -0.          1.        ]]\n",
            "Matrix b adalah\n",
            "[3.6        1.25153374 1.82542927]\n",
            "\n",
            "\n",
            "Matrix a adalah\n",
            "[[ 1.         -0.13333333  0.66666667]\n",
            " [ 0.          1.          0.        ]\n",
            " [-0.         -0.          1.        ]]\n",
            "Matrix b adalah\n",
            "[3.6        3.15535568 1.82542927]\n",
            "\n",
            "\n",
            "Matrix a adalah\n",
            "[[ 1.         -0.13333333  0.        ]\n",
            " [ 0.          1.          0.        ]\n",
            " [-0.         -0.          1.        ]]\n",
            "Matrix b adalah\n",
            "[2.38304715 3.15535568 1.82542927]\n",
            "\n",
            "\n",
            "Matrix a adalah\n",
            "[[ 1.  0.  0.]\n",
            " [ 0.  1.  0.]\n",
            " [-0. -0.  1.]]\n",
            "Matrix b adalah\n",
            "[2.80376124 3.15535568 1.82542927]\n",
            "\n",
            "\n",
            "Nilai y1 adalah 2.80376\n",
            "Nilai y2 adalah 3.15536\n",
            "Nilai y3 adalah 1.82543\n"
          ]
        }
      ]
    },
    {
      "cell_type": "markdown",
      "source": [
        "## Contoh"
      ],
      "metadata": {
        "id": "XjZQdXpR5oYE"
      }
    },
    {
      "cell_type": "code",
      "source": [
        "a,b=egn(a,b,pr=1)"
      ],
      "metadata": {
        "id": "M_XtQhAS5p2G"
      },
      "execution_count": 59,
      "outputs": []
    },
    {
      "cell_type": "code",
      "source": [
        "gj (a,b)"
      ],
      "metadata": {
        "colab": {
          "base_uri": "https://localhost:8080/"
        },
        "id": "c0_EmzHrwaB7",
        "outputId": "ff12028f-4264-4a0a-e0cf-52cf97b153c8"
      },
      "execution_count": 60,
      "outputs": [
        {
          "output_type": "stream",
          "name": "stdout",
          "text": [
            "Matrix a adalah\n",
            "[[1. 0. 0.]\n",
            " [0. 1. 0.]\n",
            " [0. 0. 1.]]\n",
            "Matrix b adalah\n",
            "[-2.01801802  5.01801802 -0.18918919]\n",
            "\n",
            "\n",
            "Matrix a adalah\n",
            "[[1. 0. 0.]\n",
            " [0. 1. 0.]\n",
            " [0. 0. 1.]]\n",
            "Matrix b adalah\n",
            "[-2.01801802  5.01801802 -0.18918919]\n",
            "\n",
            "\n",
            "Matrix a adalah\n",
            "[[1. 0. 0.]\n",
            " [0. 1. 0.]\n",
            " [0. 0. 1.]]\n",
            "Matrix b adalah\n",
            "[-2.01801802  5.01801802 -0.18918919]\n",
            "\n",
            "\n",
            "Matrix a adalah\n",
            "[[1. 0. 0.]\n",
            " [0. 1. 0.]\n",
            " [0. 0. 1.]]\n",
            "Matrix b adalah\n",
            "[-2.01801802  5.01801802 -0.18918919]\n",
            "\n",
            "\n",
            "Nilai y1 adalah -2.01802\n",
            "Nilai y2 adalah 5.01802\n",
            "Nilai y3 adalah -0.18919\n"
          ]
        }
      ]
    }
  ]
}