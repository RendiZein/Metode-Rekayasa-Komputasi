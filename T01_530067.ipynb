{
  "cells": [
    {
      "cell_type": "markdown",
      "metadata": {
        "id": "view-in-github",
        "colab_type": "text"
      },
      "source": [
        "<a href=\"https://colab.research.google.com/github/RendiZein/Metode-Rekayasa-Komputasi/blob/main/T01_530067.ipynb\" target=\"_parent\"><img src=\"https://colab.research.google.com/assets/colab-badge.svg\" alt=\"Open In Colab\"/></a>"
      ]
    },
    {
      "cell_type": "markdown",
      "id": "d68fa369",
      "metadata": {
        "id": "d68fa369"
      },
      "source": [
        "# Latihan pemrograman\n",
        "\n",
        "Susunlah program menggunakan Python untuk pertanyaan-pertanyaan di bawah ini. Kerjakan langsung pada ruang yang disediakan di bawah masing-masing pertanyaan. Unggah kembali hasil pekerjaan Anda dalam bentuk file Jupyter Notebook dengan format nama file `T01-XXXXXX` di mana `XXXXXX` adalah NIU Anda.\n",
        "\n",
        "\n",
        "\n",
        "\n",
        "\n"
      ]
    },
    {
      "cell_type": "code",
      "source": [
        "import numpy as np\n",
        "import pandas as pd\n",
        "from math import sqrt, factorial\n",
        "import random\n",
        "from numpy.linalg import inv\n",
        "import matplotlib.pyplot as plt\n",
        "import csv\n",
        "import requests"
      ],
      "metadata": {
        "id": "HSemJSUgdg7Y"
      },
      "id": "HSemJSUgdg7Y",
      "execution_count": 2,
      "outputs": []
    },
    {
      "cell_type": "markdown",
      "id": "b428415a",
      "metadata": {
        "id": "b428415a"
      },
      "source": [
        "## Nomor 1\n",
        "1. Tuliskan perintah berikut dan jelaskan hasilnya\n",
        "- `round(np.pi,8)` dan `round(np.pi,7)`\n",
        "-  `2**3**4` dan `(2**3)**4`\n",
        "- `np.arctan(1.5)` dan `np.arctan2(−3.,−2.)`"
      ]
    },
    {
      "cell_type": "markdown",
      "source": [
        "### Jawab"
      ],
      "metadata": {
        "id": "wu8i0aIV2d1e"
      },
      "id": "wu8i0aIV2d1e"
    },
    {
      "cell_type": "code",
      "execution_count": null,
      "id": "59b747da",
      "metadata": {
        "id": "59b747da",
        "colab": {
          "base_uri": "https://localhost:8080/"
        },
        "outputId": "aa8dd421-1d38-4fac-cc84-8cc2c5355ed5"
      },
      "outputs": [
        {
          "output_type": "stream",
          "name": "stdout",
          "text": [
            "3.14159265 3.1415927\n",
            "2417851639229258349412352 4096\n",
            "0.982793723247329 2.498091544796509\n"
          ]
        }
      ],
      "source": [
        "a_1=round(np.pi,8)\n",
        "a_2=round(np.pi,7)\n",
        "b_1=2**3**4\n",
        "b_2=(2**3)**4\n",
        "c_1=np.arctan(1.5)\n",
        "# c_2=np.arctan2(-3.,-2.)\n",
        "c_2=np.arctan2(1.5,-2.)\n",
        "print(a_1, a_2)\n",
        "print(b_1, b_2)\n",
        "print(c_1, c_2)"
      ]
    },
    {
      "cell_type": "markdown",
      "source": [
        "### Penjelasan\n",
        "1. Perintah `round` digunakan untuk membulatkan data float menjadi n bilangan dibelakang koma.\n",
        "* Perintah `round(np.pi,8)` memberikan keluaran nilai phi dengan 8 angka di belakang koma\n",
        "* Perintah `round(np.pi,7)` memberikan keluaran nilai phi dengan 7 angka di belakang koma\n",
        "2. Syntax pada python mempengaruhi hasil keluaran\n",
        "* Perintah `2**3**4` jika ditulis dalam matematis adalah berikut\n",
        "$$2^{3^{4}}$$ =$$(2^{3}){^{4}}$$\n",
        "* Perintah `(2**3)**4` jika ditulis dalam matematis adalah berikut\n",
        "$$2^{(3^{4})}$$\n",
        "3. Perintah `np.arctan`\n",
        "* Mencari nilai arc tangent dengan 1 masukan\n",
        "* keluarannya dalam radians dengan rentang -pi hingga pi\n",
        "4. Perintah `np.arctan2`\n",
        "* Mencari nilai arc tangent dengan 2 masukan. Masukkan pertama adalah koordinat y dan kedua adalah koordinat x\n",
        "* keluarannya dalam radians dengan rentang -2pi hingga 2pi\n"
      ],
      "metadata": {
        "id": "nNQy5s6D0fia"
      },
      "id": "nNQy5s6D0fia"
    },
    {
      "cell_type": "markdown",
      "id": "f798854a",
      "metadata": {
        "id": "f798854a"
      },
      "source": [
        "## Nomor 2\n",
        "2. Diketahui akar dari persamaan kuadratik $ax^2 + bx + c = 0$ adalah\n",
        "\n",
        "$$x_1 = \\dfrac{-b + \\sqrt{b^2-4ac}}{2a}, \\quad x_2 = \\dfrac{-b - \\sqrt{b^2-4ac}}{2a} $$\n",
        "\n",
        "Apakah program di bawah ini sudah betul ? Jika belum, perbaiki program tersebut sehingga memberikan hasil yang benar.\n",
        "\n",
        "```Python\n",
        "a = 2; b = 1; c = 2\n",
        "from math import sqrt\n",
        "q = b*b - 4*a*c\n",
        "q_sr = sqrt(q)\n",
        "x1 = (-b + q_sr)/2*a\n",
        "x2 = (-b - q_sr)/2*a\n",
        "print x1, x2\n",
        "```"
      ]
    },
    {
      "cell_type": "markdown",
      "source": [
        "### Kesalahan"
      ],
      "metadata": {
        "id": "HqZM0WQE2gzi"
      },
      "id": "HqZM0WQE2gzi"
    },
    {
      "cell_type": "markdown",
      "source": [
        "1. Kesalahan utama pemograman adalah harus adanya pengecekan diskriminan, jika nilai diskriminan kurang dari 0 maka persamaan nya tidak mempunyai akar persamaan ril.\n",
        "2. `math domain error` Fungsi `sqrt()` tidak menerima masukan berupa bilangan negatif.\n",
        "3. `SyntaxError` Perintah `print x1, x2` memerlukan kurung"
      ],
      "metadata": {
        "id": "mbQ1lnQz2m8X"
      },
      "id": "mbQ1lnQz2m8X"
    },
    {
      "cell_type": "code",
      "source": [
        "a = 2; b = 1; c = 2\n",
        "from math import sqrt\n",
        "q = b*b - 4*a*c\n",
        "q_sr = sqrt(q)\n",
        "x1 = (-b + q_sr)/2*a\n",
        "x2 = (-b - q_sr)/2*a\n",
        "# print x1, x2"
      ],
      "metadata": {
        "colab": {
          "base_uri": "https://localhost:8080/",
          "height": 218
        },
        "id": "b6eXMwE81-Ee",
        "outputId": "f9a15274-736d-48e8-9a36-5f67dd5ac246"
      },
      "id": "b6eXMwE81-Ee",
      "execution_count": null,
      "outputs": [
        {
          "output_type": "error",
          "ename": "ValueError",
          "evalue": "math domain error",
          "traceback": [
            "\u001b[0;31m---------------------------------------------------------------------------\u001b[0m",
            "\u001b[0;31mValueError\u001b[0m                                Traceback (most recent call last)",
            "\u001b[0;32m<ipython-input-15-0595a0e3e40d>\u001b[0m in \u001b[0;36m<cell line: 4>\u001b[0;34m()\u001b[0m\n\u001b[1;32m      2\u001b[0m \u001b[0;32mfrom\u001b[0m \u001b[0mmath\u001b[0m \u001b[0;32mimport\u001b[0m \u001b[0msqrt\u001b[0m\u001b[0;34m\u001b[0m\u001b[0;34m\u001b[0m\u001b[0m\n\u001b[1;32m      3\u001b[0m \u001b[0mq\u001b[0m \u001b[0;34m=\u001b[0m \u001b[0mb\u001b[0m\u001b[0;34m*\u001b[0m\u001b[0mb\u001b[0m \u001b[0;34m-\u001b[0m \u001b[0;36m4\u001b[0m\u001b[0;34m*\u001b[0m\u001b[0ma\u001b[0m\u001b[0;34m*\u001b[0m\u001b[0mc\u001b[0m\u001b[0;34m\u001b[0m\u001b[0;34m\u001b[0m\u001b[0m\n\u001b[0;32m----> 4\u001b[0;31m \u001b[0mq_sr\u001b[0m \u001b[0;34m=\u001b[0m \u001b[0msqrt\u001b[0m\u001b[0;34m(\u001b[0m\u001b[0mq\u001b[0m\u001b[0;34m)\u001b[0m\u001b[0;34m\u001b[0m\u001b[0;34m\u001b[0m\u001b[0m\n\u001b[0m\u001b[1;32m      5\u001b[0m \u001b[0mx1\u001b[0m \u001b[0;34m=\u001b[0m \u001b[0;34m(\u001b[0m\u001b[0;34m-\u001b[0m\u001b[0mb\u001b[0m \u001b[0;34m+\u001b[0m \u001b[0mq_sr\u001b[0m\u001b[0;34m)\u001b[0m\u001b[0;34m/\u001b[0m\u001b[0;36m2\u001b[0m\u001b[0;34m*\u001b[0m\u001b[0ma\u001b[0m\u001b[0;34m\u001b[0m\u001b[0;34m\u001b[0m\u001b[0m\n\u001b[1;32m      6\u001b[0m \u001b[0mx2\u001b[0m \u001b[0;34m=\u001b[0m \u001b[0;34m(\u001b[0m\u001b[0;34m-\u001b[0m\u001b[0mb\u001b[0m \u001b[0;34m-\u001b[0m \u001b[0mq_sr\u001b[0m\u001b[0;34m)\u001b[0m\u001b[0;34m/\u001b[0m\u001b[0;36m2\u001b[0m\u001b[0;34m*\u001b[0m\u001b[0ma\u001b[0m\u001b[0;34m\u001b[0m\u001b[0;34m\u001b[0m\u001b[0m\n",
            "\u001b[0;31mValueError\u001b[0m: math domain error"
          ]
        }
      ]
    },
    {
      "cell_type": "code",
      "source": [
        "a = 2; b = 1; c = 2\n",
        "from math import sqrt\n",
        "q = b*b - 4*a*c\n",
        "q_sr = sqrt(np.abs(q))\n",
        "x1 = (-b + q_sr)/2*a\n",
        "x2 = (-b - q_sr)/2*a\n",
        "print x1, x2"
      ],
      "metadata": {
        "id": "KjJ_J6Loc8lX",
        "colab": {
          "base_uri": "https://localhost:8080/",
          "height": 109
        },
        "outputId": "c4eae964-42bf-405a-b230-40f6d784403d"
      },
      "id": "KjJ_J6Loc8lX",
      "execution_count": null,
      "outputs": [
        {
          "output_type": "error",
          "ename": "SyntaxError",
          "evalue": "Missing parentheses in call to 'print'. Did you mean print(...)? (<ipython-input-13-5dd60e7d0854>, line 7)",
          "traceback": [
            "\u001b[0;36m  File \u001b[0;32m\"<ipython-input-13-5dd60e7d0854>\"\u001b[0;36m, line \u001b[0;32m7\u001b[0m\n\u001b[0;31m    print x1, x2 # kesalahan\u001b[0m\n\u001b[0m    ^\u001b[0m\n\u001b[0;31mSyntaxError\u001b[0m\u001b[0;31m:\u001b[0m Missing parentheses in call to 'print'. Did you mean print(...)?\n"
          ]
        }
      ]
    },
    {
      "cell_type": "code",
      "source": [
        "a = 2; b = 1; c = 2\n",
        "from math import sqrt\n",
        "q = b*b - 4*a*c\n",
        "q_sr = sqrt(np.abs(q))\n",
        "x1 = (-b + q_sr)/2*a\n",
        "x2 = (-b - q_sr)/2*a\n",
        "print(x1, x2)"
      ],
      "metadata": {
        "colab": {
          "base_uri": "https://localhost:8080/"
        },
        "id": "RdCAwWvN2n8o",
        "outputId": "49fbd9a0-182f-4a3a-8d5a-5125a1800ccc"
      },
      "id": "RdCAwWvN2n8o",
      "execution_count": null,
      "outputs": [
        {
          "output_type": "stream",
          "name": "stdout",
          "text": [
            "2.872983346207417 -4.872983346207417\n"
          ]
        }
      ]
    },
    {
      "cell_type": "markdown",
      "source": [
        "### Perbaikan"
      ],
      "metadata": {
        "id": "RlmxWTKl1Z8u"
      },
      "id": "RlmxWTKl1Z8u"
    },
    {
      "cell_type": "code",
      "source": [
        "a = 2; b = 1; c = 2\n",
        "d=b*b - 4*a*c\n",
        "if d<0: #cek diskriminan\n",
        "  print(\"Persamaan mempunyai akar imajiner\")\n",
        "  print(\"x1=({}+i)/{}\".format(b,2*a))\n",
        "  print(\"x2=({}-i)/{}\".format(b,2*a))\n",
        "else:\n",
        "  q_sr = sqrt(d)\n",
        "  x1 = (-b + q_sr)/2*a\n",
        "  x2 = (-b - q_sr)/2*a\n",
        "  print(x1, x2)"
      ],
      "metadata": {
        "id": "e6TZ3jPLZo0O",
        "colab": {
          "base_uri": "https://localhost:8080/"
        },
        "outputId": "cc2920e3-ea64-4e54-edca-d5412f2f82c7"
      },
      "id": "e6TZ3jPLZo0O",
      "execution_count": null,
      "outputs": [
        {
          "output_type": "stream",
          "name": "stdout",
          "text": [
            "Persamaan mempunyai akar imajiner\n",
            "x1=(1+i)/4\n",
            "x2=(1-i)/4\n"
          ]
        }
      ]
    },
    {
      "cell_type": "markdown",
      "id": "cb25152e",
      "metadata": {
        "id": "cb25152e"
      },
      "source": [
        "## Nomor 3\n",
        "3. Buatlah program yang meminta masukan berupa bilangan bulat kemudian menentukan apakah bilangan tersebut adalah bilangan prima atau bukan."
      ]
    },
    {
      "cell_type": "code",
      "execution_count": null,
      "id": "41035e0d",
      "metadata": {
        "id": "41035e0d"
      },
      "outputs": [],
      "source": [
        "def prime():\n",
        "  try:\n",
        "    x=int(input('Masukkan nilai x (bilangan bulat) ='))\n",
        "    if 0<x<8:\n",
        "      if x==2 or x==3 or x==5 or x==7:\n",
        "        print('{} adalah bilangan prima'.format(x))\n",
        "      else:\n",
        "        print('{} bukan bilangan prima'.format(x))\n",
        "    elif x<0: #antisipasi masukkan negatif\n",
        "      print(\"Nilai yang dimasukkan harus bilangan bulat\")\n",
        "    else:\n",
        "      if x%2==0 or x%3==0 or x%5==0 or x%7==0:\n",
        "        print('{} bukan bilangan prima'.format(x))\n",
        "      else:\n",
        "        print('{} adalah bilangan prima'.format(x))\n",
        "  except ValueError: #antisipasi masukkan string dan float\n",
        "    print(\"Nilai yang dimasukkan harus bilangan bulat\")"
      ]
    },
    {
      "cell_type": "markdown",
      "source": [
        "### Jawab"
      ],
      "metadata": {
        "id": "3UXXbsjT27JI"
      },
      "id": "3UXXbsjT27JI"
    },
    {
      "cell_type": "code",
      "source": [
        "prime()"
      ],
      "metadata": {
        "colab": {
          "base_uri": "https://localhost:8080/"
        },
        "id": "zoGiauSj2zVj",
        "outputId": "cac12678-ae5e-4338-fcba-a1e1670ad3bf"
      },
      "id": "zoGiauSj2zVj",
      "execution_count": null,
      "outputs": [
        {
          "output_type": "stream",
          "name": "stdout",
          "text": [
            "Masukkan nilai x (bilangan bulat) =2\n",
            "2 adalah bilangan prima\n"
          ]
        }
      ]
    },
    {
      "cell_type": "markdown",
      "source": [
        "### Validasi Algoritma"
      ],
      "metadata": {
        "id": "_ymYuejM2-Wn"
      },
      "id": "_ymYuejM2-Wn"
    },
    {
      "cell_type": "code",
      "source": [
        "def prime_validation(x):\n",
        "  try:\n",
        "    if 0<x<8:\n",
        "      if x==2 or x==3 or x==5 or x==7:\n",
        "        xp=1\n",
        "        return x,xp\n",
        "      else:\n",
        "        xp=0\n",
        "        return x,xp\n",
        "    else:\n",
        "      if x%2==0 or x%3==0 or x%5==0 or x%7==0:\n",
        "        xp=0\n",
        "        return x,xp\n",
        "      else:\n",
        "        xp=1\n",
        "        return x,xp\n",
        "  except ValueError: #mencegah masukkan string atau float\n",
        "    print(\"Nilai yang dimasukkan harus bilangan bulat\")"
      ],
      "metadata": {
        "id": "wDoT4hhU26fb"
      },
      "id": "wDoT4hhU26fb",
      "execution_count": null,
      "outputs": []
    },
    {
      "cell_type": "code",
      "source": [
        "prime_number=[]\n",
        "true_prime_100=25 #jumlah nilai prima kurang dari 100\n",
        "for i in range(1,100):\n",
        "  i,xp=prime_validation(i)\n",
        "  if xp==1:\n",
        "    prime_number.append(i)\n",
        "print(len(prime_number)==true_prime_100) #validasi hasil dari program"
      ],
      "metadata": {
        "colab": {
          "base_uri": "https://localhost:8080/"
        },
        "id": "To2ZZKMC3SmS",
        "outputId": "00880765-64f2-44e8-9fee-cc3d5be13f8e"
      },
      "id": "To2ZZKMC3SmS",
      "execution_count": null,
      "outputs": [
        {
          "output_type": "stream",
          "name": "stdout",
          "text": [
            "True\n"
          ]
        }
      ]
    },
    {
      "cell_type": "markdown",
      "id": "e1116a09",
      "metadata": {
        "id": "e1116a09"
      },
      "source": [
        "## Nomor 4\n",
        "4. Jika kita membuat daftar bilangan di bawah 10 yang merupakan kelipatan dari 3 atau 7, kita akan memperoleh angka 3, 6, 7 dan 9. Jumlahan dari bilangan-bilangan tersebut adalah 25. Carilah jumlahan dari semua bilangan kelipatan 3 atau 7 di bawah 10000."
      ]
    },
    {
      "cell_type": "markdown",
      "source": [
        "### Jawab"
      ],
      "metadata": {
        "id": "eCLvYKqR3iUt"
      },
      "id": "eCLvYKqR3iUt"
    },
    {
      "cell_type": "code",
      "execution_count": null,
      "id": "194aebc1",
      "metadata": {
        "id": "194aebc1"
      },
      "outputs": [],
      "source": [
        "def nomor4(n): #fungsi dengan masukkan n (nilai yang ingin dicari)\n",
        "  lt=[]\n",
        "  for i in range(n): # =\n",
        "    if i%3==0 or i%7==0: #cek apakah modulo (hasil bagi)\n",
        "      lt.append(i) #simpan jika modulo nya nol\n",
        "  lt_sum=np.sum(lt) #jumlah bilangan pada list nya\n",
        "  print(\"Jumlah bilangan di bawah {} yang merupakan kelipatan 7 atau 3 adalah {}\".format(n, lt_sum))"
      ]
    },
    {
      "cell_type": "code",
      "source": [
        "nomor4(10000)"
      ],
      "metadata": {
        "colab": {
          "base_uri": "https://localhost:8080/"
        },
        "id": "6SlWFTChbC1Q",
        "outputId": "df4d42af-5de2-4846-995b-c42fd5396f45"
      },
      "id": "6SlWFTChbC1Q",
      "execution_count": null,
      "outputs": [
        {
          "output_type": "stream",
          "name": "stdout",
          "text": [
            "Jumlah bilangan di bawah 10000 yang merupakan kelipatan 7 atau 3 adalah 21426429\n"
          ]
        }
      ]
    },
    {
      "cell_type": "markdown",
      "source": [
        "### Validasi"
      ],
      "metadata": {
        "id": "8Q8j8dBc3lff"
      },
      "id": "8Q8j8dBc3lff"
    },
    {
      "cell_type": "code",
      "source": [
        "nomor4(10)"
      ],
      "metadata": {
        "colab": {
          "base_uri": "https://localhost:8080/"
        },
        "id": "7vrLJJ5Tbz8y",
        "outputId": "393cf116-1031-49ff-945a-f211b237fc10"
      },
      "id": "7vrLJJ5Tbz8y",
      "execution_count": null,
      "outputs": [
        {
          "output_type": "stream",
          "name": "stdout",
          "text": [
            "Jumlah bilangan di bawah 10 yang merupakan kelipatan 7 atau 3 adalah 25\n"
          ]
        }
      ]
    },
    {
      "cell_type": "markdown",
      "id": "6c96e8d7-38d5-4fc6-8f3c-d95716ba8276",
      "metadata": {
        "id": "6c96e8d7-38d5-4fc6-8f3c-d95716ba8276"
      },
      "source": [
        "## Nomor 5\n",
        "5. Buatlah program yang meminta masukan berupa string, kemudian mencetak hasil dengan urutan yang dibalik."
      ]
    },
    {
      "cell_type": "markdown",
      "source": [
        "### Jawab"
      ],
      "metadata": {
        "id": "quz4GZEI3tfG"
      },
      "id": "quz4GZEI3tfG"
    },
    {
      "cell_type": "code",
      "execution_count": null,
      "id": "9dace105",
      "metadata": {
        "id": "9dace105",
        "colab": {
          "base_uri": "https://localhost:8080/"
        },
        "outputId": "be446a2c-7718-41f5-9cbb-71cee96f765e"
      },
      "outputs": [
        {
          "output_type": "stream",
          "name": "stdout",
          "text": [
            "Metode Rekayasa Komputasi\n",
            "urutan dibaliknya adalah berikut \n",
            "isatupmoK asayakeR edoteM\n"
          ]
        }
      ],
      "source": [
        "try:\n",
        "  x=str(input(\"Masukkan string yang akan di balik : \"))\n",
        "  x_inv=x[::-1]#indexing '::' adalah stepping '-1' berarti stepping (melangkah) 1 kebelakang\n",
        "  print(\"urutan dibaliknya adalah berikut \\n{}\".format(x_inv))\n",
        "except ValueError: # cegah masukan bukan string\n",
        "  print(\"Nilai yang dimasukkan harus string\")"
      ]
    },
    {
      "cell_type": "markdown",
      "id": "1f05e252",
      "metadata": {
        "id": "1f05e252"
      },
      "source": [
        "## Nomor 6\n",
        "6. Deret\n",
        "\n",
        "$$\\frac{1}{0!} + \\frac{1}{1!} + \\frac{1}{2!} + \\frac{1}{3!} + \\frac{1}{4!} + \\frac{1}{5!} + \\ldots = e$$\n",
        "\n",
        "merupakan cara untuk melakukan pendekatan terhadap nilai *e* berdasar ekspansi Taylor dari $e^x$. Kita bisa menuliskan penjumlahan parsial sebagai\n",
        "\n",
        "$$e_{pendekatan} = \\sum_{i=0}^N \\frac{1}{i!}$$\n",
        "\n",
        "Dengan menggunakan kalang `for`, hitung pendekatan untuk *e* menggunakan\n",
        "\n",
        "$$N = 1,2,3,4,5,6,7,8,9,10,100,1000,10000$$"
      ]
    },
    {
      "cell_type": "markdown",
      "source": [
        "Nilai N mana yang memberikan nilai paling dekat dengam e"
      ],
      "metadata": {
        "id": "-pztKC1MYZv1"
      },
      "id": "-pztKC1MYZv1"
    },
    {
      "cell_type": "markdown",
      "source": [
        "### Jawab"
      ],
      "metadata": {
        "id": "BWQmodbQDFep"
      },
      "id": "BWQmodbQDFep"
    },
    {
      "cell_type": "code",
      "execution_count": null,
      "id": "27c7060f",
      "metadata": {
        "id": "27c7060f",
        "colab": {
          "base_uri": "https://localhost:8080/",
          "height": 143
        },
        "outputId": "5b143943-3bc9-4f6a-9918-50dba9a52604"
      },
      "outputs": [
        {
          "output_type": "execute_result",
          "data": {
            "text/plain": [
              "        N  e_pendekatan      error(%)\n",
              "10    100      2.718282  1.633713e-16\n",
              "11   1000      2.718282  1.633713e-16\n",
              "12  10000      2.718282  1.633713e-16"
            ],
            "text/html": [
              "\n",
              "  <div id=\"df-1afc20d9-3bfc-45b1-a814-6e837d77a3c4\" class=\"colab-df-container\">\n",
              "    <div>\n",
              "<style scoped>\n",
              "    .dataframe tbody tr th:only-of-type {\n",
              "        vertical-align: middle;\n",
              "    }\n",
              "\n",
              "    .dataframe tbody tr th {\n",
              "        vertical-align: top;\n",
              "    }\n",
              "\n",
              "    .dataframe thead th {\n",
              "        text-align: right;\n",
              "    }\n",
              "</style>\n",
              "<table border=\"1\" class=\"dataframe\">\n",
              "  <thead>\n",
              "    <tr style=\"text-align: right;\">\n",
              "      <th></th>\n",
              "      <th>N</th>\n",
              "      <th>e_pendekatan</th>\n",
              "      <th>error(%)</th>\n",
              "    </tr>\n",
              "  </thead>\n",
              "  <tbody>\n",
              "    <tr>\n",
              "      <th>10</th>\n",
              "      <td>100</td>\n",
              "      <td>2.718282</td>\n",
              "      <td>1.633713e-16</td>\n",
              "    </tr>\n",
              "    <tr>\n",
              "      <th>11</th>\n",
              "      <td>1000</td>\n",
              "      <td>2.718282</td>\n",
              "      <td>1.633713e-16</td>\n",
              "    </tr>\n",
              "    <tr>\n",
              "      <th>12</th>\n",
              "      <td>10000</td>\n",
              "      <td>2.718282</td>\n",
              "      <td>1.633713e-16</td>\n",
              "    </tr>\n",
              "  </tbody>\n",
              "</table>\n",
              "</div>\n",
              "    <div class=\"colab-df-buttons\">\n",
              "\n",
              "  <div class=\"colab-df-container\">\n",
              "    <button class=\"colab-df-convert\" onclick=\"convertToInteractive('df-1afc20d9-3bfc-45b1-a814-6e837d77a3c4')\"\n",
              "            title=\"Convert this dataframe to an interactive table.\"\n",
              "            style=\"display:none;\">\n",
              "\n",
              "  <svg xmlns=\"http://www.w3.org/2000/svg\" height=\"24px\" viewBox=\"0 -960 960 960\">\n",
              "    <path d=\"M120-120v-720h720v720H120Zm60-500h600v-160H180v160Zm220 220h160v-160H400v160Zm0 220h160v-160H400v160ZM180-400h160v-160H180v160Zm440 0h160v-160H620v160ZM180-180h160v-160H180v160Zm440 0h160v-160H620v160Z\"/>\n",
              "  </svg>\n",
              "    </button>\n",
              "\n",
              "  <style>\n",
              "    .colab-df-container {\n",
              "      display:flex;\n",
              "      gap: 12px;\n",
              "    }\n",
              "\n",
              "    .colab-df-convert {\n",
              "      background-color: #E8F0FE;\n",
              "      border: none;\n",
              "      border-radius: 50%;\n",
              "      cursor: pointer;\n",
              "      display: none;\n",
              "      fill: #1967D2;\n",
              "      height: 32px;\n",
              "      padding: 0 0 0 0;\n",
              "      width: 32px;\n",
              "    }\n",
              "\n",
              "    .colab-df-convert:hover {\n",
              "      background-color: #E2EBFA;\n",
              "      box-shadow: 0px 1px 2px rgba(60, 64, 67, 0.3), 0px 1px 3px 1px rgba(60, 64, 67, 0.15);\n",
              "      fill: #174EA6;\n",
              "    }\n",
              "\n",
              "    .colab-df-buttons div {\n",
              "      margin-bottom: 4px;\n",
              "    }\n",
              "\n",
              "    [theme=dark] .colab-df-convert {\n",
              "      background-color: #3B4455;\n",
              "      fill: #D2E3FC;\n",
              "    }\n",
              "\n",
              "    [theme=dark] .colab-df-convert:hover {\n",
              "      background-color: #434B5C;\n",
              "      box-shadow: 0px 1px 3px 1px rgba(0, 0, 0, 0.15);\n",
              "      filter: drop-shadow(0px 1px 2px rgba(0, 0, 0, 0.3));\n",
              "      fill: #FFFFFF;\n",
              "    }\n",
              "  </style>\n",
              "\n",
              "    <script>\n",
              "      const buttonEl =\n",
              "        document.querySelector('#df-1afc20d9-3bfc-45b1-a814-6e837d77a3c4 button.colab-df-convert');\n",
              "      buttonEl.style.display =\n",
              "        google.colab.kernel.accessAllowed ? 'block' : 'none';\n",
              "\n",
              "      async function convertToInteractive(key) {\n",
              "        const element = document.querySelector('#df-1afc20d9-3bfc-45b1-a814-6e837d77a3c4');\n",
              "        const dataTable =\n",
              "          await google.colab.kernel.invokeFunction('convertToInteractive',\n",
              "                                                    [key], {});\n",
              "        if (!dataTable) return;\n",
              "\n",
              "        const docLinkHtml = 'Like what you see? Visit the ' +\n",
              "          '<a target=\"_blank\" href=https://colab.research.google.com/notebooks/data_table.ipynb>data table notebook</a>'\n",
              "          + ' to learn more about interactive tables.';\n",
              "        element.innerHTML = '';\n",
              "        dataTable['output_type'] = 'display_data';\n",
              "        await google.colab.output.renderOutput(dataTable, element);\n",
              "        const docLink = document.createElement('div');\n",
              "        docLink.innerHTML = docLinkHtml;\n",
              "        element.appendChild(docLink);\n",
              "      }\n",
              "    </script>\n",
              "  </div>\n",
              "\n",
              "\n",
              "<div id=\"df-a762d939-6222-4917-9a7c-0800e43ccdec\">\n",
              "  <button class=\"colab-df-quickchart\" onclick=\"quickchart('df-a762d939-6222-4917-9a7c-0800e43ccdec')\"\n",
              "            title=\"Suggest charts\"\n",
              "            style=\"display:none;\">\n",
              "\n",
              "<svg xmlns=\"http://www.w3.org/2000/svg\" height=\"24px\"viewBox=\"0 0 24 24\"\n",
              "     width=\"24px\">\n",
              "    <g>\n",
              "        <path d=\"M19 3H5c-1.1 0-2 .9-2 2v14c0 1.1.9 2 2 2h14c1.1 0 2-.9 2-2V5c0-1.1-.9-2-2-2zM9 17H7v-7h2v7zm4 0h-2V7h2v10zm4 0h-2v-4h2v4z\"/>\n",
              "    </g>\n",
              "</svg>\n",
              "  </button>\n",
              "\n",
              "<style>\n",
              "  .colab-df-quickchart {\n",
              "      --bg-color: #E8F0FE;\n",
              "      --fill-color: #1967D2;\n",
              "      --hover-bg-color: #E2EBFA;\n",
              "      --hover-fill-color: #174EA6;\n",
              "      --disabled-fill-color: #AAA;\n",
              "      --disabled-bg-color: #DDD;\n",
              "  }\n",
              "\n",
              "  [theme=dark] .colab-df-quickchart {\n",
              "      --bg-color: #3B4455;\n",
              "      --fill-color: #D2E3FC;\n",
              "      --hover-bg-color: #434B5C;\n",
              "      --hover-fill-color: #FFFFFF;\n",
              "      --disabled-bg-color: #3B4455;\n",
              "      --disabled-fill-color: #666;\n",
              "  }\n",
              "\n",
              "  .colab-df-quickchart {\n",
              "    background-color: var(--bg-color);\n",
              "    border: none;\n",
              "    border-radius: 50%;\n",
              "    cursor: pointer;\n",
              "    display: none;\n",
              "    fill: var(--fill-color);\n",
              "    height: 32px;\n",
              "    padding: 0;\n",
              "    width: 32px;\n",
              "  }\n",
              "\n",
              "  .colab-df-quickchart:hover {\n",
              "    background-color: var(--hover-bg-color);\n",
              "    box-shadow: 0 1px 2px rgba(60, 64, 67, 0.3), 0 1px 3px 1px rgba(60, 64, 67, 0.15);\n",
              "    fill: var(--button-hover-fill-color);\n",
              "  }\n",
              "\n",
              "  .colab-df-quickchart-complete:disabled,\n",
              "  .colab-df-quickchart-complete:disabled:hover {\n",
              "    background-color: var(--disabled-bg-color);\n",
              "    fill: var(--disabled-fill-color);\n",
              "    box-shadow: none;\n",
              "  }\n",
              "\n",
              "  .colab-df-spinner {\n",
              "    border: 2px solid var(--fill-color);\n",
              "    border-color: transparent;\n",
              "    border-bottom-color: var(--fill-color);\n",
              "    animation:\n",
              "      spin 1s steps(1) infinite;\n",
              "  }\n",
              "\n",
              "  @keyframes spin {\n",
              "    0% {\n",
              "      border-color: transparent;\n",
              "      border-bottom-color: var(--fill-color);\n",
              "      border-left-color: var(--fill-color);\n",
              "    }\n",
              "    20% {\n",
              "      border-color: transparent;\n",
              "      border-left-color: var(--fill-color);\n",
              "      border-top-color: var(--fill-color);\n",
              "    }\n",
              "    30% {\n",
              "      border-color: transparent;\n",
              "      border-left-color: var(--fill-color);\n",
              "      border-top-color: var(--fill-color);\n",
              "      border-right-color: var(--fill-color);\n",
              "    }\n",
              "    40% {\n",
              "      border-color: transparent;\n",
              "      border-right-color: var(--fill-color);\n",
              "      border-top-color: var(--fill-color);\n",
              "    }\n",
              "    60% {\n",
              "      border-color: transparent;\n",
              "      border-right-color: var(--fill-color);\n",
              "    }\n",
              "    80% {\n",
              "      border-color: transparent;\n",
              "      border-right-color: var(--fill-color);\n",
              "      border-bottom-color: var(--fill-color);\n",
              "    }\n",
              "    90% {\n",
              "      border-color: transparent;\n",
              "      border-bottom-color: var(--fill-color);\n",
              "    }\n",
              "  }\n",
              "</style>\n",
              "\n",
              "  <script>\n",
              "    async function quickchart(key) {\n",
              "      const quickchartButtonEl =\n",
              "        document.querySelector('#' + key + ' button');\n",
              "      quickchartButtonEl.disabled = true;  // To prevent multiple clicks.\n",
              "      quickchartButtonEl.classList.add('colab-df-spinner');\n",
              "      try {\n",
              "        const charts = await google.colab.kernel.invokeFunction(\n",
              "            'suggestCharts', [key], {});\n",
              "      } catch (error) {\n",
              "        console.error('Error during call to suggestCharts:', error);\n",
              "      }\n",
              "      quickchartButtonEl.classList.remove('colab-df-spinner');\n",
              "      quickchartButtonEl.classList.add('colab-df-quickchart-complete');\n",
              "    }\n",
              "    (() => {\n",
              "      let quickchartButtonEl =\n",
              "        document.querySelector('#df-a762d939-6222-4917-9a7c-0800e43ccdec button');\n",
              "      quickchartButtonEl.style.display =\n",
              "        google.colab.kernel.accessAllowed ? 'block' : 'none';\n",
              "    })();\n",
              "  </script>\n",
              "</div>\n",
              "    </div>\n",
              "  </div>\n"
            ],
            "application/vnd.google.colaboratory.intrinsic+json": {
              "type": "dataframe",
              "summary": "{\n  \"name\": \"df[df['error(%)']==df\",\n  \"rows\": 3,\n  \"fields\": [\n    {\n      \"column\": \"N\",\n      \"properties\": {\n        \"dtype\": \"number\",\n        \"std\": 5474,\n        \"min\": 100,\n        \"max\": 10000,\n        \"num_unique_values\": 3,\n        \"samples\": [\n          100,\n          1000,\n          10000\n        ],\n        \"semantic_type\": \"\",\n        \"description\": \"\"\n      }\n    },\n    {\n      \"column\": \"e_pendekatan\",\n      \"properties\": {\n        \"dtype\": \"number\",\n        \"std\": 5.438959822042073e-16,\n        \"min\": 2.7182818284590455,\n        \"max\": 2.7182818284590455,\n        \"num_unique_values\": 1,\n        \"samples\": [\n          2.7182818284590455\n        ],\n        \"semantic_type\": \"\",\n        \"description\": \"\"\n      }\n    },\n    {\n      \"column\": \"error(%)\",\n      \"properties\": {\n        \"dtype\": \"number\",\n        \"std\": 0.0,\n        \"min\": 1.6337129034990842e-16,\n        \"max\": 1.6337129034990842e-16,\n        \"num_unique_values\": 1,\n        \"samples\": [\n          1.6337129034990842e-16\n        ],\n        \"semantic_type\": \"\",\n        \"description\": \"\"\n      }\n    }\n  ]\n}"
            }
          },
          "metadata": {},
          "execution_count": 34
        }
      ],
      "source": [
        "exp_p=[]\n",
        "exp=np.exp(1)\n",
        "n_list=[1,2,3,4,5,6,7,8,9,10,100,1000,10000]\n",
        "list_taylor=[[1/factorial(i) for i in range(n+1)]for n in n_list]\n",
        "for j in list_taylor:\n",
        "  exp_p.append(sum(j))\n",
        "error=[np.abs(i-exp)/exp for i in exp_p]\n",
        "data={'N':n_list, 'e_pendekatan':exp_p, 'error(%)':error}\n",
        "df=pd.DataFrame(data)\n",
        "index_min=np.argmin(df['error(%)'])\n",
        "df[df['error(%)']==df.iloc[index_min,2]]"
      ]
    },
    {
      "cell_type": "code",
      "source": [
        "plt.loglog(df['N'],df['error(%)'])\n",
        "plt.title('N vs Error(%)')\n",
        "plt.xlabel('N')\n",
        "plt.ylabel('Error(%)')\n",
        "plt.show()"
      ],
      "metadata": {
        "colab": {
          "base_uri": "https://localhost:8080/",
          "height": 476
        },
        "id": "AaIxjo_H81SQ",
        "outputId": "03c6349c-e7d5-4026-df13-341b1e5e890a"
      },
      "id": "AaIxjo_H81SQ",
      "execution_count": null,
      "outputs": [
        {
          "output_type": "display_data",
          "data": {
            "text/plain": [
              "<Figure size 640x480 with 1 Axes>"
            ],
            "image/png": "[encoded data removed]"
          },
          "metadata": {}
        }
      ]
    },
    {
      "cell_type": "markdown",
      "source": [
        "### Penjelasan\n",
        "\n",
        "1. Nilai error terkecil didapat saat nilai N adalah 100, 1000, dan 10000\n",
        "2. Nilai error saat N 100, 1000, dan 10000 sama karena adanya keterbatasan penyimpanan nilai variabel python.\n",
        "3. Berdasarkan grafik, semakin besar nilai N maka semain kecil errornya.\n",
        "4. Dengan pertimbangan efisiensi komputasi, nilai N adalah 100 sudah cukup untuk mendapatkan e_pendekatan optimal"
      ],
      "metadata": {
        "id": "G_Uof8AiEpQ7"
      },
      "id": "G_Uof8AiEpQ7"
    },
    {
      "cell_type": "markdown",
      "id": "0e34b6e8",
      "metadata": {
        "id": "0e34b6e8"
      },
      "source": [
        "## Nomor 7\n",
        "7. Buatlah fungsi yang mensimulasikan pelemparan dua buah dadu. Jalankan program untuk melempar dadu berulang kali (dengan pengulangan yang banyak) dan tulislah fraksi dari pelemparan yang menghasilkan jumlah dari setiap kombinasi yang mungkin terjadi, 2 - 12.\n"
      ]
    },
    {
      "cell_type": "markdown",
      "source": [
        "### Jawab"
      ],
      "metadata": {
        "id": "musz4vRgDHZo"
      },
      "id": "musz4vRgDHZo"
    },
    {
      "cell_type": "code",
      "execution_count": null,
      "id": "7affea4c",
      "metadata": {
        "id": "7affea4c"
      },
      "outputs": [],
      "source": [
        "# pengulangan=int(input())\n",
        "def nomor7(pengulangan=100, pengayaan=False):\n",
        "  prob={}\n",
        "  for i in range(2,13):\n",
        "    prob[str(i)]=0\n",
        "  for i in range(pengulangan):\n",
        "    d1=random.randint(1,6)\n",
        "    d2=random.randint(1,6)\n",
        "    d12=d1+d2\n",
        "    prob[str(d12)]+= 1\n",
        "  for i in range(2,13):\n",
        "    if pengayaan==True:\n",
        "      prob[str(i)]=prob[str(i)]/pengulangan\n",
        "    else:\n",
        "      prob[str(i)]=\"{}/{}\".format(prob[str(i)],pengulangan)\n",
        "  return prob"
      ]
    },
    {
      "cell_type": "code",
      "source": [
        "nomor7(pengulangan=100)"
      ],
      "metadata": {
        "colab": {
          "base_uri": "https://localhost:8080/"
        },
        "id": "4otpo-d_Pz3v",
        "outputId": "6afc8c41-6c20-46a1-9f52-88ab38efa799"
      },
      "id": "4otpo-d_Pz3v",
      "execution_count": null,
      "outputs": [
        {
          "output_type": "execute_result",
          "data": {
            "text/plain": [
              "{'2': '2/100',\n",
              " '3': '6/100',\n",
              " '4': '7/100',\n",
              " '5': '17/100',\n",
              " '6': '14/100',\n",
              " '7': '14/100',\n",
              " '8': '12/100',\n",
              " '9': '9/100',\n",
              " '10': '10/100',\n",
              " '11': '7/100',\n",
              " '12': '2/100'}"
            ]
          },
          "metadata": {},
          "execution_count": 31
        }
      ]
    },
    {
      "cell_type": "markdown",
      "source": [
        "### Pengayaan"
      ],
      "metadata": {
        "id": "7i-9yaE37TH-"
      },
      "id": "7i-9yaE37TH-"
    },
    {
      "cell_type": "code",
      "source": [
        "list_pengulangan=[10,100,1000,10000,100000,1000000,10000000]\n",
        "prob_teori=[1/36,2/36,3/36,4/36,5/36,6/36,5/36,4/36,3/36,2/36,1/36]\n",
        "data={}\n",
        "data['Pengulangan']=[]\n",
        "for i in range(2,13):\n",
        "  data[str(i)]=[]\n",
        "for j in list_pengulangan:\n",
        "  data['Pengulangan'].append(str(j))\n",
        "  prob=nomor7(pengulangan=j)\n",
        "  for i in range(2,13):\n",
        "    data[str(i)].append(prob[str(i)])\n",
        "data['Pengulangan'].append(\"Teori\")\n",
        "for index,i in enumerate(range(2,13)):\n",
        "  data[str(i)].append(prob_teori[index])\n",
        "df=pd.DataFrame(data)\n",
        "df"
      ],
      "metadata": {
        "colab": {
          "base_uri": "https://localhost:8080/",
          "height": 320
        },
        "id": "FLphlcq06vCc",
        "outputId": "46f400dc-4ca4-4d0a-f15c-efc3db0a9a17"
      },
      "id": "FLphlcq06vCc",
      "execution_count": null,
      "outputs": [
        {
          "output_type": "execute_result",
          "data": {
            "text/plain": [
              "  Pengulangan         2         3         4         5         6         7  \\\n",
              "0          10  0.000000  0.000000  0.300000  0.000000  0.100000  0.200000   \n",
              "1         100  0.040000  0.080000  0.070000  0.090000  0.120000  0.110000   \n",
              "2        1000  0.027000  0.053000  0.082000  0.112000  0.159000  0.180000   \n",
              "3       10000  0.031300  0.057600  0.083000  0.111500  0.131700  0.170200   \n",
              "4      100000  0.027970  0.055360  0.082970  0.109950  0.138520  0.166490   \n",
              "5     1000000  0.027794  0.055023  0.083122  0.111083  0.138821  0.166349   \n",
              "6    10000000  0.027868  0.055513  0.083286  0.111216  0.138828  0.166512   \n",
              "7       Teori  0.027778  0.055556  0.083333  0.111111  0.138889  0.166667   \n",
              "\n",
              "          8         9        10        11        12  \n",
              "0  0.200000  0.000000  0.100000  0.100000  0.000000  \n",
              "1  0.200000  0.110000  0.060000  0.090000  0.030000  \n",
              "2  0.126000  0.096000  0.085000  0.062000  0.018000  \n",
              "3  0.137200  0.110800  0.085600  0.055200  0.025900  \n",
              "4  0.138400  0.113360  0.083820  0.055630  0.027530  \n",
              "5  0.139675  0.111447  0.083113  0.055778  0.027795  \n",
              "6  0.138827  0.111218  0.083389  0.055624  0.027719  \n",
              "7  0.138889  0.111111  0.083333  0.055556  0.027778  "
            ],
            "text/html": [
              "\n",
              "  <div id=\"df-e5413b09-0374-4df8-ab8e-8109eefa22a4\" class=\"colab-df-container\">\n",
              "    <div>\n",
              "<style scoped>\n",
              "    .dataframe tbody tr th:only-of-type {\n",
              "        vertical-align: middle;\n",
              "    }\n",
              "\n",
              "    .dataframe tbody tr th {\n",
              "        vertical-align: top;\n",
              "    }\n",
              "\n",
              "    .dataframe thead th {\n",
              "        text-align: right;\n",
              "    }\n",
              "</style>\n",
              "<table border=\"1\" class=\"dataframe\">\n",
              "  <thead>\n",
              "    <tr style=\"text-align: right;\">\n",
              "      <th></th>\n",
              "      <th>Pengulangan</th>\n",
              "      <th>2</th>\n",
              "      <th>3</th>\n",
              "      <th>4</th>\n",
              "      <th>5</th>\n",
              "      <th>6</th>\n",
              "      <th>7</th>\n",
              "      <th>8</th>\n",
              "      <th>9</th>\n",
              "      <th>10</th>\n",
              "      <th>11</th>\n",
              "      <th>12</th>\n",
              "    </tr>\n",
              "  </thead>\n",
              "  <tbody>\n",
              "    <tr>\n",
              "      <th>0</th>\n",
              "      <td>10</td>\n",
              "      <td>0.000000</td>\n",
              "      <td>0.000000</td>\n",
              "      <td>0.300000</td>\n",
              "      <td>0.000000</td>\n",
              "      <td>0.100000</td>\n",
              "      <td>0.200000</td>\n",
              "      <td>0.200000</td>\n",
              "      <td>0.000000</td>\n",
              "      <td>0.100000</td>\n",
              "      <td>0.100000</td>\n",
              "      <td>0.000000</td>\n",
              "    </tr>\n",
              "    <tr>\n",
              "      <th>1</th>\n",
              "      <td>100</td>\n",
              "      <td>0.040000</td>\n",
              "      <td>0.080000</td>\n",
              "      <td>0.070000</td>\n",
              "      <td>0.090000</td>\n",
              "      <td>0.120000</td>\n",
              "      <td>0.110000</td>\n",
              "      <td>0.200000</td>\n",
              "      <td>0.110000</td>\n",
              "      <td>0.060000</td>\n",
              "      <td>0.090000</td>\n",
              "      <td>0.030000</td>\n",
              "    </tr>\n",
              "    <tr>\n",
              "      <th>2</th>\n",
              "      <td>1000</td>\n",
              "      <td>0.027000</td>\n",
              "      <td>0.053000</td>\n",
              "      <td>0.082000</td>\n",
              "      <td>0.112000</td>\n",
              "      <td>0.159000</td>\n",
              "      <td>0.180000</td>\n",
              "      <td>0.126000</td>\n",
              "      <td>0.096000</td>\n",
              "      <td>0.085000</td>\n",
              "      <td>0.062000</td>\n",
              "      <td>0.018000</td>\n",
              "    </tr>\n",
              "    <tr>\n",
              "      <th>3</th>\n",
              "      <td>10000</td>\n",
              "      <td>0.031300</td>\n",
              "      <td>0.057600</td>\n",
              "      <td>0.083000</td>\n",
              "      <td>0.111500</td>\n",
              "      <td>0.131700</td>\n",
              "      <td>0.170200</td>\n",
              "      <td>0.137200</td>\n",
              "      <td>0.110800</td>\n",
              "      <td>0.085600</td>\n",
              "      <td>0.055200</td>\n",
              "      <td>0.025900</td>\n",
              "    </tr>\n",
              "    <tr>\n",
              "      <th>4</th>\n",
              "      <td>100000</td>\n",
              "      <td>0.027970</td>\n",
              "      <td>0.055360</td>\n",
              "      <td>0.082970</td>\n",
              "      <td>0.109950</td>\n",
              "      <td>0.138520</td>\n",
              "      <td>0.166490</td>\n",
              "      <td>0.138400</td>\n",
              "      <td>0.113360</td>\n",
              "      <td>0.083820</td>\n",
              "      <td>0.055630</td>\n",
              "      <td>0.027530</td>\n",
              "    </tr>\n",
              "    <tr>\n",
              "      <th>5</th>\n",
              "      <td>1000000</td>\n",
              "      <td>0.027794</td>\n",
              "      <td>0.055023</td>\n",
              "      <td>0.083122</td>\n",
              "      <td>0.111083</td>\n",
              "      <td>0.138821</td>\n",
              "      <td>0.166349</td>\n",
              "      <td>0.139675</td>\n",
              "      <td>0.111447</td>\n",
              "      <td>0.083113</td>\n",
              "      <td>0.055778</td>\n",
              "      <td>0.027795</td>\n",
              "    </tr>\n",
              "    <tr>\n",
              "      <th>6</th>\n",
              "      <td>10000000</td>\n",
              "      <td>0.027868</td>\n",
              "      <td>0.055513</td>\n",
              "      <td>0.083286</td>\n",
              "      <td>0.111216</td>\n",
              "      <td>0.138828</td>\n",
              "      <td>0.166512</td>\n",
              "      <td>0.138827</td>\n",
              "      <td>0.111218</td>\n",
              "      <td>0.083389</td>\n",
              "      <td>0.055624</td>\n",
              "      <td>0.027719</td>\n",
              "    </tr>\n",
              "    <tr>\n",
              "      <th>7</th>\n",
              "      <td>Teori</td>\n",
              "      <td>0.027778</td>\n",
              "      <td>0.055556</td>\n",
              "      <td>0.083333</td>\n",
              "      <td>0.111111</td>\n",
              "      <td>0.138889</td>\n",
              "      <td>0.166667</td>\n",
              "      <td>0.138889</td>\n",
              "      <td>0.111111</td>\n",
              "      <td>0.083333</td>\n",
              "      <td>0.055556</td>\n",
              "      <td>0.027778</td>\n",
              "    </tr>\n",
              "  </tbody>\n",
              "</table>\n",
              "</div>\n",
              "    <div class=\"colab-df-buttons\">\n",
              "\n",
              "  <div class=\"colab-df-container\">\n",
              "    <button class=\"colab-df-convert\" onclick=\"convertToInteractive('df-e5413b09-0374-4df8-ab8e-8109eefa22a4')\"\n",
              "            title=\"Convert this dataframe to an interactive table.\"\n",
              "            style=\"display:none;\">\n",
              "\n",
              "  <svg xmlns=\"http://www.w3.org/2000/svg\" height=\"24px\" viewBox=\"0 -960 960 960\">\n",
              "    <path d=\"M120-120v-720h720v720H120Zm60-500h600v-160H180v160Zm220 220h160v-160H400v160Zm0 220h160v-160H400v160ZM180-400h160v-160H180v160Zm440 0h160v-160H620v160ZM180-180h160v-160H180v160Zm440 0h160v-160H620v160Z\"/>\n",
              "  </svg>\n",
              "    </button>\n",
              "\n",
              "  <style>\n",
              "    .colab-df-container {\n",
              "      display:flex;\n",
              "      gap: 12px;\n",
              "    }\n",
              "\n",
              "    .colab-df-convert {\n",
              "      background-color: #E8F0FE;\n",
              "      border: none;\n",
              "      border-radius: 50%;\n",
              "      cursor: pointer;\n",
              "      display: none;\n",
              "      fill: #1967D2;\n",
              "      height: 32px;\n",
              "      padding: 0 0 0 0;\n",
              "      width: 32px;\n",
              "    }\n",
              "\n",
              "    .colab-df-convert:hover {\n",
              "      background-color: #E2EBFA;\n",
              "      box-shadow: 0px 1px 2px rgba(60, 64, 67, 0.3), 0px 1px 3px 1px rgba(60, 64, 67, 0.15);\n",
              "      fill: #174EA6;\n",
              "    }\n",
              "\n",
              "    .colab-df-buttons div {\n",
              "      margin-bottom: 4px;\n",
              "    }\n",
              "\n",
              "    [theme=dark] .colab-df-convert {\n",
              "      background-color: #3B4455;\n",
              "      fill: #D2E3FC;\n",
              "    }\n",
              "\n",
              "    [theme=dark] .colab-df-convert:hover {\n",
              "      background-color: #434B5C;\n",
              "      box-shadow: 0px 1px 3px 1px rgba(0, 0, 0, 0.15);\n",
              "      filter: drop-shadow(0px 1px 2px rgba(0, 0, 0, 0.3));\n",
              "      fill: #FFFFFF;\n",
              "    }\n",
              "  </style>\n",
              "\n",
              "    <script>\n",
              "      const buttonEl =\n",
              "        document.querySelector('#df-e5413b09-0374-4df8-ab8e-8109eefa22a4 button.colab-df-convert');\n",
              "      buttonEl.style.display =\n",
              "        google.colab.kernel.accessAllowed ? 'block' : 'none';\n",
              "\n",
              "      async function convertToInteractive(key) {\n",
              "        const element = document.querySelector('#df-e5413b09-0374-4df8-ab8e-8109eefa22a4');\n",
              "        const dataTable =\n",
              "          await google.colab.kernel.invokeFunction('convertToInteractive',\n",
              "                                                    [key], {});\n",
              "        if (!dataTable) return;\n",
              "\n",
              "        const docLinkHtml = 'Like what you see? Visit the ' +\n",
              "          '<a target=\"_blank\" href=https://colab.research.google.com/notebooks/data_table.ipynb>data table notebook</a>'\n",
              "          + ' to learn more about interactive tables.';\n",
              "        element.innerHTML = '';\n",
              "        dataTable['output_type'] = 'display_data';\n",
              "        await google.colab.output.renderOutput(dataTable, element);\n",
              "        const docLink = document.createElement('div');\n",
              "        docLink.innerHTML = docLinkHtml;\n",
              "        element.appendChild(docLink);\n",
              "      }\n",
              "    </script>\n",
              "  </div>\n",
              "\n",
              "\n",
              "<div id=\"df-ee40ac28-ad53-448b-a34d-417bc2f5285a\">\n",
              "  <button class=\"colab-df-quickchart\" onclick=\"quickchart('df-ee40ac28-ad53-448b-a34d-417bc2f5285a')\"\n",
              "            title=\"Suggest charts\"\n",
              "            style=\"display:none;\">\n",
              "\n",
              "<svg xmlns=\"http://www.w3.org/2000/svg\" height=\"24px\"viewBox=\"0 0 24 24\"\n",
              "     width=\"24px\">\n",
              "    <g>\n",
              "        <path d=\"M19 3H5c-1.1 0-2 .9-2 2v14c0 1.1.9 2 2 2h14c1.1 0 2-.9 2-2V5c0-1.1-.9-2-2-2zM9 17H7v-7h2v7zm4 0h-2V7h2v10zm4 0h-2v-4h2v4z\"/>\n",
              "    </g>\n",
              "</svg>\n",
              "  </button>\n",
              "\n",
              "<style>\n",
              "  .colab-df-quickchart {\n",
              "      --bg-color: #E8F0FE;\n",
              "      --fill-color: #1967D2;\n",
              "      --hover-bg-color: #E2EBFA;\n",
              "      --hover-fill-color: #174EA6;\n",
              "      --disabled-fill-color: #AAA;\n",
              "      --disabled-bg-color: #DDD;\n",
              "  }\n",
              "\n",
              "  [theme=dark] .colab-df-quickchart {\n",
              "      --bg-color: #3B4455;\n",
              "      --fill-color: #D2E3FC;\n",
              "      --hover-bg-color: #434B5C;\n",
              "      --hover-fill-color: #FFFFFF;\n",
              "      --disabled-bg-color: #3B4455;\n",
              "      --disabled-fill-color: #666;\n",
              "  }\n",
              "\n",
              "  .colab-df-quickchart {\n",
              "    background-color: var(--bg-color);\n",
              "    border: none;\n",
              "    border-radius: 50%;\n",
              "    cursor: pointer;\n",
              "    display: none;\n",
              "    fill: var(--fill-color);\n",
              "    height: 32px;\n",
              "    padding: 0;\n",
              "    width: 32px;\n",
              "  }\n",
              "\n",
              "  .colab-df-quickchart:hover {\n",
              "    background-color: var(--hover-bg-color);\n",
              "    box-shadow: 0 1px 2px rgba(60, 64, 67, 0.3), 0 1px 3px 1px rgba(60, 64, 67, 0.15);\n",
              "    fill: var(--button-hover-fill-color);\n",
              "  }\n",
              "\n",
              "  .colab-df-quickchart-complete:disabled,\n",
              "  .colab-df-quickchart-complete:disabled:hover {\n",
              "    background-color: var(--disabled-bg-color);\n",
              "    fill: var(--disabled-fill-color);\n",
              "    box-shadow: none;\n",
              "  }\n",
              "\n",
              "  .colab-df-spinner {\n",
              "    border: 2px solid var(--fill-color);\n",
              "    border-color: transparent;\n",
              "    border-bottom-color: var(--fill-color);\n",
              "    animation:\n",
              "      spin 1s steps(1) infinite;\n",
              "  }\n",
              "\n",
              "  @keyframes spin {\n",
              "    0% {\n",
              "      border-color: transparent;\n",
              "      border-bottom-color: var(--fill-color);\n",
              "      border-left-color: var(--fill-color);\n",
              "    }\n",
              "    20% {\n",
              "      border-color: transparent;\n",
              "      border-left-color: var(--fill-color);\n",
              "      border-top-color: var(--fill-color);\n",
              "    }\n",
              "    30% {\n",
              "      border-color: transparent;\n",
              "      border-left-color: var(--fill-color);\n",
              "      border-top-color: var(--fill-color);\n",
              "      border-right-color: var(--fill-color);\n",
              "    }\n",
              "    40% {\n",
              "      border-color: transparent;\n",
              "      border-right-color: var(--fill-color);\n",
              "      border-top-color: var(--fill-color);\n",
              "    }\n",
              "    60% {\n",
              "      border-color: transparent;\n",
              "      border-right-color: var(--fill-color);\n",
              "    }\n",
              "    80% {\n",
              "      border-color: transparent;\n",
              "      border-right-color: var(--fill-color);\n",
              "      border-bottom-color: var(--fill-color);\n",
              "    }\n",
              "    90% {\n",
              "      border-color: transparent;\n",
              "      border-bottom-color: var(--fill-color);\n",
              "    }\n",
              "  }\n",
              "</style>\n",
              "\n",
              "  <script>\n",
              "    async function quickchart(key) {\n",
              "      const quickchartButtonEl =\n",
              "        document.querySelector('#' + key + ' button');\n",
              "      quickchartButtonEl.disabled = true;  // To prevent multiple clicks.\n",
              "      quickchartButtonEl.classList.add('colab-df-spinner');\n",
              "      try {\n",
              "        const charts = await google.colab.kernel.invokeFunction(\n",
              "            'suggestCharts', [key], {});\n",
              "      } catch (error) {\n",
              "        console.error('Error during call to suggestCharts:', error);\n",
              "      }\n",
              "      quickchartButtonEl.classList.remove('colab-df-spinner');\n",
              "      quickchartButtonEl.classList.add('colab-df-quickchart-complete');\n",
              "    }\n",
              "    (() => {\n",
              "      let quickchartButtonEl =\n",
              "        document.querySelector('#df-ee40ac28-ad53-448b-a34d-417bc2f5285a button');\n",
              "      quickchartButtonEl.style.display =\n",
              "        google.colab.kernel.accessAllowed ? 'block' : 'none';\n",
              "    })();\n",
              "  </script>\n",
              "</div>\n",
              "    </div>\n",
              "  </div>\n"
            ],
            "application/vnd.google.colaboratory.intrinsic+json": {
              "type": "dataframe",
              "variable_name": "df",
              "summary": "{\n  \"name\": \"df\",\n  \"rows\": 8,\n  \"fields\": [\n    {\n      \"column\": \"Pengulangan\",\n      \"properties\": {\n        \"dtype\": \"string\",\n        \"num_unique_values\": 8,\n        \"samples\": [\n          \"100\",\n          \"1000000\",\n          \"10\"\n        ],\n        \"semantic_type\": \"\",\n        \"description\": \"\"\n      }\n    },\n    {\n      \"column\": \"2\",\n      \"properties\": {\n        \"dtype\": \"number\",\n        \"std\": 0.011429749198506332,\n        \"min\": 0.0,\n        \"max\": 0.04,\n        \"num_unique_values\": 8,\n        \"samples\": [\n          0.04,\n          0.027794,\n          0.0\n        ],\n        \"semantic_type\": \"\",\n        \"description\": \"\"\n      }\n    },\n    {\n      \"column\": \"3\",\n      \"properties\": {\n        \"dtype\": \"number\",\n        \"std\": 0.02256362969570696,\n        \"min\": 0.0,\n        \"max\": 0.08,\n        \"num_unique_values\": 8,\n        \"samples\": [\n          0.08,\n          0.055023,\n          0.0\n        ],\n        \"semantic_type\": \"\",\n        \"description\": \"\"\n      }\n    },\n    {\n      \"column\": \"4\",\n      \"properties\": {\n        \"dtype\": \"number\",\n        \"std\": 0.07752596367913289,\n        \"min\": 0.07,\n        \"max\": 0.3,\n        \"num_unique_values\": 8,\n        \"samples\": [\n          0.07,\n          0.083122,\n          0.3\n        ],\n        \"semantic_type\": \"\",\n        \"description\": \"\"\n      }\n    },\n    {\n      \"column\": \"5\",\n      \"properties\": {\n        \"dtype\": \"number\",\n        \"std\": 0.03894079076313232,\n        \"min\": 0.0,\n        \"max\": 0.112,\n        \"num_unique_values\": 8,\n        \"samples\": [\n          0.09,\n          0.111083,\n          0.0\n        ],\n        \"semantic_type\": \"\",\n        \"description\": \"\"\n      }\n    },\n    {\n      \"column\": \"6\",\n      \"properties\": {\n        \"dtype\": \"number\",\n        \"std\": 0.01718931717317519,\n        \"min\": 0.1,\n        \"max\": 0.159,\n        \"num_unique_values\": 8,\n        \"samples\": [\n          0.12,\n          0.138821,\n          0.1\n        ],\n        \"semantic_type\": \"\",\n        \"description\": \"\"\n      }\n    },\n    {\n      \"column\": \"7\",\n      \"properties\": {\n        \"dtype\": \"number\",\n        \"std\": 0.025372403009637702,\n        \"min\": 0.11,\n        \"max\": 0.2,\n        \"num_unique_values\": 8,\n        \"samples\": [\n          0.11,\n          0.166349,\n          0.2\n        ],\n        \"semantic_type\": \"\",\n        \"description\": \"\"\n      }\n    },\n    {\n      \"column\": \"8\",\n      \"properties\": {\n        \"dtype\": \"number\",\n        \"std\": 0.02972304037073217,\n        \"min\": 0.126,\n        \"max\": 0.2,\n        \"num_unique_values\": 7,\n        \"samples\": [\n          0.2,\n          0.126,\n          0.1388271\n        ],\n        \"semantic_type\": \"\",\n        \"description\": \"\"\n      }\n    },\n    {\n      \"column\": \"9\",\n      \"properties\": {\n        \"dtype\": \"number\",\n        \"std\": 0.03896682564022364,\n        \"min\": 0.0,\n        \"max\": 0.11336,\n        \"num_unique_values\": 8,\n        \"samples\": [\n          0.11,\n          0.111447,\n          0.0\n        ],\n        \"semantic_type\": \"\",\n        \"description\": \"\"\n      }\n    },\n    {\n      \"column\": \"10\",\n      \"properties\": {\n        \"dtype\": \"number\",\n        \"std\": 0.010887080118789267,\n        \"min\": 0.06,\n        \"max\": 0.1,\n        \"num_unique_values\": 8,\n        \"samples\": [\n          0.06,\n          0.083113,\n          0.1\n        ],\n        \"semantic_type\": \"\",\n        \"description\": \"\"\n      }\n    },\n    {\n      \"column\": \"11\",\n      \"properties\": {\n        \"dtype\": \"number\",\n        \"std\": 0.01809902538848281,\n        \"min\": 0.0552,\n        \"max\": 0.1,\n        \"num_unique_values\": 8,\n        \"samples\": [\n          0.09,\n          0.055778,\n          0.1\n        ],\n        \"semantic_type\": \"\",\n        \"description\": \"\"\n      }\n    },\n    {\n      \"column\": \"12\",\n      \"properties\": {\n        \"dtype\": \"number\",\n        \"std\": 0.009999644445225777,\n        \"min\": 0.0,\n        \"max\": 0.03,\n        \"num_unique_values\": 8,\n        \"samples\": [\n          0.03,\n          0.027795,\n          0.0\n        ],\n        \"semantic_type\": \"\",\n        \"description\": \"\"\n      }\n    }\n  ]\n}"
            }
          },
          "metadata": {},
          "execution_count": 26
        }
      ]
    },
    {
      "cell_type": "markdown",
      "source": [
        "### Penjelasan\n",
        "1. Semakin besar nilai pengulangannya maka hasilnya akan mendekati teori\n",
        "2. Kejadian ini menyerupai distribusi normal karena probablitas di tengah akan besar dan diujung kanan/kiri akan kecil"
      ],
      "metadata": {
        "id": "MD6aGzz-7ZwA"
      },
      "id": "MD6aGzz-7ZwA"
    },
    {
      "cell_type": "markdown",
      "id": "d6f73893",
      "metadata": {
        "id": "d6f73893"
      },
      "source": [
        "## Nomor 8\n",
        "8. Mintalah pengguna untuk memasukkan bilangan, _N_. Cetaklah matriks acak berukuran _N_ x _N_, kemudian cetak pula vektor yang berisi jumlahan dari masing-masing kolom."
      ]
    },
    {
      "cell_type": "markdown",
      "source": [
        "### Jawab"
      ],
      "metadata": {
        "id": "HjZp_0r6DJdP"
      },
      "id": "HjZp_0r6DJdP"
    },
    {
      "cell_type": "code",
      "execution_count": 3,
      "id": "9f84f2c5",
      "metadata": {
        "id": "9f84f2c5",
        "colab": {
          "base_uri": "https://localhost:8080/"
        },
        "outputId": "ff9cc838-e5c2-4575-b90b-8b5b36716363"
      },
      "outputs": [
        {
          "output_type": "stream",
          "name": "stdout",
          "text": [
            "Input nilai N : 4\n",
            "Matrik awal adalah \n",
            "[[ 4.69455987 -7.19537316 -1.7493851  -6.74654258]\n",
            " [-1.05173291 -9.18963316  7.49790977  3.66868901]\n",
            " [-9.80125534  5.45592728 -4.04913836 -9.62479183]\n",
            " [ 4.88793025 -2.3078253   8.4350099  -7.52656998]]\n",
            "\n",
            "Penjumlahan kolom matriks menghasilkan matriks berikut \n",
            "[ -1.27049812 -13.23690433  10.13439621 -20.22921537]\n",
            "\n"
          ]
        }
      ],
      "source": [
        "N=int(input(\"Input nilai N : \"))\n",
        "mat=np.random.uniform(low= -10, high= 10, size=(N,N))\n",
        "print(\"Matrik awal adalah \\n{}\\n\".format(mat))\n",
        "mat_sum_col=mat.sum(axis=0)\n",
        "print(\"Penjumlahan kolom matriks menghasilkan matriks berikut \\n{}\\n\".format(mat_sum_col))"
      ]
    },
    {
      "cell_type": "markdown",
      "id": "83e1c8af",
      "metadata": {
        "id": "83e1c8af"
      },
      "source": [
        "## Nomor 9\n",
        "9. Buatlah *dictionary* yang berisi pasangan `kunci:nilai` di mana kunci adalah nama-nama partikel elementer dan nilai adalah massa partikel tersebut dalam satuan kilogram."
      ]
    },
    {
      "cell_type": "markdown",
      "source": [
        "### Jawab"
      ],
      "metadata": {
        "id": "vOZZ1kgKGNgm"
      },
      "id": "vOZZ1kgKGNgm"
    },
    {
      "cell_type": "code",
      "execution_count": 4,
      "id": "341b3f24",
      "metadata": {
        "id": "341b3f24",
        "colab": {
          "base_uri": "https://localhost:8080/"
        },
        "outputId": "79e03bc0-ebd8-4048-cb92-48bdbf4eb164"
      },
      "outputs": [
        {
          "output_type": "stream",
          "name": "stdout",
          "text": [
            "{'proton': 1.67262192e-27, 'neutron': 1.67492749804e-27, 'elektron': 9.1093837e-31}\n"
          ]
        }
      ],
      "source": [
        "psa = {} #inisiasi dictionary\n",
        "#isi setiap key dengan value\n",
        "psa['proton']=1.67262192e-27\n",
        "psa['neutron']=1.67492749804e-27\n",
        "psa['elektron']=9.1093837e-31\n",
        "print(psa)"
      ]
    },
    {
      "cell_type": "markdown",
      "id": "8e2d6bb4",
      "metadata": {
        "id": "8e2d6bb4"
      },
      "source": [
        "## Nomor 10\n",
        "10. Bahan padat akan mengalami pemuaian jika suhunya meningkat. Besarnya pemuaian tersebut dapat dinyatakan sebagai berikut\n",
        "\n",
        "$$ \\Delta L = \\alpha \\Delta T L$$\n",
        "\n",
        "dengan $\\Delta L$ adalah perubahan panjang, $\\alpha$ adalah koefisien muai linear, $\\Delta T$ adalah perubahan suhu dan $L$ adalah panjang bahan pada suhu awal, $T$.\n",
        "\n",
        "Tabel di bawah ini menampilkan koefisien muai beberapa bahan.\n",
        "\n",
        "|Material   | Koefisien muai $\\times 10^6$ m/[m.$^\\circ$C]|\n",
        "|------:    |-------------------------------------------: |\n",
        "|Tembaga    |16                                           |\n",
        "|Aluminium  |22,5                                         |\n",
        "|Kaca       |5,9                                          |\n",
        "|Baja       |11,5                                         |\n",
        "|Polietilen | 125                                         |\n",
        "\n",
        "Buatlah fungsi Python bernama `muai` yang memiliki argumen input berupa jenis bahan (string teks), perubahan suhu dan panjang awal. Fungsi tersebut akan mengembalikan panjang bahan setelah memuai. Uji fungsi Anda dengan beberapa contoh kasus.\n",
        "\n",
        "**Improvement**\n",
        "\n",
        "1. Handle error masukkan (ke huruf kecil)\n",
        "2. Tampilkan masukkan\n"
      ]
    },
    {
      "cell_type": "markdown",
      "source": [
        "### Jawab"
      ],
      "metadata": {
        "id": "9cvEs4K5GPjr"
      },
      "id": "9cvEs4K5GPjr"
    },
    {
      "cell_type": "code",
      "execution_count": 5,
      "id": "6f80bfbc",
      "metadata": {
        "id": "6f80bfbc",
        "colab": {
          "base_uri": "https://localhost:8080/"
        },
        "outputId": "fc9d28cb-4248-4d82-fb7e-4a76789de688"
      },
      "outputs": [
        {
          "output_type": "stream",
          "name": "stdout",
          "text": [
            "Materi apa yang akan dihitung (Tembaga/Aluminium/Kaca/Polietilen) :tembaga\n",
            "Berapa perubahan suhu ?3\n",
            "Berapa panjang awal ?56\n",
            "Perubahan panjang \n",
            "2688 (10^-6 m)\n"
          ]
        }
      ],
      "source": [
        "dict_material={'Tembaga':16, 'Aluminium':22.5, 'Kaca':5.9, 'Baja':11.5, 'Polietilen':125} #dict dari tabel\n",
        "material=str(input(\"Materi apa yang akan dihitung (Tembaga/Aluminium/Kaca/Polietilen) :\")) #input material\n",
        "material=material.title() #cegah error masukan tidak case judul\n",
        "delta_t=int(input(\"Berapa perubahan suhu ?\"))\n",
        "panjang_awal=int(input(\"Berapa panjang awal ?\"))\n",
        "alpha=dict_material[material]\n",
        "delta_l=alpha*delta_t*panjang_awal\n",
        "print(\"Perubahan panjang \\n{} (10^-6 m)\".format(delta_l))"
      ]
    },
    {
      "cell_type": "markdown",
      "id": "cbbcc0b1",
      "metadata": {
        "id": "cbbcc0b1"
      },
      "source": [
        "## Nomor 11\n",
        "11. Tulislah fungsi bernama `split_function(f,g,a,b,x)` di mana `f` dan `g` adalah fungsi `f(x)` dan `g(x)`. Outputnya adalah `f(x)` jika $x\\le a$, `g(x)` jika $x\\ge b$, dan 0 untuk nilai $x$ lainnya. Anggap bahwa $b>a$."
      ]
    },
    {
      "cell_type": "markdown",
      "source": [
        "### Jawab"
      ],
      "metadata": {
        "id": "07W9UMBcGRgH"
      },
      "id": "07W9UMBcGRgH"
    },
    {
      "cell_type": "code",
      "execution_count": null,
      "id": "8187e800",
      "metadata": {
        "id": "8187e800"
      },
      "outputs": [],
      "source": [
        "def split_function(f,g,a,b,x):\n",
        "    # tulis kode fungsi di sini\n",
        "    if b>a:\n",
        "      if x<=a:\n",
        "        return round(f(x),4)\n",
        "      elif x>=b:\n",
        "        return round(g(x),4)\n",
        "      else:\n",
        "        return 0\n",
        "    else:\n",
        "      print(\"Masukkan nila yang benar (b>a)\")\n",
        "\n"
      ]
    },
    {
      "cell_type": "code",
      "execution_count": null,
      "id": "e4631185",
      "metadata": {
        "id": "e4631185",
        "colab": {
          "base_uri": "https://localhost:8080/"
        },
        "outputId": "652a4f68-0073-4399-a8a0-4d931fb46c00"
      },
      "outputs": [
        {
          "output_type": "execute_result",
          "data": {
            "text/plain": [
              "2.7183"
            ]
          },
          "metadata": {},
          "execution_count": 29
        }
      ],
      "source": [
        "# output : 2.713\n",
        "# output : 2.7183 (validasi)\n",
        "split_function(np.exp, np.sin, 2, 4, 1)"
      ]
    },
    {
      "cell_type": "code",
      "execution_count": null,
      "id": "684ea941",
      "metadata": {
        "id": "684ea941",
        "colab": {
          "base_uri": "https://localhost:8080/"
        },
        "outputId": "fc0dd9a1-eecc-4797-bb56-656171316a4b"
      },
      "outputs": [
        {
          "output_type": "execute_result",
          "data": {
            "text/plain": [
              "0"
            ]
          },
          "metadata": {},
          "execution_count": 72
        }
      ],
      "source": [
        "# output : 0\n",
        "split_function(np.exp, np.sin, 2, 4, 3)"
      ]
    },
    {
      "cell_type": "code",
      "execution_count": null,
      "id": "98a0221a",
      "metadata": {
        "id": "98a0221a",
        "colab": {
          "base_uri": "https://localhost:8080/"
        },
        "outputId": "13471b80-9254-4dda-8b09-89a37e1d9707"
      },
      "outputs": [
        {
          "output_type": "execute_result",
          "data": {
            "text/plain": [
              "-0.9589"
            ]
          },
          "metadata": {},
          "execution_count": 73
        }
      ],
      "source": [
        "# output : -0.9589\n",
        "split_function(np.exp, np.sin, 2, 4, 5)"
      ]
    },
    {
      "cell_type": "markdown",
      "id": "51481662",
      "metadata": {
        "id": "51481662"
      },
      "source": [
        "## Nomor 12\n",
        "12. Perhatikan fungsi berikut ini\n",
        "\n",
        "$$ y(x) = \\sqrt{\\dfrac{100(1-0.01x^2)^2 + 0.02x^2}{(1-x^2)^2+0.1x^2}} $$\n",
        "\n",
        "Buatlah subplot berukuran $2\\times 2$ untuk menampilkan $y(x)$ pada rentang $0 \\le x \\le 100$ menggunakan `plot`, `semilogx`, `semilogy` dan `loglog`. Gunakan diskretisasi $x$ yang cukup rapat agar plot terlihat mulus. Tambahkan label sumbu dan judul di masing-masing plot. Tampilkan grid. Plot manakah yang tampaknya mampu untuk menyampaikan paling banyak informasi?"
      ]
    },
    {
      "cell_type": "markdown",
      "source": [
        "### Jawab"
      ],
      "metadata": {
        "id": "FC8-QvboGTpF"
      },
      "id": "FC8-QvboGTpF"
    },
    {
      "cell_type": "code",
      "execution_count": 10,
      "id": "264174bc",
      "metadata": {
        "id": "264174bc",
        "colab": {
          "base_uri": "https://localhost:8080/",
          "height": 486
        },
        "outputId": "bfc4b5fb-80b5-4685-94a1-367df8cc4bb0"
      },
      "outputs": [
        {
          "output_type": "display_data",
          "data": {
            "text/plain": [
              "<Figure size 640x480 with 4 Axes>"
            ],
            "image/png": "[encoded data removed]"
          },
          "metadata": {}
        }
      ],
      "source": [
        "fx = lambda x: (100*(1-0.01*(x**2))**2+0.02*(x**2))/((1-x**2)**2+0.1*(x**2))\n",
        "x=np.linspace(0,100,1001)\n",
        "fig, ax = plt.subplots(2,2)\n",
        "ax[0,0].plot(x,fx(x))\n",
        "ax[0,0].set_xlabel(\"x\")\n",
        "ax[0,0].set_ylabel(\"y\")\n",
        "ax[0,0].set_title(\"f(x)-plot\")\n",
        "ax[0,0].grid(True)\n",
        "ax[0,1].semilogx(x,fx(x))\n",
        "ax[0,1].set_xlabel(\"x\")\n",
        "ax[0,1].set_ylabel(\"y\")\n",
        "ax[0,1].set_title(\"f(x)-semilogx\")\n",
        "ax[0,1].grid(True)\n",
        "ax[1,0].semilogy(x,fx(x))\n",
        "ax[1,0].set_xlabel(\"x\")\n",
        "ax[1,0].set_ylabel(\"y\")\n",
        "ax[1,0].set_title(\"f(x)-semilogy\")\n",
        "ax[1,0].grid(True)\n",
        "ax[1,1].loglog(x,fx(x))\n",
        "ax[1,1].set_xlabel(\"x\")\n",
        "ax[1,1].set_ylabel(\"y\")\n",
        "ax[1,1].set_title(\"f(x)-loglog\")\n",
        "ax[1,1].grid(True) # tampilkan grid\n",
        "plt.tight_layout() #cegah plot bertumpuk\n",
        "plt.show()\n"
      ]
    },
    {
      "cell_type": "markdown",
      "source": [
        "### Penjelasan\n",
        "1. Persamaan ini akan memberikan lebih banyak informasi pada plot jenis `loglog`\n",
        "* Nilai maksimum\n",
        "* Nilai minimum\n",
        "* Stabilitas persamaan\n",
        "2. Informasi grafik persamaan dipengaruhi oleh fungsi yang di plot.\n",
        "3. Pemilihan jenis plot menjadi hal penting karena berpengaruh terhadap informasi yang akan didapatkan"
      ],
      "metadata": {
        "id": "M_L6QZ0vHJGs"
      },
      "id": "M_L6QZ0vHJGs"
    },
    {
      "cell_type": "markdown",
      "id": "a93880ed",
      "metadata": {
        "id": "a93880ed"
      },
      "source": [
        "## Nomor 13\n",
        "13. Ubahlah array berikut ini\n",
        "\n",
        "```Python\n",
        "[0 1 2 3 4 5 6 7 8]\n",
        "```\n",
        "\n",
        "menjadi\n",
        "\n",
        "```Python\n",
        "[[0, 1, 2]\n",
        " [3, 4, 5]\n",
        " [6, 7, 8]]\n",
        "```"
      ]
    },
    {
      "cell_type": "markdown",
      "source": [
        "### Jawab"
      ],
      "metadata": {
        "id": "9KiVLJ7XXR6-"
      },
      "id": "9KiVLJ7XXR6-"
    },
    {
      "cell_type": "code",
      "execution_count": null,
      "id": "92f0d1e8",
      "metadata": {
        "id": "92f0d1e8",
        "colab": {
          "base_uri": "https://localhost:8080/"
        },
        "outputId": "9a2c09e0-d39f-4873-8d10-7ab68d84512f"
      },
      "outputs": [
        {
          "output_type": "stream",
          "name": "stdout",
          "text": [
            "Matriks awal \n",
            "[0 1 2 3 4 5 6 7 8]\n",
            "\n",
            "Matriks hasil pengubahan bentuk adalah \n",
            "[[0 1 2]\n",
            " [3 4 5]\n",
            " [6 7 8]]\n"
          ]
        }
      ],
      "source": [
        "mat=np.array([0, 1, 2, 3, 4, 5, 6, 7, 8])\n",
        "print(\"Matriks awal \\n{}\\n\".format(mat))\n",
        "mat_reshaped=np.reshape(mat, (3,3))\n",
        "print(\"Matriks hasil pengubahan bentuk adalah \\n{}\".format(mat_reshaped))"
      ]
    },
    {
      "cell_type": "markdown",
      "id": "6ff26553",
      "metadata": {
        "id": "6ff26553"
      },
      "source": [
        "## Nomor 14\n",
        "14. Buatlah script Python untuk menentukan inverse dari matriks berikut ini\n",
        "\n",
        "$$ \\begin{bmatrix}\n",
        "1.13 & 3.83 & 1.16 & 3.40\\\\\n",
        "0.53 & 1.79 & 2.53 & 1.54 \\\\\n",
        "3.41 & 4.93 & 8.76 & 1.31 \\\\\n",
        "1.24 & 4.99 & 10.67 & 0.02\n",
        "\\end{bmatrix} $$\n",
        "\n",
        "Pada script yang dibuat, tuliskan juga pengujian inverse matriks tersebut dengan mengalikannya dengan matriks asal dan hasilnya  mendekati matriks identitas."
      ]
    },
    {
      "cell_type": "markdown",
      "source": [
        "### Jawab"
      ],
      "metadata": {
        "id": "YOhiveqiXTph"
      },
      "id": "YOhiveqiXTph"
    },
    {
      "cell_type": "code",
      "source": [
        "mat=np.transpose(np.reshape([1.13,0.53,3.41,1.24,3.83,1.79,4.93,4.99,1.16,2.53,8.76,10.67,3.40,1.54,1.31,0.02], (4,4)))\n",
        "print(\"Matriks awal adalah \\n{}\\n\".format(mat))\n",
        "mat_inv=inv(mat)\n",
        "print(\"Matriks inversenya adalah \\n{}\\n\".format(mat_inv))\n",
        "mat_id=np.identity(4).astype(int)\n",
        "print(\"Matriks Identitasnya adalah \\n{}\\n\".format(mat_id))\n",
        "mul=np.matmul(mat,mat_inv).astype(int)\n",
        "print(\"Hasil kali matrix awal dengan inversenya adalah\\n{}\\n\".format(mul))\n",
        "\n",
        "print(mat)\n",
        "print(mat_inv)\n",
        "print(mul)\n",
        "print(mat_id)\n",
        "print(mul==mat_id)\n",
        "print(np.matmul(mat,mat_inv))"
      ],
      "metadata": {
        "colab": {
          "base_uri": "https://localhost:8080/"
        },
        "id": "YB-cqEDtA0nB",
        "outputId": "f8717bc0-5957-4443-c094-0f4fa9bb505f"
      },
      "id": "YB-cqEDtA0nB",
      "execution_count": null,
      "outputs": [
        {
          "output_type": "stream",
          "name": "stdout",
          "text": [
            "Matriks awal adalah \n",
            "[[ 1.13  3.83  1.16  3.4 ]\n",
            " [ 0.53  1.79  2.53  1.54]\n",
            " [ 3.41  4.93  8.76  1.31]\n",
            " [ 1.24  4.99 10.67  0.02]]\n",
            "\n",
            "Matriks inversenya adalah \n",
            "[[-0.07829101 -0.22514192  0.47285055 -0.32631154]\n",
            " [ 0.5333038  -1.08340824 -0.11500059  0.29332667]\n",
            " [-0.23993721  0.53074973 -0.00111876 -0.00512364]\n",
            " [-0.19875222  1.11417477 -0.0272268  -0.2202252 ]]\n",
            "\n",
            "Matriks Identitasnya adalah \n",
            "[[1 0 0 0]\n",
            " [0 1 0 0]\n",
            " [0 0 1 0]\n",
            " [0 0 0 1]]\n",
            "\n",
            "Hasil kali matrix awal dengan inversenya adalah\n",
            "[[1 0 0 0]\n",
            " [0 1 0 0]\n",
            " [0 0 0 0]\n",
            " [0 0 0 1]]\n",
            "\n",
            "[[ 1.13  3.83  1.16  3.4 ]\n",
            " [ 0.53  1.79  2.53  1.54]\n",
            " [ 3.41  4.93  8.76  1.31]\n",
            " [ 1.24  4.99 10.67  0.02]]\n",
            "[[-0.07829101 -0.22514192  0.47285055 -0.32631154]\n",
            " [ 0.5333038  -1.08340824 -0.11500059  0.29332667]\n",
            " [-0.23993721  0.53074973 -0.00111876 -0.00512364]\n",
            " [-0.19875222  1.11417477 -0.0272268  -0.2202252 ]]\n",
            "[[1 0 0 0]\n",
            " [0 1 0 0]\n",
            " [0 0 0 0]\n",
            " [0 0 0 1]]\n",
            "[[1 0 0 0]\n",
            " [0 1 0 0]\n",
            " [0 0 1 0]\n",
            " [0 0 0 1]]\n",
            "[[ True  True  True  True]\n",
            " [ True  True  True  True]\n",
            " [ True  True False  True]\n",
            " [ True  True  True  True]]\n",
            "[[ 1.00000000e+00  1.67494927e-16 -3.71334699e-17 -6.92579151e-17]\n",
            " [-7.20091442e-17  1.00000000e+00 -2.57391414e-17  5.49870556e-18]\n",
            " [ 1.14030889e-16  2.99183333e-16  1.00000000e+00 -1.02774244e-16]\n",
            " [-3.43939635e-16 -6.33624759e-18 -6.61736888e-17  1.00000000e+00]]\n"
          ]
        }
      ]
    },
    {
      "cell_type": "markdown",
      "id": "5a949e2f",
      "metadata": {
        "id": "5a949e2f"
      },
      "source": [
        "## Nomor 15\n",
        "15. Unduh file `.csv` dari [https://gml.noaa.gov/webdata/ccgg/trends/co2/co2_annmean_gl.csv](https://gml.noaa.gov/webdata/ccgg/trends/co2/co2_annmean_gl.csv). Data tersebut berisi rekaman konsentrasi CO$_2$ (dalam ppm) di atmosfer. Tulislah script Python yang membaca/mengimpor data tersebut dan buatlah plot untuk menampilkannya."
      ]
    },
    {
      "cell_type": "markdown",
      "source": [
        "### Jawab"
      ],
      "metadata": {
        "id": "IdICNpRGUVwo"
      },
      "id": "IdICNpRGUVwo"
    },
    {
      "cell_type": "code",
      "source": [
        "csv_path='/content/co2_annmean_gl.csv'\n",
        "df=pd.read_csv(csv_path)\n",
        "plt.plot(df['year'],df['mean'], label='mean')\n",
        "plt.fill_between(df['year'],df['mean']+df['unc'],df['mean']-df['unc'], alpha=0.2, label='unc', color=\"red\")\n",
        "plt.legend()\n",
        "plt.plot()"
      ],
      "metadata": {
        "colab": {
          "base_uri": "https://localhost:8080/",
          "height": 448
        },
        "id": "EY8K7CKDUVdT",
        "outputId": "c4be2793-6453-48cd-80b0-acb6b9477634"
      },
      "id": "EY8K7CKDUVdT",
      "execution_count": null,
      "outputs": [
        {
          "output_type": "execute_result",
          "data": {
            "text/plain": [
              "[]"
            ]
          },
          "metadata": {},
          "execution_count": 99
        },
        {
          "output_type": "display_data",
          "data": {
            "text/plain": [
              "<Figure size 640x480 with 1 Axes>"
            ],
            "image/png": "[encoded data removed]"
          },
          "metadata": {}
        }
      ]
    },
    {
      "cell_type": "markdown",
      "source": [
        "### Pengayaan (Real-time)"
      ],
      "metadata": {
        "id": "7HE6cXnOURAv"
      },
      "id": "7HE6cXnOURAv"
    },
    {
      "cell_type": "code",
      "execution_count": null,
      "id": "1ba37f6b",
      "metadata": {
        "colab": {
          "base_uri": "https://localhost:8080/"
        },
        "id": "1ba37f6b",
        "outputId": "663a9955-5fe3-4219-81e2-1cb014080641"
      },
      "outputs": [
        {
          "output_type": "stream",
          "name": "stdout",
          "text": [
            "0 : # --------------------------------------------------------------------\n",
            "1 : # USE OF NOAA GML DATA\n",
            "2 : #\n",
            "3 : # These data are made freely available to the public and the scientific\n",
            "4 : # community in the belief that their wide dissemination will lead to\n",
            "5 : # greater understanding and new scientific insights. To ensure that GML\n",
            "6 : # receives fair credit for their work please include relevant citation\n",
            "7 : # text in publications. We encourage users to contact the data providers,\n",
            "8 : # who can provide detailed information about the measurements and\n",
            "9 : # scientific insight.  In cases where the data are central to a\n",
            "10 : # publication, coauthorship for data providers may be appropriate.\n",
            "11 : #\n",
            "12 : #\n",
            "13 : #\n",
            "14 : # Contact:  Xin Lan (xin.lan@noaa.gov)\n",
            "15 : #\n",
            "16 : # File Creation: Sun May  5 03:55:22 2024\n",
            "17 : #\n",
            "18 : #\n",
            "19 : # --------------------------------------------------------------------\n",
            "20 : #\n",
            "21 : #\n",
            "22 : # See gml.noaa.gov/ccgg/trends/ for additional details.\n",
            "23 : #\n",
            "24 : # The uncertainty in the global annual mean is estimated using a monte carlo\n",
            "25 : # technique that computes 200 global annual averages, each time using a\n",
            "26 : # slightly different set of measurement records from the NOAA GML cooperative\n",
            "27 : # air sampling network.  The reported uncertainty is the mean of the standard\n",
            "28 : # deviations for each annual average using this technique. Please see\n",
            "29 : # Conway et al., 1994, JGR, vol. 99, no. D11. for a complete discussion.\n",
            "30 : #\n",
            "31 : # CO2 expressed as a mole fraction in dry air, micromol/mol, abbreviated as ppm\n",
            "32 : #\n",
            "33 : # NOTE: In general, the data presented for the last year are subject to change,\n",
            "34 : # depending on recalibration of the reference gas mixtures used, and other quality\n",
            "35 : # control procedures. Occasionally, earlier years may also be changed for the same\n",
            "36 : # reasons.  Usually these changes are minor.\n",
            "37 : year,mean,unc\n",
            "38 : 1979,336.85,0.11\n",
            "39 : 1980,338.91,0.07\n",
            "40 : 1981,340.11,0.09\n",
            "41 : 1982,340.85,0.03\n",
            "42 : 1983,342.53,0.06\n",
            "43 : 1984,344.07,0.08\n",
            "44 : 1985,345.54,0.07\n",
            "45 : 1986,346.97,0.07\n",
            "46 : 1987,348.68,0.10\n",
            "47 : 1988,351.16,0.07\n",
            "48 : 1989,352.78,0.07\n",
            "49 : 1990,354.05,0.07\n",
            "50 : 1991,355.39,0.07\n",
            "51 : 1992,356.09,0.06\n",
            "52 : 1993,356.83,0.07\n",
            "53 : 1994,358.33,0.08\n",
            "54 : 1995,360.17,0.05\n",
            "55 : 1996,361.93,0.04\n",
            "56 : 1997,363.05,0.05\n",
            "57 : 1998,365.70,0.04\n",
            "58 : 1999,367.80,0.05\n",
            "59 : 2000,368.96,0.06\n",
            "60 : 2001,370.57,0.05\n",
            "61 : 2002,372.59,0.04\n",
            "62 : 2003,375.15,0.04\n",
            "63 : 2004,376.95,0.06\n",
            "64 : 2005,378.98,0.05\n",
            "65 : 2006,381.15,0.05\n",
            "66 : 2007,382.90,0.04\n",
            "67 : 2008,385.02,0.05\n",
            "68 : 2009,386.50,0.04\n",
            "69 : 2010,388.76,0.06\n",
            "70 : 2011,390.63,0.05\n",
            "71 : 2012,392.65,0.06\n",
            "72 : 2013,395.40,0.06\n",
            "73 : 2014,397.34,0.05\n",
            "74 : 2015,399.65,0.05\n",
            "75 : 2016,403.08,0.06\n",
            "76 : 2017,405.22,0.07\n",
            "77 : 2018,407.58,0.07\n",
            "78 : 2019,410.04,0.07\n",
            "79 : 2020,412.51,0.06\n",
            "80 : 2021,414.81,0.07\n",
            "81 : 2022,417.24,0.07\n",
            "82 : 2023,419.55,0.15\n",
            "83 : \n"
          ]
        }
      ],
      "source": [
        "csv_file_url='https://gml.noaa.gov/webdata/ccgg/trends/co2/co2_annmean_gl.csv'\n",
        "text = requests.get(csv_file_url).text.split('\\n')\n",
        "for row,r in enumerate(text):\n",
        "  print(\"{} : {}\".format(row,r))\n"
      ]
    },
    {
      "cell_type": "code",
      "source": [
        "csv_file_url='https://gml.noaa.gov/webdata/ccgg/trends/co2/co2_annmean_gl.csv'\n",
        "text = requests.get(csv_file_url).csv.split('\\n')"
      ],
      "metadata": {
        "colab": {
          "base_uri": "https://localhost:8080/",
          "height": 163
        },
        "id": "qK5O2P40LjlF",
        "outputId": "9dec4ff2-623a-45d0-fecc-25d32e5460c9"
      },
      "id": "qK5O2P40LjlF",
      "execution_count": null,
      "outputs": [
        {
          "output_type": "error",
          "ename": "AttributeError",
          "evalue": "'Response' object has no attribute 'csv'",
          "traceback": [
            "\u001b[0;31m---------------------------------------------------------------------------\u001b[0m",
            "\u001b[0;31mAttributeError\u001b[0m                            Traceback (most recent call last)",
            "\u001b[0;32m<ipython-input-87-b94060852120>\u001b[0m in \u001b[0;36m<cell line: 2>\u001b[0;34m()\u001b[0m\n\u001b[1;32m      1\u001b[0m \u001b[0mcsv_file_url\u001b[0m\u001b[0;34m=\u001b[0m\u001b[0;34m'https://gml.noaa.gov/webdata/ccgg/trends/co2/co2_annmean_gl.csv'\u001b[0m\u001b[0;34m\u001b[0m\u001b[0;34m\u001b[0m\u001b[0m\n\u001b[0;32m----> 2\u001b[0;31m \u001b[0mtext\u001b[0m \u001b[0;34m=\u001b[0m \u001b[0mrequests\u001b[0m\u001b[0;34m.\u001b[0m\u001b[0mget\u001b[0m\u001b[0;34m(\u001b[0m\u001b[0mcsv_file_url\u001b[0m\u001b[0;34m)\u001b[0m\u001b[0;34m.\u001b[0m\u001b[0mcsv\u001b[0m\u001b[0;34m.\u001b[0m\u001b[0msplit\u001b[0m\u001b[0;34m(\u001b[0m\u001b[0;34m'\\n'\u001b[0m\u001b[0;34m)\u001b[0m\u001b[0;34m\u001b[0m\u001b[0;34m\u001b[0m\u001b[0m\n\u001b[0m",
            "\u001b[0;31mAttributeError\u001b[0m: 'Response' object has no attribute 'csv'"
          ]
        }
      ]
    },
    {
      "cell_type": "code",
      "source": [
        "help(requests.get)"
      ],
      "metadata": {
        "colab": {
          "base_uri": "https://localhost:8080/"
        },
        "id": "lThB-BH_TX0D",
        "outputId": "0ce47612-a248-48c4-e0b7-99bd749069f6"
      },
      "id": "lThB-BH_TX0D",
      "execution_count": null,
      "outputs": [
        {
          "output_type": "stream",
          "name": "stdout",
          "text": [
            "Help on function get in module requests.api:\n",
            "\n",
            "get(url, params=None, **kwargs)\n",
            "    Sends a GET request.\n",
            "    \n",
            "    :param url: URL for the new :class:`Request` object.\n",
            "    :param params: (optional) Dictionary, list of tuples or bytes to send\n",
            "        in the query string for the :class:`Request`.\n",
            "    :param \\*\\*kwargs: Optional arguments that ``request`` takes.\n",
            "    :return: :class:`Response <Response>` object\n",
            "    :rtype: requests.Response\n",
            "\n"
          ]
        }
      ]
    },
    {
      "cell_type": "code",
      "source": [],
      "metadata": {
        "id": "48hk9rpdTdPU"
      },
      "id": "48hk9rpdTdPU",
      "execution_count": null,
      "outputs": []
    }
  ],
  "metadata": {
    "kernelspec": {
      "display_name": "Python 3 (ipykernel)",
      "language": "python",
      "name": "python3"
    },
    "language_info": {
      "codemirror_mode": {
        "name": "ipython",
        "version": 3
      },
      "file_extension": ".py",
      "mimetype": "text/x-python",
      "name": "python",
      "nbconvert_exporter": "python",
      "pygments_lexer": "ipython3",
      "version": "3.9.6"
    },
    "colab": {
      "provenance": [],
      "toc_visible": true,
      "include_colab_link": true
    }
  },
  "nbformat": 4,
  "nbformat_minor": 5
}