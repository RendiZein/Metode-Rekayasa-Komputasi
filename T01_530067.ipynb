{
  "cells": [
    {
      "cell_type": "markdown",
      "metadata": {
        "id": "view-in-github",
        "colab_type": "text"
      },
      "source": [
        "<a href=\"https://colab.research.google.com/github/RendiZein/Metode-Rekayasa-Komputasi/blob/main/T01_530067.ipynb\" target=\"_parent\"><img src=\"https://colab.research.google.com/assets/colab-badge.svg\" alt=\"Open In Colab\"/></a>"
      ]
    },
    {
      "cell_type": "markdown",
      "id": "d68fa369",
      "metadata": {
        "id": "d68fa369"
      },
      "source": [
        "# Latihan pemrograman\n",
        "\n",
        "Susunlah program menggunakan Python untuk pertanyaan-pertanyaan di bawah ini. Kerjakan langsung pada ruang yang disediakan di bawah masing-masing pertanyaan. Unggah kembali hasil pekerjaan Anda dalam bentuk file Jupyter Notebook dengan format nama file `T01-XXXXXX` di mana `XXXXXX` adalah NIU Anda.\n",
        "\n",
        "\n",
        "\n",
        "\n",
        "\n"
      ]
    },
    {
      "cell_type": "code",
      "source": [
        "import numpy as np\n",
        "import pandas as pd\n",
        "from math import sqrt, factorial\n",
        "import random\n",
        "from numpy.linalg import inv\n",
        "import matplotlib.pyplot as plt\n",
        "import csv\n",
        "import requests"
      ],
      "metadata": {
        "id": "HSemJSUgdg7Y"
      },
      "id": "HSemJSUgdg7Y",
      "execution_count": 29,
      "outputs": []
    },
    {
      "cell_type": "markdown",
      "id": "b428415a",
      "metadata": {
        "id": "b428415a"
      },
      "source": [
        "## Nomor 1\n",
        "1. Tuliskan perintah berikut dan jelaskan hasilnya\n",
        "- `round(np.pi,8)` dan `round(np.pi,7)`\n",
        "-  `2**3**4` dan `(2**3)**4`\n",
        "- `np.arctan(1.5)` dan `np.arctan2(−3.,−2.)`"
      ]
    },
    {
      "cell_type": "markdown",
      "source": [
        "### Jawab"
      ],
      "metadata": {
        "id": "wu8i0aIV2d1e"
      },
      "id": "wu8i0aIV2d1e"
    },
    {
      "cell_type": "code",
      "execution_count": null,
      "id": "59b747da",
      "metadata": {
        "id": "59b747da",
        "colab": {
          "base_uri": "https://localhost:8080/"
        },
        "outputId": "b45484db-3a06-4f38-9833-530d9f082b3d"
      },
      "outputs": [
        {
          "output_type": "stream",
          "name": "stdout",
          "text": [
            "3.14159265 3.1415927\n",
            "2417851639229258349412352 4096\n",
            "0.982793723247329 -2.158798930342464\n"
          ]
        }
      ],
      "source": [
        "a_1=round(np.pi,8)\n",
        "a_2=round(np.pi,7)\n",
        "b_1=2**3**4\n",
        "b_2=(2**3)**4\n",
        "c_1=np.arctan(1.5)\n",
        "c_2=np.arctan2(-3.,-2.)\n",
        "print(a_1, a_2)\n",
        "print(b_1, b_2)\n",
        "print(c_1, c_2)"
      ]
    },
    {
      "cell_type": "markdown",
      "source": [
        "### Penjelasan"
      ],
      "metadata": {
        "id": "nNQy5s6D0fia"
      },
      "id": "nNQy5s6D0fia"
    },
    {
      "cell_type": "code",
      "source": [
        "help(np.arctan2)"
      ],
      "metadata": {
        "colab": {
          "base_uri": "https://localhost:8080/"
        },
        "id": "uG4bCBwN1Hrx",
        "outputId": "61475485-002f-4077-fd0e-28a363d4644d"
      },
      "id": "uG4bCBwN1Hrx",
      "execution_count": null,
      "outputs": [
        {
          "output_type": "stream",
          "name": "stdout",
          "text": [
            "Help on ufunc:\n",
            "\n",
            "arctan2 = <ufunc 'arctan2'>\n",
            "    arctan2(x1, x2, /, out=None, *, where=True, casting='same_kind', order='K', dtype=None, subok=True[, signature, extobj])\n",
            "    \n",
            "    Element-wise arc tangent of ``x1/x2`` choosing the quadrant correctly.\n",
            "    \n",
            "    The quadrant (i.e., branch) is chosen so that ``arctan2(x1, x2)`` is\n",
            "    the signed angle in radians between the ray ending at the origin and\n",
            "    passing through the point (1,0), and the ray ending at the origin and\n",
            "    passing through the point (`x2`, `x1`).  (Note the role reversal: the\n",
            "    \"`y`-coordinate\" is the first function parameter, the \"`x`-coordinate\"\n",
            "    is the second.)  By IEEE convention, this function is defined for\n",
            "    `x2` = +/-0 and for either or both of `x1` and `x2` = +/-inf (see\n",
            "    Notes for specific values).\n",
            "    \n",
            "    This function is not defined for complex-valued arguments; for the\n",
            "    so-called argument of complex values, use `angle`.\n",
            "    \n",
            "    Parameters\n",
            "    ----------\n",
            "    x1 : array_like, real-valued\n",
            "        `y`-coordinates.\n",
            "    x2 : array_like, real-valued\n",
            "        `x`-coordinates.\n",
            "        If ``x1.shape != x2.shape``, they must be broadcastable to a common\n",
            "        shape (which becomes the shape of the output).\n",
            "    out : ndarray, None, or tuple of ndarray and None, optional\n",
            "        A location into which the result is stored. If provided, it must have\n",
            "        a shape that the inputs broadcast to. If not provided or None,\n",
            "        a freshly-allocated array is returned. A tuple (possible only as a\n",
            "        keyword argument) must have length equal to the number of outputs.\n",
            "    where : array_like, optional\n",
            "        This condition is broadcast over the input. At locations where the\n",
            "        condition is True, the `out` array will be set to the ufunc result.\n",
            "        Elsewhere, the `out` array will retain its original value.\n",
            "        Note that if an uninitialized `out` array is created via the default\n",
            "        ``out=None``, locations within it where the condition is False will\n",
            "        remain uninitialized.\n",
            "    **kwargs\n",
            "        For other keyword-only arguments, see the\n",
            "        :ref:`ufunc docs <ufuncs.kwargs>`.\n",
            "    \n",
            "    Returns\n",
            "    -------\n",
            "    angle : ndarray\n",
            "        Array of angles in radians, in the range ``[-pi, pi]``.\n",
            "        This is a scalar if both `x1` and `x2` are scalars.\n",
            "    \n",
            "    See Also\n",
            "    --------\n",
            "    arctan, tan, angle\n",
            "    \n",
            "    Notes\n",
            "    -----\n",
            "    *arctan2* is identical to the `atan2` function of the underlying\n",
            "    C library.  The following special values are defined in the C\n",
            "    standard: [1]_\n",
            "    \n",
            "    ====== ====== ================\n",
            "    `x1`   `x2`   `arctan2(x1,x2)`\n",
            "    ====== ====== ================\n",
            "    +/- 0  +0     +/- 0\n",
            "    +/- 0  -0     +/- pi\n",
            "     > 0   +/-inf +0 / +pi\n",
            "     < 0   +/-inf -0 / -pi\n",
            "    +/-inf +inf   +/- (pi/4)\n",
            "    +/-inf -inf   +/- (3*pi/4)\n",
            "    ====== ====== ================\n",
            "    \n",
            "    Note that +0 and -0 are distinct floating point numbers, as are +inf\n",
            "    and -inf.\n",
            "    \n",
            "    References\n",
            "    ----------\n",
            "    .. [1] ISO/IEC standard 9899:1999, \"Programming language C.\"\n",
            "    \n",
            "    Examples\n",
            "    --------\n",
            "    Consider four points in different quadrants:\n",
            "    \n",
            "    >>> x = np.array([-1, +1, +1, -1])\n",
            "    >>> y = np.array([-1, -1, +1, +1])\n",
            "    >>> np.arctan2(y, x) * 180 / np.pi\n",
            "    array([-135.,  -45.,   45.,  135.])\n",
            "    \n",
            "    Note the order of the parameters. `arctan2` is defined also when `x2` = 0\n",
            "    and at several other special points, obtaining values in\n",
            "    the range ``[-pi, pi]``:\n",
            "    \n",
            "    >>> np.arctan2([1., -1.], [0., 0.])\n",
            "    array([ 1.57079633, -1.57079633])\n",
            "    >>> np.arctan2([0., 0., np.inf], [+0., -0., np.inf])\n",
            "    array([0.        , 3.14159265, 0.78539816])\n",
            "\n"
          ]
        }
      ]
    },
    {
      "cell_type": "code",
      "source": [
        "help(np.arctan)"
      ],
      "metadata": {
        "colab": {
          "base_uri": "https://localhost:8080/"
        },
        "id": "QikJRwN40uWz",
        "outputId": "364e3bc9-1c52-40c3-fa12-bfbabff0f1b8"
      },
      "id": "QikJRwN40uWz",
      "execution_count": null,
      "outputs": [
        {
          "output_type": "stream",
          "name": "stdout",
          "text": [
            "Help on ufunc:\n",
            "\n",
            "arctan = <ufunc 'arctan'>\n",
            "    arctan(x, /, out=None, *, where=True, casting='same_kind', order='K', dtype=None, subok=True[, signature, extobj])\n",
            "    \n",
            "    Trigonometric inverse tangent, element-wise.\n",
            "    \n",
            "    The inverse of tan, so that if ``y = tan(x)`` then ``x = arctan(y)``.\n",
            "    \n",
            "    Parameters\n",
            "    ----------\n",
            "    x : array_like\n",
            "    out : ndarray, None, or tuple of ndarray and None, optional\n",
            "        A location into which the result is stored. If provided, it must have\n",
            "        a shape that the inputs broadcast to. If not provided or None,\n",
            "        a freshly-allocated array is returned. A tuple (possible only as a\n",
            "        keyword argument) must have length equal to the number of outputs.\n",
            "    where : array_like, optional\n",
            "        This condition is broadcast over the input. At locations where the\n",
            "        condition is True, the `out` array will be set to the ufunc result.\n",
            "        Elsewhere, the `out` array will retain its original value.\n",
            "        Note that if an uninitialized `out` array is created via the default\n",
            "        ``out=None``, locations within it where the condition is False will\n",
            "        remain uninitialized.\n",
            "    **kwargs\n",
            "        For other keyword-only arguments, see the\n",
            "        :ref:`ufunc docs <ufuncs.kwargs>`.\n",
            "    \n",
            "    Returns\n",
            "    -------\n",
            "    out : ndarray or scalar\n",
            "        Out has the same shape as `x`.  Its real part is in\n",
            "        ``[-pi/2, pi/2]`` (``arctan(+/-inf)`` returns ``+/-pi/2``).\n",
            "        This is a scalar if `x` is a scalar.\n",
            "    \n",
            "    See Also\n",
            "    --------\n",
            "    arctan2 : The \"four quadrant\" arctan of the angle formed by (`x`, `y`)\n",
            "        and the positive `x`-axis.\n",
            "    angle : Argument of complex values.\n",
            "    \n",
            "    Notes\n",
            "    -----\n",
            "    `arctan` is a multi-valued function: for each `x` there are infinitely\n",
            "    many numbers `z` such that tan(`z`) = `x`.  The convention is to return\n",
            "    the angle `z` whose real part lies in [-pi/2, pi/2].\n",
            "    \n",
            "    For real-valued input data types, `arctan` always returns real output.\n",
            "    For each value that cannot be expressed as a real number or infinity,\n",
            "    it yields ``nan`` and sets the `invalid` floating point error flag.\n",
            "    \n",
            "    For complex-valued input, `arctan` is a complex analytic function that\n",
            "    has [``1j, infj``] and [``-1j, -infj``] as branch cuts, and is continuous\n",
            "    from the left on the former and from the right on the latter.\n",
            "    \n",
            "    The inverse tangent is also known as `atan` or tan^{-1}.\n",
            "    \n",
            "    References\n",
            "    ----------\n",
            "    Abramowitz, M. and Stegun, I. A., *Handbook of Mathematical Functions*,\n",
            "    10th printing, New York: Dover, 1964, pp. 79.\n",
            "    https://personal.math.ubc.ca/~cbm/aands/page_79.htm\n",
            "    \n",
            "    Examples\n",
            "    --------\n",
            "    We expect the arctan of 0 to be 0, and of 1 to be pi/4:\n",
            "    \n",
            "    >>> np.arctan([0, 1])\n",
            "    array([ 0.        ,  0.78539816])\n",
            "    \n",
            "    >>> np.pi/4\n",
            "    0.78539816339744828\n",
            "    \n",
            "    Plot arctan:\n",
            "    \n",
            "    >>> import matplotlib.pyplot as plt\n",
            "    >>> x = np.linspace(-10, 10)\n",
            "    >>> plt.plot(x, np.arctan(x))\n",
            "    >>> plt.axis('tight')\n",
            "    >>> plt.show()\n",
            "\n"
          ]
        }
      ]
    },
    {
      "cell_type": "code",
      "source": [
        "help(round)"
      ],
      "metadata": {
        "colab": {
          "base_uri": "https://localhost:8080/"
        },
        "id": "i_t91FXJ0jyF",
        "outputId": "1fa0ffae-d9f9-4df8-8bcb-a40a94cea0d8"
      },
      "id": "i_t91FXJ0jyF",
      "execution_count": null,
      "outputs": [
        {
          "output_type": "stream",
          "name": "stdout",
          "text": [
            "Help on built-in function round in module builtins:\n",
            "\n",
            "round(number, ndigits=None)\n",
            "    Round a number to a given precision in decimal digits.\n",
            "    \n",
            "    The return value is an integer if ndigits is omitted or None.  Otherwise\n",
            "    the return value has the same type as the number.  ndigits may be negative.\n",
            "\n"
          ]
        }
      ]
    },
    {
      "cell_type": "markdown",
      "id": "f798854a",
      "metadata": {
        "id": "f798854a"
      },
      "source": [
        "## Nomor 2\n",
        "2. Diketahui akar dari persamaan kuadratik $ax^2 + bx + c = 0$ adalah\n",
        "\n",
        "$$x_1 = \\dfrac{-b + \\sqrt{b^2-4ac}}{2a}, \\quad x_2 = \\dfrac{-b - \\sqrt{b^2-4ac}}{2a} $$\n",
        "\n",
        "Apakah program di bawah ini sudah betul ? Jika belum, perbaiki program tersebut sehingga memberikan hasil yang benar.\n",
        "\n",
        "```Python\n",
        "a = 2; b = 1; c = 2\n",
        "from math import sqrt\n",
        "q = b*b - 4*a*c\n",
        "q_sr = sqrt(q)\n",
        "x1 = (-b + q_sr)/2*a\n",
        "x2 = (-b - q_sr)/2*a\n",
        "print x1, x2\n",
        "```"
      ]
    },
    {
      "cell_type": "code",
      "source": [
        "a = 2; b = 1; c = 2\n",
        "d=b*b - 4*a*c\n",
        "if d<0:\n",
        "  print(\"Persamaan mempunyai akar imajiner\")\n",
        "  print(\"{}=\")"
      ],
      "metadata": {
        "id": "e6TZ3jPLZo0O"
      },
      "id": "e6TZ3jPLZo0O",
      "execution_count": null,
      "outputs": []
    },
    {
      "cell_type": "code",
      "source": [],
      "metadata": {
        "id": "vPF-e1kQaC41"
      },
      "id": "vPF-e1kQaC41",
      "execution_count": null,
      "outputs": []
    },
    {
      "cell_type": "code",
      "source": [
        "a = 2; b = 1; c = 2\n",
        "from math import sqrt\n",
        "q = b*b - 4*a*c\n",
        "q_sr = sqrt(q)\n",
        "x1 = (-b + q_sr)/2*a\n",
        "x2 = (-b - q_sr)/2*a\n",
        "# print x1, x2"
      ],
      "metadata": {
        "colab": {
          "base_uri": "https://localhost:8080/",
          "height": 218
        },
        "id": "b6eXMwE81-Ee",
        "outputId": "f9a15274-736d-48e8-9a36-5f67dd5ac246"
      },
      "id": "b6eXMwE81-Ee",
      "execution_count": null,
      "outputs": [
        {
          "output_type": "error",
          "ename": "ValueError",
          "evalue": "math domain error",
          "traceback": [
            "\u001b[0;31m---------------------------------------------------------------------------\u001b[0m",
            "\u001b[0;31mValueError\u001b[0m                                Traceback (most recent call last)",
            "\u001b[0;32m<ipython-input-15-0595a0e3e40d>\u001b[0m in \u001b[0;36m<cell line: 4>\u001b[0;34m()\u001b[0m\n\u001b[1;32m      2\u001b[0m \u001b[0;32mfrom\u001b[0m \u001b[0mmath\u001b[0m \u001b[0;32mimport\u001b[0m \u001b[0msqrt\u001b[0m\u001b[0;34m\u001b[0m\u001b[0;34m\u001b[0m\u001b[0m\n\u001b[1;32m      3\u001b[0m \u001b[0mq\u001b[0m \u001b[0;34m=\u001b[0m \u001b[0mb\u001b[0m\u001b[0;34m*\u001b[0m\u001b[0mb\u001b[0m \u001b[0;34m-\u001b[0m \u001b[0;36m4\u001b[0m\u001b[0;34m*\u001b[0m\u001b[0ma\u001b[0m\u001b[0;34m*\u001b[0m\u001b[0mc\u001b[0m\u001b[0;34m\u001b[0m\u001b[0;34m\u001b[0m\u001b[0m\n\u001b[0;32m----> 4\u001b[0;31m \u001b[0mq_sr\u001b[0m \u001b[0;34m=\u001b[0m \u001b[0msqrt\u001b[0m\u001b[0;34m(\u001b[0m\u001b[0mq\u001b[0m\u001b[0;34m)\u001b[0m\u001b[0;34m\u001b[0m\u001b[0;34m\u001b[0m\u001b[0m\n\u001b[0m\u001b[1;32m      5\u001b[0m \u001b[0mx1\u001b[0m \u001b[0;34m=\u001b[0m \u001b[0;34m(\u001b[0m\u001b[0;34m-\u001b[0m\u001b[0mb\u001b[0m \u001b[0;34m+\u001b[0m \u001b[0mq_sr\u001b[0m\u001b[0;34m)\u001b[0m\u001b[0;34m/\u001b[0m\u001b[0;36m2\u001b[0m\u001b[0;34m*\u001b[0m\u001b[0ma\u001b[0m\u001b[0;34m\u001b[0m\u001b[0;34m\u001b[0m\u001b[0m\n\u001b[1;32m      6\u001b[0m \u001b[0mx2\u001b[0m \u001b[0;34m=\u001b[0m \u001b[0;34m(\u001b[0m\u001b[0;34m-\u001b[0m\u001b[0mb\u001b[0m \u001b[0;34m-\u001b[0m \u001b[0mq_sr\u001b[0m\u001b[0;34m)\u001b[0m\u001b[0;34m/\u001b[0m\u001b[0;36m2\u001b[0m\u001b[0;34m*\u001b[0m\u001b[0ma\u001b[0m\u001b[0;34m\u001b[0m\u001b[0;34m\u001b[0m\u001b[0m\n",
            "\u001b[0;31mValueError\u001b[0m: math domain error"
          ]
        }
      ]
    },
    {
      "cell_type": "code",
      "source": [
        "a = 2; b = 1; c = 2\n",
        "from math import sqrt\n",
        "q = b*b - 4*a*c\n",
        "q_sr = sqrt(np.abs(q))\n",
        "x1 = (-b + q_sr)/2*a\n",
        "x2 = (-b - q_sr)/2*a\n",
        "print x1, x2"
      ],
      "metadata": {
        "id": "KjJ_J6Loc8lX",
        "colab": {
          "base_uri": "https://localhost:8080/",
          "height": 109
        },
        "outputId": "c4eae964-42bf-405a-b230-40f6d784403d"
      },
      "id": "KjJ_J6Loc8lX",
      "execution_count": null,
      "outputs": [
        {
          "output_type": "error",
          "ename": "SyntaxError",
          "evalue": "Missing parentheses in call to 'print'. Did you mean print(...)? (<ipython-input-13-5dd60e7d0854>, line 7)",
          "traceback": [
            "\u001b[0;36m  File \u001b[0;32m\"<ipython-input-13-5dd60e7d0854>\"\u001b[0;36m, line \u001b[0;32m7\u001b[0m\n\u001b[0;31m    print x1, x2 # kesalahan\u001b[0m\n\u001b[0m    ^\u001b[0m\n\u001b[0;31mSyntaxError\u001b[0m\u001b[0;31m:\u001b[0m Missing parentheses in call to 'print'. Did you mean print(...)?\n"
          ]
        }
      ]
    },
    {
      "cell_type": "code",
      "source": [
        "a = 2; b = 1; c = 2\n",
        "from math import sqrt\n",
        "q = b*b - 4*a*c\n",
        "q_sr = sqrt(np.abs(q))\n",
        "x1 = (-b + q_sr)/2*a\n",
        "x2 = (-b - q_sr)/2*a\n",
        "print(x1, x2)"
      ],
      "metadata": {
        "colab": {
          "base_uri": "https://localhost:8080/"
        },
        "id": "RdCAwWvN2n8o",
        "outputId": "49fbd9a0-182f-4a3a-8d5a-5125a1800ccc"
      },
      "id": "RdCAwWvN2n8o",
      "execution_count": null,
      "outputs": [
        {
          "output_type": "stream",
          "name": "stdout",
          "text": [
            "2.872983346207417 -4.872983346207417\n"
          ]
        }
      ]
    },
    {
      "cell_type": "markdown",
      "source": [
        "### Penjelasan"
      ],
      "metadata": {
        "id": "RlmxWTKl1Z8u"
      },
      "id": "RlmxWTKl1Z8u"
    },
    {
      "cell_type": "markdown",
      "source": [
        "1. `math domain error` Fungsi `sqrt()` tidak menerima masukan berupa bilangan negatif. Sehingga masukkannya harus dimutlakkan\n",
        "2. `SyntaxError` Perintah `print x1, x2` memerlukan kurung"
      ],
      "metadata": {
        "id": "B0uehRDU1bw7"
      },
      "id": "B0uehRDU1bw7"
    },
    {
      "cell_type": "code",
      "source": [
        "help(sqrt)"
      ],
      "metadata": {
        "colab": {
          "base_uri": "https://localhost:8080/"
        },
        "id": "g-0Qm6EmdYg9",
        "outputId": "71e7ff52-9d25-48d7-b83a-75c7c5796818"
      },
      "id": "g-0Qm6EmdYg9",
      "execution_count": null,
      "outputs": [
        {
          "output_type": "stream",
          "name": "stdout",
          "text": [
            "Help on built-in function sqrt in module math:\n",
            "\n",
            "sqrt(x, /)\n",
            "    Return the square root of x.\n",
            "\n"
          ]
        }
      ]
    },
    {
      "cell_type": "markdown",
      "id": "cb25152e",
      "metadata": {
        "id": "cb25152e"
      },
      "source": [
        "## Nomor 3\n",
        "3. Buatlah program yang meminta masukan berupa bilangan bulat kemudian menentukan apakah bilangan tersebut adalah bilangan prima atau bukan."
      ]
    },
    {
      "cell_type": "code",
      "execution_count": null,
      "id": "41035e0d",
      "metadata": {
        "id": "41035e0d"
      },
      "outputs": [],
      "source": [
        "def prime():\n",
        "  try:\n",
        "    x=int(input('Masukkan nilai x (bilangan bulat) ='))\n",
        "    if 0<x<8:\n",
        "      if x==2 or x==3 or x==5 or x==7:\n",
        "        print('{} adalah bilangan prima'.format(x))\n",
        "      else:\n",
        "        print('{} bukan bilangan prima'.format(x))\n",
        "    elif x<0: #antisipasi masukkan negatif\n",
        "      print(\"Nilai yang dimasukkan harus bilangan bulat\")\n",
        "    else:\n",
        "      if x%2==0 or x%3==0 or x%5==0 or x%7==0:\n",
        "        print('{} bukan bilangan prima'.format(x))\n",
        "      else:\n",
        "        print('{} adalah bilangan prima'.format(x))\n",
        "  except ValueError: #antisipasi masukkan string dan float\n",
        "    print(\"Nilai yang dimasukkan harus bilangan bulat\")"
      ]
    },
    {
      "cell_type": "markdown",
      "source": [
        "### Jawab"
      ],
      "metadata": {
        "id": "3UXXbsjT27JI"
      },
      "id": "3UXXbsjT27JI"
    },
    {
      "cell_type": "code",
      "source": [
        "prime()"
      ],
      "metadata": {
        "colab": {
          "base_uri": "https://localhost:8080/"
        },
        "id": "zoGiauSj2zVj",
        "outputId": "cac12678-ae5e-4338-fcba-a1e1670ad3bf"
      },
      "id": "zoGiauSj2zVj",
      "execution_count": null,
      "outputs": [
        {
          "output_type": "stream",
          "name": "stdout",
          "text": [
            "Masukkan nilai x (bilangan bulat) =2\n",
            "2 adalah bilangan prima\n"
          ]
        }
      ]
    },
    {
      "cell_type": "markdown",
      "source": [
        "### Penjelasan"
      ],
      "metadata": {
        "id": "_ymYuejM2-Wn"
      },
      "id": "_ymYuejM2-Wn"
    },
    {
      "cell_type": "code",
      "source": [
        "def prime_validation(x):\n",
        "  try:\n",
        "    if 0<x<8:\n",
        "      if x==2 or x==3 or x==5 or x==7:\n",
        "        xp=1\n",
        "        return x,xp\n",
        "      else:\n",
        "        xp=0\n",
        "        return x,xp\n",
        "    else:\n",
        "      if x%2==0 or x%3==0 or x%5==0 or x%7==0:\n",
        "        xp=0\n",
        "        return x,xp\n",
        "      else:\n",
        "        xp=1\n",
        "        return x,xp\n",
        "  except ValueError:\n",
        "    print(\"Nilai yang dimasukkan harus bilangan bulat\")"
      ],
      "metadata": {
        "id": "wDoT4hhU26fb"
      },
      "id": "wDoT4hhU26fb",
      "execution_count": null,
      "outputs": []
    },
    {
      "cell_type": "code",
      "source": [
        "prime_number=[]\n",
        "for i in range(1,100):\n",
        "  i,xp=prime_validation(i)\n",
        "  if xp==1:\n",
        "    prime_number.append(i)\n",
        "len(prime_number)"
      ],
      "metadata": {
        "colab": {
          "base_uri": "https://localhost:8080/"
        },
        "id": "To2ZZKMC3SmS",
        "outputId": "fed10118-2094-4eb6-87fb-4f5af8a59e8f"
      },
      "id": "To2ZZKMC3SmS",
      "execution_count": null,
      "outputs": [
        {
          "output_type": "execute_result",
          "data": {
            "text/plain": [
              "25"
            ]
          },
          "metadata": {},
          "execution_count": 21
        }
      ]
    },
    {
      "cell_type": "markdown",
      "id": "e1116a09",
      "metadata": {
        "id": "e1116a09"
      },
      "source": [
        "## Nomor 4\n",
        "4. Jika kita membuat daftar bilangan di bawah 10 yang merupakan kelipatan dari 3 atau 7, kita akan memperoleh angka 3, 6, 7 dan 9. Jumlahan dari bilangan-bilangan tersebut adalah 25. Carilah jumlahan dari semua bilangan kelipatan 3 atau 7 di bawah 10000."
      ]
    },
    {
      "cell_type": "markdown",
      "source": [
        "### Jawab"
      ],
      "metadata": {
        "id": "eCLvYKqR3iUt"
      },
      "id": "eCLvYKqR3iUt"
    },
    {
      "cell_type": "code",
      "execution_count": null,
      "id": "194aebc1",
      "metadata": {
        "id": "194aebc1"
      },
      "outputs": [],
      "source": [
        "def nomor4(n):\n",
        "  lt=[]\n",
        "  for i in range(n):\n",
        "    if i%3==0 or i%7==0:\n",
        "      lt.append(i)\n",
        "  lt_sum=np.sum(lt)\n",
        "  print(lt_sum)"
      ]
    },
    {
      "cell_type": "markdown",
      "source": [
        "### Penjelasan"
      ],
      "metadata": {
        "id": "8Q8j8dBc3lff"
      },
      "id": "8Q8j8dBc3lff"
    },
    {
      "cell_type": "code",
      "source": [
        "nomor4(10000)"
      ],
      "metadata": {
        "colab": {
          "base_uri": "https://localhost:8080/"
        },
        "id": "6SlWFTChbC1Q",
        "outputId": "917bf4ec-74f4-4223-d1fb-c007d5af959b"
      },
      "id": "6SlWFTChbC1Q",
      "execution_count": null,
      "outputs": [
        {
          "output_type": "stream",
          "name": "stdout",
          "text": [
            "21426429\n"
          ]
        }
      ]
    },
    {
      "cell_type": "code",
      "source": [
        "nomor4(10)"
      ],
      "metadata": {
        "colab": {
          "base_uri": "https://localhost:8080/"
        },
        "id": "7vrLJJ5Tbz8y",
        "outputId": "0aeb8084-7b27-41d2-ec36-82de43baba09"
      },
      "id": "7vrLJJ5Tbz8y",
      "execution_count": null,
      "outputs": [
        {
          "output_type": "stream",
          "name": "stdout",
          "text": [
            "25\n"
          ]
        }
      ]
    },
    {
      "cell_type": "markdown",
      "id": "6c96e8d7-38d5-4fc6-8f3c-d95716ba8276",
      "metadata": {
        "id": "6c96e8d7-38d5-4fc6-8f3c-d95716ba8276"
      },
      "source": [
        "## Nomor 5\n",
        "5. Buatlah program yang meminta masukan berupa string, kemudian mencetak hasil dengan urutan yang dibalik."
      ]
    },
    {
      "cell_type": "markdown",
      "source": [
        "### Jawab"
      ],
      "metadata": {
        "id": "quz4GZEI3tfG"
      },
      "id": "quz4GZEI3tfG"
    },
    {
      "cell_type": "code",
      "execution_count": 101,
      "id": "9dace105",
      "metadata": {
        "id": "9dace105",
        "colab": {
          "base_uri": "https://localhost:8080/"
        },
        "outputId": "be446a2c-7718-41f5-9cbb-71cee96f765e"
      },
      "outputs": [
        {
          "output_type": "stream",
          "name": "stdout",
          "text": [
            "Metode Rekayasa Komputasi\n",
            "urutan dibaliknya adalah berikut \n",
            "isatupmoK asayakeR edoteM\n"
          ]
        }
      ],
      "source": [
        "try:\n",
        "  x=str(input())\n",
        "  x_inv=x[::-1]#indexing '::' adalah stepping '-1' berarti stepping (melangkah) 1 kebelakang\n",
        "  print(\"urutan dibaliknya adalah berikut \\n{}\".format(x_inv))\n",
        "except ValueError: # cegah masukan bukan string\n",
        "  print(\"Nilai yang dimasukkan harus string\")"
      ]
    },
    {
      "cell_type": "markdown",
      "id": "1f05e252",
      "metadata": {
        "id": "1f05e252"
      },
      "source": [
        "## Nomor 6\n",
        "6. Deret\n",
        "\n",
        "$$\\frac{1}{0!} + \\frac{1}{1!} + \\frac{1}{2!} + \\frac{1}{3!} + \\frac{1}{4!} + \\frac{1}{5!} + \\ldots = e$$\n",
        "\n",
        "merupakan cara untuk melakukan pendekatan terhadap nilai *e* berdasar ekspansi Taylor dari $e^x$. Kita bisa menuliskan penjumlahan parsial sebagai\n",
        "\n",
        "$$e_{pendekatan} = \\sum_{i=0}^N \\frac{1}{i!}$$\n",
        "\n",
        "Dengan menggunakan kalang `for`, hitung pendekatan untuk *e* menggunakan\n",
        "\n",
        "$$N = 1,2,3,4,5,6,7,8,9,10,100,1000,10000$$"
      ]
    },
    {
      "cell_type": "markdown",
      "source": [
        "Nilai N mana yang memberikan nilai paling dekat dengam e"
      ],
      "metadata": {
        "id": "-pztKC1MYZv1"
      },
      "id": "-pztKC1MYZv1"
    },
    {
      "cell_type": "markdown",
      "source": [
        "### Jawab"
      ],
      "metadata": {
        "id": "BWQmodbQDFep"
      },
      "id": "BWQmodbQDFep"
    },
    {
      "cell_type": "code",
      "execution_count": null,
      "id": "27c7060f",
      "metadata": {
        "id": "27c7060f",
        "colab": {
          "base_uri": "https://localhost:8080/"
        },
        "outputId": "9325424e-f199-4d94-fb13-0529cabf9311"
      },
      "outputs": [
        {
          "output_type": "stream",
          "name": "stdout",
          "text": [
            "[2.0, 2.5, 2.6666666666666665, 2.708333333333333, 2.7166666666666663, 2.7180555555555554, 2.7182539682539684, 2.71827876984127, 2.7182815255731922, 2.7182818011463845, 2.7182818284590455, 2.7182818284590455, 2.7182818284590455]\n"
          ]
        }
      ],
      "source": [
        "parsial_sum_n=[]\n",
        "n_list=[1,2,3,4,5,6,7,8,9,10,100,1000,10000]\n",
        "list_taylor=[[1/factorial(i) for i in range(n+1)]for n in n_list]\n",
        "for j in list_taylor:\n",
        "  parsial_sum_n.append(sum(j))\n",
        "print(parsial_sum_n)"
      ]
    },
    {
      "cell_type": "code",
      "source": [
        "exp=np.exp(1)\n",
        "error=[np.abs(i-exp)/exp for i in parsial_sum_n]\n",
        "error"
      ],
      "metadata": {
        "colab": {
          "base_uri": "https://localhost:8080/"
        },
        "id": "KX5X4NqL54DE",
        "outputId": "45548da5-52e5-4661-afe1-abaf80525a26"
      },
      "id": "KX5X4NqL54DE",
      "execution_count": null,
      "outputs": [
        {
          "output_type": "execute_result",
          "data": {
            "text/plain": [
              "[0.26424111765711533,\n",
              " 0.08030139707139415,\n",
              " 0.018988156876153812,\n",
              " 0.003659846827343768,\n",
              " 0.0005941848175817597,\n",
              " 8.324114928800986e-05,\n",
              " 1.0249196674547021e-05,\n",
              " 1.125202597843745e-06,\n",
              " 1.1142547828265698e-07,\n",
              " 1.0047766310211053e-08,\n",
              " 1.6337129034990842e-16,\n",
              " 1.6337129034990842e-16,\n",
              " 1.6337129034990842e-16]"
            ]
          },
          "metadata": {},
          "execution_count": 34
        }
      ]
    },
    {
      "cell_type": "markdown",
      "id": "0e34b6e8",
      "metadata": {
        "id": "0e34b6e8"
      },
      "source": [
        "## Nomor 7\n",
        "7. Buatlah fungsi yang mensimulasikan pelemparan dua buah dadu. Jalankan program untuk melempar dadu berulang kali (dengan pengulangan yang banyak) dan tulislah fraksi dari pelemparan yang menghasilkan jumlah dari setiap kombinasi yang mungkin terjadi, 2 - 12.\n"
      ]
    },
    {
      "cell_type": "markdown",
      "source": [
        "### Jawab"
      ],
      "metadata": {
        "id": "musz4vRgDHZo"
      },
      "id": "musz4vRgDHZo"
    },
    {
      "cell_type": "code",
      "execution_count": null,
      "id": "7affea4c",
      "metadata": {
        "id": "7affea4c"
      },
      "outputs": [],
      "source": [
        "# pengulangan=int(input())\n",
        "pengulangan=100\n",
        "prob={}\n",
        "for i in range(2,13):\n",
        "  prob[str(i)]=0\n",
        "for i in range(pengulangan):\n",
        "  d1=random.randint(1,6)\n",
        "  d2=random.randint(1,6)\n",
        "  d12=d1+d2\n",
        "  prob[str(d12)]+= 1\n",
        "for i in range(2,13):\n",
        "  prob[str(i)]=prob[str(i)]/pengulangan"
      ]
    },
    {
      "cell_type": "code",
      "source": [
        "prob"
      ],
      "metadata": {
        "colab": {
          "base_uri": "https://localhost:8080/"
        },
        "id": "FLphlcq06vCc",
        "outputId": "dfbcee12-1200-4e36-b342-6c88a5294098"
      },
      "id": "FLphlcq06vCc",
      "execution_count": null,
      "outputs": [
        {
          "output_type": "execute_result",
          "data": {
            "text/plain": [
              "{'2': 0.04,\n",
              " '3': 0.01,\n",
              " '4': 0.08,\n",
              " '5': 0.15,\n",
              " '6': 0.15,\n",
              " '7': 0.17,\n",
              " '8': 0.1,\n",
              " '9': 0.15,\n",
              " '10': 0.11,\n",
              " '11': 0.03,\n",
              " '12': 0.01}"
            ]
          },
          "metadata": {},
          "execution_count": 38
        }
      ]
    },
    {
      "cell_type": "markdown",
      "id": "d6f73893",
      "metadata": {
        "id": "d6f73893"
      },
      "source": [
        "## Nomor 8\n",
        "8. Mintalah pengguna untuk memasukkan bilangan, _N_. Cetaklah matriks acak berukuran _N_ x _N_, kemudian cetak pula vektor yang berisi jumlahan dari masing-masing kolom."
      ]
    },
    {
      "cell_type": "code",
      "execution_count": null,
      "id": "9f84f2c5",
      "metadata": {
        "id": "9f84f2c5"
      },
      "outputs": [],
      "source": [
        "N=int(input())\n",
        "mat=np.random.uniform(low= -10, high= 10, size=(N,N))\n",
        "print(\"Matrik awal adalah \\n{}\".format(mat))\n",
        "mat_sum_col=mat.sum(axis=0)\n",
        "print(\"Penjumlahan kolom matriks menghasilkan matriks berikut \\n{}\".format(mat_sum_col))"
      ]
    },
    {
      "cell_type": "markdown",
      "source": [
        "### Jawab"
      ],
      "metadata": {
        "id": "HjZp_0r6DJdP"
      },
      "id": "HjZp_0r6DJdP"
    },
    {
      "cell_type": "markdown",
      "id": "83e1c8af",
      "metadata": {
        "id": "83e1c8af"
      },
      "source": [
        "## Nomor 9\n",
        "9. Buatlah *dictionary* yang berisi pasangan `kunci:nilai` di mana kunci adalah nama-nama partikel elementer dan nilai adalah massa partikel tersebut dalam satuan kilogram."
      ]
    },
    {
      "cell_type": "markdown",
      "source": [
        "### Jawab"
      ],
      "metadata": {
        "id": "vOZZ1kgKGNgm"
      },
      "id": "vOZZ1kgKGNgm"
    },
    {
      "cell_type": "code",
      "execution_count": null,
      "id": "341b3f24",
      "metadata": {
        "id": "341b3f24"
      },
      "outputs": [],
      "source": [
        "psa = {} #inisiasi dictionary\n",
        "#isi setiap key dengan value\n",
        "psa['proton']=1.67262192e-27\n",
        "psa['neutron']=1.67492749804e-27\n",
        "psa['elektron']=9.1093837e-31\n",
        "print(psa)"
      ]
    },
    {
      "cell_type": "markdown",
      "id": "8e2d6bb4",
      "metadata": {
        "id": "8e2d6bb4"
      },
      "source": [
        "## Nomor 10\n",
        "10. Bahan padat akan mengalami pemuaian jika suhunya meningkat. Besarnya pemuaian tersebut dapat dinyatakan sebagai berikut\n",
        "\n",
        "$$ \\Delta L = \\alpha \\Delta T L$$\n",
        "\n",
        "dengan $\\Delta L$ adalah perubahan panjang, $\\alpha$ adalah koefisien muai linear, $\\Delta T$ adalah perubahan suhu dan $L$ adalah panjang bahan pada suhu awal, $T$.\n",
        "\n",
        "Tabel di bawah ini menampilkan koefisien muai beberapa bahan.\n",
        "\n",
        "|Material   | Koefisien muai $\\times 10^6$ m/[m.$^\\circ$C]|\n",
        "|------:    |-------------------------------------------: |\n",
        "|Tembaga    |16                                           |\n",
        "|Aluminium  |22,5                                         |\n",
        "|Kaca       |5,9                                          |\n",
        "|Baja       |11,5                                         |\n",
        "|Polietilen | 125                                         |\n",
        "\n",
        "Buatlah fungsi Python bernama `muai` yang memiliki argumen input berupa jenis bahan (string teks), perubahan suhu dan panjang awal. Fungsi tersebut akan mengembalikan panjang bahan setelah memuai. Uji fungsi Anda dengan beberapa contoh kasus.\n",
        "\n",
        "**Improvement**\n",
        "\n",
        "1. Handle error masukkan (ke huruf kecil)\n",
        "2. Tampilkan masukkan\n"
      ]
    },
    {
      "cell_type": "markdown",
      "source": [
        "### Jawab"
      ],
      "metadata": {
        "id": "9cvEs4K5GPjr"
      },
      "id": "9cvEs4K5GPjr"
    },
    {
      "cell_type": "code",
      "execution_count": 102,
      "id": "6f80bfbc",
      "metadata": {
        "id": "6f80bfbc",
        "colab": {
          "base_uri": "https://localhost:8080/"
        },
        "outputId": "4514a5bc-123c-4e3d-b631-3128d2607449"
      },
      "outputs": [
        {
          "output_type": "stream",
          "name": "stdout",
          "text": [
            "Materi apa yang akan dihitung (Tembaga/Aluminium/Kaca/Polietilen) :Tembaga\n",
            "Berapa perubahan suhu ?35\n",
            "Berapa panjang awal ?36\n",
            "Perubahan panjang \n",
            "20160 (10^-6 m)\n"
          ]
        }
      ],
      "source": [
        "dict_material={'Tembaga':16, 'Aluminium':22.5, 'Kaca':5.9, 'Baja':11.5, 'Polietilen':125}\n",
        "material=str(input(\"Materi apa yang akan dihitung (Tembaga/Aluminium/Kaca/Polietilen) :\"))\n",
        "delta_t=int(input(\"Berapa perubahan suhu ?\"))\n",
        "panjang_awal=int(input(\"Berapa panjang awal ?\"))\n",
        "alpha=dict_material[material]\n",
        "delta_l=alpha*delta_t*panjang_awal\n",
        "print(\"Perubahan panjang \\n{} (10^-6 m)\".format(delta_l))"
      ]
    },
    {
      "cell_type": "markdown",
      "id": "cbbcc0b1",
      "metadata": {
        "id": "cbbcc0b1"
      },
      "source": [
        "## Nomor 11\n",
        "11. Tulislah fungsi bernama `split_function(f,g,a,b,x)` di mana `f` dan `g` adalah fungsi `f(x)` dan `g(x)`. Outputnya adalah `f(x)` jika $x\\le a$, `g(x)` jika $x\\ge b$, dan 0 untuk nilai $x$ lainnya. Anggap bahwa $b>a$."
      ]
    },
    {
      "cell_type": "markdown",
      "source": [
        "### Jawab"
      ],
      "metadata": {
        "id": "07W9UMBcGRgH"
      },
      "id": "07W9UMBcGRgH"
    },
    {
      "cell_type": "code",
      "execution_count": null,
      "id": "8187e800",
      "metadata": {
        "id": "8187e800"
      },
      "outputs": [],
      "source": [
        "def split_function(f,g,a,b,x):\n",
        "    # tulis kode fungsi di sini\n",
        "    if b>a:\n",
        "      if x<=a:\n",
        "        return round(f(x),4)\n",
        "      elif x>=b:\n",
        "        return round(g(x),4)\n",
        "      else:\n",
        "        return 0\n",
        "    else:\n",
        "      print(\"Masukkan nila yang benar (b>a)\")\n",
        "\n"
      ]
    },
    {
      "cell_type": "code",
      "execution_count": null,
      "id": "e4631185",
      "metadata": {
        "id": "e4631185",
        "colab": {
          "base_uri": "https://localhost:8080/"
        },
        "outputId": "9ee55c4b-ef7d-48e8-9f86-179f5a63bdd7"
      },
      "outputs": [
        {
          "output_type": "execute_result",
          "data": {
            "text/plain": [
              "2.7183"
            ]
          },
          "metadata": {},
          "execution_count": 71
        }
      ],
      "source": [
        "# output : 2.713\n",
        "split_function(np.exp, np.sin, 2, 4, 1)"
      ]
    },
    {
      "cell_type": "code",
      "execution_count": null,
      "id": "684ea941",
      "metadata": {
        "id": "684ea941",
        "colab": {
          "base_uri": "https://localhost:8080/"
        },
        "outputId": "fc0dd9a1-eecc-4797-bb56-656171316a4b"
      },
      "outputs": [
        {
          "output_type": "execute_result",
          "data": {
            "text/plain": [
              "0"
            ]
          },
          "metadata": {},
          "execution_count": 72
        }
      ],
      "source": [
        "# output : 0\n",
        "split_function(np.exp, np.sin, 2, 4, 3)"
      ]
    },
    {
      "cell_type": "code",
      "execution_count": null,
      "id": "98a0221a",
      "metadata": {
        "id": "98a0221a",
        "colab": {
          "base_uri": "https://localhost:8080/"
        },
        "outputId": "13471b80-9254-4dda-8b09-89a37e1d9707"
      },
      "outputs": [
        {
          "output_type": "execute_result",
          "data": {
            "text/plain": [
              "-0.9589"
            ]
          },
          "metadata": {},
          "execution_count": 73
        }
      ],
      "source": [
        "# output : -0.9589\n",
        "split_function(np.exp, np.sin, 2, 4, 5)"
      ]
    },
    {
      "cell_type": "markdown",
      "id": "51481662",
      "metadata": {
        "id": "51481662"
      },
      "source": [
        "## Nomor 12\n",
        "12. Perhatikan fungsi berikut ini\n",
        "\n",
        "$$ y(x) = \\sqrt{\\dfrac{100(1-0.01x^2)^2 + 0.02x^2}{(1-x^2)^2+0.1x^2}} $$\n",
        "\n",
        "Buatlah subplot berukuran $2\\times 2$ untuk menampilkan $y(x)$ pada rentang $0 \\le x \\le 100$ menggunakan `plot`, `semilogx`, `semilogy` dan `loglog`. Gunakan diskretisasi $x$ yang cukup rapat agar plot terlihat mulus. Tambahkan label sumbu dan judul di masing-masing plot. Tampilkan grid. Plot manakah yang tampaknya mampu untuk menyampaikan paling banyak informasi?"
      ]
    },
    {
      "cell_type": "markdown",
      "source": [
        "### Jawab"
      ],
      "metadata": {
        "id": "FC8-QvboGTpF"
      },
      "id": "FC8-QvboGTpF"
    },
    {
      "cell_type": "code",
      "execution_count": 23,
      "id": "264174bc",
      "metadata": {
        "id": "264174bc",
        "colab": {
          "base_uri": "https://localhost:8080/",
          "height": 486
        },
        "outputId": "618fbe5f-3068-4d8c-8cbf-0bd93256bbc3"
      },
      "outputs": [
        {
          "output_type": "display_data",
          "data": {
            "text/plain": [
              "<Figure size 640x480 with 4 Axes>"
            ],
            "image/png": "[encoded data removed]"
          },
          "metadata": {}
        }
      ],
      "source": [
        "fx = lambda x: (100*(1-0.01*(x**2))**2+0.02*(x**2))/((1-x**2)**2+0.1*(x**2))\n",
        "x=np.linspace(0,100,1001)\n",
        "fig, ax = plt.subplots(2,2)\n",
        "ax[0,0].plot(x,fx(x))\n",
        "ax[0,0].set_xlabel(\"x\")\n",
        "ax[0,0].set_ylabel(\"y\")\n",
        "ax[0,0].set_title(\"f(x)-plot\")\n",
        "ax[0,1].semilogx(x,fx(x))\n",
        "ax[0,1].set_xlabel(\"x\")\n",
        "ax[0,1].set_ylabel(\"y\")\n",
        "ax[0,1].set_title(\"f(x)-semilogx\")\n",
        "ax[1,0].semilogy(x,fx(x))\n",
        "ax[1,0].set_xlabel(\"x\")\n",
        "ax[1,0].set_ylabel(\"y\")\n",
        "ax[1,0].set_title(\"f(x)-semilogy\")\n",
        "ax[1,1].loglog(x,fx(x))\n",
        "ax[1,1].set_xlabel(\"x\")\n",
        "ax[1,1].set_ylabel(\"y\")\n",
        "ax[1,1].set_title(\"f(x)-loglog\")\n",
        "plt.tight_layout()\n",
        "plt.show()\n"
      ]
    },
    {
      "cell_type": "markdown",
      "id": "a93880ed",
      "metadata": {
        "id": "a93880ed"
      },
      "source": [
        "## Nomor 13\n",
        "13. Ubahlah array berikut ini\n",
        "\n",
        "```Python\n",
        "[0 1 2 3 4 5 6 7 8]\n",
        "```\n",
        "\n",
        "menjadi\n",
        "\n",
        "```Python\n",
        "[[0, 1, 2]\n",
        " [3, 4, 5]\n",
        " [6, 7, 8]]\n",
        "```"
      ]
    },
    {
      "cell_type": "markdown",
      "source": [
        "### Jawab"
      ],
      "metadata": {
        "id": "9KiVLJ7XXR6-"
      },
      "id": "9KiVLJ7XXR6-"
    },
    {
      "cell_type": "code",
      "execution_count": null,
      "id": "92f0d1e8",
      "metadata": {
        "id": "92f0d1e8",
        "colab": {
          "base_uri": "https://localhost:8080/"
        },
        "outputId": "310a3fd1-1be3-4c3f-de9e-17aa6789f02a"
      },
      "outputs": [
        {
          "output_type": "stream",
          "name": "stdout",
          "text": [
            "[0 1 2 3 4 5 6 7 8]\n",
            "[[0 1 2]\n",
            " [3 4 5]\n",
            " [6 7 8]]\n"
          ]
        }
      ],
      "source": [
        "mat=np.array([0, 1, 2, 3, 4, 5, 6, 7, 8])\n",
        "print(mat)\n",
        "mat_reshaped=np.reshape(mat, (3,3))\n",
        "print(mat_reshaped)"
      ]
    },
    {
      "cell_type": "markdown",
      "id": "6ff26553",
      "metadata": {
        "id": "6ff26553"
      },
      "source": [
        "## Nomor 14\n",
        "14. Buatlah script Python untuk menentukan inverse dari matriks berikut ini\n",
        "\n",
        "$$ \\begin{bmatrix}\n",
        "1.13 & 3.83 & 1.16 & 3.40\\\\\n",
        "0.53 & 1.79 & 2.53 & 1.54 \\\\\n",
        "3.41 & 4.93 & 8.76 & 1.31 \\\\\n",
        "1.24 & 4.99 & 10.67 & 0.02\n",
        "\\end{bmatrix} $$\n",
        "\n",
        "Pada script yang dibuat, tuliskan juga pengujian inverse matriks tersebut dengan mengalikannya dengan matriks asal dan hasilnya  mendekati matriks identitas."
      ]
    },
    {
      "cell_type": "markdown",
      "source": [
        "### Jawab"
      ],
      "metadata": {
        "id": "YOhiveqiXTph"
      },
      "id": "YOhiveqiXTph"
    },
    {
      "cell_type": "code",
      "source": [
        "mat=np.transpose(np.reshape([1.13,0.53,3.41,1.24,3.83,1.79,4.93,4.99,1.16,2.53,8.76,10.67,3.40,1.54,1.31,0.02], (4,4)))\n",
        "mat_inv=inv(mat)\n",
        "mat_id=np.identity(4).astype(int)\n",
        "mul=np.matmul(mat,mat_inv).astype(int)\n",
        "print(mat)\n",
        "print(mat_inv)\n",
        "print(mul)\n",
        "print(mat_id)\n",
        "print(mul==mat_id)\n",
        "print(np.matmul(mat,mat_inv))"
      ],
      "metadata": {
        "colab": {
          "base_uri": "https://localhost:8080/"
        },
        "id": "YB-cqEDtA0nB",
        "outputId": "fa777da5-579c-4cf5-f0d0-6744dccf1193"
      },
      "id": "YB-cqEDtA0nB",
      "execution_count": null,
      "outputs": [
        {
          "output_type": "stream",
          "name": "stdout",
          "text": [
            "[[ 1.13  3.83  1.16  3.4 ]\n",
            " [ 0.53  1.79  2.53  1.54]\n",
            " [ 3.41  4.93  8.76  1.31]\n",
            " [ 1.24  4.99 10.67  0.02]]\n",
            "[[-0.07829101 -0.22514192  0.47285055 -0.32631154]\n",
            " [ 0.5333038  -1.08340824 -0.11500059  0.29332667]\n",
            " [-0.23993721  0.53074973 -0.00111876 -0.00512364]\n",
            " [-0.19875222  1.11417477 -0.0272268  -0.2202252 ]]\n",
            "[[1 0 0 0]\n",
            " [0 1 0 0]\n",
            " [0 0 0 0]\n",
            " [0 0 0 1]]\n",
            "[[1 0 0 0]\n",
            " [0 1 0 0]\n",
            " [0 0 1 0]\n",
            " [0 0 0 1]]\n",
            "[[ True  True  True  True]\n",
            " [ True  True  True  True]\n",
            " [ True  True False  True]\n",
            " [ True  True  True  True]]\n",
            "[[ 1.00000000e+00  1.67494927e-16 -3.71334699e-17 -6.92579151e-17]\n",
            " [-7.20091442e-17  1.00000000e+00 -2.57391414e-17  5.49870556e-18]\n",
            " [ 1.14030889e-16  2.99183333e-16  1.00000000e+00 -1.02774244e-16]\n",
            " [-3.43939635e-16 -6.33624759e-18 -6.61736888e-17  1.00000000e+00]]\n"
          ]
        }
      ]
    },
    {
      "cell_type": "markdown",
      "id": "5a949e2f",
      "metadata": {
        "id": "5a949e2f"
      },
      "source": [
        "## Nomor 15\n",
        "15. Unduh file `.csv` dari [https://gml.noaa.gov/webdata/ccgg/trends/co2/co2_annmean_gl.csv](https://gml.noaa.gov/webdata/ccgg/trends/co2/co2_annmean_gl.csv). Data tersebut berisi rekaman konsentrasi CO$_2$ (dalam ppm) di atmosfer. Tulislah script Python yang membaca/mengimpor data tersebut dan buatlah plot untuk menampilkannya."
      ]
    },
    {
      "cell_type": "markdown",
      "source": [
        "### Jawab"
      ],
      "metadata": {
        "id": "IdICNpRGUVwo"
      },
      "id": "IdICNpRGUVwo"
    },
    {
      "cell_type": "code",
      "source": [
        "csv_path='/content/co2_annmean_gl.csv'\n",
        "df=pd.read_csv(csv_path)\n",
        "plt.plot(df['year'],df['mean'], label='mean')\n",
        "plt.fill_between(df['year'],df['mean']+df['unc'],df['mean']-df['unc'], alpha=0.2, label='unc', color=\"red\")\n",
        "plt.legend()\n",
        "plt.plot()"
      ],
      "metadata": {
        "colab": {
          "base_uri": "https://localhost:8080/",
          "height": 448
        },
        "id": "EY8K7CKDUVdT",
        "outputId": "c4be2793-6453-48cd-80b0-acb6b9477634"
      },
      "id": "EY8K7CKDUVdT",
      "execution_count": 99,
      "outputs": [
        {
          "output_type": "execute_result",
          "data": {
            "text/plain": [
              "[]"
            ]
          },
          "metadata": {},
          "execution_count": 99
        },
        {
          "output_type": "display_data",
          "data": {
            "text/plain": [
              "<Figure size 640x480 with 1 Axes>"
            ],
            "image/png": "[encoded data removed]"
          },
          "metadata": {}
        }
      ]
    },
    {
      "cell_type": "markdown",
      "source": [
        "### Pengayaan (Real-time)"
      ],
      "metadata": {
        "id": "7HE6cXnOURAv"
      },
      "id": "7HE6cXnOURAv"
    },
    {
      "cell_type": "code",
      "execution_count": 86,
      "id": "1ba37f6b",
      "metadata": {
        "colab": {
          "base_uri": "https://localhost:8080/"
        },
        "id": "1ba37f6b",
        "outputId": "663a9955-5fe3-4219-81e2-1cb014080641"
      },
      "outputs": [
        {
          "output_type": "stream",
          "name": "stdout",
          "text": [
            "0 : # --------------------------------------------------------------------\n",
            "1 : # USE OF NOAA GML DATA\n",
            "2 : #\n",
            "3 : # These data are made freely available to the public and the scientific\n",
            "4 : # community in the belief that their wide dissemination will lead to\n",
            "5 : # greater understanding and new scientific insights. To ensure that GML\n",
            "6 : # receives fair credit for their work please include relevant citation\n",
            "7 : # text in publications. We encourage users to contact the data providers,\n",
            "8 : # who can provide detailed information about the measurements and\n",
            "9 : # scientific insight.  In cases where the data are central to a\n",
            "10 : # publication, coauthorship for data providers may be appropriate.\n",
            "11 : #\n",
            "12 : #\n",
            "13 : #\n",
            "14 : # Contact:  Xin Lan (xin.lan@noaa.gov)\n",
            "15 : #\n",
            "16 : # File Creation: Sun May  5 03:55:22 2024\n",
            "17 : #\n",
            "18 : #\n",
            "19 : # --------------------------------------------------------------------\n",
            "20 : #\n",
            "21 : #\n",
            "22 : # See gml.noaa.gov/ccgg/trends/ for additional details.\n",
            "23 : #\n",
            "24 : # The uncertainty in the global annual mean is estimated using a monte carlo\n",
            "25 : # technique that computes 200 global annual averages, each time using a\n",
            "26 : # slightly different set of measurement records from the NOAA GML cooperative\n",
            "27 : # air sampling network.  The reported uncertainty is the mean of the standard\n",
            "28 : # deviations for each annual average using this technique. Please see\n",
            "29 : # Conway et al., 1994, JGR, vol. 99, no. D11. for a complete discussion.\n",
            "30 : #\n",
            "31 : # CO2 expressed as a mole fraction in dry air, micromol/mol, abbreviated as ppm\n",
            "32 : #\n",
            "33 : # NOTE: In general, the data presented for the last year are subject to change,\n",
            "34 : # depending on recalibration of the reference gas mixtures used, and other quality\n",
            "35 : # control procedures. Occasionally, earlier years may also be changed for the same\n",
            "36 : # reasons.  Usually these changes are minor.\n",
            "37 : year,mean,unc\n",
            "38 : 1979,336.85,0.11\n",
            "39 : 1980,338.91,0.07\n",
            "40 : 1981,340.11,0.09\n",
            "41 : 1982,340.85,0.03\n",
            "42 : 1983,342.53,0.06\n",
            "43 : 1984,344.07,0.08\n",
            "44 : 1985,345.54,0.07\n",
            "45 : 1986,346.97,0.07\n",
            "46 : 1987,348.68,0.10\n",
            "47 : 1988,351.16,0.07\n",
            "48 : 1989,352.78,0.07\n",
            "49 : 1990,354.05,0.07\n",
            "50 : 1991,355.39,0.07\n",
            "51 : 1992,356.09,0.06\n",
            "52 : 1993,356.83,0.07\n",
            "53 : 1994,358.33,0.08\n",
            "54 : 1995,360.17,0.05\n",
            "55 : 1996,361.93,0.04\n",
            "56 : 1997,363.05,0.05\n",
            "57 : 1998,365.70,0.04\n",
            "58 : 1999,367.80,0.05\n",
            "59 : 2000,368.96,0.06\n",
            "60 : 2001,370.57,0.05\n",
            "61 : 2002,372.59,0.04\n",
            "62 : 2003,375.15,0.04\n",
            "63 : 2004,376.95,0.06\n",
            "64 : 2005,378.98,0.05\n",
            "65 : 2006,381.15,0.05\n",
            "66 : 2007,382.90,0.04\n",
            "67 : 2008,385.02,0.05\n",
            "68 : 2009,386.50,0.04\n",
            "69 : 2010,388.76,0.06\n",
            "70 : 2011,390.63,0.05\n",
            "71 : 2012,392.65,0.06\n",
            "72 : 2013,395.40,0.06\n",
            "73 : 2014,397.34,0.05\n",
            "74 : 2015,399.65,0.05\n",
            "75 : 2016,403.08,0.06\n",
            "76 : 2017,405.22,0.07\n",
            "77 : 2018,407.58,0.07\n",
            "78 : 2019,410.04,0.07\n",
            "79 : 2020,412.51,0.06\n",
            "80 : 2021,414.81,0.07\n",
            "81 : 2022,417.24,0.07\n",
            "82 : 2023,419.55,0.15\n",
            "83 : \n"
          ]
        }
      ],
      "source": [
        "csv_file_url='https://gml.noaa.gov/webdata/ccgg/trends/co2/co2_annmean_gl.csv'\n",
        "text = requests.get(csv_file_url).text.split('\\n')\n",
        "for row,r in enumerate(text):\n",
        "  print(\"{} : {}\".format(row,r))\n"
      ]
    },
    {
      "cell_type": "code",
      "source": [
        "csv_file_url='https://gml.noaa.gov/webdata/ccgg/trends/co2/co2_annmean_gl.csv'\n",
        "text = requests.get(csv_file_url).csv.split('\\n')"
      ],
      "metadata": {
        "colab": {
          "base_uri": "https://localhost:8080/",
          "height": 163
        },
        "id": "qK5O2P40LjlF",
        "outputId": "9dec4ff2-623a-45d0-fecc-25d32e5460c9"
      },
      "id": "qK5O2P40LjlF",
      "execution_count": 87,
      "outputs": [
        {
          "output_type": "error",
          "ename": "AttributeError",
          "evalue": "'Response' object has no attribute 'csv'",
          "traceback": [
            "\u001b[0;31m---------------------------------------------------------------------------\u001b[0m",
            "\u001b[0;31mAttributeError\u001b[0m                            Traceback (most recent call last)",
            "\u001b[0;32m<ipython-input-87-b94060852120>\u001b[0m in \u001b[0;36m<cell line: 2>\u001b[0;34m()\u001b[0m\n\u001b[1;32m      1\u001b[0m \u001b[0mcsv_file_url\u001b[0m\u001b[0;34m=\u001b[0m\u001b[0;34m'https://gml.noaa.gov/webdata/ccgg/trends/co2/co2_annmean_gl.csv'\u001b[0m\u001b[0;34m\u001b[0m\u001b[0;34m\u001b[0m\u001b[0m\n\u001b[0;32m----> 2\u001b[0;31m \u001b[0mtext\u001b[0m \u001b[0;34m=\u001b[0m \u001b[0mrequests\u001b[0m\u001b[0;34m.\u001b[0m\u001b[0mget\u001b[0m\u001b[0;34m(\u001b[0m\u001b[0mcsv_file_url\u001b[0m\u001b[0;34m)\u001b[0m\u001b[0;34m.\u001b[0m\u001b[0mcsv\u001b[0m\u001b[0;34m.\u001b[0m\u001b[0msplit\u001b[0m\u001b[0;34m(\u001b[0m\u001b[0;34m'\\n'\u001b[0m\u001b[0;34m)\u001b[0m\u001b[0;34m\u001b[0m\u001b[0;34m\u001b[0m\u001b[0m\n\u001b[0m",
            "\u001b[0;31mAttributeError\u001b[0m: 'Response' object has no attribute 'csv'"
          ]
        }
      ]
    },
    {
      "cell_type": "code",
      "source": [
        "help(requests.get)"
      ],
      "metadata": {
        "colab": {
          "base_uri": "https://localhost:8080/"
        },
        "id": "lThB-BH_TX0D",
        "outputId": "0ce47612-a248-48c4-e0b7-99bd749069f6"
      },
      "id": "lThB-BH_TX0D",
      "execution_count": 88,
      "outputs": [
        {
          "output_type": "stream",
          "name": "stdout",
          "text": [
            "Help on function get in module requests.api:\n",
            "\n",
            "get(url, params=None, **kwargs)\n",
            "    Sends a GET request.\n",
            "    \n",
            "    :param url: URL for the new :class:`Request` object.\n",
            "    :param params: (optional) Dictionary, list of tuples or bytes to send\n",
            "        in the query string for the :class:`Request`.\n",
            "    :param \\*\\*kwargs: Optional arguments that ``request`` takes.\n",
            "    :return: :class:`Response <Response>` object\n",
            "    :rtype: requests.Response\n",
            "\n"
          ]
        }
      ]
    },
    {
      "cell_type": "code",
      "source": [],
      "metadata": {
        "id": "48hk9rpdTdPU"
      },
      "id": "48hk9rpdTdPU",
      "execution_count": null,
      "outputs": []
    }
  ],
  "metadata": {
    "kernelspec": {
      "display_name": "Python 3 (ipykernel)",
      "language": "python",
      "name": "python3"
    },
    "language_info": {
      "codemirror_mode": {
        "name": "ipython",
        "version": 3
      },
      "file_extension": ".py",
      "mimetype": "text/x-python",
      "name": "python",
      "nbconvert_exporter": "python",
      "pygments_lexer": "ipython3",
      "version": "3.9.6"
    },
    "colab": {
      "provenance": [],
      "toc_visible": true,
      "include_colab_link": true
    }
  },
  "nbformat": 4,
  "nbformat_minor": 5
}