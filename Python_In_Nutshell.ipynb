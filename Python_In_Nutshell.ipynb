{
  "nbformat": 4,
  "nbformat_minor": 0,
  "metadata": {
    "colab": {
      "provenance": [],
      "toc_visible": true,
      "authorship_tag": "ABX9TyNuqSHQhumm3ZIdOQiw5+C7",
      "include_colab_link": true
    },
    "kernelspec": {
      "name": "python3",
      "display_name": "Python 3"
    },
    "language_info": {
      "name": "python"
    }
  },
  "cells": [
    {
      "cell_type": "markdown",
      "metadata": {
        "id": "view-in-github",
        "colab_type": "text"
      },
      "source": [
        "<a href=\"https://colab.research.google.com/github/RendiZein/Metode-Rekayasa-Komputasi/blob/main/Python_In_Nutshell.ipynb\" target=\"_parent\"><img src=\"https://colab.research.google.com/assets/colab-badge.svg\" alt=\"Open In Colab\"/></a>"
      ]
    },
    {
      "cell_type": "code",
      "source": [
        "import random\n",
        "import numpy as np\n",
        "import pandas as pd"
      ],
      "metadata": {
        "id": "ycqI03UqmBml"
      },
      "execution_count": 99,
      "outputs": []
    },
    {
      "cell_type": "markdown",
      "source": [
        "# Latihan 1"
      ],
      "metadata": {
        "id": "UYVCHF23tTzh"
      }
    },
    {
      "cell_type": "markdown",
      "source": [
        "# 1.1\n",
        "Buatlah program yang meminta masukan berupa bilangan bulat kemudian menenentkan apakah bilangan tersebut adalah bilangan prima atau bukan."
      ],
      "metadata": {
        "id": "M6Ohe-RFtV7W"
      }
    },
    {
      "cell_type": "code",
      "source": [
        "def prime():\n",
        "  try:\n",
        "    x=int(input('Masukkan nilai x (bilangan bulat) ='))\n",
        "    if 0<x<8:\n",
        "      if x==2 or x==3 or x==5 or x==7:\n",
        "        print('{} adalah bilangan prima'.format(x))\n",
        "      else:\n",
        "        print('{} bukan bilangan prima'.format(x))\n",
        "    elif x<0: #antisipasi masukkan negatif\n",
        "      print(\"Nilai yang dimasukkan harus bilangan bulat\")\n",
        "    else:\n",
        "      if x%2==0 or x%3==0 or x%5==0 or x%7==0:\n",
        "        print('{} bukan bilangan prima'.format(x))\n",
        "      else:\n",
        "        print('{} adalah bilangan prima'.format(x))\n",
        "  except ValueError: #antisipasi masukkan string dan float\n",
        "    print(\"Nilai yang dimasukkan harus bilangan bulat\")"
      ],
      "metadata": {
        "id": "5R1fDLqqXE5Y"
      },
      "execution_count": 77,
      "outputs": []
    },
    {
      "cell_type": "code",
      "source": [
        "prime()"
      ],
      "metadata": {
        "colab": {
          "base_uri": "https://localhost:8080/"
        },
        "id": "OlM-96twkziA",
        "outputId": "6a78fd6b-64f8-4d85-f6ab-fc417cbd7437"
      },
      "execution_count": 78,
      "outputs": [
        {
          "output_type": "stream",
          "name": "stdout",
          "text": [
            "Masukkan nilai x (bilangan bulat) =23\n",
            "23 adalah bilangan prima\n"
          ]
        }
      ]
    },
    {
      "cell_type": "markdown",
      "source": [
        "### validasi"
      ],
      "metadata": {
        "id": "Pj8dNUu-pp-s"
      }
    },
    {
      "cell_type": "code",
      "source": [
        "def prime(x):\n",
        "  try:\n",
        "    if 0<x<8:\n",
        "      if x==2 or x==3 or x==5 or x==7:\n",
        "        xp=1\n",
        "        return x,xp\n",
        "      else:\n",
        "        xp=0\n",
        "        return x,xp\n",
        "    else:\n",
        "      if x%2==0 or x%3==0 or x%5==0 or x%7==0:\n",
        "        xp=0\n",
        "        return x,xp\n",
        "      else:\n",
        "        xp=1\n",
        "        return x,xp\n",
        "  except ValueError:\n",
        "    print(\"Nilai yang dimasukkan harus bilangan bulat\")"
      ],
      "metadata": {
        "id": "xUHhp-oloS76"
      },
      "execution_count": 91,
      "outputs": []
    },
    {
      "cell_type": "code",
      "source": [
        "prime_number=[]\n",
        "for i in range(1,100):\n",
        "  i,xp=prime(i)\n",
        "  if xp==1:\n",
        "    prime_number.append(i)\n",
        "\n"
      ],
      "metadata": {
        "id": "-tKYzflmo3tG"
      },
      "execution_count": 92,
      "outputs": []
    },
    {
      "cell_type": "code",
      "source": [
        "len(prime_number)"
      ],
      "metadata": {
        "colab": {
          "base_uri": "https://localhost:8080/"
        },
        "id": "99dt8rBSpO9o",
        "outputId": "2e1aea6e-b049-47ab-9d3c-7ef80e3e6de1"
      },
      "execution_count": 94,
      "outputs": [
        {
          "output_type": "execute_result",
          "data": {
            "text/plain": [
              "25"
            ]
          },
          "metadata": {},
          "execution_count": 94
        }
      ]
    },
    {
      "cell_type": "code",
      "source": [
        "sde=[2, 3, 5, 7, 11, 13, 17, 19, 23, 29, 31, 37, 41, 43, 47, 53, 59, 61, 67, 71, 73, 79, 83, 89, 97]\n",
        "len(sde)"
      ],
      "metadata": {
        "colab": {
          "base_uri": "https://localhost:8080/"
        },
        "id": "TRKnQuunpi0J",
        "outputId": "fedec1ad-dc55-4e15-9b14-b62f9980a7dd"
      },
      "execution_count": 95,
      "outputs": [
        {
          "output_type": "execute_result",
          "data": {
            "text/plain": [
              "25"
            ]
          },
          "metadata": {},
          "execution_count": 95
        }
      ]
    },
    {
      "cell_type": "markdown",
      "source": [
        "## 1.2\n",
        "Buatlah program yang meminta masukan berupa string, kemudian mencetak hasil dengan urutan yang dibalik."
      ],
      "metadata": {
        "id": "3V_YgqQhxNH-"
      }
    },
    {
      "cell_type": "code",
      "source": [
        "try:\n",
        "  x=str(input())\n",
        "  x_inv=x[::-1]#indexing '::' adalah stepping '-1' berarti stepping (melangkah) 1 kebelakang\n",
        "  print(\"urutan dibaliknya adalah berikut \\n{}\".format(x_inv))\n",
        "except ValueError: # cegah masukan bukan string\n",
        "  print(\"Nilai yang dimasukkan harus string\")\n"
      ],
      "metadata": {
        "colab": {
          "base_uri": "https://localhost:8080/"
        },
        "id": "ddCDt69wYMLQ",
        "outputId": "fd4339be-e64d-43d9-a36b-2e989f341163"
      },
      "execution_count": 25,
      "outputs": [
        {
          "output_type": "stream",
          "name": "stdout",
          "text": [
            "metode rekayasa komputasi\n",
            "urutan dibaliknya adalah berikut \n",
            "isatupmok asayaker edotem\n"
          ]
        }
      ]
    },
    {
      "cell_type": "markdown",
      "source": [
        "# Latihan 2\n",
        "Buatlah fungsi yang mensimulasikan pelemparan dua buah dadu. Jalankan program untuk melempar dadu berulang kali (dengan pengulangan yang banyak) dan tulislah fraksi dari pelemparan yang menghasilkan jumlah dari setiap kombinasi yang mungkin terjadi, 2 - 12.\n",
        "\n",
        "Improvement:\n",
        "1. Buat dataframe\n",
        "* kolom adalah jumlah mata dadu\n",
        "* baris pertama hingga 7 adalah komputasi dengan pengulangan\n",
        "baris"
      ],
      "metadata": {
        "id": "1G7bfdByxU0K"
      }
    },
    {
      "cell_type": "code",
      "source": [
        "# pengulangan=int(input())\n",
        "pengulangan=10000000000\n",
        "prob={}\n",
        "for i in range(2,13):\n",
        "  prob[str(i)]=0\n",
        "for i in range(pengulangan):\n",
        "  d1=random.randint(1,6)\n",
        "  d2=random.randint(1,6)\n",
        "  d12=d1+d2\n",
        "  prob[str(d12)]+= 1\n",
        "for i in range(2,13):\n",
        "  prob[str(i)]=prob[str(i)]/pengulangan"
      ],
      "metadata": {
        "colab": {
          "base_uri": "https://localhost:8080/",
          "height": 344
        },
        "id": "fr7jW9GngFE1",
        "outputId": "d5119e15-916f-4841-d0eb-f91905e3123c"
      },
      "execution_count": 100,
      "outputs": [
        {
          "output_type": "error",
          "ename": "KeyboardInterrupt",
          "evalue": "",
          "traceback": [
            "\u001b[0;31m---------------------------------------------------------------------------\u001b[0m",
            "\u001b[0;31mKeyboardInterrupt\u001b[0m                         Traceback (most recent call last)",
            "\u001b[0;32m<ipython-input-100-896ce0abda28>\u001b[0m in \u001b[0;36m<cell line: 6>\u001b[0;34m()\u001b[0m\n\u001b[1;32m      5\u001b[0m   \u001b[0mprob\u001b[0m\u001b[0;34m[\u001b[0m\u001b[0mstr\u001b[0m\u001b[0;34m(\u001b[0m\u001b[0mi\u001b[0m\u001b[0;34m)\u001b[0m\u001b[0;34m]\u001b[0m\u001b[0;34m=\u001b[0m\u001b[0;36m0\u001b[0m\u001b[0;34m\u001b[0m\u001b[0;34m\u001b[0m\u001b[0m\n\u001b[1;32m      6\u001b[0m \u001b[0;32mfor\u001b[0m \u001b[0mi\u001b[0m \u001b[0;32min\u001b[0m \u001b[0mrange\u001b[0m\u001b[0;34m(\u001b[0m\u001b[0mpengulangan\u001b[0m\u001b[0;34m)\u001b[0m\u001b[0;34m:\u001b[0m\u001b[0;34m\u001b[0m\u001b[0;34m\u001b[0m\u001b[0m\n\u001b[0;32m----> 7\u001b[0;31m   \u001b[0md1\u001b[0m\u001b[0;34m=\u001b[0m\u001b[0mrandom\u001b[0m\u001b[0;34m.\u001b[0m\u001b[0mrandint\u001b[0m\u001b[0;34m(\u001b[0m\u001b[0;36m1\u001b[0m\u001b[0;34m,\u001b[0m\u001b[0;36m6\u001b[0m\u001b[0;34m)\u001b[0m\u001b[0;34m\u001b[0m\u001b[0;34m\u001b[0m\u001b[0m\n\u001b[0m\u001b[1;32m      8\u001b[0m   \u001b[0md2\u001b[0m\u001b[0;34m=\u001b[0m\u001b[0mrandom\u001b[0m\u001b[0;34m.\u001b[0m\u001b[0mrandint\u001b[0m\u001b[0;34m(\u001b[0m\u001b[0;36m1\u001b[0m\u001b[0;34m,\u001b[0m\u001b[0;36m6\u001b[0m\u001b[0;34m)\u001b[0m\u001b[0;34m\u001b[0m\u001b[0;34m\u001b[0m\u001b[0m\n\u001b[1;32m      9\u001b[0m   \u001b[0md12\u001b[0m\u001b[0;34m=\u001b[0m\u001b[0md1\u001b[0m\u001b[0;34m+\u001b[0m\u001b[0md2\u001b[0m\u001b[0;34m\u001b[0m\u001b[0;34m\u001b[0m\u001b[0m\n",
            "\u001b[0;32m/usr/lib/python3.10/random.py\u001b[0m in \u001b[0;36mrandint\u001b[0;34m(self, a, b)\u001b[0m\n\u001b[1;32m    364\u001b[0m         \u001b[0;32mreturn\u001b[0m \u001b[0mistart\u001b[0m \u001b[0;34m+\u001b[0m \u001b[0mistep\u001b[0m \u001b[0;34m*\u001b[0m \u001b[0mself\u001b[0m\u001b[0;34m.\u001b[0m\u001b[0m_randbelow\u001b[0m\u001b[0;34m(\u001b[0m\u001b[0mn\u001b[0m\u001b[0;34m)\u001b[0m\u001b[0;34m\u001b[0m\u001b[0;34m\u001b[0m\u001b[0m\n\u001b[1;32m    365\u001b[0m \u001b[0;34m\u001b[0m\u001b[0m\n\u001b[0;32m--> 366\u001b[0;31m     \u001b[0;32mdef\u001b[0m \u001b[0mrandint\u001b[0m\u001b[0;34m(\u001b[0m\u001b[0mself\u001b[0m\u001b[0;34m,\u001b[0m \u001b[0ma\u001b[0m\u001b[0;34m,\u001b[0m \u001b[0mb\u001b[0m\u001b[0;34m)\u001b[0m\u001b[0;34m:\u001b[0m\u001b[0;34m\u001b[0m\u001b[0;34m\u001b[0m\u001b[0m\n\u001b[0m\u001b[1;32m    367\u001b[0m         \"\"\"Return random integer in range [a, b], including both end points.\n\u001b[1;32m    368\u001b[0m         \"\"\"\n",
            "\u001b[0;31mKeyboardInterrupt\u001b[0m: "
          ]
        }
      ]
    },
    {
      "cell_type": "code",
      "source": [
        "prob"
      ],
      "metadata": {
        "colab": {
          "base_uri": "https://localhost:8080/"
        },
        "id": "f2ak5VUShfOc",
        "outputId": "2e4ab6a7-616e-498d-d7ea-9fcf4a110102"
      },
      "execution_count": 98,
      "outputs": [
        {
          "output_type": "execute_result",
          "data": {
            "text/plain": [
              "{'2': 0.02715,\n",
              " '3': 0.05461,\n",
              " '4': 0.08446,\n",
              " '5': 0.11069,\n",
              " '6': 0.13704,\n",
              " '7': 0.16785,\n",
              " '8': 0.1393,\n",
              " '9': 0.11174,\n",
              " '10': 0.08364,\n",
              " '11': 0.05503,\n",
              " '12': 0.02849}"
            ]
          },
          "metadata": {},
          "execution_count": 98
        }
      ]
    },
    {
      "cell_type": "code",
      "source": [
        "print(6/36)"
      ],
      "metadata": {
        "colab": {
          "base_uri": "https://localhost:8080/"
        },
        "id": "RgUzOn_IrIrq",
        "outputId": "3b4a2959-25c8-465c-f911-a722e03dc797"
      },
      "execution_count": 102,
      "outputs": [
        {
          "output_type": "stream",
          "name": "stdout",
          "text": [
            "0.16666666666666666\n"
          ]
        }
      ]
    },
    {
      "cell_type": "markdown",
      "source": [
        "# Latihan 3\n",
        "Mintalah pengguna untuk memasukkan ukuran matriks, N. Cetaklah matriks acak berukuran N x N, kemudian cetak pula vektor yang berisi jumlahan dari masing-masing kolom."
      ],
      "metadata": {
        "id": "dqxPquM8xa5m"
      }
    },
    {
      "cell_type": "code",
      "source": [
        "N=int(input())\n",
        "mat=np.random.uniform(low= -10, high= 10, size=(N,N))\n",
        "print(\"Matrik awal adalah \\n{}\".format(mat))\n",
        "mat_sum_col=mat.sum(axis=0)\n",
        "print(\"Penjumlahan kolom matriks menghasilkan matriks berikut \\n{}\".format(mat_sum_col))"
      ],
      "metadata": {
        "colab": {
          "base_uri": "https://localhost:8080/"
        },
        "id": "2qTXeFg0jSdP",
        "outputId": "c8e32749-d164-492d-ac84-cbb73870f3ae"
      },
      "execution_count": 86,
      "outputs": [
        {
          "output_type": "stream",
          "name": "stdout",
          "text": [
            "[[ 1.82456592 -4.78328392  8.80693525  9.45232579]\n",
            " [-8.82737724 -3.908188   -7.77906182 -7.05242082]\n",
            " [ 8.76361484  5.33265348 -1.10537719  9.10780048]\n",
            " [ 1.01683907 -2.34081724  6.10145251  0.4637892 ]]\n",
            "[ 2.7776426  -5.69963568  6.02394875 11.97149465]\n"
          ]
        }
      ]
    },
    {
      "cell_type": "markdown",
      "source": [
        "# Latihan 4\n",
        "Buatlah dictionary yang berisi pasangan kunci:nilai, dengan key berisi nama partikel subatom yang umum (yaitu proton, neutron dan elektro) dan nilai berupa massa partikel dalam kilogram."
      ],
      "metadata": {
        "id": "4YhG3XhwxpmJ"
      }
    },
    {
      "cell_type": "code",
      "source": [
        "psa = {} #inisiasi dictionary\n",
        "#isi setiap key dengan value\n",
        "psa['proton']=1.67262192e-27\n",
        "psa['neutron']=1.67492749804e-27\n",
        "psa['elektron']=9.1093837e-31"
      ],
      "metadata": {
        "id": "Nes_oDT2xOE5"
      },
      "execution_count": 89,
      "outputs": []
    }
  ]
}