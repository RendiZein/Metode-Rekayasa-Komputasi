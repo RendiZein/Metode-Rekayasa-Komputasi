{
  "nbformat": 4,
  "nbformat_minor": 0,
  "metadata": {
    "colab": {
      "provenance": [],
      "authorship_tag": "ABX9TyPR9auRYz13L/1jQyhT8lQ8",
      "include_colab_link": true
    },
    "kernelspec": {
      "name": "python3",
      "display_name": "Python 3"
    },
    "language_info": {
      "name": "python"
    }
  },
  "cells": [
    {
      "cell_type": "markdown",
      "metadata": {
        "id": "view-in-github",
        "colab_type": "text"
      },
      "source": [
        "<a href=\"https://colab.research.google.com/github/RendiZein/Metode-Rekayasa-Komputasi/blob/main/Least_Square_Method.ipynb\" target=\"_parent\"><img src=\"https://colab.research.google.com/assets/colab-badge.svg\" alt=\"Open In Colab\"/></a>"
      ]
    },
    {
      "cell_type": "code",
      "source": [
        "import numpy as np"
      ],
      "metadata": {
        "id": "N55VgidogXXk"
      },
      "execution_count": 1,
      "outputs": []
    },
    {
      "cell_type": "markdown",
      "source": [
        "# Nomor 16"
      ],
      "metadata": {
        "id": "wVTIC3ywgMCD"
      }
    },
    {
      "cell_type": "code",
      "execution_count": 3,
      "metadata": {
        "colab": {
          "base_uri": "https://localhost:8080/"
        },
        "id": "Q5IGor9hYEk6",
        "outputId": "5eacd056-427d-42d0-8bd9-5bfefbdce524"
      },
      "outputs": [
        {
          "output_type": "stream",
          "name": "stdout",
          "text": [
            "12 12\n"
          ]
        }
      ],
      "source": [
        "x = np.linspace(1,12,12)\n",
        "y = [12,10,14,20,17,26,24,19,36,27,40,32]\n",
        "print(len(x), len(y))"
      ]
    },
    {
      "cell_type": "markdown",
      "source": [
        "# Nomor 17"
      ],
      "metadata": {
        "id": "l80oJ44hgOoi"
      }
    },
    {
      "cell_type": "code",
      "source": [
        "x = np.linspace(0,220,12)\n",
        "y = [12,10,14,20,17,26,24,19,36,27,40,32]\n",
        "print(len(x), len(y))"
      ],
      "metadata": {
        "colab": {
          "base_uri": "https://localhost:8080/"
        },
        "id": "NeDSohSigPme",
        "outputId": "48660f35-8838-4f6d-bee5-2f1f78a275c3"
      },
      "execution_count": 7,
      "outputs": [
        {
          "output_type": "stream",
          "name": "stdout",
          "text": [
            "12 12\n"
          ]
        }
      ]
    },
    {
      "cell_type": "markdown",
      "source": [
        "# Nomor 18"
      ],
      "metadata": {
        "id": "Mxn0hTungQCO"
      }
    },
    {
      "cell_type": "code",
      "source": [
        "x = np.linspace(0,22,12)\n",
        "y = [1067,1068,1010,967,921,923,880,874,866,869,850,845]\n",
        "print(len(x), len(y))"
      ],
      "metadata": {
        "colab": {
          "base_uri": "https://localhost:8080/"
        },
        "id": "qkcfH1FegRRH",
        "outputId": "94b88a2d-7c18-4026-9936-e8a8f6647ae7"
      },
      "execution_count": 5,
      "outputs": [
        {
          "output_type": "stream",
          "name": "stdout",
          "text": [
            "12 12\n"
          ]
        }
      ]
    },
    {
      "cell_type": "markdown",
      "source": [
        "# Nomor 19"
      ],
      "metadata": {
        "id": "xnIXNXe2gSC6"
      }
    },
    {
      "cell_type": "code",
      "source": [
        "x = np.linspace(2,24,12)\n",
        "y = [200,102,76,60,53,42,36,33,30,29,25,22]\n",
        "print(len(x), len(y))"
      ],
      "metadata": {
        "colab": {
          "base_uri": "https://localhost:8080/"
        },
        "id": "81suWFDKgTBw",
        "outputId": "a93ce0a0-9a94-4b1b-fec1-e341a4ce89aa"
      },
      "execution_count": 6,
      "outputs": [
        {
          "output_type": "stream",
          "name": "stdout",
          "text": [
            "12 12\n"
          ]
        }
      ]
    }
  ]
}