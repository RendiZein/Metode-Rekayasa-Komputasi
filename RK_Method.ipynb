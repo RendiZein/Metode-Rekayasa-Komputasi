{
  "nbformat": 4,
  "nbformat_minor": 0,
  "metadata": {
    "colab": {
      "provenance": [],
      "authorship_tag": "ABX9TyOZovKCrt5q3GnkyB3oDnjl",
      "include_colab_link": true
    },
    "kernelspec": {
      "name": "python3",
      "display_name": "Python 3"
    },
    "language_info": {
      "name": "python"
    }
  },
  "cells": [
    {
      "cell_type": "markdown",
      "metadata": {
        "id": "view-in-github",
        "colab_type": "text"
      },
      "source": [
        "<a href=\"https://colab.research.google.com/github/RendiZein/Metode-Rekayasa-Komputasi/blob/main/RK_Method.ipynb\" target=\"_parent\"><img src=\"https://colab.research.google.com/assets/colab-badge.svg\" alt=\"Open In Colab\"/></a>"
      ]
    },
    {
      "cell_type": "markdown",
      "source": [
        "# Import necesarry library"
      ],
      "metadata": {
        "id": "dqZK1juywQyx"
      }
    },
    {
      "cell_type": "code",
      "source": [
        "import numpy as np\n",
        "import matplotlib.pyplot as plt\n",
        "import pandas as pd\n",
        "import time\n",
        "from datetime import timedelta"
      ],
      "metadata": {
        "id": "O_pfM81SwP9m"
      },
      "execution_count": 2,
      "outputs": []
    },
    {
      "cell_type": "markdown",
      "source": [
        "# Main code"
      ],
      "metadata": {
        "id": "Ty_hLtMtwc1x"
      }
    },
    {
      "cell_type": "markdown",
      "source": [
        "Improvement :"
      ],
      "metadata": {
        "id": "QmwAqFJtwgbj"
      }
    },
    {
      "cell_type": "markdown",
      "source": [
        "## Nomor 7"
      ],
      "metadata": {
        "id": "H2UCe5bswl5T"
      }
    },
    {
      "cell_type": "code",
      "source": [
        "#defined variable\n",
        "dt=0.02 #delta time\n",
        "f=lambda t,y : 2-y #defined function for first derrivative f(t,y)\n",
        "f_t=lambda t :2+3*np.exp(-t) #defined function for function f(t,y)\n",
        "H = int((1-0)/dt)  # defined variable for how much step\n",
        "t=np.linspace(0, 1, H+1) #defined variable for time\n",
        "k1=k2=y_t=y_p=e=np.zeros(len(t))\n",
        "y_p[0]=y_t[0]=5\n",
        "k1[0]=k2[0]=0\n",
        "e[0]=(np.abs(y_p[0]-y_t[0])/y_t[0])*100\n",
        "#looping\n",
        "for j in range(len(t)-1):\n",
        "    #calculate y_true\n",
        "    y_t[j+1]=f_t(t[j+1])\n",
        "    #calculate y_pred\n",
        "    k1[j+1]=#calculate k1\n",
        "    #calculate k2\n",
        "    #calculate y_pred\n",
        "    y_p[j+1]=\n",
        "    #calculate error\n",
        "    e[j+1]=(np.abs(y_p[j+1]-y_t[j+1])/y_t[j+1])*100\n",
        "df = pd.DataFrame(list(zip(t, y_p, y_t, e)),\n",
        "              columns =['t','y pred', 'y true', 'error(%)'])\n",
        "display(df)\n",
        "plt.plot(t, y_p, 'bo--', label='Euler Method')\n",
        "plt.plot(t, y_t, 'g', label='Analytical')\n",
        "plt.title('Comparison For Euler Method and Analytical')\n",
        "plt.xlabel('t')\n",
        "plt.ylabel('f(t)')\n",
        "plt.grid()\n",
        "plt.legend(loc='lower right')\n",
        "plt.show()\n"
      ],
      "metadata": {
        "id": "Rkco9w_FULIU"
      },
      "execution_count": null,
      "outputs": []
    },
    {
      "cell_type": "code",
      "source": [
        "delta_t=0.02\n",
        "H = int((1-0)/delta_t)  # defined variable for how much step\n",
        "t=np.linspace(0, 1, H+1) #defined variable for time\n",
        "y_t=y_p=e=np.zeros(len(t))"
      ],
      "metadata": {
        "id": "SLqXboB7Zfsb"
      },
      "execution_count": 5,
      "outputs": []
    },
    {
      "cell_type": "code",
      "source": [
        "e"
      ],
      "metadata": {
        "id": "hbdsSndzZ4Yl",
        "outputId": "32be333c-1aa3-4fb7-8816-cb5fe513ff58",
        "colab": {
          "base_uri": "https://localhost:8080/"
        }
      },
      "execution_count": 9,
      "outputs": [
        {
          "output_type": "execute_result",
          "data": {
            "text/plain": [
              "array([0., 0., 0., 0., 0., 0., 0., 0., 0., 0., 0., 0., 0., 0., 0., 0., 0.,\n",
              "       0., 0., 0., 0., 0., 0., 0., 0., 0., 0., 0., 0., 0., 0., 0., 0., 0.,\n",
              "       0., 0., 0., 0., 0., 0., 0., 0., 0., 0., 0., 0., 0., 0., 0., 0., 0.])"
            ]
          },
          "metadata": {},
          "execution_count": 9
        }
      ]
    },
    {
      "cell_type": "markdown",
      "source": [
        "## Nomor 8"
      ],
      "metadata": {
        "id": "TY75eLWKwr8w"
      }
    },
    {
      "cell_type": "code",
      "execution_count": null,
      "metadata": {
        "id": "l02UjTyowCMc"
      },
      "outputs": [],
      "source": []
    }
  ]
}