{
  "nbformat": 4,
  "nbformat_minor": 0,
  "metadata": {
    "colab": {
      "provenance": [],
      "authorship_tag": "ABX9TyNARKo7++K8LX9rkQw5kGSt",
      "include_colab_link": true
    },
    "kernelspec": {
      "name": "python3",
      "display_name": "Python 3"
    },
    "language_info": {
      "name": "python"
    }
  },
  "cells": [
    {
      "cell_type": "markdown",
      "metadata": {
        "id": "view-in-github",
        "colab_type": "text"
      },
      "source": [
        "<a href=\"https://colab.research.google.com/github/RendiZein/Metode-Rekayasa-Komputasi/blob/main/RK_Method.ipynb\" target=\"_parent\"><img src=\"https://colab.research.google.com/assets/colab-badge.svg\" alt=\"Open In Colab\"/></a>"
      ]
    },
    {
      "cell_type": "markdown",
      "source": [
        "# Import necesarry library"
      ],
      "metadata": {
        "id": "dqZK1juywQyx"
      }
    },
    {
      "cell_type": "code",
      "source": [
        "import numpy as np\n",
        "import matplotlib.pyplot as plt\n",
        "import pandas as pd\n",
        "import time\n",
        "from datetime import timedelta"
      ],
      "metadata": {
        "id": "O_pfM81SwP9m"
      },
      "execution_count": 1,
      "outputs": []
    },
    {
      "cell_type": "markdown",
      "source": [
        "# Main code"
      ],
      "metadata": {
        "id": "Ty_hLtMtwc1x"
      }
    },
    {
      "cell_type": "markdown",
      "source": [
        "Improvement :"
      ],
      "metadata": {
        "id": "QmwAqFJtwgbj"
      }
    },
    {
      "cell_type": "markdown",
      "source": [
        "## Nomor 7"
      ],
      "metadata": {
        "id": "H2UCe5bswl5T"
      }
    },
    {
      "cell_type": "markdown",
      "source": [
        "##"
      ],
      "metadata": {
        "id": "TY75eLWKwr8w"
      }
    },
    {
      "cell_type": "code",
      "execution_count": null,
      "metadata": {
        "id": "l02UjTyowCMc"
      },
      "outputs": [],
      "source": []
    }
  ]
}