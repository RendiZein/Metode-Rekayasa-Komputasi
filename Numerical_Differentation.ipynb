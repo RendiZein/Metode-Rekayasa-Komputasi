{
  "nbformat": 4,
  "nbformat_minor": 0,
  "metadata": {
    "colab": {
      "provenance": [],
      "authorship_tag": "ABX9TyMsaalIB+VikBhAi80mqogN",
      "include_colab_link": true
    },
    "kernelspec": {
      "name": "python3",
      "display_name": "Python 3"
    },
    "language_info": {
      "name": "python"
    }
  },
  "cells": [
    {
      "cell_type": "markdown",
      "metadata": {
        "id": "view-in-github",
        "colab_type": "text"
      },
      "source": [
        "<a href=\"https://colab.research.google.com/github/RendiZein/Metode-Rekayasa-Komputasi/blob/main/Numerical_Differentation.ipynb\" target=\"_parent\"><img src=\"https://colab.research.google.com/assets/colab-badge.svg\" alt=\"Open In Colab\"/></a>"
      ]
    },
    {
      "cell_type": "code",
      "source": [
        "!pip install scipy.simpson"
      ],
      "metadata": {
        "colab": {
          "base_uri": "https://localhost:8080/"
        },
        "id": "QpTiN0m8OO-X",
        "outputId": "0615cb98-a9db-44ac-81cc-a448acb6e9c1"
      },
      "execution_count": null,
      "outputs": [
        {
          "output_type": "stream",
          "name": "stdout",
          "text": [
            "\u001b[31mERROR: Could not find a version that satisfies the requirement scipy.simpson (from versions: none)\u001b[0m\u001b[31m\n",
            "\u001b[0m\u001b[31mERROR: No matching distribution found for scipy.simpson\u001b[0m\u001b[31m\n",
            "\u001b[0m"
          ]
        }
      ]
    },
    {
      "cell_type": "code",
      "source": [
        "import numpy as np\n",
        "from scipy import integrate\n",
        "import scipy"
      ],
      "metadata": {
        "id": "yUUQziDOBb79"
      },
      "execution_count": 3,
      "outputs": []
    },
    {
      "cell_type": "markdown",
      "source": [
        "# Nomor 13"
      ],
      "metadata": {
        "id": "uQiKeVIh-AH6"
      }
    },
    {
      "cell_type": "code",
      "execution_count": null,
      "metadata": {
        "id": "40E9lzgs9OCL"
      },
      "outputs": [],
      "source": [
        "times=[0,10,20,30,40,50,60,70,80,90,100]\n",
        "temps=[301,323,334,340,350,349,365,376,380,394,401]"
      ]
    },
    {
      "cell_type": "markdown",
      "source": [
        "## Bagian A (pendekatan diferensi maju)"
      ],
      "metadata": {
        "id": "E9TteQlr-EtV"
      }
    },
    {
      "cell_type": "code",
      "source": [
        "dydt_forward=[(temps[j+1]-temps[j])/(times[j+1]-times[j]) for j in range(1,len(times)-1)]\n",
        "print(dydt_forward)\n",
        "print(np.mean(dydt_forward))"
      ],
      "metadata": {
        "colab": {
          "base_uri": "https://localhost:8080/"
        },
        "id": "sizeEo5Y-EKz",
        "outputId": "9569e99d-233f-4af3-d35c-0b2298517160"
      },
      "execution_count": null,
      "outputs": [
        {
          "output_type": "stream",
          "name": "stdout",
          "text": [
            "[1.1, 0.6, 1.0, -0.1, 1.6, 1.1, 0.4, 1.4, 0.7]\n",
            "0.8666666666666667\n"
          ]
        }
      ]
    },
    {
      "cell_type": "markdown",
      "source": [
        "## Bagian B (pendekatan diferensi mundur)"
      ],
      "metadata": {
        "id": "7esORjyE-MNE"
      }
    },
    {
      "cell_type": "code",
      "source": [
        "dydt_backward=[(temps[j]-temps[j-1])/(times[j]-times[j-1]) for j in range(1,len(times)-1)]\n",
        "print(dydt_backward)\n",
        "print(np.mean(dydt_backward))"
      ],
      "metadata": {
        "colab": {
          "base_uri": "https://localhost:8080/"
        },
        "id": "kNG3FOJaBo_q",
        "outputId": "98dcdeeb-608b-4a7a-b77f-b8f13e15faa1"
      },
      "execution_count": null,
      "outputs": [
        {
          "output_type": "stream",
          "name": "stdout",
          "text": [
            "[2.2, 1.1, 0.6, 1.0, -0.1, 1.6, 1.1, 0.4, 1.4]\n",
            "1.0333333333333334\n"
          ]
        }
      ]
    },
    {
      "cell_type": "code",
      "source": [],
      "metadata": {
        "id": "tjTPHVYRBqFj"
      },
      "execution_count": null,
      "outputs": []
    },
    {
      "cell_type": "markdown",
      "source": [
        "## Bagian C (pendekatan diferensi sentral)"
      ],
      "metadata": {
        "id": "IT9Z0JGl-Q5q"
      }
    },
    {
      "cell_type": "code",
      "source": [
        "dydt_sentral=[(temps[j+1]-temps[j-1])/(2*(times[j+1]-times[j-1])) for j in range(1,len(times)-1)]\n",
        "print(dydt_sentral)\n",
        "print(np.mean(dydt_sentral))"
      ],
      "metadata": {
        "colab": {
          "base_uri": "https://localhost:8080/"
        },
        "id": "FC684ZWwCUTM",
        "outputId": "88ab66c0-e113-4c5f-bdd4-b55d49146f19"
      },
      "execution_count": null,
      "outputs": [
        {
          "output_type": "stream",
          "name": "stdout",
          "text": [
            "[0.825, 0.425, 0.4, 0.225, 0.375, 0.675, 0.375, 0.45, 0.525]\n",
            "0.47500000000000003\n"
          ]
        }
      ]
    },
    {
      "cell_type": "markdown",
      "source": [
        "## Bagian D (berapa perubahan dari perubahan suhu )"
      ],
      "metadata": {
        "id": "qPUU5JT5-YJM"
      }
    },
    {
      "cell_type": "code",
      "source": [
        "dydt_power2=[(temps[j+1]-2*temps[j]+temps[j-1])/((times[j+1]-times[j-1])**2) for j in range(1,len(times)-1)]\n",
        "print(dydt_power2)\n",
        "print(np.mean(dydt_power2))"
      ],
      "metadata": {
        "colab": {
          "base_uri": "https://localhost:8080/"
        },
        "id": "FrspSYFY-PTd",
        "outputId": "3e17735a-5612-4781-8dfb-05bebbe7d627"
      },
      "execution_count": null,
      "outputs": [
        {
          "output_type": "stream",
          "name": "stdout",
          "text": [
            "[-0.0275, -0.0125, 0.01, -0.0275, 0.0425, -0.0125, -0.0175, 0.025, -0.0175]\n",
            "-0.004166666666666667\n"
          ]
        }
      ]
    },
    {
      "cell_type": "markdown",
      "source": [
        "# Nomor 14"
      ],
      "metadata": {
        "id": "0NlNmiWCsr6-"
      }
    },
    {
      "cell_type": "markdown",
      "source": [
        "## Bagian A"
      ],
      "metadata": {
        "id": "-CrCOmoJCbxn"
      }
    },
    {
      "cell_type": "code",
      "source": [
        "f_int=lambda x: (-3*np.exp(-2*x)*np.cos(3*x)-2*np.exp(-2*x)*np.sin(3*x))/13\n",
        "analtyic=f_int(5)-f_int(0)\n",
        "print(analtyic)"
      ],
      "metadata": {
        "colab": {
          "base_uri": "https://localhost:8080/"
        },
        "id": "QWCqBvzwCaY2",
        "outputId": "af42159f-39f4-4d0b-e556-2b91a77d3272"
      },
      "execution_count": null,
      "outputs": [
        {
          "output_type": "stream",
          "name": "stdout",
          "text": [
            "0.23077264794531682\n"
          ]
        }
      ]
    },
    {
      "cell_type": "markdown",
      "source": [
        "## Bagian B\n",
        "\n"
      ],
      "metadata": {
        "id": "JoUxi8_z0Gdc"
      }
    },
    {
      "cell_type": "code",
      "source": [
        "n_mesh=50\n",
        "f=lambda x: np.exp(-2*x)*np.sin(3*x)\n",
        "mesh=np.linspace(0,5,n_mesh)\n",
        "dt=(5-0)/50"
      ],
      "metadata": {
        "id": "F4Z1CW-kstzX"
      },
      "execution_count": null,
      "outputs": []
    },
    {
      "cell_type": "code",
      "source": [
        "left = [f(i) for i in mesh[:-1]]\n",
        "left = np.sum(left)*dt\n",
        "print(left)"
      ],
      "metadata": {
        "id": "beLsftgSzOcx",
        "colab": {
          "base_uri": "https://localhost:8080/"
        },
        "outputId": "be3b5a17-0ba4-4c3c-cdcb-7be3c361d98c"
      },
      "execution_count": null,
      "outputs": [
        {
          "output_type": "stream",
          "name": "stdout",
          "text": [
            "0.2236059100656026\n"
          ]
        }
      ]
    },
    {
      "cell_type": "markdown",
      "source": [
        "## Bagian C"
      ],
      "metadata": {
        "id": "GyGUmMKzDZxO"
      }
    },
    {
      "cell_type": "code",
      "source": [
        "right = [f(i) for i in mesh[1:]]\n",
        "right=np.sum(right)*dt\n",
        "print(right)"
      ],
      "metadata": {
        "id": "Un0ZNnZr0iwy",
        "colab": {
          "base_uri": "https://localhost:8080/"
        },
        "outputId": "7639c1f9-a2a9-4920-e06a-c1b0623b99f6"
      },
      "execution_count": null,
      "outputs": [
        {
          "output_type": "stream",
          "name": "stdout",
          "text": [
            "0.22360886236782945\n"
          ]
        }
      ]
    },
    {
      "cell_type": "markdown",
      "source": [
        "## Bagian D"
      ],
      "metadata": {
        "id": "QYOnR-ClDeDU"
      }
    },
    {
      "cell_type": "code",
      "source": [
        "center = [f(i+0.05) for i in mesh[:-1]]\n",
        "center=np.sum(center)*dt\n",
        "print(center)"
      ],
      "metadata": {
        "id": "TGUxWcY34DBu",
        "colab": {
          "base_uri": "https://localhost:8080/"
        },
        "outputId": "5dc76895-9f4b-41d5-f982-460d15cdd8b3"
      },
      "execution_count": null,
      "outputs": [
        {
          "output_type": "stream",
          "name": "stdout",
          "text": [
            "0.22743525291494893\n"
          ]
        }
      ]
    },
    {
      "cell_type": "markdown",
      "source": [
        "## Bagian E\n",
        "Improvement :\n",
        "1. Pelajari uniform dan non uniform\n",
        "2. Mengapa perhitungan library dan manual berbeda ?"
      ],
      "metadata": {
        "id": "9fRWupubDhh-"
      }
    },
    {
      "cell_type": "code",
      "source": [
        "x = np.linspace(0, 5, num=50)\n",
        "dt=(5-0)/50\n",
        "trap_a=integrate.trapezoid(f(x), x,dt)\n",
        "print(trap_a)"
      ],
      "metadata": {
        "id": "szKu3WUk2Z5I",
        "colab": {
          "base_uri": "https://localhost:8080/"
        },
        "outputId": "ff7e620a-852c-4914-c542-65b8d1fff618"
      },
      "execution_count": null,
      "outputs": [
        {
          "output_type": "stream",
          "name": "stdout",
          "text": [
            "0.22817080226195516\n"
          ]
        }
      ]
    },
    {
      "cell_type": "code",
      "source": [
        "print(len(x))"
      ],
      "metadata": {
        "colab": {
          "base_uri": "https://localhost:8080/"
        },
        "id": "tkhhq82lEUDp",
        "outputId": "f0a4188f-7bd9-44d0-8ae9-5a757b1a4bc2"
      },
      "execution_count": null,
      "outputs": [
        {
          "output_type": "stream",
          "name": "stdout",
          "text": [
            "50\n"
          ]
        }
      ]
    },
    {
      "cell_type": "code",
      "source": [
        "trap_b=dt*(np.sum([f(j) for j in x[1:-1]])+(f(x[-1])+f(x[0]))/2)\n",
        "print(trap_b)"
      ],
      "metadata": {
        "colab": {
          "base_uri": "https://localhost:8080/"
        },
        "id": "xkoFpXcEEVoQ",
        "outputId": "7a7fdb82-7113-4e28-8259-df57f7bd148c"
      },
      "execution_count": null,
      "outputs": [
        {
          "output_type": "stream",
          "name": "stdout",
          "text": [
            "0.22360738621671603\n"
          ]
        }
      ]
    },
    {
      "cell_type": "code",
      "source": [
        "trap_nu_wk=np.sum([((f(x[j])+f(x[j+1]))/2)*dt for j,_ in enumerate(x[1:])])\n",
        "print(trap_nu_wk)"
      ],
      "metadata": {
        "colab": {
          "base_uri": "https://localhost:8080/"
        },
        "id": "29ZcTtJEGp-g",
        "outputId": "2908f1ac-1a63-4802-f73d-f0222621e752"
      },
      "execution_count": null,
      "outputs": [
        {
          "output_type": "stream",
          "name": "stdout",
          "text": [
            "0.22360738621671605\n"
          ]
        }
      ]
    },
    {
      "cell_type": "markdown",
      "source": [
        "## Bagian F"
      ],
      "metadata": {
        "id": "Aj2yODGSMg8Z"
      }
    },
    {
      "cell_type": "code",
      "source": [
        "h=(5-0)/2\n",
        "simps=(h/3)*(f(0)+(4*f(5/2))+f(5))\n",
        "print(simps)\n",
        "print(5/6,f(0),f(2.5),f(5))"
      ],
      "metadata": {
        "colab": {
          "base_uri": "https://localhost:8080/"
        },
        "id": "te6Hh1fiH_HL",
        "outputId": "3f7e80fb-6aca-4603-9721-7b27a227549e"
      },
      "execution_count": null,
      "outputs": [
        {
          "output_type": "stream",
          "name": "stdout",
          "text": [
            "0.021091916280729074\n",
            "0.8333333333333334 0.0 0.00632019412865159 2.9523022268531083e-05\n"
          ]
        }
      ]
    },
    {
      "cell_type": "code",
      "source": [
        "x = np.linspace(0, 5, num=50)\n",
        "dt=(5-0)/50\n",
        "y=np.exp(-2*x)*np.sin(3*x)\n",
        "simpson_a=scipy.integrate.simpson(f(x), x,dt)\n",
        "print(simpson_a)"
      ],
      "metadata": {
        "colab": {
          "base_uri": "https://localhost:8080/"
        },
        "id": "rK1jZITDNpeq",
        "outputId": "a3c5e01d-5248-44b3-878e-2548fa5a1946"
      },
      "execution_count": null,
      "outputs": [
        {
          "output_type": "stream",
          "name": "stdout",
          "text": [
            "0.23076678705482526\n"
          ]
        }
      ]
    },
    {
      "cell_type": "code",
      "source": [
        "simpson_a=scipy.integrate.simpson(y, x,dt)\n",
        "print(simpson_a)"
      ],
      "metadata": {
        "colab": {
          "base_uri": "https://localhost:8080/"
        },
        "id": "wHjxnaOqU15S",
        "outputId": "9ef775ac-3cc2-4277-8653-0ec75bb656d5"
      },
      "execution_count": null,
      "outputs": [
        {
          "output_type": "stream",
          "name": "stdout",
          "text": [
            "0.23076678705482526\n"
          ]
        }
      ]
    },
    {
      "cell_type": "code",
      "source": [
        "help(scipy.integrate.simpson)"
      ],
      "metadata": {
        "colab": {
          "base_uri": "https://localhost:8080/"
        },
        "id": "5S3wpRhLNF7u",
        "outputId": "31642954-b3c6-481f-a8f9-50c0f4043b3e"
      },
      "execution_count": null,
      "outputs": [
        {
          "output_type": "stream",
          "name": "stdout",
          "text": [
            "Help on function simpson in module scipy.integrate._quadrature:\n",
            "\n",
            "simpson(y, x=None, dx=1.0, axis=-1, even=None)\n",
            "    Integrate y(x) using samples along the given axis and the composite\n",
            "    Simpson's rule. If x is None, spacing of dx is assumed.\n",
            "    \n",
            "    If there are an even number of samples, N, then there are an odd\n",
            "    number of intervals (N-1), but Simpson's rule requires an even number\n",
            "    of intervals. The parameter 'even' controls how this is handled.\n",
            "    \n",
            "    Parameters\n",
            "    ----------\n",
            "    y : array_like\n",
            "        Array to be integrated.\n",
            "    x : array_like, optional\n",
            "        If given, the points at which `y` is sampled.\n",
            "    dx : float, optional\n",
            "        Spacing of integration points along axis of `x`. Only used when\n",
            "        `x` is None. Default is 1.\n",
            "    axis : int, optional\n",
            "        Axis along which to integrate. Default is the last axis.\n",
            "    even : {None, 'simpson', 'avg', 'first', 'last'}, optional\n",
            "        'avg' : Average two results:\n",
            "            1) use the first N-2 intervals with\n",
            "               a trapezoidal rule on the last interval and\n",
            "            2) use the last\n",
            "               N-2 intervals with a trapezoidal rule on the first interval.\n",
            "    \n",
            "        'first' : Use Simpson's rule for the first N-2 intervals with\n",
            "                a trapezoidal rule on the last interval.\n",
            "    \n",
            "        'last' : Use Simpson's rule for the last N-2 intervals with a\n",
            "               trapezoidal rule on the first interval.\n",
            "    \n",
            "        None : equivalent to 'simpson' (default)\n",
            "    \n",
            "        'simpson' : Use Simpson's rule for the first N-2 intervals with the\n",
            "                  addition of a 3-point parabolic segment for the last\n",
            "                  interval using equations outlined by Cartwright [1]_.\n",
            "                  If the axis to be integrated over only has two points then\n",
            "                  the integration falls back to a trapezoidal integration.\n",
            "    \n",
            "                  .. versionadded:: 1.11.0\n",
            "    \n",
            "        .. versionchanged:: 1.11.0\n",
            "            The newly added 'simpson' option is now the default as it is more\n",
            "            accurate in most situations.\n",
            "    \n",
            "        .. deprecated:: 1.11.0\n",
            "            Parameter `even` is deprecated and will be removed in SciPy\n",
            "            1.13.0. After this time the behaviour for an even number of\n",
            "            points will follow that of `even='simpson'`.\n",
            "    \n",
            "    Returns\n",
            "    -------\n",
            "    float\n",
            "        The estimated integral computed with the composite Simpson's rule.\n",
            "    \n",
            "    See Also\n",
            "    --------\n",
            "    quad : adaptive quadrature using QUADPACK\n",
            "    romberg : adaptive Romberg quadrature\n",
            "    quadrature : adaptive Gaussian quadrature\n",
            "    fixed_quad : fixed-order Gaussian quadrature\n",
            "    dblquad : double integrals\n",
            "    tplquad : triple integrals\n",
            "    romb : integrators for sampled data\n",
            "    cumulative_trapezoid : cumulative integration for sampled data\n",
            "    ode : ODE integrators\n",
            "    odeint : ODE integrators\n",
            "    \n",
            "    Notes\n",
            "    -----\n",
            "    For an odd number of samples that are equally spaced the result is\n",
            "    exact if the function is a polynomial of order 3 or less. If\n",
            "    the samples are not equally spaced, then the result is exact only\n",
            "    if the function is a polynomial of order 2 or less.\n",
            "    \n",
            "    References\n",
            "    ----------\n",
            "    .. [1] Cartwright, Kenneth V. Simpson's Rule Cumulative Integration with\n",
            "           MS Excel and Irregularly-spaced Data. Journal of Mathematical\n",
            "           Sciences and Mathematics Education. 12 (2): 1-9\n",
            "    \n",
            "    Examples\n",
            "    --------\n",
            "    >>> from scipy import integrate\n",
            "    >>> import numpy as np\n",
            "    >>> x = np.arange(0, 10)\n",
            "    >>> y = np.arange(0, 10)\n",
            "    \n",
            "    >>> integrate.simpson(y, x)\n",
            "    40.5\n",
            "    \n",
            "    >>> y = np.power(x, 3)\n",
            "    >>> integrate.simpson(y, x)\n",
            "    1640.5\n",
            "    >>> integrate.quad(lambda x: x**3, 0, 9)[0]\n",
            "    1640.25\n",
            "    \n",
            "    >>> integrate.simpson(y, x, even='first')\n",
            "    1644.5\n",
            "\n"
          ]
        }
      ]
    },
    {
      "cell_type": "markdown",
      "source": [
        "## Gabungan"
      ],
      "metadata": {
        "id": "dCwRF8EWRBXz"
      }
    },
    {
      "cell_type": "code",
      "source": [
        "def nomor14(f,f_int,a,b,mesh,r):\n",
        "  #analytic\n",
        "  analtyic=f_int(b)-f_int(a)\n",
        "  #left\n",
        "  dt=(b-a)/mesh\n",
        "  e=lambda v:np.abs(v-analtyic)/100\n",
        "  x=np.linspace(a,b,mesh+1)\n",
        "  left = np.sum([f(i) for i in x[:-1]])*dt\n",
        "  e_left =e(left)\n",
        "  #right\n",
        "  right=np.sum([f(i) for i in x[1:]])*dt\n",
        "  e_right=e(right)\n",
        "  # average\n",
        "  center=np.sum([f(i+dt) for i in x[:-1]])*dt\n",
        "  e_center=e(center)\n",
        "  # trapezoidal\n",
        "  trap=integrate.trapezoid(f(x), x,dt)\n",
        "  e_trap=e(trap)\n",
        "  # simpson\n",
        "  simpson=scipy.integrate.simpson(f(x), x,dt)\n",
        "  e_simpson=e(simpson)\n",
        "  print(\"The result is shown below\")\n",
        "  print(\"Analtyic: {}\\nRectangular Left Point: {}({})\".format(round(analtyic,r),round(left,r),round(e_left,r)))\n",
        "  print(\"Rectangular Right Point: {}({})\\nRectangular Averaging Point: {}({})\".format(round(right,r),round(e_right,r),round(center,r),round(e_center,r)))\n",
        "  print(\"Trapezoidal: {}({})\\nSimpson: {}({})\".format(round(trap,r),round(e_trap,r),round(simpson,r),round(e_simpson,r)))\n",
        "\n",
        "\n",
        "\n"
      ],
      "metadata": {
        "id": "I2v8I6x_OylC"
      },
      "execution_count": 4,
      "outputs": []
    },
    {
      "cell_type": "code",
      "source": [
        "f_int=lambda x: (-3*np.exp(-2*x)*np.cos(3*x)-2*np.exp(-2*x)*np.sin(3*x))/13\n",
        "f=lambda x: np.exp(-2*x)*np.sin(3*x)\n",
        "nomor14(f,f_int,0,5,50,4)"
      ],
      "metadata": {
        "colab": {
          "base_uri": "https://localhost:8080/"
        },
        "id": "juE6NErQTXAL",
        "outputId": "38037628-a465-4eea-ee8e-a4800dad0c0e"
      },
      "execution_count": 5,
      "outputs": [
        {
          "output_type": "stream",
          "name": "stdout",
          "text": [
            "The result is shown below\n",
            "Analtyic: 0.2308\n",
            "Rectangular Left Point: 0.2283(0.0)\n",
            "Rectangular Right Point: 0.2283(0.0)\n",
            "Rectangular Averaging Point: 0.2283(0.0)\n",
            "Trapezoidal: 0.2283(0.0)\n",
            "Simpson: 0.2308(0.0)\n"
          ]
        }
      ]
    },
    {
      "cell_type": "code",
      "source": [],
      "metadata": {
        "id": "fHJ79iXvY4bK"
      },
      "execution_count": null,
      "outputs": []
    }
  ]
}