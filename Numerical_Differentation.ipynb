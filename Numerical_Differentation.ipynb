{
  "nbformat": 4,
  "nbformat_minor": 0,
  "metadata": {
    "colab": {
      "provenance": [],
      "authorship_tag": "ABX9TyPKBEF5dJmZCtRE1RqYpAat",
      "include_colab_link": true
    },
    "kernelspec": {
      "name": "python3",
      "display_name": "Python 3"
    },
    "language_info": {
      "name": "python"
    }
  },
  "cells": [
    {
      "cell_type": "markdown",
      "metadata": {
        "id": "view-in-github",
        "colab_type": "text"
      },
      "source": [
        "<a href=\"https://colab.research.google.com/github/RendiZein/Metode-Rekayasa-Komputasi/blob/main/Numerical_Differentation.ipynb\" target=\"_parent\"><img src=\"https://colab.research.google.com/assets/colab-badge.svg\" alt=\"Open In Colab\"/></a>"
      ]
    },
    {
      "cell_type": "code",
      "source": [
        "import numpy as np"
      ],
      "metadata": {
        "id": "yUUQziDOBb79"
      },
      "execution_count": 2,
      "outputs": []
    },
    {
      "cell_type": "markdown",
      "source": [
        "# Nomor 13"
      ],
      "metadata": {
        "id": "uQiKeVIh-AH6"
      }
    },
    {
      "cell_type": "code",
      "execution_count": null,
      "metadata": {
        "id": "40E9lzgs9OCL"
      },
      "outputs": [],
      "source": [
        "times=[0,10,20,30,40,50,60,70,80,90,100]\n",
        "temps=[301,323,334,340,350,349,365,376,380,394,401]"
      ]
    },
    {
      "cell_type": "markdown",
      "source": [
        "## Bagian A (pendekatan diferensi maju)"
      ],
      "metadata": {
        "id": "E9TteQlr-EtV"
      }
    },
    {
      "cell_type": "code",
      "source": [
        "dydt_forward=[(temps[j+1]-temps[j])/(times[j+1]-times[j]) for j in range(1,len(times)-1)]\n",
        "print(dydt_forward)\n",
        "print(np.mean(dydt_forward))"
      ],
      "metadata": {
        "colab": {
          "base_uri": "https://localhost:8080/"
        },
        "id": "sizeEo5Y-EKz",
        "outputId": "9569e99d-233f-4af3-d35c-0b2298517160"
      },
      "execution_count": null,
      "outputs": [
        {
          "output_type": "stream",
          "name": "stdout",
          "text": [
            "[1.1, 0.6, 1.0, -0.1, 1.6, 1.1, 0.4, 1.4, 0.7]\n",
            "0.8666666666666667\n"
          ]
        }
      ]
    },
    {
      "cell_type": "markdown",
      "source": [
        "## Bagian B (pendekatan diferensi mundur)"
      ],
      "metadata": {
        "id": "7esORjyE-MNE"
      }
    },
    {
      "cell_type": "code",
      "source": [
        "dydt_backward=[(temps[j]-temps[j-1])/(times[j]-times[j-1]) for j in range(1,len(times)-1)]\n",
        "print(dydt_backward)\n",
        "print(np.mean(dydt_backward))"
      ],
      "metadata": {
        "colab": {
          "base_uri": "https://localhost:8080/"
        },
        "id": "kNG3FOJaBo_q",
        "outputId": "98dcdeeb-608b-4a7a-b77f-b8f13e15faa1"
      },
      "execution_count": null,
      "outputs": [
        {
          "output_type": "stream",
          "name": "stdout",
          "text": [
            "[2.2, 1.1, 0.6, 1.0, -0.1, 1.6, 1.1, 0.4, 1.4]\n",
            "1.0333333333333334\n"
          ]
        }
      ]
    },
    {
      "cell_type": "code",
      "source": [],
      "metadata": {
        "id": "tjTPHVYRBqFj"
      },
      "execution_count": null,
      "outputs": []
    },
    {
      "cell_type": "markdown",
      "source": [
        "## Bagian C (pendekatan diferensi sentral)"
      ],
      "metadata": {
        "id": "IT9Z0JGl-Q5q"
      }
    },
    {
      "cell_type": "code",
      "source": [
        "dydt_sentral=[(temps[j+1]-temps[j-1])/(2*(times[j+1]-times[j-1])) for j in range(1,len(times)-1)]\n",
        "print(dydt_sentral)\n",
        "print(np.mean(dydt_sentral))"
      ],
      "metadata": {
        "colab": {
          "base_uri": "https://localhost:8080/"
        },
        "id": "FC684ZWwCUTM",
        "outputId": "88ab66c0-e113-4c5f-bdd4-b55d49146f19"
      },
      "execution_count": null,
      "outputs": [
        {
          "output_type": "stream",
          "name": "stdout",
          "text": [
            "[0.825, 0.425, 0.4, 0.225, 0.375, 0.675, 0.375, 0.45, 0.525]\n",
            "0.47500000000000003\n"
          ]
        }
      ]
    },
    {
      "cell_type": "markdown",
      "source": [
        "## Bagian D (berapa perubahan dari perubahan suhu )"
      ],
      "metadata": {
        "id": "qPUU5JT5-YJM"
      }
    },
    {
      "cell_type": "code",
      "source": [
        "dydt_power2=[(temps[j+1]-2*temps[j]+temps[j-1])/((times[j+1]-times[j-1])**2) for j in range(1,len(times)-1)]\n",
        "print(dydt_power2)\n",
        "print(np.mean(dydt_power2))"
      ],
      "metadata": {
        "colab": {
          "base_uri": "https://localhost:8080/"
        },
        "id": "FrspSYFY-PTd",
        "outputId": "3e17735a-5612-4781-8dfb-05bebbe7d627"
      },
      "execution_count": null,
      "outputs": [
        {
          "output_type": "stream",
          "name": "stdout",
          "text": [
            "[-0.0275, -0.0125, 0.01, -0.0275, 0.0425, -0.0125, -0.0175, 0.025, -0.0175]\n",
            "-0.004166666666666667\n"
          ]
        }
      ]
    },
    {
      "cell_type": "markdown",
      "source": [
        "# Nomor 14"
      ],
      "metadata": {
        "id": "0NlNmiWCsr6-"
      }
    },
    {
      "cell_type": "markdown",
      "source": [
        "## Bagian B\n",
        "\n"
      ],
      "metadata": {
        "id": "JoUxi8_z0Gdc"
      }
    },
    {
      "cell_type": "code",
      "source": [],
      "metadata": {
        "id": "zAbW3sfh0Ezm"
      },
      "execution_count": null,
      "outputs": []
    },
    {
      "cell_type": "code",
      "source": [
        "n_mesh=50\n",
        "f=lambda x: np.exp(-2*x)*np.sin(3*x)\n",
        "mesh=np.linspace(0,5,n_mesh+1)\n",
        "dt=(5-0)/50\n",
        "\n"
      ],
      "metadata": {
        "colab": {
          "base_uri": "https://localhost:8080/"
        },
        "id": "F4Z1CW-kstzX",
        "outputId": "78581c61-a530-4686-ae65-516e7396ceec"
      },
      "execution_count": 14,
      "outputs": [
        {
          "output_type": "stream",
          "name": "stdout",
          "text": [
            "0.1\n"
          ]
        }
      ]
    },
    {
      "cell_type": "code",
      "source": [
        "c_mesh=[(mesh[i]+mesh[i+1])/2 for i in range(len(mesh)-1)]\n",
        "print(c_mesh)\n",
        "print(len(c_mesh))"
      ],
      "metadata": {
        "colab": {
          "base_uri": "https://localhost:8080/"
        },
        "id": "JL-Ed9tdzMLg",
        "outputId": "efa7c29b-9b47-4f15-a5e2-55ab832472c0"
      },
      "execution_count": 34,
      "outputs": [
        {
          "output_type": "stream",
          "name": "stdout",
          "text": [
            "[0.05, 0.15000000000000002, 0.25, 0.35000000000000003, 0.45, 0.55, 0.6500000000000001, 0.75, 0.8500000000000001, 0.95, 1.05, 1.1500000000000001, 1.25, 1.35, 1.4500000000000002, 1.55, 1.6500000000000001, 1.75, 1.85, 1.9500000000000002, 2.05, 2.1500000000000004, 2.25, 2.3500000000000005, 2.45, 2.55, 2.6500000000000004, 2.75, 2.8500000000000005, 2.95, 3.05, 3.1500000000000004, 3.25, 3.3500000000000005, 3.45, 3.55, 3.6500000000000004, 3.75, 3.8500000000000005, 3.95, 4.050000000000001, 4.15, 4.25, 4.35, 4.45, 4.550000000000001, 4.65, 4.75, 4.8500000000000005, 4.95]\n",
            "50\n"
          ]
        }
      ]
    },
    {
      "cell_type": "code",
      "source": [
        "left = [f(i) for i in mesh[:-1]]"
      ],
      "metadata": {
        "id": "beLsftgSzOcx"
      },
      "execution_count": 12,
      "outputs": []
    },
    {
      "cell_type": "code",
      "source": [
        "np.sum(left)*dt"
      ],
      "metadata": {
        "colab": {
          "base_uri": "https://localhost:8080/"
        },
        "id": "hL1QmNAjzrLp",
        "outputId": "acac6b4f-3696-469f-85ef-fba12249d611"
      },
      "execution_count": 15,
      "outputs": [
        {
          "output_type": "execute_result",
          "data": {
            "text/plain": [
              "0.22827230599850493"
            ]
          },
          "metadata": {},
          "execution_count": 15
        }
      ]
    },
    {
      "cell_type": "code",
      "source": [
        "right = [f(i) for i in mesh[1:]]\n",
        "imntge=np.sum(right)*dt"
      ],
      "metadata": {
        "id": "Un0ZNnZr0iwy"
      },
      "execution_count": 16,
      "outputs": []
    },
    {
      "cell_type": "code",
      "source": [
        "print(imntge)"
      ],
      "metadata": {
        "colab": {
          "base_uri": "https://localhost:8080/"
        },
        "id": "23ufM1SS1DtJ",
        "outputId": "95def41b-75fd-4cf4-e242-a932f077a380"
      },
      "execution_count": 17,
      "outputs": [
        {
          "output_type": "stream",
          "name": "stdout",
          "text": [
            "0.2282752583007318\n"
          ]
        }
      ]
    },
    {
      "cell_type": "code",
      "source": [
        "center = [f(i+0.05) for i in mesh[:-1]]\n",
        "imntge=np.sum(center)*dt"
      ],
      "metadata": {
        "id": "TGUxWcY34DBu"
      },
      "execution_count": 35,
      "outputs": []
    },
    {
      "cell_type": "code",
      "source": [
        "print(imntge)"
      ],
      "metadata": {
        "colab": {
          "base_uri": "https://localhost:8080/"
        },
        "id": "6Vy0ssR34SLs",
        "outputId": "6fbe1f5a-bb4b-4dc3-cbbe-d5a3267d88a7"
      },
      "execution_count": 36,
      "outputs": [
        {
          "output_type": "stream",
          "name": "stdout",
          "text": [
            "0.23202160287533014\n"
          ]
        }
      ]
    },
    {
      "cell_type": "code",
      "source": [
        "f_int=lambda x: (-3*np.exp(-2*x)*np.cos(3*x)-2*np.exp(-2*x)*np.sin(3*x))/13\n",
        "print(f_int(5)-f_int(0))"
      ],
      "metadata": {
        "colab": {
          "base_uri": "https://localhost:8080/"
        },
        "id": "-hY-LOvU5FaQ",
        "outputId": "195562dc-7423-4326-f019-8963e4056917"
      },
      "execution_count": 38,
      "outputs": [
        {
          "output_type": "stream",
          "name": "stdout",
          "text": [
            "0.23077264794531682\n"
          ]
        }
      ]
    },
    {
      "cell_type": "code",
      "source": [
        "an_re=(-3*np.cos(15)-2*np.sin(15)/(13*np.exp(10)))+5/13\n",
        "print(an_re)"
      ],
      "metadata": {
        "colab": {
          "base_uri": "https://localhost:8080/"
        },
        "id": "mzG7RzBG1F15",
        "outputId": "ceb73c81-26ae-42b7-8e69-c1ee584eb784"
      },
      "execution_count": 31,
      "outputs": [
        {
          "output_type": "stream",
          "name": "stdout",
          "text": [
            "2.6636745811884226\n"
          ]
        }
      ]
    },
    {
      "cell_type": "code",
      "source": [
        "np.exp(10)"
      ],
      "metadata": {
        "colab": {
          "base_uri": "https://localhost:8080/"
        },
        "id": "sPhYRMWy1vWE",
        "outputId": "749e5b49-66ae-410d-8e87-db26dce2de0d"
      },
      "execution_count": 20,
      "outputs": [
        {
          "output_type": "execute_result",
          "data": {
            "text/plain": [
              "22026.465794806718"
            ]
          },
          "metadata": {},
          "execution_count": 20
        }
      ]
    },
    {
      "cell_type": "code",
      "source": [
        "print(5/13)"
      ],
      "metadata": {
        "colab": {
          "base_uri": "https://localhost:8080/"
        },
        "id": "KfUoKQyk1xdg",
        "outputId": "c7458c94-5631-49b9-b67a-e7e83d3122e6"
      },
      "execution_count": 32,
      "outputs": [
        {
          "output_type": "stream",
          "name": "stdout",
          "text": [
            "0.38461538461538464\n"
          ]
        }
      ]
    },
    {
      "cell_type": "code",
      "source": [
        "np.cos(0)"
      ],
      "metadata": {
        "colab": {
          "base_uri": "https://localhost:8080/"
        },
        "id": "XH82JGll1_Kp",
        "outputId": "62951567-33d4-47a2-9291-0527f9854ae4"
      },
      "execution_count": 30,
      "outputs": [
        {
          "output_type": "execute_result",
          "data": {
            "text/plain": [
              "1.0"
            ]
          },
          "metadata": {},
          "execution_count": 30
        }
      ]
    },
    {
      "cell_type": "code",
      "source": [],
      "metadata": {
        "id": "szKu3WUk2Z5I"
      },
      "execution_count": null,
      "outputs": []
    }
  ]
}