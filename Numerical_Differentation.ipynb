{
  "nbformat": 4,
  "nbformat_minor": 0,
  "metadata": {
    "colab": {
      "provenance": [],
      "authorship_tag": "ABX9TyPGucqgkSnHY38iZro/HR1G",
      "include_colab_link": true
    },
    "kernelspec": {
      "name": "python3",
      "display_name": "Python 3"
    },
    "language_info": {
      "name": "python"
    }
  },
  "cells": [
    {
      "cell_type": "markdown",
      "metadata": {
        "id": "view-in-github",
        "colab_type": "text"
      },
      "source": [
        "<a href=\"https://colab.research.google.com/github/RendiZein/Metode-Rekayasa-Komputasi/blob/main/Numerical_Differentation.ipynb\" target=\"_parent\"><img src=\"https://colab.research.google.com/assets/colab-badge.svg\" alt=\"Open In Colab\"/></a>"
      ]
    },
    {
      "cell_type": "code",
      "source": [
        "import numpy as np"
      ],
      "metadata": {
        "id": "yUUQziDOBb79"
      },
      "execution_count": 14,
      "outputs": []
    },
    {
      "cell_type": "markdown",
      "source": [
        "# Nomor 13"
      ],
      "metadata": {
        "id": "uQiKeVIh-AH6"
      }
    },
    {
      "cell_type": "code",
      "execution_count": 10,
      "metadata": {
        "id": "40E9lzgs9OCL"
      },
      "outputs": [],
      "source": [
        "times=[0,10,20,30,40,50,60,70,80,90,100]\n",
        "temps=[301,323,334,340,350,349,365,376,380,394,401]"
      ]
    },
    {
      "cell_type": "markdown",
      "source": [
        "## Bagian A (pendekatan diferensi maju)"
      ],
      "metadata": {
        "id": "E9TteQlr-EtV"
      }
    },
    {
      "cell_type": "code",
      "source": [
        "dydt_forward=[(temps[j+1]-temps[j])/(times[j+1]-times[j]) for j in range(1,len(times)-1)]\n",
        "print(dydt_forward)\n",
        "print(np.mean(dydt_forward))"
      ],
      "metadata": {
        "colab": {
          "base_uri": "https://localhost:8080/"
        },
        "id": "sizeEo5Y-EKz",
        "outputId": "9569e99d-233f-4af3-d35c-0b2298517160"
      },
      "execution_count": 15,
      "outputs": [
        {
          "output_type": "stream",
          "name": "stdout",
          "text": [
            "[1.1, 0.6, 1.0, -0.1, 1.6, 1.1, 0.4, 1.4, 0.7]\n",
            "0.8666666666666667\n"
          ]
        }
      ]
    },
    {
      "cell_type": "markdown",
      "source": [
        "## Bagian B (pendekatan diferensi mundur)"
      ],
      "metadata": {
        "id": "7esORjyE-MNE"
      }
    },
    {
      "cell_type": "code",
      "source": [
        "dydt_backward=[(temps[j]-temps[j-1])/(times[j]-times[j-1]) for j in range(1,len(times)-1)]\n",
        "print(dydt_backward)\n",
        "print(np.mean(dydt_backward))"
      ],
      "metadata": {
        "colab": {
          "base_uri": "https://localhost:8080/"
        },
        "id": "kNG3FOJaBo_q",
        "outputId": "98dcdeeb-608b-4a7a-b77f-b8f13e15faa1"
      },
      "execution_count": 17,
      "outputs": [
        {
          "output_type": "stream",
          "name": "stdout",
          "text": [
            "[2.2, 1.1, 0.6, 1.0, -0.1, 1.6, 1.1, 0.4, 1.4]\n",
            "1.0333333333333334\n"
          ]
        }
      ]
    },
    {
      "cell_type": "code",
      "source": [],
      "metadata": {
        "id": "tjTPHVYRBqFj"
      },
      "execution_count": null,
      "outputs": []
    },
    {
      "cell_type": "markdown",
      "source": [
        "## Bagian C (pendekatan diferensi sentral)"
      ],
      "metadata": {
        "id": "IT9Z0JGl-Q5q"
      }
    },
    {
      "cell_type": "code",
      "source": [
        "dydt_sentral=[(temps[j+1]-temps[j-1])/(2*(times[j+1]-times[j-1])) for j in range(1,len(times)-1)]\n",
        "print(dydt_sentral)\n",
        "print(np.mean(dydt_sentral))"
      ],
      "metadata": {
        "colab": {
          "base_uri": "https://localhost:8080/"
        },
        "id": "FC684ZWwCUTM",
        "outputId": "88ab66c0-e113-4c5f-bdd4-b55d49146f19"
      },
      "execution_count": 18,
      "outputs": [
        {
          "output_type": "stream",
          "name": "stdout",
          "text": [
            "[0.825, 0.425, 0.4, 0.225, 0.375, 0.675, 0.375, 0.45, 0.525]\n",
            "0.47500000000000003\n"
          ]
        }
      ]
    },
    {
      "cell_type": "markdown",
      "source": [
        "## Bagian D (berapa perubahan dari perubahan suhu )"
      ],
      "metadata": {
        "id": "qPUU5JT5-YJM"
      }
    },
    {
      "cell_type": "code",
      "source": [
        "dydt_power2=[(temps[j+1]-2*temps[j]+temps[j-1])/((times[j+1]-times[j-1])**2) for j in range(1,len(times)-1)]\n",
        "print(dydt_power2)\n",
        "print(np.mean(dydt_power2))"
      ],
      "metadata": {
        "colab": {
          "base_uri": "https://localhost:8080/"
        },
        "id": "FrspSYFY-PTd",
        "outputId": "3e17735a-5612-4781-8dfb-05bebbe7d627"
      },
      "execution_count": 19,
      "outputs": [
        {
          "output_type": "stream",
          "name": "stdout",
          "text": [
            "[-0.0275, -0.0125, 0.01, -0.0275, 0.0425, -0.0125, -0.0175, 0.025, -0.0175]\n",
            "-0.004166666666666667\n"
          ]
        }
      ]
    }
  ]
}