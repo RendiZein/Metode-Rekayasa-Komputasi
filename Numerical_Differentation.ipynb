{
  "nbformat": 4,
  "nbformat_minor": 0,
  "metadata": {
    "colab": {
      "provenance": [],
      "toc_visible": true,
      "authorship_tag": "ABX9TyM0fVfasnoyGZ6VkkIBTsUo",
      "include_colab_link": true
    },
    "kernelspec": {
      "name": "python3",
      "display_name": "Python 3"
    },
    "language_info": {
      "name": "python"
    }
  },
  "cells": [
    {
      "cell_type": "markdown",
      "metadata": {
        "id": "view-in-github",
        "colab_type": "text"
      },
      "source": [
        "<a href=\"https://colab.research.google.com/github/RendiZein/Metode-Rekayasa-Komputasi/blob/main/Numerical_Differentation.ipynb\" target=\"_parent\"><img src=\"https://colab.research.google.com/assets/colab-badge.svg\" alt=\"Open In Colab\"/></a>"
      ]
    },
    {
      "cell_type": "code",
      "source": [
        "import numpy as np\n",
        "from scipy import integrate\n",
        "import scipy\n",
        "import pandas as pd"
      ],
      "metadata": {
        "id": "yUUQziDOBb79"
      },
      "execution_count": 1,
      "outputs": []
    },
    {
      "cell_type": "markdown",
      "source": [
        "# Nomor 13"
      ],
      "metadata": {
        "id": "uQiKeVIh-AH6"
      }
    },
    {
      "cell_type": "code",
      "execution_count": null,
      "metadata": {
        "id": "40E9lzgs9OCL"
      },
      "outputs": [],
      "source": [
        "times=[0,10,20,30,40,50,60,70,80,90,100]\n",
        "temps=[301,323,334,340,350,349,365,376,380,394,401]"
      ]
    },
    {
      "cell_type": "markdown",
      "source": [
        "## Bagian A (pendekatan diferensi maju)"
      ],
      "metadata": {
        "id": "E9TteQlr-EtV"
      }
    },
    {
      "cell_type": "code",
      "source": [
        "dydt_forward=[(temps[j+1]-temps[j])/(times[j+1]-times[j]) for j in range(1,len(times)-1)]\n",
        "print(dydt_forward)\n",
        "print(np.mean(dydt_forward))"
      ],
      "metadata": {
        "colab": {
          "base_uri": "https://localhost:8080/"
        },
        "id": "sizeEo5Y-EKz",
        "outputId": "9569e99d-233f-4af3-d35c-0b2298517160"
      },
      "execution_count": null,
      "outputs": [
        {
          "output_type": "stream",
          "name": "stdout",
          "text": [
            "[1.1, 0.6, 1.0, -0.1, 1.6, 1.1, 0.4, 1.4, 0.7]\n",
            "0.8666666666666667\n"
          ]
        }
      ]
    },
    {
      "cell_type": "markdown",
      "source": [
        "## Bagian B (pendekatan diferensi mundur)"
      ],
      "metadata": {
        "id": "7esORjyE-MNE"
      }
    },
    {
      "cell_type": "code",
      "source": [
        "dydt_backward=[(temps[j]-temps[j-1])/(times[j]-times[j-1]) for j in range(1,len(times)-1)]\n",
        "print(dydt_backward)\n",
        "print(np.mean(dydt_backward))"
      ],
      "metadata": {
        "colab": {
          "base_uri": "https://localhost:8080/"
        },
        "id": "kNG3FOJaBo_q",
        "outputId": "98dcdeeb-608b-4a7a-b77f-b8f13e15faa1"
      },
      "execution_count": null,
      "outputs": [
        {
          "output_type": "stream",
          "name": "stdout",
          "text": [
            "[2.2, 1.1, 0.6, 1.0, -0.1, 1.6, 1.1, 0.4, 1.4]\n",
            "1.0333333333333334\n"
          ]
        }
      ]
    },
    {
      "cell_type": "code",
      "source": [],
      "metadata": {
        "id": "tjTPHVYRBqFj"
      },
      "execution_count": null,
      "outputs": []
    },
    {
      "cell_type": "markdown",
      "source": [
        "## Bagian C (pendekatan diferensi sentral)"
      ],
      "metadata": {
        "id": "IT9Z0JGl-Q5q"
      }
    },
    {
      "cell_type": "code",
      "source": [
        "dydt_sentral=[(temps[j+1]-temps[j-1])/(2*(times[j+1]-times[j-1])) for j in range(1,len(times)-1)]\n",
        "print(dydt_sentral)\n",
        "print(np.mean(dydt_sentral))"
      ],
      "metadata": {
        "colab": {
          "base_uri": "https://localhost:8080/"
        },
        "id": "FC684ZWwCUTM",
        "outputId": "88ab66c0-e113-4c5f-bdd4-b55d49146f19"
      },
      "execution_count": null,
      "outputs": [
        {
          "output_type": "stream",
          "name": "stdout",
          "text": [
            "[0.825, 0.425, 0.4, 0.225, 0.375, 0.675, 0.375, 0.45, 0.525]\n",
            "0.47500000000000003\n"
          ]
        }
      ]
    },
    {
      "cell_type": "markdown",
      "source": [
        "## Bagian D (berapa perubahan dari perubahan suhu )"
      ],
      "metadata": {
        "id": "qPUU5JT5-YJM"
      }
    },
    {
      "cell_type": "code",
      "source": [
        "dydt_power2=[(temps[j+1]-2*temps[j]+temps[j-1])/((times[j+1]-times[j-1])**2) for j in range(1,len(times)-1)]\n",
        "print(dydt_power2)\n",
        "print(np.mean(dydt_power2))"
      ],
      "metadata": {
        "colab": {
          "base_uri": "https://localhost:8080/"
        },
        "id": "FrspSYFY-PTd",
        "outputId": "3e17735a-5612-4781-8dfb-05bebbe7d627"
      },
      "execution_count": null,
      "outputs": [
        {
          "output_type": "stream",
          "name": "stdout",
          "text": [
            "[-0.0275, -0.0125, 0.01, -0.0275, 0.0425, -0.0125, -0.0175, 0.025, -0.0175]\n",
            "-0.004166666666666667\n"
          ]
        }
      ]
    },
    {
      "cell_type": "markdown",
      "source": [
        "## gabungan"
      ],
      "metadata": {
        "id": "znke5oiNmTkF"
      }
    },
    {
      "cell_type": "code",
      "source": [
        "def numrec(x,y):\n",
        "  dydt_forward=[(x[j+1]-x[j])/(y[j+1]-y[j]) for j in range(1,len(y)-1)]\n",
        "  dydt_backward=[(x[j]-x[j-1])/(y[j]-y[j-1]) for j in range(1,len(y)-1)]\n",
        "  dydt_sentral=[(x[j+1]-x[j-1])/(2*(y[j+1]-y[j-1])) for j in range(1,len(y)-1)]\n",
        "  dydt_power2=[(x[j+1]-2*x[j]+x[j-1])/((y[j+1]-y[j-1])**2) for j in range(1,len(y)-1)]\n",
        "  mean_dydt_forward=np.mean(dydt_forward)\n",
        "  mean_dydt_backward=np.mean(dydt_backward)\n",
        "  mean_dydt_sentral=np.mean(dydt_sentral)\n",
        "  mean_dydt_power2=np.mean(dydt_power2)\n",
        "  df = pd.DataFrame(list(zip(dydt_forward,dydt_backward,dydt_sentral,dydt_power2)),\n",
        "              columns =['diferensi maju','diferensi mundur','diferensi sentral','perubahan-perubahan'])\n",
        "  display(df)\n",
        "  print('Rata-rata perubahan suhu (pendekatan maju) : {}'.format(round(mean_dydt_forward,5)))\n",
        "  print('Rata-rata perubahan suhu (pendekatan mundur) : {}'.format(round(mean_dydt_backward,5)))\n",
        "  print('Rata-rata perubahan suhu (pendekatan sentral) : {}'.format(round(mean_dydt_sentral,5)))\n",
        "  print('Rata-rata perubahan dari perubahan : {}'.format(round(mean_dydt_power2,5)))\n",
        "\n"
      ],
      "metadata": {
        "id": "Zz8F5m1wmWEQ"
      },
      "execution_count": null,
      "outputs": []
    },
    {
      "cell_type": "code",
      "source": [
        "times=[0,10,20,30,40,50,60,70,80,90,100]\n",
        "temps=[301,323,334,340,350,349,365,376,380,394,401]\n",
        "numrec(temps,times)"
      ],
      "metadata": {
        "colab": {
          "base_uri": "https://localhost:8080/",
          "height": 421
        },
        "id": "YjTGsUxdoryC",
        "outputId": "2d3a6d04-4c29-41b6-84c7-62a4f027b45d"
      },
      "execution_count": null,
      "outputs": [
        {
          "output_type": "display_data",
          "data": {
            "text/plain": [
              "   diferensi maju  diferensi mundur  diferensi sentral  perubahan-perubahan\n",
              "0             1.1               2.2              0.825              -0.0275\n",
              "1             0.6               1.1              0.425              -0.0125\n",
              "2             1.0               0.6              0.400               0.0100\n",
              "3            -0.1               1.0              0.225              -0.0275\n",
              "4             1.6              -0.1              0.375               0.0425\n",
              "5             1.1               1.6              0.675              -0.0125\n",
              "6             0.4               1.1              0.375              -0.0175\n",
              "7             1.4               0.4              0.450               0.0250\n",
              "8             0.7               1.4              0.525              -0.0175"
            ],
            "text/html": [
              "\n",
              "  <div id=\"df-5dd370e9-0ea8-4efb-b9a4-8c40794b791f\" class=\"colab-df-container\">\n",
              "    <div>\n",
              "<style scoped>\n",
              "    .dataframe tbody tr th:only-of-type {\n",
              "        vertical-align: middle;\n",
              "    }\n",
              "\n",
              "    .dataframe tbody tr th {\n",
              "        vertical-align: top;\n",
              "    }\n",
              "\n",
              "    .dataframe thead th {\n",
              "        text-align: right;\n",
              "    }\n",
              "</style>\n",
              "<table border=\"1\" class=\"dataframe\">\n",
              "  <thead>\n",
              "    <tr style=\"text-align: right;\">\n",
              "      <th></th>\n",
              "      <th>diferensi maju</th>\n",
              "      <th>diferensi mundur</th>\n",
              "      <th>diferensi sentral</th>\n",
              "      <th>perubahan-perubahan</th>\n",
              "    </tr>\n",
              "  </thead>\n",
              "  <tbody>\n",
              "    <tr>\n",
              "      <th>0</th>\n",
              "      <td>1.1</td>\n",
              "      <td>2.2</td>\n",
              "      <td>0.825</td>\n",
              "      <td>-0.0275</td>\n",
              "    </tr>\n",
              "    <tr>\n",
              "      <th>1</th>\n",
              "      <td>0.6</td>\n",
              "      <td>1.1</td>\n",
              "      <td>0.425</td>\n",
              "      <td>-0.0125</td>\n",
              "    </tr>\n",
              "    <tr>\n",
              "      <th>2</th>\n",
              "      <td>1.0</td>\n",
              "      <td>0.6</td>\n",
              "      <td>0.400</td>\n",
              "      <td>0.0100</td>\n",
              "    </tr>\n",
              "    <tr>\n",
              "      <th>3</th>\n",
              "      <td>-0.1</td>\n",
              "      <td>1.0</td>\n",
              "      <td>0.225</td>\n",
              "      <td>-0.0275</td>\n",
              "    </tr>\n",
              "    <tr>\n",
              "      <th>4</th>\n",
              "      <td>1.6</td>\n",
              "      <td>-0.1</td>\n",
              "      <td>0.375</td>\n",
              "      <td>0.0425</td>\n",
              "    </tr>\n",
              "    <tr>\n",
              "      <th>5</th>\n",
              "      <td>1.1</td>\n",
              "      <td>1.6</td>\n",
              "      <td>0.675</td>\n",
              "      <td>-0.0125</td>\n",
              "    </tr>\n",
              "    <tr>\n",
              "      <th>6</th>\n",
              "      <td>0.4</td>\n",
              "      <td>1.1</td>\n",
              "      <td>0.375</td>\n",
              "      <td>-0.0175</td>\n",
              "    </tr>\n",
              "    <tr>\n",
              "      <th>7</th>\n",
              "      <td>1.4</td>\n",
              "      <td>0.4</td>\n",
              "      <td>0.450</td>\n",
              "      <td>0.0250</td>\n",
              "    </tr>\n",
              "    <tr>\n",
              "      <th>8</th>\n",
              "      <td>0.7</td>\n",
              "      <td>1.4</td>\n",
              "      <td>0.525</td>\n",
              "      <td>-0.0175</td>\n",
              "    </tr>\n",
              "  </tbody>\n",
              "</table>\n",
              "</div>\n",
              "    <div class=\"colab-df-buttons\">\n",
              "\n",
              "  <div class=\"colab-df-container\">\n",
              "    <button class=\"colab-df-convert\" onclick=\"convertToInteractive('df-5dd370e9-0ea8-4efb-b9a4-8c40794b791f')\"\n",
              "            title=\"Convert this dataframe to an interactive table.\"\n",
              "            style=\"display:none;\">\n",
              "\n",
              "  <svg xmlns=\"http://www.w3.org/2000/svg\" height=\"24px\" viewBox=\"0 -960 960 960\">\n",
              "    <path d=\"M120-120v-720h720v720H120Zm60-500h600v-160H180v160Zm220 220h160v-160H400v160Zm0 220h160v-160H400v160ZM180-400h160v-160H180v160Zm440 0h160v-160H620v160ZM180-180h160v-160H180v160Zm440 0h160v-160H620v160Z\"/>\n",
              "  </svg>\n",
              "    </button>\n",
              "\n",
              "  <style>\n",
              "    .colab-df-container {\n",
              "      display:flex;\n",
              "      gap: 12px;\n",
              "    }\n",
              "\n",
              "    .colab-df-convert {\n",
              "      background-color: #E8F0FE;\n",
              "      border: none;\n",
              "      border-radius: 50%;\n",
              "      cursor: pointer;\n",
              "      display: none;\n",
              "      fill: #1967D2;\n",
              "      height: 32px;\n",
              "      padding: 0 0 0 0;\n",
              "      width: 32px;\n",
              "    }\n",
              "\n",
              "    .colab-df-convert:hover {\n",
              "      background-color: #E2EBFA;\n",
              "      box-shadow: 0px 1px 2px rgba(60, 64, 67, 0.3), 0px 1px 3px 1px rgba(60, 64, 67, 0.15);\n",
              "      fill: #174EA6;\n",
              "    }\n",
              "\n",
              "    .colab-df-buttons div {\n",
              "      margin-bottom: 4px;\n",
              "    }\n",
              "\n",
              "    [theme=dark] .colab-df-convert {\n",
              "      background-color: #3B4455;\n",
              "      fill: #D2E3FC;\n",
              "    }\n",
              "\n",
              "    [theme=dark] .colab-df-convert:hover {\n",
              "      background-color: #434B5C;\n",
              "      box-shadow: 0px 1px 3px 1px rgba(0, 0, 0, 0.15);\n",
              "      filter: drop-shadow(0px 1px 2px rgba(0, 0, 0, 0.3));\n",
              "      fill: #FFFFFF;\n",
              "    }\n",
              "  </style>\n",
              "\n",
              "    <script>\n",
              "      const buttonEl =\n",
              "        document.querySelector('#df-5dd370e9-0ea8-4efb-b9a4-8c40794b791f button.colab-df-convert');\n",
              "      buttonEl.style.display =\n",
              "        google.colab.kernel.accessAllowed ? 'block' : 'none';\n",
              "\n",
              "      async function convertToInteractive(key) {\n",
              "        const element = document.querySelector('#df-5dd370e9-0ea8-4efb-b9a4-8c40794b791f');\n",
              "        const dataTable =\n",
              "          await google.colab.kernel.invokeFunction('convertToInteractive',\n",
              "                                                    [key], {});\n",
              "        if (!dataTable) return;\n",
              "\n",
              "        const docLinkHtml = 'Like what you see? Visit the ' +\n",
              "          '<a target=\"_blank\" href=https://colab.research.google.com/notebooks/data_table.ipynb>data table notebook</a>'\n",
              "          + ' to learn more about interactive tables.';\n",
              "        element.innerHTML = '';\n",
              "        dataTable['output_type'] = 'display_data';\n",
              "        await google.colab.output.renderOutput(dataTable, element);\n",
              "        const docLink = document.createElement('div');\n",
              "        docLink.innerHTML = docLinkHtml;\n",
              "        element.appendChild(docLink);\n",
              "      }\n",
              "    </script>\n",
              "  </div>\n",
              "\n",
              "\n",
              "<div id=\"df-4d98fab9-cd62-47c4-bad3-cc32663ce5ec\">\n",
              "  <button class=\"colab-df-quickchart\" onclick=\"quickchart('df-4d98fab9-cd62-47c4-bad3-cc32663ce5ec')\"\n",
              "            title=\"Suggest charts\"\n",
              "            style=\"display:none;\">\n",
              "\n",
              "<svg xmlns=\"http://www.w3.org/2000/svg\" height=\"24px\"viewBox=\"0 0 24 24\"\n",
              "     width=\"24px\">\n",
              "    <g>\n",
              "        <path d=\"M19 3H5c-1.1 0-2 .9-2 2v14c0 1.1.9 2 2 2h14c1.1 0 2-.9 2-2V5c0-1.1-.9-2-2-2zM9 17H7v-7h2v7zm4 0h-2V7h2v10zm4 0h-2v-4h2v4z\"/>\n",
              "    </g>\n",
              "</svg>\n",
              "  </button>\n",
              "\n",
              "<style>\n",
              "  .colab-df-quickchart {\n",
              "      --bg-color: #E8F0FE;\n",
              "      --fill-color: #1967D2;\n",
              "      --hover-bg-color: #E2EBFA;\n",
              "      --hover-fill-color: #174EA6;\n",
              "      --disabled-fill-color: #AAA;\n",
              "      --disabled-bg-color: #DDD;\n",
              "  }\n",
              "\n",
              "  [theme=dark] .colab-df-quickchart {\n",
              "      --bg-color: #3B4455;\n",
              "      --fill-color: #D2E3FC;\n",
              "      --hover-bg-color: #434B5C;\n",
              "      --hover-fill-color: #FFFFFF;\n",
              "      --disabled-bg-color: #3B4455;\n",
              "      --disabled-fill-color: #666;\n",
              "  }\n",
              "\n",
              "  .colab-df-quickchart {\n",
              "    background-color: var(--bg-color);\n",
              "    border: none;\n",
              "    border-radius: 50%;\n",
              "    cursor: pointer;\n",
              "    display: none;\n",
              "    fill: var(--fill-color);\n",
              "    height: 32px;\n",
              "    padding: 0;\n",
              "    width: 32px;\n",
              "  }\n",
              "\n",
              "  .colab-df-quickchart:hover {\n",
              "    background-color: var(--hover-bg-color);\n",
              "    box-shadow: 0 1px 2px rgba(60, 64, 67, 0.3), 0 1px 3px 1px rgba(60, 64, 67, 0.15);\n",
              "    fill: var(--button-hover-fill-color);\n",
              "  }\n",
              "\n",
              "  .colab-df-quickchart-complete:disabled,\n",
              "  .colab-df-quickchart-complete:disabled:hover {\n",
              "    background-color: var(--disabled-bg-color);\n",
              "    fill: var(--disabled-fill-color);\n",
              "    box-shadow: none;\n",
              "  }\n",
              "\n",
              "  .colab-df-spinner {\n",
              "    border: 2px solid var(--fill-color);\n",
              "    border-color: transparent;\n",
              "    border-bottom-color: var(--fill-color);\n",
              "    animation:\n",
              "      spin 1s steps(1) infinite;\n",
              "  }\n",
              "\n",
              "  @keyframes spin {\n",
              "    0% {\n",
              "      border-color: transparent;\n",
              "      border-bottom-color: var(--fill-color);\n",
              "      border-left-color: var(--fill-color);\n",
              "    }\n",
              "    20% {\n",
              "      border-color: transparent;\n",
              "      border-left-color: var(--fill-color);\n",
              "      border-top-color: var(--fill-color);\n",
              "    }\n",
              "    30% {\n",
              "      border-color: transparent;\n",
              "      border-left-color: var(--fill-color);\n",
              "      border-top-color: var(--fill-color);\n",
              "      border-right-color: var(--fill-color);\n",
              "    }\n",
              "    40% {\n",
              "      border-color: transparent;\n",
              "      border-right-color: var(--fill-color);\n",
              "      border-top-color: var(--fill-color);\n",
              "    }\n",
              "    60% {\n",
              "      border-color: transparent;\n",
              "      border-right-color: var(--fill-color);\n",
              "    }\n",
              "    80% {\n",
              "      border-color: transparent;\n",
              "      border-right-color: var(--fill-color);\n",
              "      border-bottom-color: var(--fill-color);\n",
              "    }\n",
              "    90% {\n",
              "      border-color: transparent;\n",
              "      border-bottom-color: var(--fill-color);\n",
              "    }\n",
              "  }\n",
              "</style>\n",
              "\n",
              "  <script>\n",
              "    async function quickchart(key) {\n",
              "      const quickchartButtonEl =\n",
              "        document.querySelector('#' + key + ' button');\n",
              "      quickchartButtonEl.disabled = true;  // To prevent multiple clicks.\n",
              "      quickchartButtonEl.classList.add('colab-df-spinner');\n",
              "      try {\n",
              "        const charts = await google.colab.kernel.invokeFunction(\n",
              "            'suggestCharts', [key], {});\n",
              "      } catch (error) {\n",
              "        console.error('Error during call to suggestCharts:', error);\n",
              "      }\n",
              "      quickchartButtonEl.classList.remove('colab-df-spinner');\n",
              "      quickchartButtonEl.classList.add('colab-df-quickchart-complete');\n",
              "    }\n",
              "    (() => {\n",
              "      let quickchartButtonEl =\n",
              "        document.querySelector('#df-4d98fab9-cd62-47c4-bad3-cc32663ce5ec button');\n",
              "      quickchartButtonEl.style.display =\n",
              "        google.colab.kernel.accessAllowed ? 'block' : 'none';\n",
              "    })();\n",
              "  </script>\n",
              "</div>\n",
              "    </div>\n",
              "  </div>\n"
            ],
            "application/vnd.google.colaboratory.intrinsic+json": {
              "type": "dataframe",
              "summary": "{\n  \"name\": \"numrec(temps,times)\",\n  \"rows\": 9,\n  \"fields\": [\n    {\n      \"column\": \"diferensi maju\",\n      \"properties\": {\n        \"dtype\": \"number\",\n        \"std\": 0.5244044240850758,\n        \"min\": -0.1,\n        \"max\": 1.6,\n        \"num_unique_values\": 8,\n        \"samples\": [\n          0.6,\n          0.4,\n          1.1\n        ],\n        \"semantic_type\": \"\",\n        \"description\": \"\"\n      }\n    },\n    {\n      \"column\": \"diferensi mundur\",\n      \"properties\": {\n        \"dtype\": \"number\",\n        \"std\": 0.6800735254367722,\n        \"min\": -0.1,\n        \"max\": 2.2,\n        \"num_unique_values\": 8,\n        \"samples\": [\n          1.1,\n          1.6,\n          2.2\n        ],\n        \"semantic_type\": \"\",\n        \"description\": \"\"\n      }\n    },\n    {\n      \"column\": \"diferensi sentral\",\n      \"properties\": {\n        \"dtype\": \"number\",\n        \"std\": 0.1789727632909544,\n        \"min\": 0.225,\n        \"max\": 0.825,\n        \"num_unique_values\": 8,\n        \"samples\": [\n          0.425,\n          0.675,\n          0.825\n        ],\n        \"semantic_type\": \"\",\n        \"description\": \"\"\n      }\n    },\n    {\n      \"column\": \"perubahan-perubahan\",\n      \"properties\": {\n        \"dtype\": \"number\",\n        \"std\": 0.02452677108793573,\n        \"min\": -0.0275,\n        \"max\": 0.0425,\n        \"num_unique_values\": 6,\n        \"samples\": [\n          -0.0275,\n          -0.0125,\n          0.025\n        ],\n        \"semantic_type\": \"\",\n        \"description\": \"\"\n      }\n    }\n  ]\n}"
            }
          },
          "metadata": {}
        },
        {
          "output_type": "stream",
          "name": "stdout",
          "text": [
            "Rata-rata perubahan suhu (pendekatan maju) : 0.86667\n",
            "Rata-rata perubahan suhu (pendekatan mundur) : 1.03333\n",
            "Rata-rata perubahan suhu (pendekatan sentral) : 0.475\n",
            "Rata-rata perubahan dari perubahan : -0.00417\n"
          ]
        }
      ]
    },
    {
      "cell_type": "markdown",
      "source": [
        "# Nomor 14"
      ],
      "metadata": {
        "id": "0NlNmiWCsr6-"
      }
    },
    {
      "cell_type": "markdown",
      "source": [
        "## Bagian A"
      ],
      "metadata": {
        "id": "-CrCOmoJCbxn"
      }
    },
    {
      "cell_type": "code",
      "source": [
        "f_int=lambda x: (-3*np.cos(3*x)-2*np.sin(3*x))/(13*np.exp(2*x))\n",
        "analtyic=f_int(5)-f_int(0)\n",
        "print(analtyic)"
      ],
      "metadata": {
        "colab": {
          "base_uri": "https://localhost:8080/"
        },
        "id": "QWCqBvzwCaY2",
        "outputId": "af42159f-39f4-4d0b-e556-2b91a77d3272"
      },
      "execution_count": null,
      "outputs": [
        {
          "output_type": "stream",
          "name": "stdout",
          "text": [
            "0.23077264794531682\n"
          ]
        }
      ]
    },
    {
      "cell_type": "markdown",
      "source": [
        "## Bagian B\n",
        "\n"
      ],
      "metadata": {
        "id": "JoUxi8_z0Gdc"
      }
    },
    {
      "cell_type": "code",
      "source": [
        "n_mesh=50\n",
        "f=lambda x: np.exp(-2*x)*np.sin(3*x)\n",
        "mesh=np.linspace(0,5,n_mesh+1)\n",
        "dt=(5-0)/50"
      ],
      "metadata": {
        "id": "F4Z1CW-kstzX"
      },
      "execution_count": 10,
      "outputs": []
    },
    {
      "cell_type": "code",
      "source": [
        "left = [f(i) for i in mesh[:-1]]\n",
        "left = np.sum(left)*dt\n",
        "print(left)"
      ],
      "metadata": {
        "id": "beLsftgSzOcx",
        "colab": {
          "base_uri": "https://localhost:8080/"
        },
        "outputId": "b55bfdf6-75e4-4bcd-e58a-51bd7cd02c34"
      },
      "execution_count": 11,
      "outputs": [
        {
          "output_type": "stream",
          "name": "stdout",
          "text": [
            "0.22827230599850493\n"
          ]
        }
      ]
    },
    {
      "cell_type": "markdown",
      "source": [
        "## Bagian C"
      ],
      "metadata": {
        "id": "GyGUmMKzDZxO"
      }
    },
    {
      "cell_type": "code",
      "source": [
        "right = [f(i) for i in mesh[1:]]\n",
        "right=np.sum(right)*dt\n",
        "print(right)"
      ],
      "metadata": {
        "id": "Un0ZNnZr0iwy",
        "colab": {
          "base_uri": "https://localhost:8080/"
        },
        "outputId": "7639c1f9-a2a9-4920-e06a-c1b0623b99f6"
      },
      "execution_count": null,
      "outputs": [
        {
          "output_type": "stream",
          "name": "stdout",
          "text": [
            "0.22360886236782945\n"
          ]
        }
      ]
    },
    {
      "cell_type": "markdown",
      "source": [
        "## Bagian D"
      ],
      "metadata": {
        "id": "QYOnR-ClDeDU"
      }
    },
    {
      "cell_type": "code",
      "source": [
        "center = [f(i+0.05) for i in mesh[:-1]]\n",
        "center=np.sum(center)*dt\n",
        "print(center)"
      ],
      "metadata": {
        "id": "TGUxWcY34DBu",
        "colab": {
          "base_uri": "https://localhost:8080/"
        },
        "outputId": "5dc76895-9f4b-41d5-f982-460d15cdd8b3"
      },
      "execution_count": null,
      "outputs": [
        {
          "output_type": "stream",
          "name": "stdout",
          "text": [
            "0.22743525291494893\n"
          ]
        }
      ]
    },
    {
      "cell_type": "markdown",
      "source": [
        "## Bagian E\n",
        "Improvement :\n",
        "1. Pelajari uniform dan non uniform\n",
        "2. Mengapa perhitungan library dan manual berbeda ?"
      ],
      "metadata": {
        "id": "9fRWupubDhh-"
      }
    },
    {
      "cell_type": "code",
      "source": [
        "x = np.linspace(0, 5, num=50)\n",
        "dt=(5-0)/50\n",
        "trap_a=integrate.trapezoid(f(x), x,dt)\n",
        "print(trap_a)"
      ],
      "metadata": {
        "id": "szKu3WUk2Z5I",
        "colab": {
          "base_uri": "https://localhost:8080/"
        },
        "outputId": "ff7e620a-852c-4914-c542-65b8d1fff618"
      },
      "execution_count": null,
      "outputs": [
        {
          "output_type": "stream",
          "name": "stdout",
          "text": [
            "0.22817080226195516\n"
          ]
        }
      ]
    },
    {
      "cell_type": "code",
      "source": [
        "print(len(x))"
      ],
      "metadata": {
        "colab": {
          "base_uri": "https://localhost:8080/"
        },
        "id": "tkhhq82lEUDp",
        "outputId": "f0a4188f-7bd9-44d0-8ae9-5a757b1a4bc2"
      },
      "execution_count": null,
      "outputs": [
        {
          "output_type": "stream",
          "name": "stdout",
          "text": [
            "50\n"
          ]
        }
      ]
    },
    {
      "cell_type": "code",
      "source": [
        "trap_b=dt*(np.sum([f(j) for j in x[1:-1]])+(f(x[-1])+f(x[0]))/2)\n",
        "print(trap_b)"
      ],
      "metadata": {
        "colab": {
          "base_uri": "https://localhost:8080/"
        },
        "id": "xkoFpXcEEVoQ",
        "outputId": "7a7fdb82-7113-4e28-8259-df57f7bd148c"
      },
      "execution_count": null,
      "outputs": [
        {
          "output_type": "stream",
          "name": "stdout",
          "text": [
            "0.22360738621671603\n"
          ]
        }
      ]
    },
    {
      "cell_type": "code",
      "source": [
        "trap_nu_wk=np.sum([((f(x[j])+f(x[j+1]))/2)*dt for j,_ in enumerate(x[1:])])\n",
        "print(trap_nu_wk)"
      ],
      "metadata": {
        "colab": {
          "base_uri": "https://localhost:8080/"
        },
        "id": "29ZcTtJEGp-g",
        "outputId": "2908f1ac-1a63-4802-f73d-f0222621e752"
      },
      "execution_count": null,
      "outputs": [
        {
          "output_type": "stream",
          "name": "stdout",
          "text": [
            "0.22360738621671605\n"
          ]
        }
      ]
    },
    {
      "cell_type": "markdown",
      "source": [
        "## Bagian F"
      ],
      "metadata": {
        "id": "Aj2yODGSMg8Z"
      }
    },
    {
      "cell_type": "code",
      "source": [
        "h=(5-0)/2\n",
        "simps=(h/3)*(f(0)+(4*f(5/2))+f(5))\n",
        "print(simps)\n",
        "print(5/6,f(0),f(2.5),f(5))"
      ],
      "metadata": {
        "colab": {
          "base_uri": "https://localhost:8080/"
        },
        "id": "te6Hh1fiH_HL",
        "outputId": "3f7e80fb-6aca-4603-9721-7b27a227549e"
      },
      "execution_count": null,
      "outputs": [
        {
          "output_type": "stream",
          "name": "stdout",
          "text": [
            "0.021091916280729074\n",
            "0.8333333333333334 0.0 0.00632019412865159 2.9523022268531083e-05\n"
          ]
        }
      ]
    },
    {
      "cell_type": "code",
      "source": [
        "x = np.linspace(0, 5, num=50)\n",
        "dt=(5-0)/50\n",
        "y=np.exp(-2*x)*np.sin(3*x)\n",
        "simpson_a=scipy.integrate.simpson(f(x), x,dt)\n",
        "print(simpson_a)"
      ],
      "metadata": {
        "colab": {
          "base_uri": "https://localhost:8080/"
        },
        "id": "rK1jZITDNpeq",
        "outputId": "a3c5e01d-5248-44b3-878e-2548fa5a1946"
      },
      "execution_count": null,
      "outputs": [
        {
          "output_type": "stream",
          "name": "stdout",
          "text": [
            "0.23076678705482526\n"
          ]
        }
      ]
    },
    {
      "cell_type": "code",
      "source": [
        "simpson_a=scipy.integrate.simpson(y, x,dt)\n",
        "print(simpson_a)"
      ],
      "metadata": {
        "colab": {
          "base_uri": "https://localhost:8080/"
        },
        "id": "wHjxnaOqU15S",
        "outputId": "9ef775ac-3cc2-4277-8653-0ec75bb656d5"
      },
      "execution_count": null,
      "outputs": [
        {
          "output_type": "stream",
          "name": "stdout",
          "text": [
            "0.23076678705482526\n"
          ]
        }
      ]
    },
    {
      "cell_type": "code",
      "source": [
        "help(scipy.integrate.simpson)"
      ],
      "metadata": {
        "colab": {
          "base_uri": "https://localhost:8080/"
        },
        "id": "5S3wpRhLNF7u",
        "outputId": "31642954-b3c6-481f-a8f9-50c0f4043b3e"
      },
      "execution_count": null,
      "outputs": [
        {
          "output_type": "stream",
          "name": "stdout",
          "text": [
            "Help on function simpson in module scipy.integrate._quadrature:\n",
            "\n",
            "simpson(y, x=None, dx=1.0, axis=-1, even=None)\n",
            "    Integrate y(x) using samples along the given axis and the composite\n",
            "    Simpson's rule. If x is None, spacing of dx is assumed.\n",
            "    \n",
            "    If there are an even number of samples, N, then there are an odd\n",
            "    number of intervals (N-1), but Simpson's rule requires an even number\n",
            "    of intervals. The parameter 'even' controls how this is handled.\n",
            "    \n",
            "    Parameters\n",
            "    ----------\n",
            "    y : array_like\n",
            "        Array to be integrated.\n",
            "    x : array_like, optional\n",
            "        If given, the points at which `y` is sampled.\n",
            "    dx : float, optional\n",
            "        Spacing of integration points along axis of `x`. Only used when\n",
            "        `x` is None. Default is 1.\n",
            "    axis : int, optional\n",
            "        Axis along which to integrate. Default is the last axis.\n",
            "    even : {None, 'simpson', 'avg', 'first', 'last'}, optional\n",
            "        'avg' : Average two results:\n",
            "            1) use the first N-2 intervals with\n",
            "               a trapezoidal rule on the last interval and\n",
            "            2) use the last\n",
            "               N-2 intervals with a trapezoidal rule on the first interval.\n",
            "    \n",
            "        'first' : Use Simpson's rule for the first N-2 intervals with\n",
            "                a trapezoidal rule on the last interval.\n",
            "    \n",
            "        'last' : Use Simpson's rule for the last N-2 intervals with a\n",
            "               trapezoidal rule on the first interval.\n",
            "    \n",
            "        None : equivalent to 'simpson' (default)\n",
            "    \n",
            "        'simpson' : Use Simpson's rule for the first N-2 intervals with the\n",
            "                  addition of a 3-point parabolic segment for the last\n",
            "                  interval using equations outlined by Cartwright [1]_.\n",
            "                  If the axis to be integrated over only has two points then\n",
            "                  the integration falls back to a trapezoidal integration.\n",
            "    \n",
            "                  .. versionadded:: 1.11.0\n",
            "    \n",
            "        .. versionchanged:: 1.11.0\n",
            "            The newly added 'simpson' option is now the default as it is more\n",
            "            accurate in most situations.\n",
            "    \n",
            "        .. deprecated:: 1.11.0\n",
            "            Parameter `even` is deprecated and will be removed in SciPy\n",
            "            1.13.0. After this time the behaviour for an even number of\n",
            "            points will follow that of `even='simpson'`.\n",
            "    \n",
            "    Returns\n",
            "    -------\n",
            "    float\n",
            "        The estimated integral computed with the composite Simpson's rule.\n",
            "    \n",
            "    See Also\n",
            "    --------\n",
            "    quad : adaptive quadrature using QUADPACK\n",
            "    romberg : adaptive Romberg quadrature\n",
            "    quadrature : adaptive Gaussian quadrature\n",
            "    fixed_quad : fixed-order Gaussian quadrature\n",
            "    dblquad : double integrals\n",
            "    tplquad : triple integrals\n",
            "    romb : integrators for sampled data\n",
            "    cumulative_trapezoid : cumulative integration for sampled data\n",
            "    ode : ODE integrators\n",
            "    odeint : ODE integrators\n",
            "    \n",
            "    Notes\n",
            "    -----\n",
            "    For an odd number of samples that are equally spaced the result is\n",
            "    exact if the function is a polynomial of order 3 or less. If\n",
            "    the samples are not equally spaced, then the result is exact only\n",
            "    if the function is a polynomial of order 2 or less.\n",
            "    \n",
            "    References\n",
            "    ----------\n",
            "    .. [1] Cartwright, Kenneth V. Simpson's Rule Cumulative Integration with\n",
            "           MS Excel and Irregularly-spaced Data. Journal of Mathematical\n",
            "           Sciences and Mathematics Education. 12 (2): 1-9\n",
            "    \n",
            "    Examples\n",
            "    --------\n",
            "    >>> from scipy import integrate\n",
            "    >>> import numpy as np\n",
            "    >>> x = np.arange(0, 10)\n",
            "    >>> y = np.arange(0, 10)\n",
            "    \n",
            "    >>> integrate.simpson(y, x)\n",
            "    40.5\n",
            "    \n",
            "    >>> y = np.power(x, 3)\n",
            "    >>> integrate.simpson(y, x)\n",
            "    1640.5\n",
            "    >>> integrate.quad(lambda x: x**3, 0, 9)[0]\n",
            "    1640.25\n",
            "    \n",
            "    >>> integrate.simpson(y, x, even='first')\n",
            "    1644.5\n",
            "\n"
          ]
        }
      ]
    },
    {
      "cell_type": "markdown",
      "source": [
        "## Gabungan"
      ],
      "metadata": {
        "id": "dCwRF8EWRBXz"
      }
    },
    {
      "cell_type": "code",
      "source": [
        "def numint(f,f_int,a,b,mesh,r):\n",
        "  #analytic\n",
        "  analtyic=f_int(b)-f_int(a)\n",
        "  #left\n",
        "  dt=(b-a)/(mesh)\n",
        "  e=lambda v:np.abs(v-analtyic)/100\n",
        "  x=np.linspace(a,b,mesh+1)\n",
        "  left = np.sum([f(i) for i in x[:-1]])*dt\n",
        "  e_left =e(left)\n",
        "  #right\n",
        "  right=np.sum([f(i) for i in x[1:]])*dt\n",
        "  e_right=e(right)\n",
        "  # average\n",
        "  center=np.sum([f(i+dt) for i in x[:-1]])*dt\n",
        "  e_center=e(center)\n",
        "  # trapezoidal\n",
        "  trap=integrate.trapezoid(f(x), x,dt)\n",
        "  e_trap=e(trap)\n",
        "  # simpson\n",
        "  simpson=scipy.integrate.simpson(f(x), x,dt)\n",
        "  e_simpson=e(simpson)\n",
        "  print(\"The result is shown below\")\n",
        "  print(\"Analtyic: {}\\nRectangular Left Point: {}({})\".format(round(analtyic,r),round(left,r),round(e_left,r)))\n",
        "  print(\"Rectangular Right Point: {}({})\\nRectangular Averaging Point: {}({})\".format(round(right,r),round(e_right,r),round(center,r),round(e_center,r)))\n",
        "  print(\"Trapezoidal: {}({})\\nSimpson: {}({})\".format(round(trap,r),round(e_trap,r),round(simpson,r),round(e_simpson,r)))"
      ],
      "metadata": {
        "id": "I2v8I6x_OylC"
      },
      "execution_count": 21,
      "outputs": []
    },
    {
      "cell_type": "code",
      "source": [
        "f_int=lambda x: (-3*np.exp(-2*x)*np.cos(3*x)-2*np.exp(-2*x)*np.sin(3*x))/13\n",
        "f=lambda x: np.exp(-2*x)*np.sin(3*x)\n",
        "numint(f,f_int,0,5,50,15)"
      ],
      "metadata": {
        "colab": {
          "base_uri": "https://localhost:8080/"
        },
        "id": "juE6NErQTXAL",
        "outputId": "672b3f1b-2238-4323-a57c-5e22099201b1"
      },
      "execution_count": 22,
      "outputs": [
        {
          "output_type": "stream",
          "name": "stdout",
          "text": [
            "The result is shown below\n",
            "Analtyic: 0.230772647945317\n",
            "Rectangular Left Point: 0.228272305998505(2.5003419468e-05)\n",
            "Rectangular Right Point: 0.228275258300732(2.4973896446e-05)\n",
            "Rectangular Averaging Point: 0.228275258300732(2.4973896446e-05)\n",
            "Trapezoidal: 0.228273782149618(2.4988657957e-05)\n",
            "Simpson: 0.230767250626001(5.3973193e-08)\n"
          ]
        }
      ]
    },
    {
      "cell_type": "code",
      "source": [],
      "metadata": {
        "id": "QdAQnrBgga2A"
      },
      "execution_count": null,
      "outputs": []
    }
  ]
}