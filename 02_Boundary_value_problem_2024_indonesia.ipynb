{
  "cells": [
    {
      "cell_type": "markdown",
      "id": "1bacc3ff",
      "metadata": {
        "id": "1bacc3ff"
      },
      "source": [
        "# <div class=\"alert alert-block alert-success\"><h1><b> Pendekatan beda hingga (finite difference) </b></h3></div>\n",
        "\n",
        "Fungsi $y(x)$ dapat dibentuk menjadi persamaan diferensi menggunakan pendekatan Taylor.\n",
        "\n",
        "$$y(x) = y(x_0) + (x-x_0)y'(x_0) + \\dfrac{(x-x_0)^2}{2!}y''(x_0)+\\ldots+\\dfrac{(x-x_0)^n}{n!}y(x_0)^{(n)} + \\ldots$$\n",
        "\n",
        "Domain yang kontinyu dengan interval $[a,b]$ diibagi menjadi $n$ subinterval yang sama panjang, $h = \\Delta x$.\n",
        "\n",
        "<img src=\"fig_diskretisasi2.png\" width=\"500\"/>\n",
        "\n",
        "Untuk ruang $x$ yang didiskretisasi, $y(x_i) = y_i$, dengan indeks $i$ menyatakan lokasi spasial tertentu.\n",
        "\n",
        "Dengan menggunakan skema diskretisasi di atas, maka ekspansi Taylor dari fungsi $y(x)$ menjadi\n",
        "\n",
        "\\begin{align}\n",
        "y_{i+1} &= y_i + hy_i' + \\dfrac{h^2}{2!}y_i''+\\dfrac{h^3}{3!}y_i''' + \\dfrac{h^4}{4!}y_i^{(4)} + \\ldots \\\\\n",
        "y_{i-1} &= y_i - hy_i' + \\dfrac{h^2}{2!}y_i''-\\dfrac{h^3}{3!}y_i''' + \\dfrac{h^4}{4!}y_i^{(4)} + \\ldots \\\\\n",
        "\\end{align}\n",
        "\n",
        "Dengan menjumlahkan kedua deret di atas akan diperoleh:\n",
        "\n",
        "$$ y_{i+1} + y_{i-1} = 2y_i +  h^2y_i'' + \\dfrac{h^4}{12}y_i^{(4)} + \\ldots $$\n",
        "\n",
        "atau\n",
        "\n",
        "$$ y''(x) = y''_i = \\dfrac{y_{i+1} -2y_i +  y_{i-1}}{h^2}  - \\dfrac{h^2}{12}y_i^{(4)} + \\ldots $$\n",
        "\n",
        "atau\n",
        "\n",
        "$$  \\boxed{y''_i = \\dfrac{y_{i+1} -2y_i +  y_{i-1}}{h^2}  + \\mathcal{O}(h^2)}$$\n",
        "\n",
        "Persamaan di atas merupakan bentuk turunan kedua untuk persamaan diferensi.\n",
        "\n",
        "\n",
        "Selanjutnya dengan mengurangkan kedua deret akan diperoleh\n",
        "\n",
        "$$y_{i+1} - y_{i-1} = 2hy'_i +  \\dfrac{h^3}{3}y'''_i + \\ldots $$\n",
        "\n",
        "atau\n",
        "\n",
        "$$ y'(x) = y'_i = \\dfrac{y_{i+1} - y_{i-1}}{2h}  - \\dfrac{h^2}{6}y'''_i - \\ldots $$\n",
        "\n",
        "atau\n",
        "\n",
        "$$  \\boxed{y'_i = \\dfrac{y_{i+1}-  y_{i-1}}{2h}  + \\mathcal{O}(h^2)}$$\n",
        "\n",
        "Persamaan di atas merupakan bentuk turunan pertama untuk persamaan diferensi.\n",
        "\n",
        "Kedua bentuk beda hingga di atas  digunakan untuk menggantikan turunan-turunan dari $y$ pada persamaan diferensial, dan mengubahnya menjadi $n+1$ persamaan aljabar linear.\n",
        "\n",
        "<div class=\"alert alert-block alert-success\"><h2><b>Syarat Batas Dirichlet</b></h2></div>\n",
        "\n",
        "$$P(x)y''+Q(x)y'+R(x)y = W(x)$$\n",
        "\n",
        "$$y(x_0)=y_0 = y_a,\\qquad y(x_n)=y_n = y_b$$\n",
        "\n",
        "<img src=\"fig_dirichlet2.png\" width=\"500\"/>\n",
        "\n",
        "Bentuk diskret dari persamaan diferensial :\n",
        "$$ P(x_i)y_i''+Q(x_i)y_i'+R(x_i)y_i = W(x_i) $$\n",
        "\n",
        "Jika koefisien dinyatakan dengan $P_i = P(x_i), Q_i = Q(x_i),  R_i = R(x_i)$, dan $W_i = W(x_i)$, maka\n",
        "\n",
        "$$P_i y_i''+Q_iy_i'+R_iy_i = W_i$$\n",
        "\n",
        "Dengan mensubstitusi bentuk beda hingga $y''_i$  dan $y'_i$  ke persamaan diferensi, diperoleh\n",
        "\n",
        "$$P_i \\dfrac{ y_{i+1}-2y_i + y_{i-1}}{h^2}+Q_i \\dfrac{y_{i+1}-y_{i-1}}{2h}+R_iy_i = W_i$$\n",
        "\n",
        "Dengan menyusun ulang persamaan di atas dalam urutan $y_{i−1}$, $y_i$ dan $y_{i+1}$, kita dapatkan formula beda hingga :\n",
        "\n",
        "$$ \\boxed{ \\left(\\dfrac{P_i}{h^2} - \\dfrac{Q_i}{2h} \\right)y_{i-1}+\\left(\\dfrac{-2P_i}{h^2} +R_i \\right)y_i + \\left(\\dfrac{P_i}{h^2} + \\dfrac{Q_i}{2h} \\right)y_{i+1}= W_i } $$\n",
        "\n",
        "Terdapat $n-1$ variabel tak diketahui pada sistem, $y_i$ untuk $i = 1, 2, \\ldots, n-1$ yang bersama-sama dengan nilai syarat batas pada $i=0$ dan $i=n$  akan membentuk sistem persamaan linear $(n+1) \\times (n+1)$.\n",
        "\n",
        "**Untuk $i=0$ :**\n",
        "\n",
        "$$y_0 = y_a$$\n",
        "\n",
        "**Untuk $i=1$ :**\n",
        "\n",
        "$$ \\left(\\dfrac{P_1}{h^2} - \\dfrac{Q_1}{2h} \\right)y_{0}+\\left(\\dfrac{-2P_1}{h^2} +R_1 \\right)y_1 + \\left(\\dfrac{P_1}{h^2} + \\dfrac{Q_1}{2h} \\right)y_{2}= W_1$$\n",
        "\n",
        "**Untuk $i=2$ :**\n",
        "\n",
        "$$ \\left(\\dfrac{P_2}{h^2} - \\dfrac{Q_2}{2h} \\right)y_{1}+\\left(\\dfrac{-2P_2}{h^2} +R_2 \\right)y_2 + \\left(\\dfrac{P_2}{h^2} + \\dfrac{Q_2}{2h} \\right)y_{3}= W_2$$\n",
        "\n",
        "dan seterusnya sampai dengan\n",
        "\n",
        "**Untuk $i=n-1$ :**\n",
        "\n",
        "$$\\left(\\dfrac{P_{n-1}}{h^2} - \\dfrac{Q_{n-1}}{2h} \\right)y_{n-2}+\\left(\\dfrac{-2P_{n-1}}{h^2} +R_{n-1} \\right)y_{n-1} + \\left(\\dfrac{P_{n-1}}{h^2} + \\dfrac{Q_{n-1}}{2h} \\right)y_{n}= W_{n-1}$$\n",
        "\n",
        "dan\n",
        "\n",
        "**Untuk $i=n$ :**\n",
        "\n",
        "$$ y_n = y_b  $$\n",
        "\n",
        "Dengan mengatur kembali semua persamaan beda hingga yang diperoleh menjadi bentuk matriks, kita akan mendapatkan sistem persamaan linear  dengan ukuran $(n+1) \\times (n+1)$\n",
        "\n",
        "$$\\mathbf{A\\,y} = \\mathbf{b}$$\n",
        "\n",
        "dengan\n",
        "\n",
        "\\begin{equation}\n",
        "\\mathbf{A} =\n",
        "\\begin{pmatrix}\n",
        "1      & 0      & 0      & 0       & \\cdots & 0 & 0 & 0 & 0 & 0 \\\\\n",
        "a_{21} & a_{22} & a_{23} & 0       & \\cdots & 0 & 0 & 0 & 0 & 0 \\\\\n",
        "0      & a_{32} & a_{33} & a_{34}  & \\cdots & 0 & 0 & 0 & 0 & 0 \\\\\n",
        "0      & 0      & a_{43} &  a_{44} & \\cdots & 0 & 0 & 0 & 0 & 0 \\\\  \n",
        "\\vdots & \\vdots & \\vdots & \\vdots  & \\ddots & \\vdots & \\vdots & \\vdots & \\vdots & \\vdots \\\\\n",
        "0      & 0      & 0      & 0       & \\cdots & a_{(n-3)(n-4)}& a_{(n-3)(n-3)} & a_{(n-3)(n-2)} & 0 & 0 \\\\  \n",
        "0      & 0      & 0      & 0       & \\cdots & 0 & a_{(n-2)(n-3)} & a_{(n-2)(n-2)} & a_{(n-2)(n-1)} & 0\\\\\n",
        "0      & 0      & 0      & 0       & \\cdots & 0 & 0 & a_{(n-1)(n-2)} & a_{(n-1)(n-1)} & a_{(n-1)(n)} \\\\\n",
        "0      & 0      & 0      & 0       & \\cdots & 0 & 0 & 0 & 0 & 1\n",
        "\\end{pmatrix}\n",
        "\\end{equation}\n",
        "\n",
        "$$\\mathbf{y} = [y_0 \\ y_1 \\ y_2 \\ y_3 \\ y_4 \\ \\cdots \\ y_{n-4} \\ y_{n-3} \\ y_{n-2} \\ y_{n-1} \\ y_n]^T$$\n",
        "\n",
        "$$ \\mathbf{b} = [b_0 \\ b_1 \\ b_2 \\ b_3 \\ b_4 \\ \\cdots \\ b_{n-4} \\ b_{n-3} \\ b_{n-2} \\ b_{n-1}\\ b_n]^T$$\n",
        "\n",
        "Nilai untuk masing-masing elemen matriks **A** dan vektor **b** adalah\n",
        "\n",
        "\n",
        "\\begin{equation}\n",
        "a_{ij} =\n",
        "\\begin{cases}\n",
        " \\dfrac{-2P_i}{h^2} + R_i \\ &\\text{ untuk } j=i  \\\\\n",
        "\\dfrac{P_i}{h^2} + \\dfrac{Q_i}{2h} \\ &\\text{ untuk } j=i+1  \\\\\n",
        "\\dfrac{P_i}{h^2} - \\dfrac{Q_i}{2h} \\ &\\text{ untuk } j=i-1  \\\\\n",
        "\\end{cases}\n",
        "\\qquad \\text{dengan }  i=2,\\ldots,n-1\n",
        "\\end{equation}\n",
        "\n",
        "\n",
        "\n",
        "\\begin{equation}\n",
        "b_{i} = w_i, \\qquad \\text{dengan } i=2,\\ldots,n-1\n",
        "\\end{equation}"
      ]
    },
    {
      "cell_type": "markdown",
      "id": "2d52b8d0",
      "metadata": {
        "id": "2d52b8d0"
      },
      "source": [
        "# <div class=\"alert alert-block alert-warning\"><h1><b> Latihan 1</b></h1>    </div>\n",
        "\n",
        "\n",
        ">\n",
        "> Carilah solusi dari BVP berikut ini\n",
        "> $$ \\dfrac{d^2y}{dx^2}-2\\dfrac{dy}{dx} + y = 2e^x $$\n",
        "> dengan syarat batas\n",
        "> \\begin{align}\n",
        "y(0) &= 1 \\\\\n",
        "y(1) &= 0\n",
        "\\end{align}\n",
        ">\n",
        "> Solusi :\n",
        "\n",
        "<img src=\"fig_solusi_dirichlet2.png\" width=\"500\"/>\n",
        "\n",
        "> Solusi secara analitik (sebagai validasi) :\n",
        "\n",
        "<img src=\"fig_solusi_bvp1.png\" width=\"500\"/>\n",
        "\n",
        "> *Jawab* :\n",
        ">\n",
        "> $P = 1, Q = -2, R = 1, W = 2e^x$\n",
        ">\n",
        "> Elemen matriks **A** dan vektor **b** menjadi\n",
        ">\n",
        "> \\begin{equation}\n",
        "a_{ij} =\n",
        "\\begin{cases}\n",
        " \\dfrac{-2}{h^2} + 1 \\ &\\text{ untuk } j=i \\\\\n",
        "\\dfrac{1}{h^2} - \\dfrac{1}{h} \\ &\\text{ untuk } j=i+1 \\qquad \\text{ dengan } i= 2,\\ldots,n-1 \\\\\n",
        "\\dfrac{1}{h^2} + \\dfrac{1}{1h} \\ &\\text{ untuk } j=i-1 \\\\\n",
        "\\end{cases}\n",
        "\\end{equation}\n",
        ">\n",
        ">\\begin{equation}\n",
        "b_{i} = 2e^{x_i} \\qquad \\text{ dengan } i= 2,\\ldots,n-1\n",
        "\\end{equation}\n",
        ">\n",
        "> Implementasi menjadi code Python dapat dilihat berikut ini\n",
        "\n"
      ]
    },
    {
      "cell_type": "code",
      "execution_count": 107,
      "id": "adf66d4c",
      "metadata": {
        "id": "adf66d4c"
      },
      "outputs": [],
      "source": [
        "import numpy as np\n",
        "import matplotlib.pyplot as plt"
      ]
    },
    {
      "cell_type": "markdown",
      "id": "8984ba0c",
      "metadata": {},
      "source": [
        "### Persiapan"
      ]
    },
    {
      "cell_type": "markdown",
      "id": "8c6d142a",
      "metadata": {},
      "source": [
        "#### Langkah 1"
      ]
    },
    {
      "cell_type": "code",
      "execution_count": 108,
      "id": "1a5c64dc",
      "metadata": {
        "id": "1a5c64dc"
      },
      "outputs": [],
      "source": [
        "# Menyusun matriks A dan vektor b\n",
        "# untuk BVP linear orde 2 dengan syarat batas Dirichlet\n",
        "# di kedua ujung\n",
        "\n",
        "\n",
        "# Langkah 1 : Inisialisasi\n",
        "\n",
        "xmin = 0                        # batas bawah x\n",
        "xmax = 1                        # batas atas x\n",
        "n = 1000                         # banyaknya interval\n",
        "h = (xmax-xmin)/n                         # lebar interval\n",
        "x = np.linspace(xmin, xmax, n+1)  # nilai x dengan lebar yang seragam"
      ]
    },
    {
      "cell_type": "markdown",
      "id": "1f457dcf",
      "metadata": {},
      "source": [
        "#### Langkah 2"
      ]
    },
    {
      "cell_type": "code",
      "execution_count": 109,
      "id": "40361cab",
      "metadata": {
        "id": "40361cab"
      },
      "outputs": [],
      "source": [
        "# Langkah 2 : Susun matriks A\n",
        "\n",
        "A = np.zeros((n+1,n+1))        # inisialisasi\n",
        "A[0, 0] = 1                     # batas kiri\n",
        "A[-1, -1] = 1                   # batas kanan\n",
        "p=1\n",
        "q=-2\n",
        "r=1\n",
        "for i in range(1, n):\n",
        "    A[i,i] = (-2*(p)/(h**2 ))+(r)     # diagonal\n",
        "    A[i,i-1] = ((p)/(h**2))-((q)/(2*h))     # kiri (west)\n",
        "    A[i,i+1] = ((p)/(h**2))+((q)/(2*h))       # kanan (east)"
      ]
    },
    {
      "cell_type": "markdown",
      "id": "56fc5842",
      "metadata": {},
      "source": [
        "#### Langkah 3"
      ]
    },
    {
      "cell_type": "code",
      "execution_count": 110,
      "id": "ac516c62",
      "metadata": {
        "id": "ac516c62"
      },
      "outputs": [],
      "source": [
        "# Langkah 3 : Susun vektor b\n",
        "\n",
        "b = np.zeros(n+1)\n",
        "b[0] = 1\n",
        "b[-1] = 0\n",
        "for i in range(1, n):\n",
        "    b[i] = 2*np.exp(x[i])"
      ]
    },
    {
      "cell_type": "markdown",
      "id": "fbfea114",
      "metadata": {},
      "source": [
        "#### Langkah 4"
      ]
    },
    {
      "cell_type": "code",
      "execution_count": 111,
      "id": "4fa64403",
      "metadata": {
        "id": "4fa64403"
      },
      "outputs": [
        {
          "name": "stdout",
          "output_type": "stream",
          "text": [
            "Matrix x : \n",
            "[0.    0.001 0.002 ... 0.998 0.999 1.   ]\n",
            "Matrix B : \n",
            "[1.         2.002001   2.004004   ... 5.4257014  5.43112981 0.        ]\n",
            "Matrix A : \n",
            "[[ 1.000000e+00  0.000000e+00  0.000000e+00 ...  0.000000e+00\n",
            "   0.000000e+00  0.000000e+00]\n",
            " [ 1.001000e+06 -1.999999e+06  9.990000e+05 ...  0.000000e+00\n",
            "   0.000000e+00  0.000000e+00]\n",
            " [ 0.000000e+00  1.001000e+06 -1.999999e+06 ...  0.000000e+00\n",
            "   0.000000e+00  0.000000e+00]\n",
            " ...\n",
            " [ 0.000000e+00  0.000000e+00  0.000000e+00 ... -1.999999e+06\n",
            "   9.990000e+05  0.000000e+00]\n",
            " [ 0.000000e+00  0.000000e+00  0.000000e+00 ...  1.001000e+06\n",
            "  -1.999999e+06  9.990000e+05]\n",
            " [ 0.000000e+00  0.000000e+00  0.000000e+00 ...  0.000000e+00\n",
            "   0.000000e+00  1.000000e+00]]\n"
          ]
        },
        {
          "data": {
            "text/plain": [
              "<matplotlib.image.AxesImage at 0x7f11bea2b610>"
            ]
          },
          "execution_count": 111,
          "metadata": {},
          "output_type": "execute_result"
        },
        {
          "data": {
            "image/png": "[encoded data removed]",
            "text/plain": [
              "<Figure size 432x288 with 1 Axes>"
            ]
          },
          "metadata": {
            "needs_background": "light"
          },
          "output_type": "display_data"
        }
      ],
      "source": [
        "# Langkah 4 :\n",
        "# Tampilkan vektor x, matriks A dan vektor b\n",
        "\n",
        "\n",
        "print(\"Matrix x : \\n{}\".format(x))\n",
        "print(\"Matrix B : \\n{}\".format(b))\n",
        "print(\"Matrix A : \\n{}\".format(A))\n",
        "\n",
        "# visualisasikan matriks A menggunakan perintah spy yang\n",
        "# ada pada modul pyplot\n",
        "\n",
        "plt.spy(A)"
      ]
    },
    {
      "cell_type": "markdown",
      "id": "5358610e",
      "metadata": {
        "id": "5358610e"
      },
      "source": [
        "## <code style=\"color:black\">**Mencari solusi** :</code>\n",
        "\n",
        "Persamaan linear yang dinyatakan dalam bentuk matriks\n",
        "\n",
        "$$\\mathbf{A\\,y} = \\mathbf{b}$$\n",
        "\n",
        "dapat diselesaikan dengan inverse dari matriks **A** ke persamaan tersebut.\n",
        "\n",
        "$$\\mathbf{A^{-1}\\,A\\,y} = \\mathbf{A^{-1}b}$$\n",
        "atau\n",
        "$$\\mathbf{y} = \\mathbf{A^{-1}b}$$\n",
        "\n",
        "\n",
        "Untuk keperluan ini kita dapat menggunakan **numpy.linalg.inv(a)** untuk mencari inverse matriks dan **numpy.matmul(x1, x2)** untuk melakukan perkalian matriks."
      ]
    },
    {
      "cell_type": "markdown",
      "id": "4f146a27",
      "metadata": {},
      "source": [
        "#### Langkah 5"
      ]
    },
    {
      "cell_type": "code",
      "execution_count": 112,
      "id": "b4965533",
      "metadata": {
        "colab": {
          "base_uri": "https://localhost:8080/",
          "height": 935
        },
        "id": "b4965533",
        "outputId": "80f73fe3-2335-4799-a0f6-0c56470dbe44"
      },
      "outputs": [
        {
          "name": "stdout",
          "output_type": "stream",
          "text": [
            "[1.00000000e+00 9.98999500e-01 9.97998001e-01 ... 1.08497880e-05\n",
            " 2.71475535e-06 0.00000000e+00]\n"
          ]
        },
        {
          "data": {
            "image/png": "[encoded data removed]",
            "text/plain": [
              "<Figure size 432x288 with 1 Axes>"
            ]
          },
          "metadata": {
            "needs_background": "light"
          },
          "output_type": "display_data"
        }
      ],
      "source": [
        "# Langkah 5 : mencari solusi menggunakan inverse matriks\n",
        "\n",
        "A_inv=np.linalg.inv(A)\n",
        "y = np.matmul(A_inv, b)\n",
        "\n",
        "# plot\n",
        "print(y)\n",
        "plt.plot(x,y)\n",
        "plt.xlabel(\"x\")\n",
        "plt.ylabel(\"y\")\n",
        "plt.show()"
      ]
    },
    {
      "cell_type": "markdown",
      "id": "b6a5740b",
      "metadata": {
        "id": "b6a5740b"
      },
      "source": [
        "Alternatif lain untuk mencari solusi persamaan matriks adalah menggunakan **numpy.linalg.solve(a, b)**. Metode ini menggunakan algoritma dekomposisi LU dengan pivoting parsial."
      ]
    },
    {
      "cell_type": "markdown",
      "id": "ebcfea17",
      "metadata": {},
      "source": [
        "#### Langkah 6"
      ]
    },
    {
      "cell_type": "code",
      "execution_count": 113,
      "id": "4c72e963",
      "metadata": {
        "id": "4c72e963"
      },
      "outputs": [
        {
          "name": "stdout",
          "output_type": "stream",
          "text": [
            "[1.00000000e+00 9.98999500e-01 9.97998001e-01 ... 1.08497880e-05\n",
            " 2.71475535e-06 0.00000000e+00]\n"
          ]
        },
        {
          "data": {
            "image/png": "[encoded data removed]",
            "text/plain": [
              "<Figure size 432x288 with 1 Axes>"
            ]
          },
          "metadata": {
            "needs_background": "light"
          },
          "output_type": "display_data"
        }
      ],
      "source": [
        "# Langkah 6: mencari solusi menggunakan dekomposisi LU\n",
        "\n",
        "y = np.linalg.solve(A,b)\n",
        "\n",
        "# plot\n",
        "print(y)\n",
        "plt.plot(x,y)\n",
        "plt.xlabel(\"x\")\n",
        "plt.ylabel(\"y\")\n",
        "plt.show()"
      ]
    },
    {
      "cell_type": "markdown",
      "id": "94894948",
      "metadata": {
        "id": "94894948"
      },
      "source": [
        "Kita dapat mencari waktu yang diperlukan untuk mencari solusi menggunakan metode di atas."
      ]
    },
    {
      "cell_type": "code",
      "execution_count": 114,
      "id": "9b2de0b2",
      "metadata": {
        "id": "9b2de0b2"
      },
      "outputs": [],
      "source": [
        "import time"
      ]
    },
    {
      "cell_type": "code",
      "execution_count": 115,
      "id": "cbeb7609",
      "metadata": {
        "id": "cbeb7609"
      },
      "outputs": [
        {
          "name": "stdout",
          "output_type": "stream",
          "text": [
            "Percobaan # 0 LU dengan pivoting parsial. Waktu yang diperlukan = 2.876e+00 detik\n",
            "Percobaan # 1 LU dengan pivoting parsial. Waktu yang diperlukan = 4.578e-01 detik\n",
            "Percobaan # 2 LU dengan pivoting parsial. Waktu yang diperlukan = 1.875e-01 detik\n",
            "Percobaan # 3 LU dengan pivoting parsial. Waktu yang diperlukan = 1.310e-01 detik\n",
            "Percobaan # 4 LU dengan pivoting parsial. Waktu yang diperlukan = 3.358e-02 detik\n",
            "Percobaan # 5 LU dengan pivoting parsial. Waktu yang diperlukan = 4.267e-02 detik\n",
            "Percobaan # 6 LU dengan pivoting parsial. Waktu yang diperlukan = 1.709e-01 detik\n",
            "Percobaan # 7 LU dengan pivoting parsial. Waktu yang diperlukan = 9.315e-02 detik\n",
            "Percobaan # 8 LU dengan pivoting parsial. Waktu yang diperlukan = 4.235e-02 detik\n",
            "Percobaan # 9 LU dengan pivoting parsial. Waktu yang diperlukan = 4.905e-02 detik\n",
            "Rerata waktu = 0.4084565877914429 detik\n"
          ]
        }
      ],
      "source": [
        "n = 10\n",
        "waktu = np.zeros(n)\n",
        "\n",
        "for i in range(n):\n",
        "    tic = time.time()\n",
        "    y = np.linalg.solve(A, b)\n",
        "    toc = time.time()\n",
        "    waktu[i] = toc-tic\n",
        "    print(\"Percobaan #\",i,\"LU dengan pivoting parsial. Waktu yang diperlukan = {:.3e} detik\".format(waktu[i]))\n",
        "\n",
        "\n",
        "print(\"Rerata waktu =\",np.average(waktu),\"detik\")\n"
      ]
    },
    {
      "cell_type": "markdown",
      "id": "54fe201a",
      "metadata": {
        "id": "54fe201a"
      },
      "source": [
        "Dari plot hasil **spy** dapat kita lihat bahwa matriks **A** adalah *sparse matrix*. Artinya elemen matriks pada posisi tridiagonal mempunyai nilai tertentu, dan sisanya (yang jumlah elemennya lebih banyak) mempunyai nilai 0.\n",
        "\n",
        "Pencarian solusi *sparse matrix* akan lebih efisien jika kita menggunakan algoritma yang memang dimaksudkan untuk itu. Umumnya digunakan algoritma penyelesaian yang bersifat iteratif. Ingat pada matakuliah Metode Numerik, kita pernah mempelajari metode iteratif untuk penyelesaian sistem persamaan linear, seperti metode Jacobi dan Gauss-Seidel. Namun di python terdapat algoritma yang lebih efisien dan efektif.\n",
        "\n",
        "Ada beberapa algoritma yang dapat digunakan dan dapat diperoleh dari modul **scipy**, antara lain :\n",
        "- Generalized Minimal RESidual (GMRES) : **scipy.sparse.linalg.gmres**\n",
        "- BIConjugate Gradient STABilized (BICGSTAB) : **scipy.sparse.linalg.bicgstab**\n",
        "- Conjugate Gradient Squared (CGS) : **scipy.sparse.linalg.cgs**\n",
        "-  Generalized Conjugate Residual with inner Orthogonalization and outer Truncation (GCROT) : **scipy.sparse.linalg.gcrotmk**\n",
        "\n",
        "Sebelum menyelesaikan permasalahan menggunakan metode-metode di atas, perlu dilakukan pengolahan awal matriks atau yang biasa disebut dengan *preconditioning*. Ide utama dari *preconditioning* ini adalah untuk mentransformasi sistem linear awal menjadi sistem linear yang ekivalen dengan sifat-sifat yang lebih baik untuk mencapai konvergensi.\n",
        "\n",
        "Tujuan utama dari *preconditioning* adalah :\n",
        "- mempercepat konvergensi\n",
        "- mengurangi jumlah iterasi:\n",
        "- meningkatkan *robustness*\n",
        "\n",
        "Ada beberapa teknik atau *preconditioner* yang dapat digunakan, misal :\n",
        "- *Incomplete LU (ILU) Preconditioner* : **scipy.sparse.linalg.spilu**\n",
        "- *Preconditioned Conjugate Gradient (PCG) Preconditioner*\n",
        "- *Algebraic Multigrid (AMG) Preconditioner*\n",
        "\n",
        "Di bawah ini contoh untuk melakukan penyelesaian masalah menggunakan metode GMRES dengan ILU preconditioner."
      ]
    },
    {
      "cell_type": "code",
      "execution_count": 116,
      "id": "b467e864",
      "metadata": {
        "id": "b467e864"
      },
      "outputs": [],
      "source": [
        "import scipy.sparse as sparse\n",
        "import scipy.sparse.linalg as sla\n",
        "from scipy.sparse import csc_matrix"
      ]
    },
    {
      "cell_type": "code",
      "execution_count": 117,
      "id": "66c2cc32",
      "metadata": {
        "id": "66c2cc32"
      },
      "outputs": [
        {
          "name": "stdout",
          "output_type": "stream",
          "text": [
            "[1.00000000e+00 9.98999501e-01 9.97998002e-01 ... 1.08497934e-05\n",
            " 2.71475804e-06 0.00000000e+00]\n"
          ]
        },
        {
          "data": {
            "image/png": "[encoded data removed]",
            "text/plain": [
              "<Figure size 432x288 with 1 Axes>"
            ]
          },
          "metadata": {
            "needs_background": "light"
          },
          "output_type": "display_data"
        }
      ],
      "source": [
        "## Contoh penyelesaian masalah menggunakan GMRES dengan ILU preconditioner\n",
        "\n",
        "\n",
        "# Preconditioning menggunakan ILU Preconditioner\n",
        "\n",
        "B = csc_matrix(A, dtype=float)\n",
        "ILUfact = sla.spilu(B)\n",
        "\n",
        "M = sla.LinearOperator(\n",
        "    shape = B.shape,\n",
        "    matvec = lambda b: ILUfact.solve(b)\n",
        ")\n",
        "\n",
        "# mencari solusi menggunakan GMRES\n",
        "y, exit = sla.gmres(B, b, M=M)\n",
        "\n",
        "# Plot\n",
        "print(y)\n",
        "plt.plot(x,y)\n",
        "plt.xlabel(\"x\")\n",
        "plt.ylabel(\"y\")\n",
        "plt.show()"
      ]
    },
    {
      "cell_type": "markdown",
      "id": "a869e8a5",
      "metadata": {
        "id": "a869e8a5"
      },
      "source": [
        "Mari kita bandingkan waktu yang diperlukan jika menggunakan metode GMRES"
      ]
    },
    {
      "cell_type": "code",
      "execution_count": 118,
      "id": "f34a06dc",
      "metadata": {
        "id": "f34a06dc"
      },
      "outputs": [
        {
          "name": "stdout",
          "output_type": "stream",
          "text": [
            "Percobaan # 0 GMRES dengan Preconditioning: Waktu yang diperlukan = 1.126e-03 detik\n",
            "Percobaan # 1 GMRES dengan Preconditioning: Waktu yang diperlukan = 1.310e-03 detik\n",
            "Percobaan # 2 GMRES dengan Preconditioning: Waktu yang diperlukan = 1.047e-03 detik\n",
            "Percobaan # 3 GMRES dengan Preconditioning: Waktu yang diperlukan = 1.145e-03 detik\n",
            "Percobaan # 4 GMRES dengan Preconditioning: Waktu yang diperlukan = 1.070e-03 detik\n",
            "Percobaan # 5 GMRES dengan Preconditioning: Waktu yang diperlukan = 1.040e-03 detik\n",
            "Percobaan # 6 GMRES dengan Preconditioning: Waktu yang diperlukan = 1.019e-03 detik\n",
            "Percobaan # 7 GMRES dengan Preconditioning: Waktu yang diperlukan = 1.023e-03 detik\n",
            "Percobaan # 8 GMRES dengan Preconditioning: Waktu yang diperlukan = 1.039e-03 detik\n",
            "Percobaan # 9 GMRES dengan Preconditioning: Waktu yang diperlukan = 1.017e-03 detik\n",
            "Rerata waktu = 0.0010835647583007813 detik\n"
          ]
        }
      ],
      "source": [
        "n = 10\n",
        "waktu = np.zeros(n)\n",
        "\n",
        "for i in range(n):\n",
        "    tic = time.time()\n",
        "    y, exit = sla.gmres(B, b, M=M)\n",
        "    toc = time.time()\n",
        "    waktu[i] = toc-tic\n",
        "    print(\"Percobaan #\",i,\"GMRES dengan Preconditioning: Waktu yang diperlukan = {:.3e} detik\".format(waktu[i]))\n",
        "\n",
        "print(\"Rerata waktu =\",np.average(waktu),\"detik\")"
      ]
    },
    {
      "cell_type": "markdown",
      "id": "8d8b8d0c",
      "metadata": {
        "id": "8d8b8d0c"
      },
      "source": [
        "Sekarang silakan Anda menyelesaikan permasalahan di atas menggunakan metode yang lain."
      ]
    },
    {
      "cell_type": "markdown",
      "id": "8afb276f",
      "metadata": {},
      "source": [
        "#### Langkah 7"
      ]
    },
    {
      "cell_type": "code",
      "execution_count": 119,
      "id": "d19b9c8d",
      "metadata": {
        "id": "d19b9c8d"
      },
      "outputs": [
        {
          "name": "stdout",
          "output_type": "stream",
          "text": [
            "[1.00000000e+00 9.98999500e-01 9.97998001e-01 ... 1.08497872e-05\n",
            " 2.71475494e-06 0.00000000e+00]\n"
          ]
        },
        {
          "data": {
            "image/png": "[encoded data removed]",
            "text/plain": [
              "<Figure size 432x288 with 1 Axes>"
            ]
          },
          "metadata": {
            "needs_background": "light"
          },
          "output_type": "display_data"
        }
      ],
      "source": [
        "# Langkah 7 : mencari solusi menggunakan metode BICGSTAB\n",
        "\n",
        "# Preconditioning menggunakan ILU Preconditioner\n",
        "\n",
        "B = csc_matrix(A, dtype=float)\n",
        "ILUfact = sla.spilu(B)\n",
        "\n",
        "M = sla.LinearOperator(\n",
        "    shape = B.shape,\n",
        "    matvec = lambda b: ILUfact.solve(b)\n",
        ")\n",
        "\n",
        "# mencari solusi menggunakan GMRES\n",
        "y, exit = sla.bicgstab(B, b, M=M)\n",
        "\n",
        "# Plot\n",
        "print(y)\n",
        "plt.plot(x,y)\n",
        "plt.xlabel(\"x\")\n",
        "plt.ylabel(\"y\")\n",
        "plt.show()"
      ]
    },
    {
      "cell_type": "code",
      "execution_count": 120,
      "id": "8b6aa47c",
      "metadata": {},
      "outputs": [
        {
          "name": "stdout",
          "output_type": "stream",
          "text": [
            "Percobaan # 0 BICGSTAB dengan Preconditioning: Waktu yang diperlukan = 1.241e-03 detik\n",
            "Percobaan # 1 BICGSTAB dengan Preconditioning: Waktu yang diperlukan = 1.241e-03 detik\n",
            "Percobaan # 2 BICGSTAB dengan Preconditioning: Waktu yang diperlukan = 1.017e-03 detik\n",
            "Percobaan # 3 BICGSTAB dengan Preconditioning: Waktu yang diperlukan = 9.696e-04 detik\n",
            "Percobaan # 4 BICGSTAB dengan Preconditioning: Waktu yang diperlukan = 9.604e-04 detik\n",
            "Percobaan # 5 BICGSTAB dengan Preconditioning: Waktu yang diperlukan = 9.599e-04 detik\n",
            "Percobaan # 6 BICGSTAB dengan Preconditioning: Waktu yang diperlukan = 9.727e-04 detik\n",
            "Percobaan # 7 BICGSTAB dengan Preconditioning: Waktu yang diperlukan = 9.620e-04 detik\n",
            "Percobaan # 8 BICGSTAB dengan Preconditioning: Waktu yang diperlukan = 9.561e-04 detik\n",
            "Percobaan # 9 BICGSTAB dengan Preconditioning: Waktu yang diperlukan = 9.668e-04 detik\n",
            "Rerata waktu = 0.0010245800018310546 detik\n"
          ]
        }
      ],
      "source": [
        "n = 10\n",
        "waktu = np.zeros(n)\n",
        "\n",
        "for i in range(n):\n",
        "    tic = time.time()\n",
        "    y, exit = sla.bicgstab(B, b, M=M)\n",
        "    toc = time.time()\n",
        "    waktu[i] = toc-tic\n",
        "    print(\"Percobaan #\",i,\"BICGSTAB dengan Preconditioning: Waktu yang diperlukan = {:.3e} detik\".format(waktu[i]))\n",
        "\n",
        "print(\"Rerata waktu =\",np.average(waktu),\"detik\")"
      ]
    },
    {
      "cell_type": "markdown",
      "id": "139cae29",
      "metadata": {},
      "source": [
        "#### Langkah 8"
      ]
    },
    {
      "cell_type": "code",
      "execution_count": 121,
      "id": "30158d38",
      "metadata": {
        "id": "30158d38"
      },
      "outputs": [
        {
          "name": "stdout",
          "output_type": "stream",
          "text": [
            "[1.00000000e+00 9.98999500e-01 9.97998001e-01 ... 1.08498352e-05\n",
            " 2.71477895e-06 0.00000000e+00]\n"
          ]
        },
        {
          "data": {
            "image/png": "[encoded data removed]",
            "text/plain": [
              "<Figure size 432x288 with 1 Axes>"
            ]
          },
          "metadata": {
            "needs_background": "light"
          },
          "output_type": "display_data"
        }
      ],
      "source": [
        "# Langkah 8: Mencari solusi menggunakan metode CGS\n",
        "\n",
        "\n",
        "# Preconditioning menggunakan ILU Preconditioner\n",
        "\n",
        "B = csc_matrix(A, dtype=float)\n",
        "ILUfact = sla.spilu(B)\n",
        "\n",
        "M = sla.LinearOperator(\n",
        "    shape = B.shape,\n",
        "    matvec = lambda b: ILUfact.solve(b)\n",
        ")\n",
        "\n",
        "# mencari solusi menggunakan CGS\n",
        "y, exit = sla.cgs(B, b, M=M)\n",
        "\n",
        "# Plot\n",
        "print(y)\n",
        "plt.plot(x,y)\n",
        "plt.xlabel(\"x\")\n",
        "plt.ylabel(\"y\")\n",
        "plt.show()"
      ]
    },
    {
      "cell_type": "code",
      "execution_count": 122,
      "id": "858a96e9",
      "metadata": {},
      "outputs": [
        {
          "name": "stdout",
          "output_type": "stream",
          "text": [
            "Percobaan # 0 CGS dengan Preconditioning: Waktu yang diperlukan = 1.537e-03 detik\n",
            "Percobaan # 1 CGS dengan Preconditioning: Waktu yang diperlukan = 2.409e-03 detik\n",
            "Percobaan # 2 CGS dengan Preconditioning: Waktu yang diperlukan = 1.587e-03 detik\n",
            "Percobaan # 3 CGS dengan Preconditioning: Waktu yang diperlukan = 1.480e-03 detik\n",
            "Percobaan # 4 CGS dengan Preconditioning: Waktu yang diperlukan = 1.431e-03 detik\n",
            "Percobaan # 5 CGS dengan Preconditioning: Waktu yang diperlukan = 1.353e-03 detik\n",
            "Percobaan # 6 CGS dengan Preconditioning: Waktu yang diperlukan = 1.355e-03 detik\n",
            "Percobaan # 7 CGS dengan Preconditioning: Waktu yang diperlukan = 1.401e-03 detik\n",
            "Percobaan # 8 CGS dengan Preconditioning: Waktu yang diperlukan = 9.961e-04 detik\n",
            "Percobaan # 9 CGS dengan Preconditioning: Waktu yang diperlukan = 9.699e-04 detik\n",
            "Rerata waktu = 0.0014518976211547851 detik\n"
          ]
        }
      ],
      "source": [
        "n = 10\n",
        "waktu = np.zeros(n)\n",
        "\n",
        "for i in range(n):\n",
        "    tic = time.time()\n",
        "    y, exit = sla.cgs(B, b, M=M)\n",
        "    toc = time.time()\n",
        "    waktu[i] = toc-tic\n",
        "    print(\"Percobaan #\",i,\"CGS dengan Preconditioning: Waktu yang diperlukan = {:.3e} detik\".format(waktu[i]))\n",
        "\n",
        "print(\"Rerata waktu =\",np.average(waktu),\"detik\")"
      ]
    },
    {
      "cell_type": "markdown",
      "id": "c8e796e4",
      "metadata": {},
      "source": [
        "#### Langkah 9"
      ]
    },
    {
      "cell_type": "code",
      "execution_count": 123,
      "id": "c6b834ca",
      "metadata": {
        "id": "c6b834ca"
      },
      "outputs": [
        {
          "name": "stdout",
          "output_type": "stream",
          "text": [
            "[1.00000000e+00 9.98999500e-01 9.97998001e-01 ... 1.08497880e-05\n",
            " 2.71475536e-06 0.00000000e+00]\n"
          ]
        },
        {
          "data": {
            "image/png": "[encoded data removed]",
            "text/plain": [
              "<Figure size 432x288 with 1 Axes>"
            ]
          },
          "metadata": {
            "needs_background": "light"
          },
          "output_type": "display_data"
        }
      ],
      "source": [
        "# Langkah 9 : mencari solusi menggunakan metode GCROT\n",
        "\n",
        "# Preconditioning menggunakan ILU Preconditioner\n",
        "\n",
        "B = csc_matrix(A, dtype=float)\n",
        "ILUfact = sla.spilu(B)\n",
        "\n",
        "M = sla.LinearOperator(\n",
        "    shape = B.shape,\n",
        "    matvec = lambda b: ILUfact.solve(b)\n",
        ")\n",
        "\n",
        "# mencari solusi menggunakan GCROT\n",
        "y, exit = sla.gcrotmk(B, b, M=M, atol=1e-5)\n",
        "\n",
        "# Plot\n",
        "print(y)\n",
        "plt.plot(x,y)\n",
        "plt.xlabel(\"x\")\n",
        "plt.ylabel(\"y\")\n",
        "plt.show()"
      ]
    },
    {
      "cell_type": "code",
      "execution_count": 124,
      "id": "de40ab57",
      "metadata": {},
      "outputs": [
        {
          "name": "stdout",
          "output_type": "stream",
          "text": [
            "Percobaan # 0 GCROT dengan Preconditioning: Waktu yang diperlukan = 2.112e-03 detik\n",
            "Percobaan # 1 GCROT dengan Preconditioning: Waktu yang diperlukan = 1.435e-03 detik\n",
            "Percobaan # 2 GCROT dengan Preconditioning: Waktu yang diperlukan = 1.367e-03 detik\n",
            "Percobaan # 3 GCROT dengan Preconditioning: Waktu yang diperlukan = 1.529e-03 detik\n",
            "Percobaan # 4 GCROT dengan Preconditioning: Waktu yang diperlukan = 1.252e-03 detik\n",
            "Percobaan # 5 GCROT dengan Preconditioning: Waktu yang diperlukan = 1.372e-03 detik\n",
            "Percobaan # 6 GCROT dengan Preconditioning: Waktu yang diperlukan = 1.384e-03 detik\n",
            "Percobaan # 7 GCROT dengan Preconditioning: Waktu yang diperlukan = 1.367e-03 detik\n",
            "Percobaan # 8 GCROT dengan Preconditioning: Waktu yang diperlukan = 1.039e-03 detik\n",
            "Percobaan # 9 GCROT dengan Preconditioning: Waktu yang diperlukan = 1.010e-03 detik\n",
            "Rerata waktu = 0.0013869047164916993 detik\n"
          ]
        },
        {
          "name": "stderr",
          "output_type": "stream",
          "text": [
            "/raid/rhendiya/.conda/envs/thesis/lib/python3.7/site-packages/ipykernel_launcher.py:6: DeprecationWarning: scipy.sparse.linalg.gcrotmk called without specifying `atol`. The default value will change in the future. To preserve current behavior, set ``atol=tol``.\n",
            "  \n"
          ]
        }
      ],
      "source": [
        "n = 10\n",
        "waktu = np.zeros(n)\n",
        "\n",
        "for i in range(n):\n",
        "    tic = time.time()\n",
        "    y, exit = sla.gcrotmk(B, b, M=M)\n",
        "    toc = time.time()\n",
        "    waktu[i] = toc-tic\n",
        "    print(\"Percobaan #\",i,\"GCROT dengan Preconditioning: Waktu yang diperlukan = {:.3e} detik\".format(waktu[i]))\n",
        "\n",
        "print(\"Rerata waktu =\",np.average(waktu),\"detik\")"
      ]
    },
    {
      "cell_type": "markdown",
      "id": "83ee4977",
      "metadata": {
        "id": "83ee4977"
      },
      "source": [
        "# <div class=\"alert alert-block alert-success\"><h2><b> Syarat Batas Neumann </b></h2></div>\n",
        "\n",
        "$$P(x)y''+Q(x)y'+R(x)y = W(x)$$\n",
        "\n",
        "$$ y(x_0)=y_0,\\qquad y'(x_n)=\\gamma_n$$\n",
        "\n",
        "Mari kita tinjau grid beda hingga di sekitar titik $x_n$\n",
        "\n",
        "<img src=\"fig_neumann2.png\" width=\"300\"/>\n",
        "\n",
        "Pendekatan beda hingga orde 2 yang dievaluasi pada titik $i=n$\n",
        "\n",
        "$$\\left(\\dfrac{P_n}{h^2} - \\dfrac{Q_n}{2h} \\right)y_{n-1}+\\left(\\dfrac{-2P_n}{h^2} +R_n \\right)y_n + \\left(\\dfrac{P_n}{h^2} + \\dfrac{Q_n}{2h} \\right)y_{n+1}= W_n$$\n",
        "\n",
        "Titik $n+1$ berada di luar domain penyelesaian, dan nilai $y_{n+1}$ tidak diketahui. Oleh karena itu digunakan pendekatan syarat batas turunan di titik $n$ :\n",
        "\n",
        " $$\\left.y'\\right|_n = \\dfrac{y_{n+1}-  y_{n-1}}{2h}  + \\mathcal{O}(h^2) = \\gamma_n$$\n",
        "\n",
        " Dengan memotong suku sisa orde 2, diperoleh rumusan untuk $y_{n+1}$\n",
        "\n",
        " $$y_{n+1} = y_{n-1} + 2h\\left.y'\\right|_n = y_{n-1} + 2h\\gamma_n$$\n",
        "\n",
        " Substitusi ke persamaan beda hingga, diperoleh :\n",
        "\n",
        " $$ \\boxed{\\dfrac{2P_n}{h^2}y_{n-1}+\\left(\\dfrac{-2P_n}{h^2} +R_n \\right)y_n  = W_n - 2h\\gamma_n\\left(\\dfrac{P_n}{h^2} + \\dfrac{Q_n}{2h} \\right)} $$\n",
        "\n",
        " Cara yang serupa juga dilakukan untuk problem dengan syarat batas Neumann pada $x = x_0$ atau $i = 0$."
      ]
    },
    {
      "cell_type": "markdown",
      "id": "a907e9e1",
      "metadata": {
        "id": "a907e9e1"
      },
      "source": [
        "# <div class=\"alert alert-block alert-warning\"><h1><b> Latihan 2</b></h1>    </div>\n",
        "\n",
        "\n",
        ">\n",
        "> Carilah solusi dari  BVP berikut ini\n",
        "> $$ \\dfrac{d^2y}{dx^2}-2\\dfrac{dy}{dx} + y = 2e^x $$\n",
        "> dengan syarat batas\n",
        "> \\begin{align}\n",
        "y'(0) &= 1 \\\\\n",
        "y'(1) &= 0\n",
        "\\end{align}\n",
        ">\n",
        "> Solusi :\n",
        "\n",
        "<img src=\"fig_solusi_neumann.png\" width=\"500\"/>\n",
        "\n",
        "> Solusi secara analitik (sebagai validasi) :\n",
        "\n",
        "<img src=\"fig_solusi_bvp2.png\" width=\"500\"/>"
      ]
    },
    {
      "cell_type": "markdown",
      "metadata": {},
      "source": [
        "Kanan\n",
        " $$ \\boxed{\\dfrac{2P_n}{h^2}y_{n-1}+\\left(\\dfrac{-2P_n}{h^2} +R_n \\right)y_n  = W_n - 2h\\gamma_n\\left(\\dfrac{P_n}{h^2} + \\dfrac{Q_n}{2h} \\right)} $$\n",
        "\n",
        "Kiri\n",
        " $$ \\boxed{\\dfrac{2P_n}{h^2}y_{n+1}+\\left(\\dfrac{-2P_n}{h^2} +R_n \\right)y_n  = W_n + 2h\\gamma_n\\left(\\dfrac{P_n}{h^2} - \\dfrac{Q_n}{2h} \\right)} $$\n",
        "\n",
        "Lainnnya\n",
        "$$\\left(\\dfrac{P_n}{h^2} - \\dfrac{Q_n}{2h} \\right)y_{n-1}+\\left(\\dfrac{-2P_n}{h^2} +R_n \\right)y_n + \\left(\\dfrac{P_n}{h^2} + \\dfrac{Q_n}{2h} \\right)y_{n+1}= W_n$$\n",
        "\n",
        "syarat batas\n",
        " $$y_{n+1} = y_{n-1} + 2h\\gamma_n$$\n",
        " $$y_{n-1} = y_{n+1} - 2h\\gamma_n$$"
      ]
    },
    {
      "cell_type": "markdown",
      "id": "f3107686",
      "metadata": {},
      "source": [
        "### Persiapan"
      ]
    },
    {
      "cell_type": "markdown",
      "id": "11ae43cf",
      "metadata": {},
      "source": [
        "#### Langkah 1"
      ]
    },
    {
      "cell_type": "code",
      "execution_count": 48,
      "id": "c439124d",
      "metadata": {
        "id": "c439124d"
      },
      "outputs": [],
      "source": [
        "# Menyusun matriks A dan vektor b\n",
        "# untuk BVP linear orde 2 dengan syarat batas Dirichlet\n",
        "# di kedua ujung\n",
        "\n",
        "\n",
        "# Langkah 1 : Inisialisasi\n",
        "xmax = 1\n",
        "xmin=0            \n",
        "gmin=1                          # batas bawah x (neuman)\n",
        "gmax=0                          # batas atas x (neuman)\n",
        "n = 1000                       # banyaknya interval\n",
        "h = (xmax-xmin)/n                         # lebar interval\n",
        "x = np.linspace(xmin, xmax, n+1)  # nilai x dengan lebar yang seragam\n"
      ]
    },
    {
      "cell_type": "markdown",
      "id": "774b6dfb",
      "metadata": {},
      "source": [
        "#### Langkah 2"
      ]
    },
    {
      "cell_type": "code",
      "execution_count": 49,
      "id": "3be28f18",
      "metadata": {
        "id": "3be28f18"
      },
      "outputs": [],
      "source": [
        "# Langkah 2 : Susun matriks A\n",
        "\n",
        "A = np.zeros((n+1,n+1))        # inisialisasi\n",
        "p=1\n",
        "q=-2\n",
        "r=1\n",
        "for i in range(0, n+1):\n",
        "    if i==0: #atur batas kiri\n",
        "        A[i,i] = -2*p/(h**2)+r # diagonal\n",
        "        A[i,i+1] = 2*p/(h**2) # kanan (east)\n",
        "    elif i==n: #atur batas kanan\n",
        "        A[i,i] = -2*p/(h**2)+r # diagonal\n",
        "        A[i,i-1] = 2*p/(h**2)     # kiri (west)\n",
        "    else:\n",
        "        A[i,i] = -2*p/(h**2)+r     # diagonal\n",
        "        A[i,i-1] = p/(h**2)-q/(2*h)     # kiri (west)\n",
        "        A[i,i+1] = p/(h**2)+q/(2*h)        # kanan (east)"
      ]
    },
    {
      "cell_type": "markdown",
      "id": "e16999fc",
      "metadata": {},
      "source": [
        "#### Langkah 3"
      ]
    },
    {
      "cell_type": "code",
      "execution_count": 50,
      "id": "df383402",
      "metadata": {},
      "outputs": [],
      "source": [
        "# Langkah 3 : Susun vektor b\n",
        "b = np.zeros(n+1)\n",
        "for i in range(0, n+1):\n",
        "    if i==0: #atur batas kiri\n",
        "        b[i]= 2*np.exp(x[i]) + 2*h*gmin*(p/(h**2)-q/(2*h))\n",
        "    elif i==n: #atur batas kanan\n",
        "        b[i]= 2*np.exp(x[i]) - 2*h*gmax*(p/(h**2)+q/(2*h))\n",
        "    else:\n",
        "        b[i] = 2*np.exp(x[i])"
      ]
    },
    {
      "cell_type": "markdown",
      "id": "e9b6029f",
      "metadata": {},
      "source": [
        "#### Langkah 4"
      ]
    },
    {
      "cell_type": "code",
      "execution_count": 51,
      "id": "32255c2f",
      "metadata": {},
      "outputs": [
        {
          "name": "stdout",
          "output_type": "stream",
          "text": [
            "Matrix x : \n",
            "[0.    0.001 0.002 ... 0.998 0.999 1.   ]\n",
            "Matrix B : \n",
            "[2.00400000e+03 2.00200100e+00 2.00400400e+00 ... 5.42570140e+00\n",
            " 5.43112981e+00 5.43656366e+00]\n",
            "Matrix A : \n",
            "[[-1999999.  2000000.        0. ...        0.        0.        0.]\n",
            " [ 1001000. -1999999.   999000. ...        0.        0.        0.]\n",
            " [       0.  1001000. -1999999. ...        0.        0.        0.]\n",
            " ...\n",
            " [       0.        0.        0. ... -1999999.   999000.        0.]\n",
            " [       0.        0.        0. ...  1001000. -1999999.   999000.]\n",
            " [       0.        0.        0. ...        0.  2000000. -1999999.]]\n"
          ]
        },
        {
          "data": {
            "text/plain": [
              "<matplotlib.image.AxesImage at 0x7f118ffcb4d0>"
            ]
          },
          "execution_count": 51,
          "metadata": {},
          "output_type": "execute_result"
        },
        {
          "data": {
            "image/png": "[encoded data removed]",
            "text/plain": [
              "<Figure size 432x288 with 1 Axes>"
            ]
          },
          "metadata": {
            "needs_background": "light"
          },
          "output_type": "display_data"
        }
      ],
      "source": [
        "# Langkah 4 :\n",
        "# Tampilkan vektor x, matriks A dan vektor b\n",
        "\n",
        "\n",
        "print(\"Matrix x : \\n{}\".format(x))\n",
        "print(\"Matrix B : \\n{}\".format(b))\n",
        "print(\"Matrix A : \\n{}\".format(A))\n",
        "\n",
        "# visualisasikan matriks A menggunakan perintah spy yang\n",
        "# ada pada modul pyplot\n",
        "\n",
        "plt.spy(A)"
      ]
    },
    {
      "cell_type": "markdown",
      "id": "5c2e1080",
      "metadata": {},
      "source": [
        "## <code style=\"color:black\">**Mencari solusi** :</code>\n",
        "\n",
        "Persamaan linear yang dinyatakan dalam bentuk matriks\n",
        "\n",
        "$$\\mathbf{A\\,y} = \\mathbf{b}$$\n",
        "\n",
        "dapat diselesaikan dengan inverse dari matriks **A** ke persamaan tersebut.\n",
        "\n",
        "$$\\mathbf{A^{-1}\\,A\\,y} = \\mathbf{A^{-1}b}$$\n",
        "atau\n",
        "$$\\mathbf{y} = \\mathbf{A^{-1}b}$$\n",
        "\n",
        "\n",
        "Untuk keperluan ini kita dapat menggunakan **numpy.linalg.inv(a)** untuk mencari inverse matriks dan **numpy.matmul(x1, x2)** untuk melakukan perkalian matriks."
      ]
    },
    {
      "cell_type": "markdown",
      "id": "86a12de7",
      "metadata": {},
      "source": [
        "#### Langkah 5"
      ]
    },
    {
      "cell_type": "code",
      "execution_count": 55,
      "id": "19a264a4",
      "metadata": {},
      "outputs": [
        {
          "name": "stdout",
          "output_type": "stream",
          "text": [
            "tensor([5.1839, 5.1822, 5.1832,  ..., 5.6189, 5.6189, 5.6189])\n"
          ]
        },
        {
          "data": {
            "image/png": "[encoded data removed]",
            "text/plain": [
              "<Figure size 432x288 with 1 Axes>"
            ]
          },
          "metadata": {
            "needs_background": "light"
          },
          "output_type": "display_data"
        }
      ],
      "source": [
        "# Langkah 5 : mencari solusi menggunakan inverse matriks\n",
        "A_inv=np.linalg.inv(A)\n",
        "y = np.matmul(A_inv,b)\n",
        "\n",
        "# plot\n",
        "print(y)\n",
        "plt.plot(x,y)\n",
        "plt.xlabel(\"x\")\n",
        "plt.ylabel(\"y\")\n",
        "plt.show()"
      ]
    },
    {
      "cell_type": "markdown",
      "id": "813ba383",
      "metadata": {},
      "source": [
        "#### Langkah 6"
      ]
    },
    {
      "cell_type": "code",
      "execution_count": null,
      "id": "aeb020f9",
      "metadata": {},
      "outputs": [
        {
          "name": "stdout",
          "output_type": "stream",
          "text": [
            "[5.00000037 5.00099987 5.00199837 ... 5.43656375 5.43656375 5.43656375]\n"
          ]
        },
        {
          "data": {
            "image/png": "[encoded data removed]",
            "text/plain": [
              "<Figure size 432x288 with 1 Axes>"
            ]
          },
          "metadata": {
            "needs_background": "light"
          },
          "output_type": "display_data"
        }
      ],
      "source": [
        "# Langkah 6: mencari solusi menggunakan dekomposisi LU\n",
        "\n",
        "y = np.linalg.solve(A,b)\n",
        "\n",
        "# plot\n",
        "print(y)\n",
        "plt.plot(x,y)\n",
        "plt.xlabel(\"x\")\n",
        "plt.ylabel(\"y\")\n",
        "plt.show()"
      ]
    },
    {
      "cell_type": "code",
      "execution_count": null,
      "id": "24551a6f",
      "metadata": {},
      "outputs": [
        {
          "name": "stdout",
          "output_type": "stream",
          "text": [
            "Percobaan # 0 LU dengan pivoting parsial. Waktu yang diperlukan = 1.298e+00 detik\n",
            "Percobaan # 1 LU dengan pivoting parsial. Waktu yang diperlukan = 4.827e-02 detik\n",
            "Percobaan # 2 LU dengan pivoting parsial. Waktu yang diperlukan = 1.483e-01 detik\n",
            "Percobaan # 3 LU dengan pivoting parsial. Waktu yang diperlukan = 1.889e-01 detik\n",
            "Percobaan # 4 LU dengan pivoting parsial. Waktu yang diperlukan = 2.210e-01 detik\n",
            "Percobaan # 5 LU dengan pivoting parsial. Waktu yang diperlukan = 4.546e-01 detik\n",
            "Percobaan # 6 LU dengan pivoting parsial. Waktu yang diperlukan = 5.361e-01 detik\n",
            "Percobaan # 7 LU dengan pivoting parsial. Waktu yang diperlukan = 8.266e-02 detik\n",
            "Percobaan # 8 LU dengan pivoting parsial. Waktu yang diperlukan = 4.686e-01 detik\n",
            "Percobaan # 9 LU dengan pivoting parsial. Waktu yang diperlukan = 2.192e-01 detik\n",
            "Rerata waktu = 0.3665471076965332 detik\n"
          ]
        }
      ],
      "source": [
        "n = 10\n",
        "waktu = np.zeros(n)\n",
        "\n",
        "for i in range(n):\n",
        "    tic = time.time()\n",
        "    y = np.linalg.solve(A, b)\n",
        "    toc = time.time()\n",
        "    waktu[i] = toc-tic\n",
        "    print(\"Percobaan #\",i,\"LU dengan pivoting parsial. Waktu yang diperlukan = {:.3e} detik\".format(waktu[i]))\n",
        "\n",
        "\n",
        "print(\"Rerata waktu =\",np.average(waktu),\"detik\")\n"
      ]
    },
    {
      "cell_type": "code",
      "execution_count": null,
      "id": "6a7b3e87",
      "metadata": {},
      "outputs": [
        {
          "name": "stdout",
          "output_type": "stream",
          "text": [
            "[5.00000037 5.00099987 5.00199837 ... 5.43656375 5.43656375 5.43656375]\n"
          ]
        },
        {
          "data": {
            "image/png": "[encoded data removed]",
            "text/plain": [
              "<Figure size 432x288 with 1 Axes>"
            ]
          },
          "metadata": {
            "needs_background": "light"
          },
          "output_type": "display_data"
        }
      ],
      "source": [
        "## Contoh penyelesaian masalah menggunakan GMRES dengan ILU preconditioner\n",
        "\n",
        "\n",
        "# Preconditioning menggunakan ILU Preconditioner\n",
        "\n",
        "B = csc_matrix(A, dtype=float)\n",
        "ILUfact = sla.spilu(B)\n",
        "\n",
        "M = sla.LinearOperator(\n",
        "    shape = B.shape,\n",
        "    matvec = lambda b: ILUfact.solve(b)\n",
        ")\n",
        "\n",
        "# mencari solusi menggunakan GMRES\n",
        "y, exit = sla.gmres(B, b, M=M)\n",
        "\n",
        "# Plot\n",
        "print(y)\n",
        "plt.plot(x,y)\n",
        "plt.xlabel(\"x\")\n",
        "plt.ylabel(\"y\")\n",
        "plt.show()"
      ]
    },
    {
      "cell_type": "code",
      "execution_count": null,
      "id": "b7c5673a",
      "metadata": {},
      "outputs": [
        {
          "name": "stdout",
          "output_type": "stream",
          "text": [
            "Percobaan # 0 GMRES dengan Preconditioning: Waktu yang diperlukan = 1.113e-03 detik\n",
            "Percobaan # 1 GMRES dengan Preconditioning: Waktu yang diperlukan = 1.295e-03 detik\n",
            "Percobaan # 2 GMRES dengan Preconditioning: Waktu yang diperlukan = 1.055e-03 detik\n",
            "Percobaan # 3 GMRES dengan Preconditioning: Waktu yang diperlukan = 9.937e-04 detik\n",
            "Percobaan # 4 GMRES dengan Preconditioning: Waktu yang diperlukan = 9.980e-04 detik\n",
            "Percobaan # 5 GMRES dengan Preconditioning: Waktu yang diperlukan = 1.093e-03 detik\n",
            "Percobaan # 6 GMRES dengan Preconditioning: Waktu yang diperlukan = 6.139e-04 detik\n",
            "Percobaan # 7 GMRES dengan Preconditioning: Waktu yang diperlukan = 1.086e-03 detik\n",
            "Percobaan # 8 GMRES dengan Preconditioning: Waktu yang diperlukan = 1.107e-03 detik\n",
            "Percobaan # 9 GMRES dengan Preconditioning: Waktu yang diperlukan = 1.086e-03 detik\n",
            "Rerata waktu = 0.0010442495346069335 detik\n"
          ]
        }
      ],
      "source": [
        "n = 10\n",
        "waktu = np.zeros(n)\n",
        "\n",
        "for i in range(n):\n",
        "    tic = time.time()\n",
        "    y, exit = sla.gmres(B, b, M=M)\n",
        "    toc = time.time()\n",
        "    waktu[i] = toc-tic\n",
        "    print(\"Percobaan #\",i,\"GMRES dengan Preconditioning: Waktu yang diperlukan = {:.3e} detik\".format(waktu[i]))\n",
        "\n",
        "print(\"Rerata waktu =\",np.average(waktu),\"detik\")"
      ]
    },
    {
      "cell_type": "markdown",
      "id": "06edab19",
      "metadata": {},
      "source": [
        "#### Langkah 7"
      ]
    },
    {
      "cell_type": "code",
      "execution_count": null,
      "id": "12bd4939",
      "metadata": {},
      "outputs": [
        {
          "name": "stdout",
          "output_type": "stream",
          "text": [
            "[5.00000037 5.00099987 5.00199837 ... 5.43656375 5.43656375 5.43656375]\n"
          ]
        },
        {
          "data": {
            "image/png": "[encoded data removed]",
            "text/plain": [
              "<Figure size 432x288 with 1 Axes>"
            ]
          },
          "metadata": {
            "needs_background": "light"
          },
          "output_type": "display_data"
        }
      ],
      "source": [
        "# Langkah 7 : mencari solusi menggunakan metode BICGSTAB\n",
        "\n",
        "# Preconditioning menggunakan ILU Preconditioner\n",
        "\n",
        "B = csc_matrix(A, dtype=float)\n",
        "ILUfact = sla.spilu(B)\n",
        "\n",
        "M = sla.LinearOperator(\n",
        "    shape = B.shape,\n",
        "    matvec = lambda b: ILUfact.solve(b)\n",
        ")\n",
        "\n",
        "# mencari solusi menggunakan BICGSTAB\n",
        "y, exit = sla.bicgstab(B, b, M=M)\n",
        "\n",
        "# Plot\n",
        "print(y)\n",
        "plt.plot(x,y)\n",
        "plt.xlabel(\"x\")\n",
        "plt.ylabel(\"y\")\n",
        "plt.show()"
      ]
    },
    {
      "cell_type": "code",
      "execution_count": null,
      "id": "b8bc2f80",
      "metadata": {},
      "outputs": [
        {
          "name": "stdout",
          "output_type": "stream",
          "text": [
            "[5.00000037 5.00099987 5.00199837 ... 5.43656375 5.43656375 5.43656375]\n"
          ]
        },
        {
          "data": {
            "image/png": "[encoded data removed]",
            "text/plain": [
              "<Figure size 432x288 with 1 Axes>"
            ]
          },
          "metadata": {
            "needs_background": "light"
          },
          "output_type": "display_data"
        }
      ],
      "source": [
        "# Langkah 7 : mencari solusi menggunakan metode BICGSTAB\n",
        "\n",
        "# Preconditioning menggunakan ILU Preconditioner\n",
        "\n",
        "B = csc_matrix(A, dtype=float)\n",
        "ILUfact = sla.spilu(B)\n",
        "\n",
        "M = sla.LinearOperator(\n",
        "    shape = B.shape,\n",
        "    matvec = lambda b: ILUfact.solve(b)\n",
        ")\n",
        "\n",
        "# mencari solusi menggunakan GMRES\n",
        "y, exit = sla.bicgstab(B, b, M=M)\n",
        "\n",
        "# Plot\n",
        "print(y)\n",
        "plt.plot(x,y)\n",
        "plt.xlabel(\"x\")\n",
        "plt.ylabel(\"y\")\n",
        "plt.show()"
      ]
    },
    {
      "cell_type": "markdown",
      "id": "bc0afc9d",
      "metadata": {},
      "source": [
        "#### Langkah 8"
      ]
    },
    {
      "cell_type": "code",
      "execution_count": null,
      "id": "9db66480",
      "metadata": {},
      "outputs": [
        {
          "name": "stdout",
          "output_type": "stream",
          "text": [
            "[5.00000037 5.00099987 5.00199837 ... 5.43656375 5.43656375 5.43656375]\n"
          ]
        },
        {
          "data": {
            "image/png": "[encoded data removed]",
            "text/plain": [
              "<Figure size 432x288 with 1 Axes>"
            ]
          },
          "metadata": {
            "needs_background": "light"
          },
          "output_type": "display_data"
        }
      ],
      "source": [
        "# Langkah 8: Mencari solusi menggunakan metode CGS\n",
        "\n",
        "\n",
        "# Preconditioning menggunakan ILU Preconditioner\n",
        "\n",
        "B = csc_matrix(A, dtype=float)\n",
        "ILUfact = sla.spilu(B)\n",
        "\n",
        "M = sla.LinearOperator(\n",
        "    shape = B.shape,\n",
        "    matvec = lambda b: ILUfact.solve(b)\n",
        ")\n",
        "\n",
        "# mencari solusi menggunakan CGS\n",
        "y, exit = sla.cgs(B, b, M=M)\n",
        "\n",
        "# Plot\n",
        "print(y)\n",
        "plt.plot(x,y)\n",
        "plt.xlabel(\"x\")\n",
        "plt.ylabel(\"y\")\n",
        "plt.show()"
      ]
    },
    {
      "cell_type": "code",
      "execution_count": null,
      "id": "9899197c",
      "metadata": {},
      "outputs": [
        {
          "name": "stdout",
          "output_type": "stream",
          "text": [
            "Percobaan # 0 CGS dengan Preconditioning: Waktu yang diperlukan = 1.338e-03 detik\n",
            "Percobaan # 1 CGS dengan Preconditioning: Waktu yang diperlukan = 1.542e-03 detik\n",
            "Percobaan # 2 CGS dengan Preconditioning: Waktu yang diperlukan = 1.168e-03 detik\n",
            "Percobaan # 3 CGS dengan Preconditioning: Waktu yang diperlukan = 1.163e-03 detik\n",
            "Percobaan # 4 CGS dengan Preconditioning: Waktu yang diperlukan = 1.204e-03 detik\n",
            "Percobaan # 5 CGS dengan Preconditioning: Waktu yang diperlukan = 9.241e-04 detik\n",
            "Percobaan # 6 CGS dengan Preconditioning: Waktu yang diperlukan = 8.221e-04 detik\n",
            "Percobaan # 7 CGS dengan Preconditioning: Waktu yang diperlukan = 8.073e-04 detik\n",
            "Percobaan # 8 CGS dengan Preconditioning: Waktu yang diperlukan = 8.202e-04 detik\n",
            "Percobaan # 9 CGS dengan Preconditioning: Waktu yang diperlukan = 7.961e-04 detik\n",
            "Rerata waktu = 0.001058483123779297 detik\n"
          ]
        }
      ],
      "source": [
        "n = 10\n",
        "waktu = np.zeros(n)\n",
        "\n",
        "for i in range(n):\n",
        "    tic = time.time()\n",
        "    y, exit = sla.cgs(B, b, M=M)\n",
        "    toc = time.time()\n",
        "    waktu[i] = toc-tic\n",
        "    print(\"Percobaan #\",i,\"CGS dengan Preconditioning: Waktu yang diperlukan = {:.3e} detik\".format(waktu[i]))\n",
        "\n",
        "print(\"Rerata waktu =\",np.average(waktu),\"detik\")"
      ]
    },
    {
      "cell_type": "markdown",
      "id": "c1881cb3",
      "metadata": {},
      "source": [
        "#### Langkah 9"
      ]
    },
    {
      "cell_type": "code",
      "execution_count": null,
      "id": "b8eeab20",
      "metadata": {},
      "outputs": [
        {
          "name": "stdout",
          "output_type": "stream",
          "text": [
            "[5.00000037 5.00099987 5.00199837 ... 5.43656375 5.43656375 5.43656375]\n"
          ]
        },
        {
          "data": {
            "image/png": "[encoded data removed]",
            "text/plain": [
              "<Figure size 432x288 with 1 Axes>"
            ]
          },
          "metadata": {
            "needs_background": "light"
          },
          "output_type": "display_data"
        }
      ],
      "source": [
        "# Langkah 9 : mencari solusi menggunakan metode GCROT\n",
        "\n",
        "# Preconditioning menggunakan ILU Preconditioner\n",
        "\n",
        "B = csc_matrix(A, dtype=float)\n",
        "ILUfact = sla.spilu(B)\n",
        "\n",
        "M = sla.LinearOperator(\n",
        "    shape = B.shape,\n",
        "    matvec = lambda b: ILUfact.solve(b)\n",
        ")\n",
        "\n",
        "# mencari solusi menggunakan GCROT\n",
        "y, exit = sla.gcrotmk(B, b, M=M, atol=1e-5)\n",
        "\n",
        "# Plot\n",
        "print(y)\n",
        "plt.plot(x,y)\n",
        "plt.xlabel(\"x\")\n",
        "plt.ylabel(\"y\")\n",
        "plt.show()"
      ]
    },
    {
      "cell_type": "code",
      "execution_count": null,
      "id": "0bb95473",
      "metadata": {},
      "outputs": [
        {
          "name": "stdout",
          "output_type": "stream",
          "text": [
            "Percobaan # 0 GCROT dengan Preconditioning: Waktu yang diperlukan = 1.189e-03 detik\n",
            "Percobaan # 1 GCROT dengan Preconditioning: Waktu yang diperlukan = 1.243e-03 detik\n",
            "Percobaan # 2 GCROT dengan Preconditioning: Waktu yang diperlukan = 9.146e-04 detik\n",
            "Percobaan # 3 GCROT dengan Preconditioning: Waktu yang diperlukan = 6.604e-04 detik\n",
            "Percobaan # 4 GCROT dengan Preconditioning: Waktu yang diperlukan = 1.050e-03 detik\n",
            "Percobaan # 5 GCROT dengan Preconditioning: Waktu yang diperlukan = 1.054e-03 detik\n",
            "Percobaan # 6 GCROT dengan Preconditioning: Waktu yang diperlukan = 1.046e-03 detik\n",
            "Percobaan # 7 GCROT dengan Preconditioning: Waktu yang diperlukan = 1.041e-03 detik\n",
            "Percobaan # 8 GCROT dengan Preconditioning: Waktu yang diperlukan = 1.046e-03 detik\n",
            "Percobaan # 9 GCROT dengan Preconditioning: Waktu yang diperlukan = 1.009e-03 detik\n",
            "Rerata waktu = 0.0010252952575683593 detik\n"
          ]
        }
      ],
      "source": [
        "n = 10\n",
        "waktu = np.zeros(n)\n",
        "\n",
        "for i in range(n):\n",
        "    tic = time.time()\n",
        "    y, exit = sla.gcrotmk(B, b, M=M, atol=1e-5)\n",
        "    toc = time.time()\n",
        "    waktu[i] = toc-tic\n",
        "    print(\"Percobaan #\",i,\"GCROT dengan Preconditioning: Waktu yang diperlukan = {:.3e} detik\".format(waktu[i]))\n",
        "\n",
        "print(\"Rerata waktu =\",np.average(waktu),\"detik\")"
      ]
    },
    {
      "cell_type": "code",
      "execution_count": null,
      "id": "dd48f77e",
      "metadata": {},
      "outputs": [
        {
          "name": "stdout",
          "output_type": "stream",
          "text": [
            "[1.18875504e-03 1.24263763e-03 9.14573669e-04 6.60419464e-04\n",
            " 1.05047226e-03 1.05428696e-03 1.04618073e-03 1.04093552e-03\n",
            " 1.04570389e-03 3.69548798e-05]\n"
          ]
        }
      ],
      "source": [
        "tic = time.time()\n",
        "toc = time.time()\n",
        "waktu[i] = toc-tic\n",
        "print(waktu)"
      ]
    },
    {
      "cell_type": "markdown",
      "id": "5df98dc0",
      "metadata": {},
      "source": [
        "# Latihan 2 (Pengayaan)"
      ]
    },
    {
      "cell_type": "markdown",
      "id": "b246c42d",
      "metadata": {},
      "source": [
        "## Mencari nilai n yang efisien dan menggunakan GPU\n",
        "1. masih ada kekurangan pada library pytorch karena nilai inverse A pada iterasi > 1000 tidak sesuai dengan menggunakan numpy. Sehingga hasil yang didapatkan tidak dapat handalkan.\n",
        "2. GPU memberikan hasil yang lebih cepat dimana jika menggunakan CPU untuk melihat hasil komputasi pada `n=[10,100,1000,10000]` dibutuhkan waktu 12 detik sedangkan GPU hanya 5 detik"
      ]
    },
    {
      "cell_type": "code",
      "execution_count": 136,
      "id": "ba0e5e03",
      "metadata": {},
      "outputs": [
        {
          "name": "stdout",
          "output_type": "stream",
          "text": [
            "True\n",
            "4\n",
            "0\n",
            "Sat May 18 19:06:39 2024       \n",
            "+-----------------------------------------------------------------------------+\n",
            "| NVIDIA-SMI 450.248.02   Driver Version: 450.248.02   CUDA Version: 11.0     |\n",
            "|-------------------------------+----------------------+----------------------+\n",
            "| GPU  Name        Persistence-M| Bus-Id        Disp.A | Volatile Uncorr. ECC |\n",
            "| Fan  Temp  Perf  Pwr:Usage/Cap|         Memory-Usage | GPU-Util  Compute M. |\n",
            "|                               |                      |               MIG M. |\n",
            "|===============================+======================+======================|\n",
            "|   0  Tesla V100-DGXS...  On   | 00000000:07:00.0 Off |                    0 |\n",
            "| N/A   43C    P0    52W / 300W |  26253MiB / 32508MiB |      0%      Default |\n",
            "|                               |                      |                  N/A |\n",
            "+-------------------------------+----------------------+----------------------+\n",
            "|   1  Tesla V100-DGXS...  On   | 00000000:08:00.0 Off |                    0 |\n",
            "| N/A   44C    P0    54W / 300W |  31845MiB / 32508MiB |      0%      Default |\n",
            "|                               |                      |                  N/A |\n",
            "+-------------------------------+----------------------+----------------------+\n",
            "|   2  Tesla V100-DGXS...  On   | 00000000:0E:00.0 Off |                    0 |\n",
            "| N/A   46C    P0   131W / 300W |  31845MiB / 32508MiB |     11%      Default |\n",
            "|                               |                      |                  N/A |\n",
            "+-------------------------------+----------------------+----------------------+\n",
            "|   3  Tesla V100-DGXS...  On   | 00000000:0F:00.0 Off |                    0 |\n",
            "| N/A   43C    P0    38W / 300W |      4MiB / 32508MiB |      0%      Default |\n",
            "|                               |                      |                  N/A |\n",
            "+-------------------------------+----------------------+----------------------+\n",
            "                                                                               \n",
            "+-----------------------------------------------------------------------------+\n",
            "| Processes:                                                                  |\n",
            "|  GPU   GI   CI        PID   Type   Process name                  GPU Memory |\n",
            "|        ID   ID                                                   Usage      |\n",
            "|=============================================================================|\n",
            "|    0   N/A  N/A     37107      C   ...a3/envs/sn_env/bin/python    26249MiB |\n",
            "|    1   N/A  N/A      7583      C   ...conda3/envs/tf/bin/python    31841MiB |\n",
            "|    2   N/A  N/A      7586      C   ...conda3/envs/tf/bin/python    31841MiB |\n",
            "+-----------------------------------------------------------------------------+\n",
            "0\n"
          ]
        }
      ],
      "source": [
        "import torch\n",
        "import os\n",
        "print(torch.cuda.is_available()) # Cek ketersediaan GPU\n",
        "print(torch.cuda.device_count()) # cek jumlah GPU\n",
        "print(torch.cuda.current_device()) # Cek gpu mana yang digunakan\n",
        "!nvidia-smi #cek kondisi gpu\n",
        "print(torch.cuda.current_device()) # Cek gpu mana yang digunakan"
      ]
    },
    {
      "cell_type": "code",
      "execution_count": 137,
      "id": "28de2f80",
      "metadata": {},
      "outputs": [
        {
          "name": "stdout",
          "output_type": "stream",
          "text": [
            "Package                 Version\n",
            "----------------------- -----------\n",
            "absl-py                 0.15.0\n",
            "astunparse              1.6.3\n",
            "backcall                0.2.0\n",
            "cachetools              5.3.3\n",
            "certifi                 2024.2.2\n",
            "charset-normalizer      3.3.2\n",
            "cycler                  0.11.0\n",
            "decorator               5.1.1\n",
            "entrypoints             0.4\n",
            "flatbuffers             1.12\n",
            "fonttools               4.38.0\n",
            "gast                    0.3.3\n",
            "google-auth             2.29.0\n",
            "google-auth-oauthlib    0.4.6\n",
            "google-pasta            0.2.0\n",
            "grpcio                  1.32.0\n",
            "h5py                    2.10.0\n",
            "idna                    3.7\n",
            "importlib-metadata      6.7.0\n",
            "ipykernel               5.5.5\n",
            "ipython                 7.33.0\n",
            "ipython-genutils        0.2.0\n",
            "jedi                    0.19.1\n",
            "joblib                  1.3.2\n",
            "jupyter-client          5.3.4\n",
            "jupyter_core            4.12.0\n",
            "Keras-Preprocessing     1.1.2\n",
            "kiwisolver              1.4.5\n",
            "Markdown                3.4.4\n",
            "MarkupSafe              2.1.5\n",
            "matplotlib              3.5.3\n",
            "matplotlib-inline       0.1.7\n",
            "natsort                 8.4.0\n",
            "numpy                   1.19.5\n",
            "oauthlib                3.2.2\n",
            "opt-einsum              3.3.0\n",
            "packaging               24.0\n",
            "pandas                  1.3.5\n",
            "parso                   0.8.4\n",
            "pexpect                 4.9.0\n",
            "pickleshare             0.7.5\n",
            "Pillow                  9.5.0\n",
            "pip                     24.0\n",
            "prompt-toolkit          3.0.42\n",
            "protobuf                3.20.3\n",
            "ptyprocess              0.7.0\n",
            "pyasn1                  0.5.1\n",
            "pyasn1-modules          0.3.0\n",
            "Pygments                2.16.1\n",
            "pyparsing               3.1.2\n",
            "python-dateutil         2.9.0\n",
            "pytz                    2024.1\n",
            "pyzmq                   24.0.1\n",
            "requests                2.31.0\n",
            "requests-oauthlib       2.0.0\n",
            "rsa                     4.9\n",
            "scikit-learn            1.0.2\n",
            "scipy                   1.7.3\n",
            "setuptools              65.6.3\n",
            "six                     1.15.0\n",
            "tensorboard             2.11.2\n",
            "tensorboard-data-server 0.6.1\n",
            "tensorboard-plugin-wit  1.8.1\n",
            "tensorflow              2.4.0\n",
            "tensorflow-estimator    2.4.0\n",
            "termcolor               1.1.0\n",
            "threadpoolctl           3.1.0\n",
            "torch                   1.7.1+cu110\n",
            "torchaudio              0.7.2\n",
            "torchvision             0.8.2+cu110\n",
            "tornado                 6.2\n",
            "traitlets               5.0.0\n",
            "typing-extensions       3.7.4.3\n",
            "urllib3                 2.0.7\n",
            "wcwidth                 0.1.9\n",
            "Werkzeug                2.2.3\n",
            "wheel                   0.42.0\n",
            "wrapt                   1.12.1\n",
            "zipp                    3.15.0\n"
          ]
        }
      ],
      "source": [
        "! pip list"
      ]
    },
    {
      "cell_type": "code",
      "execution_count": 138,
      "id": "447cd081",
      "metadata": {},
      "outputs": [],
      "source": [
        "# Langkah 1 : Inisialisasi     \n",
        "def latihan_2_find_n_use_gpu(n):   \n",
        "    tic = time.time()   \n",
        "    xmax=1\n",
        "    xmin=0\n",
        "    gmin=1                          # batas bawah x (neuman)\n",
        "    gmax=0                          # batas atas x (neuman)                      # banyaknya interval\n",
        "    h = (xmax-xmin)/n               # lebar interval\n",
        "    x = torch.linspace(xmin, xmax, n+1)  # nilai x dengan lebar yang seragam\n",
        "\n",
        "    # Langkah 2 : Susun matriks A\n",
        "    A = torch.zeros((n+1,n+1))        # inisialisasi\n",
        "    p=1\n",
        "    q=-2\n",
        "    r=1\n",
        "    for i in range(0, n+1):\n",
        "        if i==0: #atur batas kiri\n",
        "            A[i,i] = -2*p/(h**2)+r # diagonal\n",
        "            A[i,i+1] = 2*p/(h**2) # kanan (east)\n",
        "        elif i==n: #atur batas kanan\n",
        "            A[i,i] = -2*p/(h**2)+r # diagonal\n",
        "            A[i,i-1] = 2*p/(h**2)     # kiri (west)\n",
        "        else:\n",
        "            A[i,i] = -2*p/(h**2)+r     # diagonal\n",
        "            A[i,i-1] = p/(h**2)-q/(2*h)     # kiri (west)\n",
        "            A[i,i+1] = p/(h**2)+q/(2*h)        # kanan (east)\n",
        "\n",
        "    # Langkah 3 : Susun vektor b\n",
        "    b = torch.zeros(n+1)\n",
        "    for i in range(0, n+1):\n",
        "        if i==0: #atur batas kiri\n",
        "            b[i]= 2*torch.exp(x[i]) + 2*h*gmin*(p/(h**2)-q/(2*h))\n",
        "        elif i==n: #atur batas kanan\n",
        "            b[i]= 2*torch.exp(x[i]) - 2*h*gmax*(p/(h**2)+q/(2*h))\n",
        "        else:\n",
        "            b[i] = 2*torch.exp(x[i])\n",
        "\n",
        "    # # Langkah 4 :\n",
        "    # # Tampilkan vektor x, matriks A dan vektor b\n",
        "    # print(\"Matrix x : \\n{}\".format(x))\n",
        "    # print(\"Matrix B : \\n{}\".format(b))\n",
        "    # print(\"Matrix A : \\n{}\".format(A))\n",
        "    # # visualisasikan matriks A menggunakan perintah spy yang\n",
        "    # # ada pada modul pyplot\n",
        "    # plt.spy(A)\n",
        "\n",
        "    A_inv=torch.inverse(A)\n",
        "    y = torch.matmul(A_inv, b)\n",
        "    y_analytical= lambda x: 5*torch.exp(x)  - 4*torch.exp(x)*x + torch.exp(x)*(x**2)\n",
        "    y_analytical=y_analytical(x)\n",
        "    toc = time.time() \n",
        "    waktu = toc-tic\n",
        "    return x, y, y_analytical, waktu"
      ]
    },
    {
      "cell_type": "code",
      "execution_count": 139,
      "id": "2501372b",
      "metadata": {},
      "outputs": [],
      "source": [
        "n_list = [10**i for i in range(1,5,1)]\n",
        "report_dict={}\n",
        "for n_i in n_list:\n",
        "    x, y, y_analytical, waktu=latihan_2_find_n_use_gpu(n_i)\n",
        "    report_dict[n_i]=[x, y, y_analytical, waktu]\n",
        "    "
      ]
    },
    {
      "cell_type": "code",
      "execution_count": 140,
      "id": "6e8a5e05",
      "metadata": {},
      "outputs": [
        {
          "data": {
            "image/png": "[encoded data removed]",
            "text/plain": [
              "<Figure size 432x288 with 1 Axes>"
            ]
          },
          "metadata": {
            "needs_background": "light"
          },
          "output_type": "display_data"
        }
      ],
      "source": [
        "for n_i in n_list:\n",
        "    x = report_dict[n_i][0]\n",
        "    y = report_dict[n_i][1]\n",
        "    y_analytical = report_dict[n_i][2]\n",
        "    plt.plot(x,y, label=\"Computation {}\".format(n_i))\n",
        "plt.plot(x,y_analytical, label=\"Analytical\") #hanya n terbesar\n",
        "plt.legend()\n",
        "plt.xlabel(\"x\")\n",
        "plt.ylabel(\"y\")\n",
        "plt.title(\"Perbandingan Hasil Komputasi (GPU)\")\n",
        "plt.show()"
      ]
    },
    {
      "cell_type": "code",
      "execution_count": 141,
      "id": "7b3c6b56",
      "metadata": {},
      "outputs": [
        {
          "data": {
            "image/png": "[encoded data removed]",
            "text/plain": [
              "<Figure size 432x288 with 1 Axes>"
            ]
          },
          "metadata": {
            "needs_background": "light"
          },
          "output_type": "display_data"
        }
      ],
      "source": [
        "for n_i in [10,100,1000]:\n",
        "    x = report_dict[n_i][0]\n",
        "    y = report_dict[n_i][1]\n",
        "    y_analytical = report_dict[n_i][2]\n",
        "    plt.plot(x,y, label=\"Computation {}\".format(n_i))\n",
        "plt.plot(x,y_analytical, label=\"Analytical\") #hanya n terbesar\n",
        "plt.legend()\n",
        "plt.xlabel(\"x\")\n",
        "plt.ylabel(\"y\")\n",
        "plt.title(\"Perbandingan Hasil Komputasi (GPU) ex 10000\")\n",
        "plt.show()"
      ]
    },
    {
      "cell_type": "code",
      "execution_count": 142,
      "id": "d4963041",
      "metadata": {},
      "outputs": [
        {
          "data": {
            "image/png": "[encoded data removed]",
            "text/plain": [
              "<Figure size 432x288 with 1 Axes>"
            ]
          },
          "metadata": {
            "needs_background": "light"
          },
          "output_type": "display_data"
        }
      ],
      "source": [
        "for n_i in [10,100]:\n",
        "    x = report_dict[n_i][0]\n",
        "    y = report_dict[n_i][1]\n",
        "    y_analytical = report_dict[n_i][2]\n",
        "    plt.plot(x,y, label=\"Computation {}\".format(n_i))\n",
        "plt.plot(x,y_analytical, label=\"Analytical\") #hanya n terbesar\n",
        "plt.legend()\n",
        "plt.xlabel(\"x\")\n",
        "plt.ylabel(\"y\")\n",
        "plt.title(\"Perbandingan Hasil Komputasi (GPU) ex 10000 & 10000\")\n",
        "plt.show()"
      ]
    },
    {
      "cell_type": "code",
      "execution_count": 143,
      "id": "48bc6152",
      "metadata": {},
      "outputs": [
        {
          "name": "stdout",
          "output_type": "stream",
          "text": [
            "Iterasi 10 membutuhkan waktu 0.0021545886993408203\n",
            "Iterasi 100 membutuhkan waktu 0.007215738296508789\n",
            "Iterasi 1000 membutuhkan waktu 0.07823991775512695\n",
            "Iterasi 10000 membutuhkan waktu 4.251958847045898\n"
          ]
        }
      ],
      "source": [
        "for n_i in n_list:\n",
        "    print(\"Iterasi {} membutuhkan waktu {}\".format(n_i, report_dict[n_i][3]))"
      ]
    },
    {
      "cell_type": "markdown",
      "id": "ddff9248",
      "metadata": {},
      "source": [
        "## Mencari nilai n yang efisien\n",
        "Berdasarkan hasil dibawah :\n",
        "1. masih belum ditemukan nilai n dimana akan terjadi saturasi seiring peningkatan n, karena keterbatasan komputasi\n",
        "2. Semakin besar nilai n maka akan semakin kecil errornya"
      ]
    },
    {
      "cell_type": "code",
      "execution_count": 144,
      "id": "76e08644",
      "metadata": {},
      "outputs": [],
      "source": [
        "# Langkah 1 : Inisialisasi     \n",
        "def latihan_2_find_n(n):   \n",
        "    tic = time.time()   \n",
        "    xmax=1\n",
        "    xmin=0\n",
        "    gmin=1                          # batas bawah x (neuman)\n",
        "    gmax=0                          # batas atas x (neuman)                      # banyaknya interval\n",
        "    h = (xmax-xmin)/n               # lebar interval\n",
        "    x = np.linspace(xmin, xmax, n+1)  # nilai x dengan lebar yang seragam\n",
        "\n",
        "    # Langkah 2 : Susun matriks A\n",
        "    A = np.zeros((n+1,n+1))        # inisialisasi\n",
        "    p=1\n",
        "    q=-2\n",
        "    r=1\n",
        "    for i in range(0, n+1):\n",
        "        if i==0: #atur batas kiri\n",
        "            A[i,i] = -2*p/(h**2)+r # diagonal\n",
        "            A[i,i+1] = 2*p/(h**2) # kanan (east)\n",
        "        elif i==n: #atur batas kanan\n",
        "            A[i,i] = -2*p/(h**2)+r # diagonal\n",
        "            A[i,i-1] = 2*p/(h**2)     # kiri (west)\n",
        "        else:\n",
        "            A[i,i] = -2*p/(h**2)+r     # diagonal\n",
        "            A[i,i-1] = p/(h**2)-q/(2*h)     # kiri (west)\n",
        "            A[i,i+1] = p/(h**2)+q/(2*h)        # kanan (east)\n",
        "\n",
        "    # Langkah 3 : Susun vektor b\n",
        "    b = np.zeros(n+1)\n",
        "    for i in range(0, n+1):\n",
        "        if i==0: #atur batas kiri\n",
        "            b[i]= 2*np.exp(x[i]) + 2*h*gmin*(p/(h**2)-q/(2*h))\n",
        "        elif i==n: #atur batas kanan\n",
        "            b[i]= 2*np.exp(x[i]) - 2*h*gmax*(p/(h**2)+q/(2*h))\n",
        "        else:\n",
        "            b[i] = 2*np.exp(x[i])\n",
        "\n",
        "    A_inv=np.linalg.inv(A)\n",
        "    y = np.matmul(A_inv, b)\n",
        "    y_analytical= lambda x: 5*np.exp(x)  - 4*np.exp(x)*x + np.exp(x)*(x**2)\n",
        "    y_analytical=y_analytical(x)\n",
        "    toc = time.time() \n",
        "    waktu = toc-tic\n",
        "    return x, y, y_analytical, waktu"
      ]
    },
    {
      "cell_type": "code",
      "execution_count": 145,
      "id": "d1ea8a13",
      "metadata": {},
      "outputs": [],
      "source": [
        "n_list = [10**i for i in range(1,5,1)]\n",
        "report_dict={}\n",
        "for n_i in n_list:\n",
        "    x, y, y_analytical, waktu=latihan_2_find_n(n_i)\n",
        "    error=np.abs(y-y_analytical)/y_analytical\n",
        "    report_dict[n_i]=[x, y, y_analytical, waktu, error]"
      ]
    },
    {
      "cell_type": "code",
      "execution_count": 146,
      "id": "0ff7700d",
      "metadata": {},
      "outputs": [
        {
          "data": {
            "image/png": "[encoded data removed]",
            "text/plain": [
              "<Figure size 432x288 with 1 Axes>"
            ]
          },
          "metadata": {
            "needs_background": "light"
          },
          "output_type": "display_data"
        }
      ],
      "source": [
        "for n_i in n_list:\n",
        "    x = report_dict[n_i][0]\n",
        "    y = report_dict[n_i][1]\n",
        "    y_analytical = report_dict[n_i][2]\n",
        "    plt.plot(x,y, label=\"Computation {}\".format(n_i))\n",
        "plt.plot(x,y_analytical, label=\"Analytical\") #hanya n terbesar\n",
        "plt.legend()\n",
        "plt.xlabel(\"x\")\n",
        "plt.ylabel(\"y\")\n",
        "plt.title(\"Perbandingan Hasil Komputasi (GPU)\")\n",
        "plt.legend()\n",
        "plt.show()"
      ]
    },
    {
      "cell_type": "code",
      "execution_count": 147,
      "id": "d0369ab8",
      "metadata": {},
      "outputs": [
        {
          "data": {
            "image/png": "[encoded data removed]",
            "text/plain": [
              "<Figure size 432x288 with 1 Axes>"
            ]
          },
          "metadata": {
            "needs_background": "light"
          },
          "output_type": "display_data"
        }
      ],
      "source": [
        "for n_i in n_list:\n",
        "    x = report_dict[n_i][0]\n",
        "    e = report_dict[n_i][4]\n",
        "    plt.plot(x,e, label=\"n={}\".format(n_i))\n",
        "plt.legend()\n",
        "plt.xlabel(\"error (%)\")\n",
        "plt.ylabel(\"y\")\n",
        "plt.title(\"Perbandingan Error Hasil Komputasi\")\n",
        "plt.show()"
      ]
    },
    {
      "cell_type": "code",
      "execution_count": 148,
      "id": "8d484886",
      "metadata": {},
      "outputs": [
        {
          "data": {
            "image/png": "[encoded data removed]",
            "text/plain": [
              "<Figure size 432x288 with 1 Axes>"
            ]
          },
          "metadata": {
            "needs_background": "light"
          },
          "output_type": "display_data"
        }
      ],
      "source": [
        "for n_i in [100,1000,10000]:\n",
        "    x = report_dict[n_i][0]\n",
        "    e = report_dict[n_i][4]\n",
        "    plt.plot(x,e, label=\"n={}\".format(n_i))\n",
        "plt.legend()\n",
        "plt.xlabel(\"error (%)\")\n",
        "plt.ylabel(\"y\")\n",
        "plt.title(\"Perbandingan Error Hasil Komputasi\")\n",
        "plt.show()"
      ]
    },
    {
      "cell_type": "code",
      "execution_count": 149,
      "id": "63ea8eb0",
      "metadata": {},
      "outputs": [
        {
          "data": {
            "image/png": "[encoded data removed]",
            "text/plain": [
              "<Figure size 432x288 with 1 Axes>"
            ]
          },
          "metadata": {
            "needs_background": "light"
          },
          "output_type": "display_data"
        }
      ],
      "source": [
        "for n_i in [1000,10000]:\n",
        "    x = report_dict[n_i][0]\n",
        "    e = report_dict[n_i][4]\n",
        "    plt.plot(x,e, label=\"n={}\".format(n_i))\n",
        "plt.legend()\n",
        "plt.xlabel(\"error (%)\")\n",
        "plt.ylabel(\"y\")\n",
        "plt.title(\"Perbandingan Error Hasil Komputasi\")\n",
        "plt.show()"
      ]
    },
    {
      "cell_type": "markdown",
      "id": "395cf63e",
      "metadata": {},
      "source": [
        "## Metode mana yang paling bagus\n",
        "1. Berdasarkan error yang dihasilkan pada setiap metode, tidak ditemukan perbedaan signifikan sehingga semua metode dapat digunakan untuk solusi \n",
        "2. Penyelesaian sparse matrix lebih efisien diselesaikan dengan ILU preconditioner daripada inverse matrix dan LU karena lebih cepat\n",
        "3. Berdasarkan kecepatan komputasi dari tercepat hingga terlama berikut adalah urutannya (BICGSTAB, CGS, GCROTMK, GMRS, LU, Inverse)"
      ]
    },
    {
      "cell_type": "code",
      "execution_count": 150,
      "id": "1901f35e",
      "metadata": {},
      "outputs": [],
      "source": [
        "# Langkah 1 : Inisialisasi     \n",
        "def latihan_2_return_mat(n=1000):   \n",
        "    tic = time.time()   \n",
        "    xmax=1\n",
        "    xmin=0\n",
        "    gmin=1                          # batas bawah x (neuman)\n",
        "    gmax=0                          # batas atas x (neuman)                      # banyaknya interval\n",
        "    h = (xmax-xmin)/n               # lebar interval\n",
        "    x = np.linspace(xmin, xmax, n+1)  # nilai x dengan lebar yang seragam\n",
        "\n",
        "    # Langkah 2 : Susun matriks A\n",
        "    A = np.zeros((n+1,n+1))        # inisialisasi\n",
        "    p=1\n",
        "    q=-2\n",
        "    r=1\n",
        "    for i in range(0, n+1):\n",
        "        if i==0: #atur batas kiri\n",
        "            A[i,i] = -2*p/(h**2)+r # diagonal\n",
        "            A[i,i+1] = 2*p/(h**2) # kanan (east)\n",
        "        elif i==n: #atur batas kanan\n",
        "            A[i,i] = -2*p/(h**2)+r # diagonal\n",
        "            A[i,i-1] = 2*p/(h**2)     # kiri (west)\n",
        "        else:\n",
        "            A[i,i] = -2*p/(h**2)+r     # diagonal\n",
        "            A[i,i-1] = p/(h**2)-q/(2*h)     # kiri (west)\n",
        "            A[i,i+1] = p/(h**2)+q/(2*h)        # kanan (east)\n",
        "\n",
        "    # Langkah 3 : Susun vektor b\n",
        "    b = np.zeros(n+1)\n",
        "    for i in range(0, n+1):\n",
        "        if i==0: #atur batas kiri\n",
        "            b[i]= 2*np.exp(x[i]) + 2*h*gmin*(p/(h**2)-q/(2*h))\n",
        "        elif i==n: #atur batas kanan\n",
        "            b[i]= 2*np.exp(x[i]) - 2*h*gmax*(p/(h**2)+q/(2*h))\n",
        "        else:\n",
        "            b[i] = 2*np.exp(x[i])\n",
        "\n",
        "    y_analytical= lambda x: 5*np.exp(x)  - 4*np.exp(x)*x + np.exp(x)*(x**2)\n",
        "    y_analytical=y_analytical(x)\n",
        "    \n",
        "    return A,b,y_analytical,x"
      ]
    },
    {
      "cell_type": "markdown",
      "id": "22ee9561",
      "metadata": {},
      "source": [
        "### Meninjau error"
      ]
    },
    {
      "cell_type": "code",
      "execution_count": 151,
      "id": "adf8e55f",
      "metadata": {},
      "outputs": [],
      "source": [
        "A,b,y_analytical,x=latihan_2_return_mat()\n",
        "#inverse\n",
        "A_inv=np.linalg.inv(A)\n",
        "y = np.matmul(A_inv,b)\n",
        "performance={}\n",
        "performance['Inverse']=[y]\n",
        "error=np.abs(y-y_analytical)/y_analytical\n",
        "performance['Inverse'].append(error)\n",
        "#dekomposisi LU\n",
        "y = np.linalg.solve(A,b)\n",
        "performance['LU']=[y]\n",
        "error=np.abs(y-y_analytical)/y_analytical\n",
        "performance['LU'].append(error)\n",
        "#ILU preconditioner\n",
        "B = csc_matrix(A, dtype=float)\n",
        "ILUfact = sla.spilu(B)\n",
        "\n",
        "M = sla.LinearOperator(\n",
        "    shape = B.shape,\n",
        "    matvec = lambda b: ILUfact.solve(b)\n",
        ")\n",
        "# mencari solusi menggunakan GMRES\n",
        "y, exit = sla.gmres(B, b, M=M)\n",
        "performance['GMRES']=[y]\n",
        "error=np.abs(y-y_analytical)/y_analytical\n",
        "performance['GMRES'].append(error)\n",
        "# mencari solusi menggunakan bicgstab\n",
        "y, exit = sla.bicgstab(B, b, M=M)\n",
        "performance['BICGSTAB']=[y]\n",
        "error=np.abs(y-y_analytical)/y_analytical\n",
        "performance['BICGSTAB'].append(error)\n",
        "# mencari solusi menggunakan cgs\n",
        "y, exit = sla.cgs(B, b, M=M)\n",
        "performance['CGS']=[y]\n",
        "error=np.abs(y-y_analytical)/y_analytical\n",
        "performance['CGS'].append(error)\n",
        "# mencari solusi menggunakan gcrotmk\n",
        "y, exit = sla.gcrotmk(B, b, M=M, atol=1e-5)\n",
        "performance['GCROTMK']=[y]\n",
        "error=np.abs(y-y_analytical)/y_analytical\n",
        "performance['GCROTMK'].append(error)\n"
      ]
    },
    {
      "cell_type": "code",
      "execution_count": 152,
      "id": "5415270d",
      "metadata": {},
      "outputs": [
        {
          "data": {
            "image/png": "[encoded data removed]",
            "text/plain": [
              "<Figure size 432x288 with 1 Axes>"
            ]
          },
          "metadata": {
            "needs_background": "light"
          },
          "output_type": "display_data"
        }
      ],
      "source": [
        "for key, value in performance.items():\n",
        "    plt.plot(x, value[0], label=key)\n",
        "plt.legend()\n",
        "plt.xlabel(\"error (%)\")\n",
        "plt.ylabel(\"y\")\n",
        "plt.title(\"Perbandingan Hasil Komputasi Metode Solusi\")\n",
        "plt.show()\n",
        "    \n"
      ]
    },
    {
      "cell_type": "code",
      "execution_count": 153,
      "id": "a3b39fb3",
      "metadata": {},
      "outputs": [
        {
          "data": {
            "image/png": "[encoded data removed]",
            "text/plain": [
              "<Figure size 432x288 with 1 Axes>"
            ]
          },
          "metadata": {
            "needs_background": "light"
          },
          "output_type": "display_data"
        }
      ],
      "source": [
        "for key, value in performance.items():\n",
        "    plt.plot(x, value[1], label=key)\n",
        "plt.legend()\n",
        "plt.xlabel(\"error (%)\")\n",
        "plt.ylabel(\"y\")\n",
        "plt.title(\"Perbandingan Error Metode Solusi\")\n",
        "plt.show()"
      ]
    },
    {
      "cell_type": "markdown",
      "id": "63ce85fe",
      "metadata": {},
      "source": [
        "### Meninjau waktu"
      ]
    },
    {
      "cell_type": "code",
      "execution_count": 154,
      "id": "40650e5b",
      "metadata": {},
      "outputs": [],
      "source": [
        "n = 100\n",
        "waktu_metode={}\n",
        "waktu = np.zeros(n)\n",
        "#Inverse\n",
        "for i in range(n):\n",
        "    tic = time.time()\n",
        "    A_inv=np.linalg.inv(A)\n",
        "    y = np.matmul(A_inv,b)\n",
        "    toc = time.time()\n",
        "    waktu[i] = toc-tic\n",
        "waktu_metode['Inverse']=np.average(waktu)\n",
        "\n",
        "#LU\n",
        "for i in range(n):\n",
        "    tic = time.time()\n",
        "    y = np.linalg.solve(A,b)\n",
        "    toc = time.time()\n",
        "    waktu[i] = toc-tic\n",
        "waktu_metode['LU']=np.average(waktu)\n",
        "\n",
        "\n",
        "#ILU preconditioner\n",
        "B = csc_matrix(A, dtype=float)\n",
        "ILUfact = sla.spilu(B)\n",
        "\n",
        "M = sla.LinearOperator(\n",
        "    shape = B.shape,\n",
        "    matvec = lambda b: ILUfact.solve(b))\n",
        "\n",
        "#GMRES\n",
        "for i in range(n):\n",
        "    tic = time.time()\n",
        "    y, exit = sla.gmres(B, b, M=M)\n",
        "    toc = time.time()\n",
        "    waktu[i] = toc-tic\n",
        "waktu_metode['GMRS']=np.average(waktu)\n",
        "\n",
        "#bicgstab\n",
        "for i in range(n):\n",
        "    tic = time.time()\n",
        "    y, exit = sla.bicgstab(B, b, M=M)\n",
        "    toc = time.time()\n",
        "    waktu[i] = toc-tic\n",
        "waktu_metode['BICGSTAB']=np.average(waktu)\n",
        "\n",
        "#cgs\n",
        "for i in range(n):\n",
        "    tic = time.time()\n",
        "    y, exit = sla.cgs(B, b, M=M)\n",
        "    toc = time.time()\n",
        "    waktu[i] = toc-tic\n",
        "waktu_metode['CGS']=np.average(waktu)\n",
        "\n",
        "#gcrotmk\n",
        "for i in range(n):\n",
        "    tic = time.time()\n",
        "    y, exit = sla.gcrotmk(B, b, M=M, atol=1e-5)\n",
        "    toc = time.time()\n",
        "    waktu[i] = toc-tic\n",
        "waktu_metode['GCROTMK']=np.average(waktu)"
      ]
    },
    {
      "cell_type": "code",
      "execution_count": 156,
      "id": "6e9d7204",
      "metadata": {},
      "outputs": [
        {
          "data": {
            "text/html": [
              "<div>\n",
              "<style scoped>\n",
              "    .dataframe tbody tr th:only-of-type {\n",
              "        vertical-align: middle;\n",
              "    }\n",
              "\n",
              "    .dataframe tbody tr th {\n",
              "        vertical-align: top;\n",
              "    }\n",
              "\n",
              "    .dataframe thead th {\n",
              "        text-align: right;\n",
              "    }\n",
              "</style>\n",
              "<table border=\"1\" class=\"dataframe\">\n",
              "  <thead>\n",
              "    <tr style=\"text-align: right;\">\n",
              "      <th></th>\n",
              "      <th>Mean Waktu Komputasi</th>\n",
              "    </tr>\n",
              "  </thead>\n",
              "  <tbody>\n",
              "    <tr>\n",
              "      <th>BICGSTAB</th>\n",
              "      <td>0.000238</td>\n",
              "    </tr>\n",
              "    <tr>\n",
              "      <th>CGS</th>\n",
              "      <td>0.000348</td>\n",
              "    </tr>\n",
              "    <tr>\n",
              "      <th>GCROTMK</th>\n",
              "      <td>0.000447</td>\n",
              "    </tr>\n",
              "    <tr>\n",
              "      <th>GMRS</th>\n",
              "      <td>0.001038</td>\n",
              "    </tr>\n",
              "    <tr>\n",
              "      <th>LU</th>\n",
              "      <td>0.017954</td>\n",
              "    </tr>\n",
              "    <tr>\n",
              "      <th>Inverse</th>\n",
              "      <td>0.437753</td>\n",
              "    </tr>\n",
              "  </tbody>\n",
              "</table>\n",
              "</div>"
            ],
            "text/plain": [
              "          Mean Waktu Komputasi\n",
              "BICGSTAB              0.000238\n",
              "CGS                   0.000348\n",
              "GCROTMK               0.000447\n",
              "GMRS                  0.001038\n",
              "LU                    0.017954\n",
              "Inverse               0.437753"
            ]
          },
          "execution_count": 156,
          "metadata": {},
          "output_type": "execute_result"
        }
      ],
      "source": [
        "import pandas as pd\n",
        "df=pd.DataFrame(data=waktu_metode, index=['Mean Waktu Komputasi'])\n",
        "df=df.T\n",
        "df.sort_values('Mean Waktu Komputasi')\n"
      ]
    }
  ],
  "metadata": {
    "colab": {
      "provenance": []
    },
    "kernelspec": {
      "display_name": "Python 3 (ipykernel)",
      "language": "python",
      "name": "python3"
    },
    "language_info": {
      "codemirror_mode": {
        "name": "ipython",
        "version": 3
      },
      "file_extension": ".py",
      "mimetype": "text/x-python",
      "name": "python",
      "nbconvert_exporter": "python",
      "pygments_lexer": "ipython3",
      "version": "3.7.12"
    }
  },
  "nbformat": 4,
  "nbformat_minor": 5
}
