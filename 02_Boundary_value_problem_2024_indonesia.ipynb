{
  "cells": [
    {
      "cell_type": "markdown",
      "id": "1bacc3ff",
      "metadata": {
        "id": "1bacc3ff"
      },
      "source": [
        "<div class=\"alert alert-block alert-success\"><h1><b> Pendekatan beda hingga (finite difference) </b></h3></div>\n",
        "\n",
        "Fungsi $y(x)$ dapat dibentuk menjadi persamaan diferensi menggunakan pendekatan Taylor.\n",
        "\n",
        "$$y(x) = y(x_0) + (x-x_0)y'(x_0) + \\dfrac{(x-x_0)^2}{2!}y''(x_0)+\\ldots+\\dfrac{(x-x_0)^n}{n!}y(x_0)^{(n)} + \\ldots$$\n",
        "\n",
        "Domain yang kontinyu dengan interval $[a,b]$ diibagi menjadi $n$ subinterval yang sama panjang, $h = \\Delta x$.\n",
        "\n",
        "<img src=\"fig_diskretisasi2.png\" width=\"500\"/>\n",
        "\n",
        "Untuk ruang $x$ yang didiskretisasi, $y(x_i) = y_i$, dengan indeks $i$ menyatakan lokasi spasial tertentu.\n",
        "\n",
        "Dengan menggunakan skema diskretisasi di atas, maka ekspansi Taylor dari fungsi $y(x)$ menjadi\n",
        "\n",
        "\\begin{align}\n",
        "y_{i+1} &= y_i + hy_i' + \\dfrac{h^2}{2!}y_i''+\\dfrac{h^3}{3!}y_i''' + \\dfrac{h^4}{4!}y_i^{(4)} + \\ldots \\\\\n",
        "y_{i-1} &= y_i - hy_i' + \\dfrac{h^2}{2!}y_i''-\\dfrac{h^3}{3!}y_i''' + \\dfrac{h^4}{4!}y_i^{(4)} + \\ldots \\\\\n",
        "\\end{align}\n",
        "\n",
        "Dengan menjumlahkan kedua deret di atas akan diperoleh:\n",
        "\n",
        "$$ y_{i+1} + y_{i-1} = 2y_i +  h^2y_i'' + \\dfrac{h^4}{12}y_i^{(4)} + \\ldots $$\n",
        "\n",
        "atau\n",
        "\n",
        "$$ y''(x) = y''_i = \\dfrac{y_{i+1} -2y_i +  y_{i-1}}{h^2}  - \\dfrac{h^2}{12}y_i^{(4)} + \\ldots $$\n",
        "\n",
        "atau\n",
        "\n",
        "$$  \\boxed{y''_i = \\dfrac{y_{i+1} -2y_i +  y_{i-1}}{h^2}  + \\mathcal{O}(h^2)}$$\n",
        "\n",
        "Persamaan di atas merupakan bentuk turunan kedua untuk persamaan diferensi.\n",
        "\n",
        "\n",
        "Selanjutnya dengan mengurangkan kedua deret akan diperoleh\n",
        "\n",
        "$$y_{i+1} - y_{i-1} = 2hy'_i +  \\dfrac{h^3}{3}y'''_i + \\ldots $$\n",
        "\n",
        "atau\n",
        "\n",
        "$$ y'(x) = y'_i = \\dfrac{y_{i+1} - y_{i-1}}{2h}  - \\dfrac{h^2}{6}y'''_i - \\ldots $$\n",
        "\n",
        "atau\n",
        "\n",
        "$$  \\boxed{y'_i = \\dfrac{y_{i+1}-  y_{i-1}}{2h}  + \\mathcal{O}(h^2)}$$\n",
        "\n",
        "Persamaan di atas merupakan bentuk turunan pertama untuk persamaan diferensi.\n",
        "\n",
        "Kedua bentuk beda hingga di atas  digunakan untuk menggantikan turunan-turunan dari $y$ pada persamaan diferensial, dan mengubahnya menjadi $n+1$ persamaan aljabar linear.\n",
        "\n",
        "<div class=\"alert alert-block alert-success\"><h2><b>Syarat Batas Dirichlet</b></h2></div>\n",
        "\n",
        "$$P(x)y''+Q(x)y'+R(x)y = W(x)$$\n",
        "\n",
        "$$y(x_0)=y_0 = y_a,\\qquad y(x_n)=y_n = y_b$$\n",
        "\n",
        "<img src=\"fig_dirichlet2.png\" width=\"500\"/>\n",
        "\n",
        "Bentuk diskret dari persamaan diferensial :\n",
        "$$ P(x_i)y_i''+Q(x_i)y_i'+R(x_i)y_i = W(x_i) $$\n",
        "\n",
        "Jika koefisien dinyatakan dengan $P_i = P(x_i), Q_i = Q(x_i),  R_i = R(x_i)$, dan $W_i = W(x_i)$, maka\n",
        "\n",
        "$$P_i y_i''+Q_iy_i'+R_iy_i = W_i$$\n",
        "\n",
        "Dengan mensubstitusi bentuk beda hingga $y''_i$  dan $y'_i$  ke persamaan diferensi, diperoleh\n",
        "\n",
        "$$P_i \\dfrac{ y_{i+1}-2y_i + y_{i-1}}{h^2}+Q_i \\dfrac{y_{i+1}-y_{i-1}}{2h}+R_iy_i = W_i$$\n",
        "\n",
        "Dengan menyusun ulang persamaan di atas dalam urutan $y_{i−1}$, $y_i$ dan $y_{i+1}$, kita dapatkan formula beda hingga :\n",
        "\n",
        "$$ \\boxed{ \\left(\\dfrac{P_i}{h^2} - \\dfrac{Q_i}{2h} \\right)y_{i-1}+\\left(\\dfrac{-2P_i}{h^2} +R_i \\right)y_i + \\left(\\dfrac{P_i}{h^2} + \\dfrac{Q_i}{2h} \\right)y_{i+1}= W_i } $$\n",
        "\n",
        "Terdapat $n-1$ variabel tak diketahui pada sistem, $y_i$ untuk $i = 1, 2, \\ldots, n-1$ yang bersama-sama dengan nilai syarat batas pada $i=0$ dan $i=n$  akan membentuk sistem persamaan linear $(n+1) \\times (n+1)$.\n",
        "\n",
        "**Untuk $i=0$ :**\n",
        "\n",
        "$$y_0 = y_a$$\n",
        "\n",
        "**Untuk $i=1$ :**\n",
        "\n",
        "$$ \\left(\\dfrac{P_1}{h^2} - \\dfrac{Q_1}{2h} \\right)y_{0}+\\left(\\dfrac{-2P_1}{h^2} +R_1 \\right)y_1 + \\left(\\dfrac{P_1}{h^2} + \\dfrac{Q_1}{2h} \\right)y_{2}= W_1$$\n",
        "\n",
        "**Untuk $i=2$ :**\n",
        "\n",
        "$$ \\left(\\dfrac{P_2}{h^2} - \\dfrac{Q_2}{2h} \\right)y_{1}+\\left(\\dfrac{-2P_2}{h^2} +R_2 \\right)y_2 + \\left(\\dfrac{P_2}{h^2} + \\dfrac{Q_2}{2h} \\right)y_{3}= W_2$$\n",
        "\n",
        "dan seterusnya sampai dengan\n",
        "\n",
        "**Untuk $i=n-1$ :**\n",
        "\n",
        "$$\\left(\\dfrac{P_{n-1}}{h^2} - \\dfrac{Q_{n-1}}{2h} \\right)y_{n-2}+\\left(\\dfrac{-2P_{n-1}}{h^2} +R_{n-1} \\right)y_{n-1} + \\left(\\dfrac{P_{n-1}}{h^2} + \\dfrac{Q_{n-1}}{2h} \\right)y_{n}= W_{n-1}$$\n",
        "\n",
        "dan\n",
        "\n",
        "**Untuk $i=n$ :**\n",
        "\n",
        "$$ y_n = y_b  $$\n",
        "\n",
        "Dengan mengatur kembali semua persamaan beda hingga yang diperoleh menjadi bentuk matriks, kita akan mendapatkan sistem persamaan linear  dengan ukuran $(n+1) \\times (n+1)$\n",
        "\n",
        "$$\\mathbf{A\\,y} = \\mathbf{b}$$\n",
        "\n",
        "dengan\n",
        "\n",
        "\\begin{equation}\n",
        "\\mathbf{A} =\n",
        "\\begin{pmatrix}\n",
        "1      & 0      & 0      & 0       & \\cdots & 0 & 0 & 0 & 0 & 0 \\\\\n",
        "a_{21} & a_{22} & a_{23} & 0       & \\cdots & 0 & 0 & 0 & 0 & 0 \\\\\n",
        "0      & a_{32} & a_{33} & a_{34}  & \\cdots & 0 & 0 & 0 & 0 & 0 \\\\\n",
        "0      & 0      & a_{43} &  a_{44} & \\cdots & 0 & 0 & 0 & 0 & 0 \\\\  \n",
        "\\vdots & \\vdots & \\vdots & \\vdots  & \\ddots & \\vdots & \\vdots & \\vdots & \\vdots & \\vdots \\\\\n",
        "0      & 0      & 0      & 0       & \\cdots & a_{(n-3)(n-4)}& a_{(n-3)(n-3)} & a_{(n-3)(n-2)} & 0 & 0 \\\\  \n",
        "0      & 0      & 0      & 0       & \\cdots & 0 & a_{(n-2)(n-3)} & a_{(n-2)(n-2)} & a_{(n-2)(n-1)} & 0\\\\\n",
        "0      & 0      & 0      & 0       & \\cdots & 0 & 0 & a_{(n-1)(n-2)} & a_{(n-1)(n-1)} & a_{(n-1)(n)} \\\\\n",
        "0      & 0      & 0      & 0       & \\cdots & 0 & 0 & 0 & 0 & 1\n",
        "\\end{pmatrix}\n",
        "\\end{equation}\n",
        "\n",
        "$$\\mathbf{y} = [y_0 \\ y_1 \\ y_2 \\ y_3 \\ y_4 \\ \\cdots \\ y_{n-4} \\ y_{n-3} \\ y_{n-2} \\ y_{n-1} \\ y_n]^T$$\n",
        "\n",
        "$$ \\mathbf{b} = [b_0 \\ b_1 \\ b_2 \\ b_3 \\ b_4 \\ \\cdots \\ b_{n-4} \\ b_{n-3} \\ b_{n-2} \\ b_{n-1}\\ b_n]^T$$\n",
        "\n",
        "Nilai untuk masing-masing elemen matriks **A** dan vektor **b** adalah\n",
        "\n",
        "\n",
        "\\begin{equation}\n",
        "a_{ij} =\n",
        "\\begin{cases}\n",
        " \\dfrac{-2P_i}{h^2} + R_i \\ &\\text{ untuk } j=i  \\\\\n",
        "\\dfrac{P_i}{h^2} + \\dfrac{Q_i}{2h} \\ &\\text{ untuk } j=i+1  \\\\\n",
        "\\dfrac{P_i}{h^2} - \\dfrac{Q_i}{2h} \\ &\\text{ untuk } j=i-1  \\\\\n",
        "\\end{cases}\n",
        "\\qquad \\text{dengan }  i=2,\\ldots,n-1\n",
        "\\end{equation}\n",
        "\n",
        "\n",
        "\n",
        "\\begin{equation}\n",
        "b_{i} = w_i, \\qquad \\text{dengan } i=2,\\ldots,n-1\n",
        "\\end{equation}"
      ]
    },
    {
      "cell_type": "markdown",
      "id": "2d52b8d0",
      "metadata": {
        "id": "2d52b8d0"
      },
      "source": [
        "<div class=\"alert alert-block alert-warning\"><h1><b> Latihan 1</b></h1>    </div>\n",
        "\n",
        "\n",
        ">\n",
        "> Carilah solusi dari BVP berikut ini\n",
        "> $$ \\dfrac{d^2y}{dx^2}-2\\dfrac{dy}{dx} + y = 2e^x $$\n",
        "> dengan syarat batas\n",
        "> \\begin{align}\n",
        "y(0) &= 1 \\\\\n",
        "y(1) &= 0\n",
        "\\end{align}\n",
        ">\n",
        "> Solusi :\n",
        "\n",
        "<img src=\"fig_solusi_dirichlet2.png\" width=\"500\"/>\n",
        "\n",
        "> Solusi secara analitik (sebagai validasi) :\n",
        "\n",
        "<img src=\"fig_solusi_bvp1.png\" width=\"500\"/>\n",
        "\n",
        "> *Jawab* :\n",
        ">\n",
        "> $P = 1, Q = -2, R = 1, W = 2e^x$\n",
        ">\n",
        "> Elemen matriks **A** dan vektor **b** menjadi\n",
        ">\n",
        "> \\begin{equation}\n",
        "a_{ij} =\n",
        "\\begin{cases}\n",
        " \\dfrac{-2}{h^2} + 1 \\ &\\text{ untuk } j=i \\\\\n",
        "\\dfrac{1}{h^2} - \\dfrac{1}{h} \\ &\\text{ untuk } j=i+1 \\qquad \\text{ dengan } i= 2,\\ldots,n-1 \\\\\n",
        "\\dfrac{1}{h^2} + \\dfrac{1}{1h} \\ &\\text{ untuk } j=i-1 \\\\\n",
        "\\end{cases}\n",
        "\\end{equation}\n",
        ">\n",
        ">\\begin{equation}\n",
        "b_{i} = 2e^{x_i} \\qquad \\text{ dengan } i= 2,\\ldots,n-1\n",
        "\\end{equation}\n",
        ">\n",
        "> Implementasi menjadi code Python dapat dilihat berikut ini\n",
        "\n"
      ]
    },
    {
      "cell_type": "code",
      "execution_count": 2,
      "id": "adf66d4c",
      "metadata": {
        "id": "adf66d4c"
      },
      "outputs": [],
      "source": [
        "import numpy as np\n",
        "import matplotlib.pyplot as plt"
      ]
    },
    {
      "cell_type": "code",
      "execution_count": 48,
      "id": "1a5c64dc",
      "metadata": {
        "id": "1a5c64dc"
      },
      "outputs": [],
      "source": [
        "# Menyusun matriks A dan vektor b\n",
        "# untuk BVP linear orde 2 dengan syarat batas Dirichlet\n",
        "# di kedua ujung\n",
        "\n",
        "\n",
        "# Langkah 1 : Inisialisasi\n",
        "\n",
        "xmin = 0                        # batas bawah x\n",
        "xmax = 1                        # batas atas x\n",
        "n = 10                         # banyaknya interval\n",
        "h = (xmax-xmin)/n                         # lebar interval\n",
        "x = np.linspace(xmin, xmax, n+1)  # nilai x dengan lebar yang seragam\n"
      ]
    },
    {
      "cell_type": "code",
      "execution_count": 49,
      "id": "kZbgAdmCNhG_",
      "metadata": {
        "colab": {
          "base_uri": "https://localhost:8080/"
        },
        "id": "kZbgAdmCNhG_",
        "outputId": "e6f646b6-c531-4bf9-ef0d-8620e3083fd4"
      },
      "outputs": [
        {
          "name": "stdout",
          "output_type": "stream",
          "text": [
            "0.1\n",
            "[0.  0.1 0.2 0.3 0.4 0.5 0.6 0.7 0.8 0.9 1. ]\n"
          ]
        }
      ],
      "source": [
        "print(h)\n",
        "print(x)"
      ]
    },
    {
      "cell_type": "code",
      "execution_count": 50,
      "id": "40361cab",
      "metadata": {
        "id": "40361cab"
      },
      "outputs": [],
      "source": [
        "# Langkah 2 : Susun matriks A\n",
        "\n",
        "A = np.zeros((n+1,n+1))        # inisialisasi\n",
        "A[0, 0] = 1                     # batas kiri\n",
        "A[-1, -1] = 1                   # batas kanan\n",
        "p=1\n",
        "q=-2\n",
        "r=1\n",
        "for i in range(1, n):\n",
        "    A[i,i] = (-2*(p)/(h**2 ))+(r)     # diagonal\n",
        "    A[i,i-1] = ((p)/(h**2))-((q)/(2*h))     # kiri (west)\n",
        "    A[i,i+1] = ((p)/(h**2))+((q)/(2*h))       # kanan (east)"
      ]
    },
    {
      "cell_type": "code",
      "execution_count": 51,
      "id": "ac516c62",
      "metadata": {
        "id": "ac516c62"
      },
      "outputs": [
        {
          "name": "stdout",
          "output_type": "stream",
          "text": [
            "[1. 0. 0. 0. 0. 0. 0. 0. 0. 0. 0.]\n",
            "[1.         2.21034184 2.44280552 2.69971762 2.9836494  3.29744254\n",
            " 3.6442376  4.02750541 4.45108186 4.91920622 0.        ]\n"
          ]
        }
      ],
      "source": [
        "# Langkah 3 : Susun vektor b\n",
        "\n",
        "b = np.zeros(n+1)\n",
        "b[0] = 1\n",
        "b[-1] = 0\n",
        "print(b)\n",
        "for i in range(1, n):\n",
        "    b[i] = 2*np.exp(x[i])\n",
        "print(b)"
      ]
    },
    {
      "cell_type": "code",
      "execution_count": 52,
      "id": "04b21f32",
      "metadata": {},
      "outputs": [
        {
          "name": "stdout",
          "output_type": "stream",
          "text": [
            "[1.         2.21034184 2.44280552 2.69971762 2.9836494  3.29744254\n",
            " 3.6442376  4.02750541 4.45108186 4.91920622 0.        ]\n"
          ]
        }
      ],
      "source": [
        "print(b)"
      ]
    },
    {
      "cell_type": "code",
      "execution_count": 53,
      "id": "69adc9d3",
      "metadata": {},
      "outputs": [
        {
          "name": "stdout",
          "output_type": "stream",
          "text": [
            "[1.         2.21034184 2.44280552 2.69971762 2.9836494  3.29744254\n",
            " 3.6442376  4.02750541 4.45108186 4.91920622 0.        ]\n"
          ]
        }
      ],
      "source": [
        "print(b)"
      ]
    },
    {
      "cell_type": "code",
      "execution_count": 57,
      "id": "4fa64403",
      "metadata": {
        "id": "4fa64403"
      },
      "outputs": [
        {
          "name": "stdout",
          "output_type": "stream",
          "text": [
            "Matrix x : \n",
            "[0.  0.1 0.2 0.3 0.4 0.5 0.6 0.7 0.8 0.9 1. ]\n",
            "Matrix B : \n",
            "[1.         2.21034184 2.44280552 2.69971762 2.9836494  3.29744254\n",
            " 3.6442376  4.02750541 4.45108186 4.91920622 0.        ]\n",
            "Matrix A : \n",
            "[[   1.    0.    0.    0.    0.    0.    0.    0.    0.    0.    0.]\n",
            " [ 110. -199.   90.    0.    0.    0.    0.    0.    0.    0.    0.]\n",
            " [   0.  110. -199.   90.    0.    0.    0.    0.    0.    0.    0.]\n",
            " [   0.    0.  110. -199.   90.    0.    0.    0.    0.    0.    0.]\n",
            " [   0.    0.    0.  110. -199.   90.    0.    0.    0.    0.    0.]\n",
            " [   0.    0.    0.    0.  110. -199.   90.    0.    0.    0.    0.]\n",
            " [   0.    0.    0.    0.    0.  110. -199.   90.    0.    0.    0.]\n",
            " [   0.    0.    0.    0.    0.    0.  110. -199.   90.    0.    0.]\n",
            " [   0.    0.    0.    0.    0.    0.    0.  110. -199.   90.    0.]\n",
            " [   0.    0.    0.    0.    0.    0.    0.    0.  110. -199.   90.]\n",
            " [   0.    0.    0.    0.    0.    0.    0.    0.    0.    0.    1.]]\n"
          ]
        },
        {
          "data": {
            "text/plain": [
              "<matplotlib.image.AxesImage at 0x7f25629c2dd0>"
            ]
          },
          "execution_count": 57,
          "metadata": {},
          "output_type": "execute_result"
        },
        {
          "data": {
            "image/png": "[encoded data removed]",
            "text/plain": [
              "<Figure size 432x288 with 1 Axes>"
            ]
          },
          "metadata": {
            "needs_background": "light"
          },
          "output_type": "display_data"
        }
      ],
      "source": [
        "# Langkah 4 :\n",
        "# Tampilkan vektor x, matriks A dan vektor b\n",
        "\n",
        "\n",
        "print(\"Matrix x : \\n{}\".format(x))\n",
        "print(\"Matrix B : \\n{}\".format(b))\n",
        "print(\"Matrix A : \\n{}\".format(A))\n",
        "\n",
        "# visualisasikan matriks A menggunakan perintah spy yang\n",
        "# ada pada modul pyplot\n",
        "\n",
        "plt.spy(A)"
      ]
    },
    {
      "cell_type": "markdown",
      "id": "5358610e",
      "metadata": {
        "id": "5358610e"
      },
      "source": [
        "\n",
        "\n",
        "## <code style=\"color:black\">**Mencari solusi** :</code>\n",
        "\n",
        "Persamaan linear yang dinyatakan dalam bentuk matriks\n",
        "\n",
        "$$\\mathbf{A\\,y} = \\mathbf{b}$$\n",
        "\n",
        "dapat diselesaikan dengan inverse dari matriks **A** ke persamaan tersebut.\n",
        "\n",
        "$$\\mathbf{A^{-1}\\,A\\,y} = \\mathbf{A^{-1}b}$$\n",
        "atau\n",
        "$$\\mathbf{y} = \\mathbf{A^{-1}b}$$\n",
        "\n",
        "\n",
        "Untuk keperluan ini kita dapat menggunakan **numpy.linalg.inv(a)** untuk mencari inverse matriks dan **numpy.matmul(x1, x2)** untuk melakukan perkalian matriks."
      ]
    },
    {
      "cell_type": "code",
      "execution_count": 58,
      "id": "b4965533",
      "metadata": {
        "colab": {
          "base_uri": "https://localhost:8080/",
          "height": 935
        },
        "id": "b4965533",
        "outputId": "80f73fe3-2335-4799-a0f6-0c56470dbe44"
      },
      "outputs": [
        {
          "name": "stdout",
          "output_type": "stream",
          "text": [
            "[1.         0.89505385 0.78140065 0.66095123 0.53638823 0.41133636\n",
            " 0.29056304 0.18021424 0.08809117 0.02397398 0.        ]\n"
          ]
        },
        {
          "data": {
            "image/png": "[encoded data removed]",
            "text/plain": [
              "<Figure size 432x288 with 1 Axes>"
            ]
          },
          "metadata": {
            "needs_background": "light"
          },
          "output_type": "display_data"
        }
      ],
      "source": [
        "# Langkah 5 : mencari solusi menggunakan inverse matriks\n",
        "\n",
        "A_inv=np.linalg.inv(A)\n",
        "y = np.matmul(A_inv, b)\n",
        "\n",
        "# plot\n",
        "print(y)\n",
        "plt.plot(x,y)\n",
        "plt.xlabel(\"x\")\n",
        "plt.ylabel(\"y\")\n",
        "plt.show()"
      ]
    },
    {
      "cell_type": "markdown",
      "id": "b6a5740b",
      "metadata": {
        "id": "b6a5740b"
      },
      "source": [
        "Alternatif lain untuk mencari solusi persamaan matriks adalah menggunakan **numpy.linalg.solve(a, b)**. Metode ini menggunakan algoritma dekomposisi LU dengan pivoting parsial."
      ]
    },
    {
      "cell_type": "code",
      "execution_count": 56,
      "id": "4c72e963",
      "metadata": {
        "id": "4c72e963"
      },
      "outputs": [
        {
          "name": "stdout",
          "output_type": "stream",
          "text": [
            "[1.         0.89505385 0.78140065 0.66095123 0.53638823 0.41133636\n",
            " 0.29056304 0.18021424 0.08809117 0.02397398 0.        ]\n"
          ]
        },
        {
          "data": {
            "image/png": "[encoded data removed]",
            "text/plain": [
              "<Figure size 432x288 with 1 Axes>"
            ]
          },
          "metadata": {
            "needs_background": "light"
          },
          "output_type": "display_data"
        }
      ],
      "source": [
        "# Langkah 6: mencari solusi menggunakan dekomposisi LU\n",
        "\n",
        "y = np.linalg.solve(A,b)\n",
        "\n",
        "# plot\n",
        "print(y)\n",
        "plt.plot(x,y)\n",
        "plt.xlabel(\"x\")\n",
        "plt.ylabel(\"y\")\n",
        "plt.show()"
      ]
    },
    {
      "cell_type": "markdown",
      "id": "94894948",
      "metadata": {
        "id": "94894948"
      },
      "source": [
        "Kita dapat mencari waktu yang diperlukan untuk mencari solusi menggunakan metode di atas."
      ]
    },
    {
      "cell_type": "code",
      "execution_count": 60,
      "id": "9b2de0b2",
      "metadata": {
        "id": "9b2de0b2"
      },
      "outputs": [],
      "source": [
        "import time"
      ]
    },
    {
      "cell_type": "code",
      "execution_count": 61,
      "id": "cbeb7609",
      "metadata": {
        "id": "cbeb7609"
      },
      "outputs": [
        {
          "name": "stdout",
          "output_type": "stream",
          "text": [
            "Percobaan # 0 LU dengan pivoting parsial. Waktu yang diperlukan = 1.101e-04 detik\n",
            "Percobaan # 1 LU dengan pivoting parsial. Waktu yang diperlukan = 5.507e-05 detik\n",
            "Percobaan # 2 LU dengan pivoting parsial. Waktu yang diperlukan = 3.982e-05 detik\n",
            "Percobaan # 3 LU dengan pivoting parsial. Waktu yang diperlukan = 3.481e-05 detik\n",
            "Percobaan # 4 LU dengan pivoting parsial. Waktu yang diperlukan = 3.386e-05 detik\n",
            "Percobaan # 5 LU dengan pivoting parsial. Waktu yang diperlukan = 3.195e-05 detik\n",
            "Percobaan # 6 LU dengan pivoting parsial. Waktu yang diperlukan = 3.195e-05 detik\n",
            "Percobaan # 7 LU dengan pivoting parsial. Waktu yang diperlukan = 3.195e-05 detik\n",
            "Percobaan # 8 LU dengan pivoting parsial. Waktu yang diperlukan = 3.171e-05 detik\n",
            "Percobaan # 9 LU dengan pivoting parsial. Waktu yang diperlukan = 3.195e-05 detik\n",
            "Rerata waktu = 4.3320655822753904e-05 detik\n"
          ]
        }
      ],
      "source": [
        "n = 10\n",
        "waktu = np.zeros(n)\n",
        "\n",
        "for i in range(n):\n",
        "    tic = time.time()\n",
        "    y = np.linalg.solve(A, b)\n",
        "    toc = time.time()\n",
        "    waktu[i] = toc-tic\n",
        "    print(\"Percobaan #\",i,\"LU dengan pivoting parsial. Waktu yang diperlukan = {:.3e} detik\".format(waktu[i]))\n",
        "\n",
        "\n",
        "print(\"Rerata waktu =\",np.average(waktu),\"detik\")\n"
      ]
    },
    {
      "cell_type": "markdown",
      "id": "54fe201a",
      "metadata": {
        "id": "54fe201a"
      },
      "source": [
        "Dari plot hasil **spy** dapat kita lihat bahwa matriks **A** adalah *sparse matrix*. Artinya elemen matriks pada posisi tridiagonal mempunyai nilai tertentu, dan sisanya (yang jumlah elemennya lebih banyak) mempunyai nilai 0.\n",
        "\n",
        "Pencarian solusi *sparse matrix* akan lebih efisien jika kita menggunakan algoritma yang memang dimaksudkan untuk itu. Umumnya digunakan algoritma penyelesaian yang bersifat iteratif. Ingat pada matakuliah Metode Numerik, kita pernah mempelajari metode iteratif untuk penyelesaian sistem persamaan linear, seperti metode Jacobi dan Gauss-Seidel. Namun di python terdapat algoritma yang lebih efisien dan efektif.\n",
        "\n",
        "Ada beberapa algoritma yang dapat digunakan dan dapat diperoleh dari modul **scipy**, antara lain :\n",
        "- Generalized Minimal RESidual (GMRES) : **scipy.sparse.linalg.gmres**\n",
        "- BIConjugate Gradient STABilized (BICGSTAB) : **scipy.sparse.linalg.bicgstab**\n",
        "- Conjugate Gradient Squared (CGS) : **scipy.sparse.linalg.cgs**\n",
        "-  Generalized Conjugate Residual with inner Orthogonalization and outer Truncation (GCROT) : **scipy.sparse.linalg.gcrotmk**\n",
        "\n",
        "Sebelum menyelesaikan permasalahan menggunakan metode-metode di atas, perlu dilakukan pengolahan awal matriks atau yang biasa disebut dengan *preconditioning*. Ide utama dari *preconditioning* ini adalah untuk mentransformasi sistem linear awal menjadi sistem linear yang ekivalen dengan sifat-sifat yang lebih baik untuk mencapai konvergensi.\n",
        "\n",
        "Tujuan utama dari *preconditioning* adalah :\n",
        "- mempercepat konvergensi\n",
        "- mengurangi jumlah iterasi:\n",
        "- meningkatkan *robustness*\n",
        "\n",
        "Ada beberapa teknik atau *preconditioner* yang dapat digunakan, misal :\n",
        "- *Incomplete LU (ILU) Preconditioner* : **scipy.sparse.linalg.spilu**\n",
        "- *Preconditioned Conjugate Gradient (PCG) Preconditioner*\n",
        "- *Algebraic Multigrid (AMG) Preconditioner*\n",
        "\n",
        "Di bawah ini contoh untuk melakukan penyelesaian masalah menggunakan metode GMRES dengan ILU preconditioner."
      ]
    },
    {
      "cell_type": "code",
      "execution_count": 63,
      "id": "b467e864",
      "metadata": {
        "id": "b467e864"
      },
      "outputs": [],
      "source": [
        "import scipy.sparse as sparse\n",
        "import scipy.sparse.linalg as sla\n",
        "from scipy.sparse import csc_matrix"
      ]
    },
    {
      "cell_type": "code",
      "execution_count": 64,
      "id": "66c2cc32",
      "metadata": {
        "id": "66c2cc32"
      },
      "outputs": [
        {
          "name": "stdout",
          "output_type": "stream",
          "text": [
            "[1.         0.89505385 0.78140065 0.66095123 0.53638823 0.41133636\n",
            " 0.29056304 0.18021424 0.08809117 0.02397398 0.        ]\n"
          ]
        },
        {
          "data": {
            "image/png": "[encoded data removed]",
            "text/plain": [
              "<Figure size 432x288 with 1 Axes>"
            ]
          },
          "metadata": {
            "needs_background": "light"
          },
          "output_type": "display_data"
        }
      ],
      "source": [
        "## Contoh penyelesaian masalah menggunakan GMRES dengan ILU preconditioner\n",
        "\n",
        "\n",
        "# Preconditioning menggunakan ILU Preconditioner\n",
        "\n",
        "B = csc_matrix(A, dtype=float)\n",
        "ILUfact = sla.spilu(B)\n",
        "\n",
        "M = sla.LinearOperator(\n",
        "    shape = B.shape,\n",
        "    matvec = lambda b: ILUfact.solve(b)\n",
        ")\n",
        "\n",
        "# mencari solusi menggunakan GMRES\n",
        "y, exit = sla.gmres(B, b, M=M)\n",
        "\n",
        "# Plot\n",
        "print(y)\n",
        "plt.plot(x,y)\n",
        "plt.xlabel(\"x\")\n",
        "plt.ylabel(\"y\")\n",
        "plt.show()"
      ]
    },
    {
      "cell_type": "markdown",
      "id": "a869e8a5",
      "metadata": {
        "id": "a869e8a5"
      },
      "source": [
        "Mari kita bandingkan waktu yang diperlukan jika menggunakan metode GMRES"
      ]
    },
    {
      "cell_type": "code",
      "execution_count": 65,
      "id": "f34a06dc",
      "metadata": {
        "id": "f34a06dc"
      },
      "outputs": [
        {
          "name": "stdout",
          "output_type": "stream",
          "text": [
            "Percobaan # 0 GMRES dengan Preconditioning: Waktu yang diperlukan = 1.593e-03 detik\n",
            "Percobaan # 1 GMRES dengan Preconditioning: Waktu yang diperlukan = 1.734e-03 detik\n",
            "Percobaan # 2 GMRES dengan Preconditioning: Waktu yang diperlukan = 1.549e-03 detik\n",
            "Percobaan # 3 GMRES dengan Preconditioning: Waktu yang diperlukan = 1.381e-03 detik\n",
            "Percobaan # 4 GMRES dengan Preconditioning: Waktu yang diperlukan = 1.367e-03 detik\n",
            "Percobaan # 5 GMRES dengan Preconditioning: Waktu yang diperlukan = 1.316e-03 detik\n",
            "Percobaan # 6 GMRES dengan Preconditioning: Waktu yang diperlukan = 1.303e-03 detik\n",
            "Percobaan # 7 GMRES dengan Preconditioning: Waktu yang diperlukan = 1.325e-03 detik\n",
            "Percobaan # 8 GMRES dengan Preconditioning: Waktu yang diperlukan = 1.294e-03 detik\n",
            "Percobaan # 9 GMRES dengan Preconditioning: Waktu yang diperlukan = 1.050e-03 detik\n",
            "Rerata waktu = 0.0013912200927734375 detik\n"
          ]
        }
      ],
      "source": [
        "n = 10\n",
        "waktu = np.zeros(n)\n",
        "\n",
        "for i in range(n):\n",
        "    tic = time.time()\n",
        "    y, exit = sla.gmres(B, b, M=M)\n",
        "    toc = time.time()\n",
        "    waktu[i] = toc-tic\n",
        "    print(\"Percobaan #\",i,\"GMRES dengan Preconditioning: Waktu yang diperlukan = {:.3e} detik\".format(waktu[i]))\n",
        "\n",
        "print(\"Rerata waktu =\",np.average(waktu),\"detik\")"
      ]
    },
    {
      "cell_type": "markdown",
      "id": "8d8b8d0c",
      "metadata": {
        "id": "8d8b8d0c"
      },
      "source": [
        "Sekarang silakan Anda menyelesaikan permasalahan di atas menggunakan metode yang lain."
      ]
    },
    {
      "cell_type": "code",
      "execution_count": 66,
      "id": "d19b9c8d",
      "metadata": {
        "id": "d19b9c8d"
      },
      "outputs": [
        {
          "name": "stdout",
          "output_type": "stream",
          "text": [
            "[1.         0.89505385 0.78140065 0.66095123 0.53638823 0.41133636\n",
            " 0.29056304 0.18021424 0.08809117 0.02397398 0.        ]\n"
          ]
        },
        {
          "data": {
            "image/png": "[encoded data removed]",
            "text/plain": [
              "<Figure size 432x288 with 1 Axes>"
            ]
          },
          "metadata": {
            "needs_background": "light"
          },
          "output_type": "display_data"
        }
      ],
      "source": [
        "# Langkah 7 : mencari solusi menggunakan metode BICGSTAB\n",
        "\n",
        "# Preconditioning menggunakan ILU Preconditioner\n",
        "\n",
        "B = csc_matrix(A, dtype=float)\n",
        "ILUfact = sla.spilu(B)\n",
        "\n",
        "M = sla.LinearOperator(\n",
        "    shape = B.shape,\n",
        "    matvec = lambda b: ILUfact.solve(b)\n",
        ")\n",
        "\n",
        "# mencari solusi menggunakan GMRES\n",
        "y, exit = sla.bicgstab(B, b, M=M)\n",
        "\n",
        "# Plot\n",
        "print(y)\n",
        "plt.plot(x,y)\n",
        "plt.xlabel(\"x\")\n",
        "plt.ylabel(\"y\")\n",
        "plt.show()"
      ]
    },
    {
      "cell_type": "code",
      "execution_count": 67,
      "id": "30158d38",
      "metadata": {
        "id": "30158d38"
      },
      "outputs": [
        {
          "name": "stdout",
          "output_type": "stream",
          "text": [
            "[1.         0.89505385 0.78140065 0.66095123 0.53638823 0.41133636\n",
            " 0.29056304 0.18021424 0.08809117 0.02397398 0.        ]\n"
          ]
        },
        {
          "data": {
            "image/png": "[encoded data removed]",
            "text/plain": [
              "<Figure size 432x288 with 1 Axes>"
            ]
          },
          "metadata": {
            "needs_background": "light"
          },
          "output_type": "display_data"
        }
      ],
      "source": [
        "# Langkah 8: Mencari solusi menggunakan metode CGS\n",
        "\n",
        "\n",
        "# Preconditioning menggunakan ILU Preconditioner\n",
        "\n",
        "B = csc_matrix(A, dtype=float)\n",
        "ILUfact = sla.spilu(B)\n",
        "\n",
        "M = sla.LinearOperator(\n",
        "    shape = B.shape,\n",
        "    matvec = lambda b: ILUfact.solve(b)\n",
        ")\n",
        "\n",
        "# mencari solusi menggunakan GMRES\n",
        "y, exit = sla.cgs(B, b, M=M)\n",
        "\n",
        "# Plot\n",
        "print(y)\n",
        "plt.plot(x,y)\n",
        "plt.xlabel(\"x\")\n",
        "plt.ylabel(\"y\")\n",
        "plt.show()"
      ]
    },
    {
      "cell_type": "code",
      "execution_count": 72,
      "id": "c6b834ca",
      "metadata": {
        "id": "c6b834ca"
      },
      "outputs": [
        {
          "name": "stdout",
          "output_type": "stream",
          "text": [
            "[1.         0.89505385 0.78140065 0.66095123 0.53638823 0.41133636\n",
            " 0.29056304 0.18021424 0.08809117 0.02397398 0.        ]\n"
          ]
        },
        {
          "data": {
            "image/png": "[encoded data removed]",
            "text/plain": [
              "<Figure size 432x288 with 1 Axes>"
            ]
          },
          "metadata": {
            "needs_background": "light"
          },
          "output_type": "display_data"
        }
      ],
      "source": [
        "# Langkah 9 : mencari solusi menggunakan metode GCROT\n",
        "\n",
        "# Preconditioning menggunakan ILU Preconditioner\n",
        "\n",
        "B = csc_matrix(A, dtype=float)\n",
        "ILUfact = sla.spilu(B)\n",
        "\n",
        "M = sla.LinearOperator(\n",
        "    shape = B.shape,\n",
        "    matvec = lambda b: ILUfact.solve(b)\n",
        ")\n",
        "\n",
        "# mencari solusi menggunakan GMRES\n",
        "y, exit = sla.gcrotmk(B, b, M=M, atol=1e-5)\n",
        "\n",
        "# Plot\n",
        "print(y)\n",
        "plt.plot(x,y)\n",
        "plt.xlabel(\"x\")\n",
        "plt.ylabel(\"y\")\n",
        "plt.show()"
      ]
    },
    {
      "cell_type": "markdown",
      "id": "de643ac1",
      "metadata": {
        "id": "de643ac1"
      },
      "source": []
    },
    {
      "cell_type": "code",
      "execution_count": null,
      "id": "8a0f7720",
      "metadata": {
        "id": "8a0f7720"
      },
      "outputs": [],
      "source": []
    },
    {
      "cell_type": "markdown",
      "id": "83ee4977",
      "metadata": {
        "id": "83ee4977"
      },
      "source": [
        "<div class=\"alert alert-block alert-success\"><h2><b> Syarat Batas Neumann </b></h2></div>\n",
        "\n",
        "$$P(x)y''+Q(x)y'+R(x)y = W(x)$$\n",
        "\n",
        "$$ y(x_0)=y_0,\\qquad y'(x_n)=\\gamma_n$$\n",
        "\n",
        "Mari kita tinjau grid beda hingga di sekitar titik $x_n$\n",
        "\n",
        "<img src=\"fig_neumann2.png\" width=\"300\"/>\n",
        "\n",
        "Pendekatan beda hingga orde 2 yang dievaluasi pada titik $i=n$\n",
        "\n",
        "$$\\left(\\dfrac{P_n}{h^2} - \\dfrac{Q_n}{2h} \\right)y_{n-1}+\\left(\\dfrac{-2P_n}{h^2} +R_n \\right)y_n + \\left(\\dfrac{P_n}{h^2} + \\dfrac{Q_n}{2h} \\right)y_{n+1}= W_n$$\n",
        "\n",
        "Titik $n+1$ berada di luar domain penyelesaian, dan nilai $y_{n+1}$ tidak diketahui. Oleh karena itu digunakan pendekatan syarat batas turunan di titik $n$ :\n",
        "\n",
        " $$\\left.y'\\right|_n = \\dfrac{y_{n+1}-  y_{n-1}}{2h}  + \\mathcal{O}(h^2) = \\gamma_n$$\n",
        "\n",
        " Dengan memotong suku sisa orde 2, diperoleh rumusan untuk $y_{n+1}$\n",
        "\n",
        " $$y_{n+1} = y_{n-1} + 2h\\left.y'\\right|_n = y_{n-1} + 2h\\gamma_n$$\n",
        "\n",
        " Substitusi ke persamaan beda hingga, diperoleh :\n",
        "\n",
        " $$ \\boxed{\\dfrac{2P_n}{h^2}y_{n-1}+\\left(\\dfrac{-2P_n}{h^2} +R_n \\right)y_n  = W_n - 2h\\gamma_n\\left(\\dfrac{P_n}{h^2} + \\dfrac{Q_n}{2h} \\right)} $$\n",
        "\n",
        " Cara yang serupa juga dilakukan untuk problem dengan syarat batas Neumann pada $x = x_0$ atau $i = 0$."
      ]
    },
    {
      "cell_type": "markdown",
      "id": "a907e9e1",
      "metadata": {
        "id": "a907e9e1"
      },
      "source": [
        "<div class=\"alert alert-block alert-warning\"><h1><b> Latihan 2</b></h1>    </div>\n",
        "\n",
        "\n",
        ">\n",
        "> Carilah solusi dari  BVP berikut ini\n",
        "> $$ \\dfrac{d^2y}{dx^2}-2\\dfrac{dy}{dx} + y = 2e^x $$\n",
        "> dengan syarat batas\n",
        "> \\begin{align}\n",
        "y'(0) &= 1 \\\\\n",
        "y'(1) &= 0\n",
        "\\end{align}\n",
        ">\n",
        "> Solusi :\n",
        "\n",
        "<img src=\"fig_solusi_neumann.png\" width=\"500\"/>\n",
        "\n",
        "> Solusi secara analitik (sebagai validasi) :\n",
        "\n",
        "<img src=\"fig_solusi_bvp2.png\" width=\"500\"/>"
      ]
    },
    {
      "cell_type": "code",
      "execution_count": 14,
      "id": "c439124d",
      "metadata": {
        "id": "c439124d"
      },
      "outputs": [],
      "source": [
        "# Menyusun matriks A dan vektor b\n",
        "# untuk BVP linear orde 2 dengan syarat batas Dirichlet\n",
        "# di kedua ujung\n",
        "\n",
        "\n",
        "# Langkah 1 : Inisialisasi\n",
        "\n",
        "xmin = 0                        # batas bawah x\n",
        "xmax = 1                        # batas atas x\n",
        "gmin=1\n",
        "gmax=0\n",
        "n = 1000                       # banyaknya interval\n",
        "h = (xmax-xmin)/n                         # lebar interval\n",
        "x = np.linspace(xmin, xmax, n+1)  # nilai x dengan lebar yang seragam\n"
      ]
    },
    {
      "cell_type": "code",
      "execution_count": 15,
      "id": "3be28f18",
      "metadata": {
        "id": "3be28f18"
      },
      "outputs": [],
      "source": [
        "# Langkah 2 : Susun matriks A\n",
        "\n",
        "A = np.zeros((n+1,n+1))        # inisialisasi\n",
        "p=1\n",
        "q=-2\n",
        "r=1\n",
        "for i in range(0, n+1):\n",
        "    if i==0: #atur batas kiri\n",
        "        A[i,i] = -2*p/(h**2)+r # diagonal\n",
        "        A[i,i+1] = 2*p/(h**2) # kanan (east)\n",
        "    elif i==n: #atur batas kanan\n",
        "        A[i,i] = -2*p/(h**2)+r # diagonal\n",
        "        A[i,i-1] = 2*p/(h**2)     # kiri (west)\n",
        "    else:\n",
        "        A[i,i] = -2*p/(h**2)+r     # diagonal\n",
        "        A[i,i-1] = p/(h**2)-q/(2*h)     # kiri (west)\n",
        "        A[i,i+1] = p/(h**2)+q/(2*h)        # kanan (east)"
      ]
    },
    {
      "cell_type": "markdown",
      "id": "696525b5",
      "metadata": {},
      "source": [
        "Kanan\n",
        " $$ \\boxed{\\dfrac{2P_n}{h^2}y_{n-1}+\\left(\\dfrac{-2P_n}{h^2} +R_n \\right)y_n  = W_n - 2h\\gamma_n\\left(\\dfrac{P_n}{h^2} + \\dfrac{Q_n}{2h} \\right)} $$\n",
        "\n",
        "Kiri\n",
        " $$ \\boxed{\\dfrac{2P_n}{h^2}y_{n+1}+\\left(\\dfrac{-2P_n}{h^2} +R_n \\right)y_n  = W_n + 2h\\gamma_n\\left(\\dfrac{P_n}{h^2} - \\dfrac{Q_n}{2h} \\right)} $$\n",
        "\n",
        "Lainnnya\n",
        "$$\\left(\\dfrac{P_n}{h^2} - \\dfrac{Q_n}{2h} \\right)y_{n-1}+\\left(\\dfrac{-2P_n}{h^2} +R_n \\right)y_n + \\left(\\dfrac{P_n}{h^2} + \\dfrac{Q_n}{2h} \\right)y_{n+1}= W_n$$\n",
        "\n",
        "syarat batas\n",
        " $$y_{n+1} = y_{n-1} + 2h\\gamma_n$$\n",
        " $$y_{n-1} = y_{n+1} - 2h\\gamma_n$$"
      ]
    },
    {
      "cell_type": "code",
      "execution_count": 16,
      "id": "df383402",
      "metadata": {},
      "outputs": [
        {
          "name": "stdout",
          "output_type": "stream",
          "text": [
            "[0. 0. 0. ... 0. 0. 0.]\n",
            "[2.00400000e+03 2.00200100e+00 2.00400400e+00 ... 5.42570140e+00\n",
            " 5.43112981e+00 5.43656366e+00]\n"
          ]
        }
      ],
      "source": [
        "# Langkah 3 : Susun vektor b\n",
        "\n",
        "b = np.zeros(n+1)\n",
        "print(b)\n",
        "for i in range(0, n+1):\n",
        "    if i==0: #atur batas kiri\n",
        "        b[i]= 2*np.exp(x[i]) + 2*h*gmin*(p/(h**2)-q/(2*h))\n",
        "    elif i==n: #atur batas kanan\n",
        "        b[i]= 2*np.exp(x[i]) - 2*h*gmax*(p/(h**2)+q/(2*h))\n",
        "    else:\n",
        "        b[i] = 2*np.exp(x[i])\n",
        "print(b)"
      ]
    },
    {
      "cell_type": "code",
      "execution_count": 17,
      "id": "19a264a4",
      "metadata": {},
      "outputs": [
        {
          "name": "stdout",
          "output_type": "stream",
          "text": [
            "[5.00000037 5.00099987 5.00199837 ... 5.43656375 5.43656375 5.43656375]\n"
          ]
        },
        {
          "data": {
            "image/png": "[encoded data removed]",
            "text/plain": [
              "<Figure size 432x288 with 1 Axes>"
            ]
          },
          "metadata": {
            "needs_background": "light"
          },
          "output_type": "display_data"
        }
      ],
      "source": [
        "A_inv=np.linalg.inv(A)\n",
        "y = np.matmul(A_inv, b)\n",
        "y_an = lambda x: 5*np.exp(x) - 4*np.exp(x)*x + np.exp(x)*(x**2)\n",
        "\n",
        "\n",
        "\n",
        "# plot\n",
        "print(y)\n",
        "plt.plot(x,y, label = \"computation\")\n",
        "plt.plot(x,y_an(x), label = \"anal\")\n",
        "plt.xlabel(\"x\")\n",
        "plt.ylabel(\"y\")\n",
        "plt.legend()\n",
        "plt.show()"
      ]
    },
    {
      "cell_type": "code",
      "execution_count": 18,
      "id": "0867d5c0",
      "metadata": {},
      "outputs": [
        {
          "name": "stdout",
          "output_type": "stream",
          "text": [
            "[5.00000037 5.00099987 5.00199837 ... 5.43656375 5.43656375 5.43656375]\n"
          ]
        },
        {
          "data": {
            "image/png": "[encoded data removed]",
            "text/plain": [
              "<Figure size 432x288 with 1 Axes>"
            ]
          },
          "metadata": {
            "needs_background": "light"
          },
          "output_type": "display_data"
        }
      ],
      "source": [
        "y = np.linalg.solve(A,b)\n",
        "\n",
        "# plot\n",
        "print(y)\n",
        "plt.plot(x,y)\n",
        "plt.xlabel(\"x\")\n",
        "plt.ylabel(\"y\")\n",
        "plt.show()"
      ]
    }
  ],
  "metadata": {
    "colab": {
      "provenance": []
    },
    "kernelspec": {
      "display_name": "Python 3 (ipykernel)",
      "language": "python",
      "name": "python3"
    },
    "language_info": {
      "codemirror_mode": {
        "name": "ipython",
        "version": 3
      },
      "file_extension": ".py",
      "mimetype": "text/x-python",
      "name": "python",
      "nbconvert_exporter": "python",
      "pygments_lexer": "ipython3",
      "version": "3.7.12"
    }
  },
  "nbformat": 4,
  "nbformat_minor": 5
}
