{
  "cells": [
    {
      "cell_type": "markdown",
      "id": "1bacc3ff",
      "metadata": {
        "id": "1bacc3ff"
      },
      "source": [
        "# <div class=\"alert alert-block alert-success\"><h1><b> Pendekatan beda hingga (finite difference) </b></h3></div>\n",
        "\n",
        "Fungsi $y(x)$ dapat dibentuk menjadi persamaan diferensi menggunakan pendekatan Taylor.\n",
        "\n",
        "$$y(x) = y(x_0) + (x-x_0)y'(x_0) + \\dfrac{(x-x_0)^2}{2!}y''(x_0)+\\ldots+\\dfrac{(x-x_0)^n}{n!}y(x_0)^{(n)} + \\ldots$$\n",
        "\n",
        "Domain yang kontinyu dengan interval $[a,b]$ diibagi menjadi $n$ subinterval yang sama panjang, $h = \\Delta x$.\n",
        "\n",
        "<img src=\"fig_diskretisasi2.png\" width=\"500\"/>\n",
        "\n",
        "Untuk ruang $x$ yang didiskretisasi, $y(x_i) = y_i$, dengan indeks $i$ menyatakan lokasi spasial tertentu.\n",
        "\n",
        "Dengan menggunakan skema diskretisasi di atas, maka ekspansi Taylor dari fungsi $y(x)$ menjadi\n",
        "\n",
        "\\begin{align}\n",
        "y_{i+1} &= y_i + hy_i' + \\dfrac{h^2}{2!}y_i''+\\dfrac{h^3}{3!}y_i''' + \\dfrac{h^4}{4!}y_i^{(4)} + \\ldots \\\\\n",
        "y_{i-1} &= y_i - hy_i' + \\dfrac{h^2}{2!}y_i''-\\dfrac{h^3}{3!}y_i''' + \\dfrac{h^4}{4!}y_i^{(4)} + \\ldots \\\\\n",
        "\\end{align}\n",
        "\n",
        "Dengan menjumlahkan kedua deret di atas akan diperoleh:\n",
        "\n",
        "$$ y_{i+1} + y_{i-1} = 2y_i +  h^2y_i'' + \\dfrac{h^4}{12}y_i^{(4)} + \\ldots $$\n",
        "\n",
        "atau\n",
        "\n",
        "$$ y''(x) = y''_i = \\dfrac{y_{i+1} -2y_i +  y_{i-1}}{h^2}  - \\dfrac{h^2}{12}y_i^{(4)} + \\ldots $$\n",
        "\n",
        "atau\n",
        "\n",
        "$$  \\boxed{y''_i = \\dfrac{y_{i+1} -2y_i +  y_{i-1}}{h^2}  + \\mathcal{O}(h^2)}$$\n",
        "\n",
        "Persamaan di atas merupakan bentuk turunan kedua untuk persamaan diferensi.\n",
        "\n",
        "\n",
        "Selanjutnya dengan mengurangkan kedua deret akan diperoleh\n",
        "\n",
        "$$y_{i+1} - y_{i-1} = 2hy'_i +  \\dfrac{h^3}{3}y'''_i + \\ldots $$\n",
        "\n",
        "atau\n",
        "\n",
        "$$ y'(x) = y'_i = \\dfrac{y_{i+1} - y_{i-1}}{2h}  - \\dfrac{h^2}{6}y'''_i - \\ldots $$\n",
        "\n",
        "atau\n",
        "\n",
        "$$  \\boxed{y'_i = \\dfrac{y_{i+1}-  y_{i-1}}{2h}  + \\mathcal{O}(h^2)}$$\n",
        "\n",
        "Persamaan di atas merupakan bentuk turunan pertama untuk persamaan diferensi.\n",
        "\n",
        "Kedua bentuk beda hingga di atas  digunakan untuk menggantikan turunan-turunan dari $y$ pada persamaan diferensial, dan mengubahnya menjadi $n+1$ persamaan aljabar linear.\n",
        "\n",
        "<div class=\"alert alert-block alert-success\"><h2><b>Syarat Batas Dirichlet</b></h2></div>\n",
        "\n",
        "$$P(x)y''+Q(x)y'+R(x)y = W(x)$$\n",
        "\n",
        "$$y(x_0)=y_0 = y_a,\\qquad y(x_n)=y_n = y_b$$\n",
        "\n",
        "<img src=\"fig_dirichlet2.png\" width=\"500\"/>\n",
        "\n",
        "Bentuk diskret dari persamaan diferensial :\n",
        "$$ P(x_i)y_i''+Q(x_i)y_i'+R(x_i)y_i = W(x_i) $$\n",
        "\n",
        "Jika koefisien dinyatakan dengan $P_i = P(x_i), Q_i = Q(x_i),  R_i = R(x_i)$, dan $W_i = W(x_i)$, maka\n",
        "\n",
        "$$P_i y_i''+Q_iy_i'+R_iy_i = W_i$$\n",
        "\n",
        "Dengan mensubstitusi bentuk beda hingga $y''_i$  dan $y'_i$  ke persamaan diferensi, diperoleh\n",
        "\n",
        "$$P_i \\dfrac{ y_{i+1}-2y_i + y_{i-1}}{h^2}+Q_i \\dfrac{y_{i+1}-y_{i-1}}{2h}+R_iy_i = W_i$$\n",
        "\n",
        "Dengan menyusun ulang persamaan di atas dalam urutan $y_{i−1}$, $y_i$ dan $y_{i+1}$, kita dapatkan formula beda hingga :\n",
        "\n",
        "$$ \\boxed{ \\left(\\dfrac{P_i}{h^2} - \\dfrac{Q_i}{2h} \\right)y_{i-1}+\\left(\\dfrac{-2P_i}{h^2} +R_i \\right)y_i + \\left(\\dfrac{P_i}{h^2} + \\dfrac{Q_i}{2h} \\right)y_{i+1}= W_i } $$\n",
        "\n",
        "Terdapat $n-1$ variabel tak diketahui pada sistem, $y_i$ untuk $i = 1, 2, \\ldots, n-1$ yang bersama-sama dengan nilai syarat batas pada $i=0$ dan $i=n$  akan membentuk sistem persamaan linear $(n+1) \\times (n+1)$.\n",
        "\n",
        "**Untuk $i=0$ :**\n",
        "\n",
        "$$y_0 = y_a$$\n",
        "\n",
        "**Untuk $i=1$ :**\n",
        "\n",
        "$$ \\left(\\dfrac{P_1}{h^2} - \\dfrac{Q_1}{2h} \\right)y_{0}+\\left(\\dfrac{-2P_1}{h^2} +R_1 \\right)y_1 + \\left(\\dfrac{P_1}{h^2} + \\dfrac{Q_1}{2h} \\right)y_{2}= W_1$$\n",
        "\n",
        "**Untuk $i=2$ :**\n",
        "\n",
        "$$ \\left(\\dfrac{P_2}{h^2} - \\dfrac{Q_2}{2h} \\right)y_{1}+\\left(\\dfrac{-2P_2}{h^2} +R_2 \\right)y_2 + \\left(\\dfrac{P_2}{h^2} + \\dfrac{Q_2}{2h} \\right)y_{3}= W_2$$\n",
        "\n",
        "dan seterusnya sampai dengan\n",
        "\n",
        "**Untuk $i=n-1$ :**\n",
        "\n",
        "$$\\left(\\dfrac{P_{n-1}}{h^2} - \\dfrac{Q_{n-1}}{2h} \\right)y_{n-2}+\\left(\\dfrac{-2P_{n-1}}{h^2} +R_{n-1} \\right)y_{n-1} + \\left(\\dfrac{P_{n-1}}{h^2} + \\dfrac{Q_{n-1}}{2h} \\right)y_{n}= W_{n-1}$$\n",
        "\n",
        "dan\n",
        "\n",
        "**Untuk $i=n$ :**\n",
        "\n",
        "$$ y_n = y_b  $$\n",
        "\n",
        "Dengan mengatur kembali semua persamaan beda hingga yang diperoleh menjadi bentuk matriks, kita akan mendapatkan sistem persamaan linear  dengan ukuran $(n+1) \\times (n+1)$\n",
        "\n",
        "$$\\mathbf{A\\,y} = \\mathbf{b}$$\n",
        "\n",
        "dengan\n",
        "\n",
        "\\begin{equation}\n",
        "\\mathbf{A} =\n",
        "\\begin{pmatrix}\n",
        "1      & 0      & 0      & 0       & \\cdots & 0 & 0 & 0 & 0 & 0 \\\\\n",
        "a_{21} & a_{22} & a_{23} & 0       & \\cdots & 0 & 0 & 0 & 0 & 0 \\\\\n",
        "0      & a_{32} & a_{33} & a_{34}  & \\cdots & 0 & 0 & 0 & 0 & 0 \\\\\n",
        "0      & 0      & a_{43} &  a_{44} & \\cdots & 0 & 0 & 0 & 0 & 0 \\\\  \n",
        "\\vdots & \\vdots & \\vdots & \\vdots  & \\ddots & \\vdots & \\vdots & \\vdots & \\vdots & \\vdots \\\\\n",
        "0      & 0      & 0      & 0       & \\cdots & a_{(n-3)(n-4)}& a_{(n-3)(n-3)} & a_{(n-3)(n-2)} & 0 & 0 \\\\  \n",
        "0      & 0      & 0      & 0       & \\cdots & 0 & a_{(n-2)(n-3)} & a_{(n-2)(n-2)} & a_{(n-2)(n-1)} & 0\\\\\n",
        "0      & 0      & 0      & 0       & \\cdots & 0 & 0 & a_{(n-1)(n-2)} & a_{(n-1)(n-1)} & a_{(n-1)(n)} \\\\\n",
        "0      & 0      & 0      & 0       & \\cdots & 0 & 0 & 0 & 0 & 1\n",
        "\\end{pmatrix}\n",
        "\\end{equation}\n",
        "\n",
        "$$\\mathbf{y} = [y_0 \\ y_1 \\ y_2 \\ y_3 \\ y_4 \\ \\cdots \\ y_{n-4} \\ y_{n-3} \\ y_{n-2} \\ y_{n-1} \\ y_n]^T$$\n",
        "\n",
        "$$ \\mathbf{b} = [b_0 \\ b_1 \\ b_2 \\ b_3 \\ b_4 \\ \\cdots \\ b_{n-4} \\ b_{n-3} \\ b_{n-2} \\ b_{n-1}\\ b_n]^T$$\n",
        "\n",
        "Nilai untuk masing-masing elemen matriks **A** dan vektor **b** adalah\n",
        "\n",
        "\n",
        "\\begin{equation}\n",
        "a_{ij} =\n",
        "\\begin{cases}\n",
        " \\dfrac{-2P_i}{h^2} + R_i \\ &\\text{ untuk } j=i  \\\\\n",
        "\\dfrac{P_i}{h^2} + \\dfrac{Q_i}{2h} \\ &\\text{ untuk } j=i+1  \\\\\n",
        "\\dfrac{P_i}{h^2} - \\dfrac{Q_i}{2h} \\ &\\text{ untuk } j=i-1  \\\\\n",
        "\\end{cases}\n",
        "\\qquad \\text{dengan }  i=2,\\ldots,n-1\n",
        "\\end{equation}\n",
        "\n",
        "\n",
        "\n",
        "\\begin{equation}\n",
        "b_{i} = w_i, \\qquad \\text{dengan } i=2,\\ldots,n-1\n",
        "\\end{equation}"
      ]
    },
    {
      "cell_type": "markdown",
      "id": "2d52b8d0",
      "metadata": {
        "id": "2d52b8d0"
      },
      "source": [
        "# <div class=\"alert alert-block alert-warning\"><h1><b> Latihan 1</b></h1>    </div>\n",
        "\n",
        "\n",
        ">\n",
        "> Carilah solusi dari BVP berikut ini\n",
        "> $$ \\dfrac{d^2y}{dx^2}-2\\dfrac{dy}{dx} + y = 2e^x $$\n",
        "> dengan syarat batas\n",
        "> \\begin{align}\n",
        "y(0) &= 1 \\\\\n",
        "y(1) &= 0\n",
        "\\end{align}\n",
        ">\n",
        "> Solusi :\n",
        "\n",
        "<img src=\"fig_solusi_dirichlet2.png\" width=\"500\"/>\n",
        "\n",
        "> Solusi secara analitik (sebagai validasi) :\n",
        "\n",
        "<img src=\"fig_solusi_bvp1.png\" width=\"500\"/>\n",
        "\n",
        "> *Jawab* :\n",
        ">\n",
        "> $P = 1, Q = -2, R = 1, W = 2e^x$\n",
        ">\n",
        "> Elemen matriks **A** dan vektor **b** menjadi\n",
        ">\n",
        "> \\begin{equation}\n",
        "a_{ij} =\n",
        "\\begin{cases}\n",
        " \\dfrac{-2}{h^2} + 1 \\ &\\text{ untuk } j=i \\\\\n",
        "\\dfrac{1}{h^2} - \\dfrac{1}{h} \\ &\\text{ untuk } j=i+1 \\qquad \\text{ dengan } i= 2,\\ldots,n-1 \\\\\n",
        "\\dfrac{1}{h^2} + \\dfrac{1}{1h} \\ &\\text{ untuk } j=i-1 \\\\\n",
        "\\end{cases}\n",
        "\\end{equation}\n",
        ">\n",
        ">\\begin{equation}\n",
        "b_{i} = 2e^{x_i} \\qquad \\text{ dengan } i= 2,\\ldots,n-1\n",
        "\\end{equation}\n",
        ">\n",
        "> Implementasi menjadi code Python dapat dilihat berikut ini\n",
        "\n"
      ]
    },
    {
      "cell_type": "code",
      "execution_count": 1,
      "id": "adf66d4c",
      "metadata": {
        "id": "adf66d4c"
      },
      "outputs": [],
      "source": [
        "import numpy as np\n",
        "import matplotlib.pyplot as plt"
      ]
    },
    {
      "cell_type": "markdown",
      "id": "8984ba0c",
      "metadata": {},
      "source": [
        "### Persiapan"
      ]
    },
    {
      "cell_type": "markdown",
      "id": "8c6d142a",
      "metadata": {},
      "source": [
        "#### Langkah 1"
      ]
    },
    {
      "cell_type": "code",
      "execution_count": 2,
      "id": "1a5c64dc",
      "metadata": {
        "id": "1a5c64dc"
      },
      "outputs": [],
      "source": [
        "# Menyusun matriks A dan vektor b\n",
        "# untuk BVP linear orde 2 dengan syarat batas Dirichlet\n",
        "# di kedua ujung\n",
        "\n",
        "\n",
        "# Langkah 1 : Inisialisasi\n",
        "\n",
        "xmin = 0                        # batas bawah x\n",
        "xmax = 1                        # batas atas x\n",
        "n = 100                         # banyaknya interval\n",
        "h = (xmax-xmin)/n                         # lebar interval\n",
        "x = np.linspace(xmin, xmax, n+1)  # nilai x dengan lebar yang seragam"
      ]
    },
    {
      "cell_type": "markdown",
      "id": "1f457dcf",
      "metadata": {},
      "source": [
        "#### Langkah 2"
      ]
    },
    {
      "cell_type": "code",
      "execution_count": 3,
      "id": "40361cab",
      "metadata": {
        "id": "40361cab"
      },
      "outputs": [],
      "source": [
        "# Langkah 2 : Susun matriks A\n",
        "\n",
        "A = np.zeros((n+1,n+1))        # inisialisasi\n",
        "A[0, 0] = 1                     # batas kiri\n",
        "A[-1, -1] = 1                   # batas kanan\n",
        "p=1\n",
        "q=-2\n",
        "r=1\n",
        "for i in range(1, n):\n",
        "    A[i,i] = (-2*(p)/(h**2 ))+(r)     # diagonal\n",
        "    A[i,i-1] = ((p)/(h**2))-((q)/(2*h))     # kiri (west)\n",
        "    A[i,i+1] = ((p)/(h**2))+((q)/(2*h))       # kanan (east)"
      ]
    },
    {
      "cell_type": "markdown",
      "id": "56fc5842",
      "metadata": {},
      "source": [
        "#### Langkah 3"
      ]
    },
    {
      "cell_type": "code",
      "execution_count": 4,
      "id": "ac516c62",
      "metadata": {
        "id": "ac516c62"
      },
      "outputs": [],
      "source": [
        "# Langkah 3 : Susun vektor b\n",
        "\n",
        "b = np.zeros(n+1)\n",
        "b[0] = 1\n",
        "b[-1] = 0\n",
        "for i in range(1, n):\n",
        "    b[i] = 2*np.exp(x[i])"
      ]
    },
    {
      "cell_type": "markdown",
      "id": "fbfea114",
      "metadata": {},
      "source": [
        "#### Langkah 4"
      ]
    },
    {
      "cell_type": "code",
      "execution_count": 5,
      "id": "4fa64403",
      "metadata": {
        "id": "4fa64403"
      },
      "outputs": [
        {
          "name": "stdout",
          "output_type": "stream",
          "text": [
            "Matrix x : \n",
            "[0.   0.01 0.02 0.03 0.04 0.05 0.06 0.07 0.08 0.09 0.1  0.11 0.12 0.13\n",
            " 0.14 0.15 0.16 0.17 0.18 0.19 0.2  0.21 0.22 0.23 0.24 0.25 0.26 0.27\n",
            " 0.28 0.29 0.3  0.31 0.32 0.33 0.34 0.35 0.36 0.37 0.38 0.39 0.4  0.41\n",
            " 0.42 0.43 0.44 0.45 0.46 0.47 0.48 0.49 0.5  0.51 0.52 0.53 0.54 0.55\n",
            " 0.56 0.57 0.58 0.59 0.6  0.61 0.62 0.63 0.64 0.65 0.66 0.67 0.68 0.69\n",
            " 0.7  0.71 0.72 0.73 0.74 0.75 0.76 0.77 0.78 0.79 0.8  0.81 0.82 0.83\n",
            " 0.84 0.85 0.86 0.87 0.88 0.89 0.9  0.91 0.92 0.93 0.94 0.95 0.96 0.97\n",
            " 0.98 0.99 1.  ]\n",
            "Matrix B : \n",
            "[1.         2.02010033 2.04040268 2.06090907 2.08162155 2.10254219\n",
            " 2.12367309 2.14501636 2.16657414 2.18834857 2.21034184 2.23255614\n",
            " 2.2549937  2.27765677 2.3005476  2.32366849 2.34702174 2.3706097\n",
            " 2.39443473 2.4184992  2.44280552 2.46735612 2.49215346 2.51720002\n",
            " 2.5424983  2.56805083 2.59386017 2.6199289  2.64625962 2.67285498\n",
            " 2.69971762 2.72685023 2.75425553 2.78193626 2.80989518 2.8381351\n",
            " 2.86665883 2.89546923 2.92456918 2.95396159 2.9836494  3.01363557\n",
            " 3.04392311 3.07451505 3.10541444 3.13662437 3.16814797 3.19998839\n",
            " 3.2321488  3.26463244 3.29744254 3.33058239 3.3640553  3.39786462\n",
            " 3.43201372 3.46650604 3.501345   3.5365341  3.57207686 3.60797683\n",
            " 3.6442376  3.6808628  3.71785608 3.75522116 3.79296176 3.83108166\n",
            " 3.86958467 3.90847464 3.94775546 3.98743107 4.02750541 4.06798252\n",
            " 4.10886642 4.15016122 4.19187103 4.23400003 4.27655244 4.31953251\n",
            " 4.36294453 4.40679285 4.45108186 4.49581597 4.54099968 4.58663748\n",
            " 4.63273395 4.6792937  4.72632139 4.77382171 4.82179941 4.8702593\n",
            " 4.91920622 4.96864507 5.01858078 5.06901836 5.11996284 5.17141932\n",
            " 5.22339295 5.27588892 5.32891248 5.38246894 0.        ]\n",
            "Matrix A : \n",
            "[[ 1.0000e+00  0.0000e+00  0.0000e+00 ...  0.0000e+00  0.0000e+00\n",
            "   0.0000e+00]\n",
            " [ 1.0100e+04 -1.9999e+04  9.9000e+03 ...  0.0000e+00  0.0000e+00\n",
            "   0.0000e+00]\n",
            " [ 0.0000e+00  1.0100e+04 -1.9999e+04 ...  0.0000e+00  0.0000e+00\n",
            "   0.0000e+00]\n",
            " ...\n",
            " [ 0.0000e+00  0.0000e+00  0.0000e+00 ... -1.9999e+04  9.9000e+03\n",
            "   0.0000e+00]\n",
            " [ 0.0000e+00  0.0000e+00  0.0000e+00 ...  1.0100e+04 -1.9999e+04\n",
            "   9.9000e+03]\n",
            " [ 0.0000e+00  0.0000e+00  0.0000e+00 ...  0.0000e+00  0.0000e+00\n",
            "   1.0000e+00]]\n"
          ]
        },
        {
          "data": {
            "text/plain": [
              "<matplotlib.image.AxesImage at 0x7f88e5747450>"
            ]
          },
          "execution_count": 5,
          "metadata": {},
          "output_type": "execute_result"
        },
        {
          "data": {
            "image/png": "[encoded data removed]",
            "text/plain": [
              "<Figure size 432x288 with 1 Axes>"
            ]
          },
          "metadata": {
            "needs_background": "light"
          },
          "output_type": "display_data"
        }
      ],
      "source": [
        "# Langkah 4 :\n",
        "# Tampilkan vektor x, matriks A dan vektor b\n",
        "\n",
        "\n",
        "print(\"Matrix x : \\n{}\".format(x))\n",
        "print(\"Matrix B : \\n{}\".format(b))\n",
        "print(\"Matrix A : \\n{}\".format(A))\n",
        "\n",
        "# visualisasikan matriks A menggunakan perintah spy yang\n",
        "# ada pada modul pyplot\n",
        "\n",
        "plt.spy(A)"
      ]
    },
    {
      "cell_type": "markdown",
      "id": "5358610e",
      "metadata": {
        "id": "5358610e"
      },
      "source": [
        "## <code style=\"color:black\">**Mencari solusi** :</code>\n",
        "\n",
        "Persamaan linear yang dinyatakan dalam bentuk matriks\n",
        "\n",
        "$$\\mathbf{A\\,y} = \\mathbf{b}$$\n",
        "\n",
        "dapat diselesaikan dengan inverse dari matriks **A** ke persamaan tersebut.\n",
        "\n",
        "$$\\mathbf{A^{-1}\\,A\\,y} = \\mathbf{A^{-1}b}$$\n",
        "atau\n",
        "$$\\mathbf{y} = \\mathbf{A^{-1}b}$$\n",
        "\n",
        "\n",
        "Untuk keperluan ini kita dapat menggunakan **numpy.linalg.inv(a)** untuk mencari inverse matriks dan **numpy.matmul(x1, x2)** untuk melakukan perkalian matriks."
      ]
    },
    {
      "cell_type": "markdown",
      "id": "4f146a27",
      "metadata": {},
      "source": [
        "#### Langkah 5"
      ]
    },
    {
      "cell_type": "code",
      "execution_count": 6,
      "id": "b4965533",
      "metadata": {
        "colab": {
          "base_uri": "https://localhost:8080/",
          "height": 935
        },
        "id": "b4965533",
        "outputId": "80f73fe3-2335-4799-a0f6-0c56470dbe44"
      },
      "outputs": [
        {
          "name": "stdout",
          "output_type": "stream",
          "text": [
            "[1.00000000e+00 9.89950049e-01 9.79801124e-01 9.69554303e-01\n",
            " 9.59210712e-01 9.48771535e-01 9.38238008e-01 9.27611423e-01\n",
            " 9.16893130e-01 9.06084536e-01 8.95187108e-01 8.84202375e-01\n",
            " 8.73131924e-01 8.61977411e-01 8.50740551e-01 8.39423130e-01\n",
            " 8.28026997e-01 8.16554073e-01 8.05006349e-01 7.93385885e-01\n",
            " 7.81694817e-01 7.69935355e-01 7.58109785e-01 7.46220471e-01\n",
            " 7.34269855e-01 7.22260462e-01 7.10194898e-01 6.98075855e-01\n",
            " 6.85906109e-01 6.73688525e-01 6.61426057e-01 6.49121751e-01\n",
            " 6.36778745e-01 6.24400271e-01 6.11989660e-01 5.99550340e-01\n",
            " 5.87085841e-01 5.74599794e-01 5.62095934e-01 5.49578105e-01\n",
            " 5.37050257e-01 5.24516453e-01 5.11980866e-01 4.99447788e-01\n",
            " 4.86921623e-01 4.74406899e-01 4.61908264e-01 4.49430488e-01\n",
            " 4.36978470e-01 4.24557236e-01 4.12171945e-01 3.99827887e-01\n",
            " 3.87530490e-01 3.75285320e-01 3.63098084e-01 3.50974632e-01\n",
            " 3.38920963e-01 3.26943221e-01 3.15047707e-01 3.03240871e-01\n",
            " 2.91529326e-01 2.79919841e-01 2.68419350e-01 2.57034955e-01\n",
            " 2.45773923e-01 2.34643698e-01 2.23651897e-01 2.12806314e-01\n",
            " 2.02114930e-01 1.91585904e-01 1.81227591e-01 1.71048531e-01\n",
            " 1.61057463e-01 1.51263324e-01 1.41675253e-01 1.32302594e-01\n",
            " 1.23154901e-01 1.14241942e-01 1.05573699e-01 9.71603785e-02\n",
            " 8.90124078e-02 8.11404448e-02 7.35553790e-02 6.62683366e-02\n",
            " 5.92906841e-02 5.26340329e-02 4.63102433e-02 4.03314288e-02\n",
            " 3.47099604e-02 2.94584715e-02 2.45898616e-02 2.01173017e-02\n",
            " 1.60542383e-02 1.24143985e-02 9.21179471e-03 6.46072931e-03\n",
            " 4.17579982e-03 2.37190380e-03 1.06424391e-03 2.68333145e-04\n",
            " 0.00000000e+00]\n"
          ]
        },
        {
          "data": {
            "image/png": "[encoded data removed]",
            "text/plain": [
              "<Figure size 432x288 with 1 Axes>"
            ]
          },
          "metadata": {
            "needs_background": "light"
          },
          "output_type": "display_data"
        }
      ],
      "source": [
        "# Langkah 5 : mencari solusi menggunakan inverse matriks\n",
        "\n",
        "A_inv=np.linalg.inv(A)\n",
        "y = np.matmul(A_inv, b)\n",
        "\n",
        "# plot\n",
        "print(y)\n",
        "plt.plot(x,y)\n",
        "plt.xlabel(\"x\")\n",
        "plt.ylabel(\"y\")\n",
        "plt.show()"
      ]
    },
    {
      "cell_type": "markdown",
      "id": "b6a5740b",
      "metadata": {
        "id": "b6a5740b"
      },
      "source": [
        "Alternatif lain untuk mencari solusi persamaan matriks adalah menggunakan **numpy.linalg.solve(a, b)**. Metode ini menggunakan algoritma dekomposisi LU dengan pivoting parsial."
      ]
    },
    {
      "cell_type": "markdown",
      "id": "ebcfea17",
      "metadata": {},
      "source": [
        "#### Langkah 6"
      ]
    },
    {
      "cell_type": "code",
      "execution_count": 7,
      "id": "4c72e963",
      "metadata": {
        "id": "4c72e963"
      },
      "outputs": [
        {
          "name": "stdout",
          "output_type": "stream",
          "text": [
            "[1.00000000e+00 9.89950049e-01 9.79801124e-01 9.69554303e-01\n",
            " 9.59210712e-01 9.48771535e-01 9.38238008e-01 9.27611423e-01\n",
            " 9.16893130e-01 9.06084536e-01 8.95187108e-01 8.84202375e-01\n",
            " 8.73131924e-01 8.61977411e-01 8.50740551e-01 8.39423130e-01\n",
            " 8.28026997e-01 8.16554073e-01 8.05006349e-01 7.93385885e-01\n",
            " 7.81694817e-01 7.69935355e-01 7.58109785e-01 7.46220471e-01\n",
            " 7.34269855e-01 7.22260462e-01 7.10194898e-01 6.98075855e-01\n",
            " 6.85906109e-01 6.73688525e-01 6.61426057e-01 6.49121751e-01\n",
            " 6.36778745e-01 6.24400271e-01 6.11989660e-01 5.99550340e-01\n",
            " 5.87085841e-01 5.74599794e-01 5.62095934e-01 5.49578105e-01\n",
            " 5.37050257e-01 5.24516453e-01 5.11980866e-01 4.99447788e-01\n",
            " 4.86921623e-01 4.74406899e-01 4.61908264e-01 4.49430488e-01\n",
            " 4.36978470e-01 4.24557236e-01 4.12171945e-01 3.99827887e-01\n",
            " 3.87530490e-01 3.75285320e-01 3.63098084e-01 3.50974632e-01\n",
            " 3.38920963e-01 3.26943221e-01 3.15047707e-01 3.03240871e-01\n",
            " 2.91529326e-01 2.79919841e-01 2.68419350e-01 2.57034955e-01\n",
            " 2.45773923e-01 2.34643698e-01 2.23651897e-01 2.12806314e-01\n",
            " 2.02114930e-01 1.91585904e-01 1.81227591e-01 1.71048531e-01\n",
            " 1.61057463e-01 1.51263324e-01 1.41675253e-01 1.32302594e-01\n",
            " 1.23154901e-01 1.14241942e-01 1.05573699e-01 9.71603785e-02\n",
            " 8.90124078e-02 8.11404448e-02 7.35553790e-02 6.62683366e-02\n",
            " 5.92906841e-02 5.26340329e-02 4.63102433e-02 4.03314288e-02\n",
            " 3.47099604e-02 2.94584715e-02 2.45898616e-02 2.01173017e-02\n",
            " 1.60542383e-02 1.24143985e-02 9.21179471e-03 6.46072931e-03\n",
            " 4.17579982e-03 2.37190380e-03 1.06424391e-03 2.68333145e-04\n",
            " 0.00000000e+00]\n"
          ]
        },
        {
          "data": {
            "image/png": "[encoded data removed]",
            "text/plain": [
              "<Figure size 432x288 with 1 Axes>"
            ]
          },
          "metadata": {
            "needs_background": "light"
          },
          "output_type": "display_data"
        }
      ],
      "source": [
        "# Langkah 6: mencari solusi menggunakan dekomposisi LU\n",
        "\n",
        "y = np.linalg.solve(A,b)\n",
        "\n",
        "# plot\n",
        "print(y)\n",
        "plt.plot(x,y)\n",
        "plt.xlabel(\"x\")\n",
        "plt.ylabel(\"y\")\n",
        "plt.show()"
      ]
    },
    {
      "cell_type": "markdown",
      "id": "94894948",
      "metadata": {
        "id": "94894948"
      },
      "source": [
        "Kita dapat mencari waktu yang diperlukan untuk mencari solusi menggunakan metode di atas."
      ]
    },
    {
      "cell_type": "code",
      "execution_count": 8,
      "id": "9b2de0b2",
      "metadata": {
        "id": "9b2de0b2"
      },
      "outputs": [],
      "source": [
        "import time"
      ]
    },
    {
      "cell_type": "code",
      "execution_count": 9,
      "id": "cbeb7609",
      "metadata": {
        "id": "cbeb7609"
      },
      "outputs": [
        {
          "name": "stdout",
          "output_type": "stream",
          "text": [
            "Percobaan # 0 LU dengan pivoting parsial. Waktu yang diperlukan = 4.546e-02 detik\n",
            "Percobaan # 1 LU dengan pivoting parsial. Waktu yang diperlukan = 1.916e-02 detik\n",
            "Percobaan # 2 LU dengan pivoting parsial. Waktu yang diperlukan = 4.916e-04 detik\n",
            "Percobaan # 3 LU dengan pivoting parsial. Waktu yang diperlukan = 4.573e-04 detik\n",
            "Percobaan # 4 LU dengan pivoting parsial. Waktu yang diperlukan = 4.628e-04 detik\n",
            "Percobaan # 5 LU dengan pivoting parsial. Waktu yang diperlukan = 5.062e-04 detik\n",
            "Percobaan # 6 LU dengan pivoting parsial. Waktu yang diperlukan = 5.326e-04 detik\n",
            "Percobaan # 7 LU dengan pivoting parsial. Waktu yang diperlukan = 5.267e-04 detik\n",
            "Percobaan # 8 LU dengan pivoting parsial. Waktu yang diperlukan = 4.592e-02 detik\n",
            "Percobaan # 9 LU dengan pivoting parsial. Waktu yang diperlukan = 6.126e-02 detik\n",
            "Rerata waktu = 0.017477965354919432 detik\n"
          ]
        }
      ],
      "source": [
        "n = 10\n",
        "waktu = np.zeros(n)\n",
        "\n",
        "for i in range(n):\n",
        "    tic = time.time()\n",
        "    y = np.linalg.solve(A, b)\n",
        "    toc = time.time()\n",
        "    waktu[i] = toc-tic\n",
        "    print(\"Percobaan #\",i,\"LU dengan pivoting parsial. Waktu yang diperlukan = {:.3e} detik\".format(waktu[i]))\n",
        "\n",
        "\n",
        "print(\"Rerata waktu =\",np.average(waktu),\"detik\")\n"
      ]
    },
    {
      "cell_type": "markdown",
      "id": "54fe201a",
      "metadata": {
        "id": "54fe201a"
      },
      "source": [
        "Dari plot hasil **spy** dapat kita lihat bahwa matriks **A** adalah *sparse matrix*. Artinya elemen matriks pada posisi tridiagonal mempunyai nilai tertentu, dan sisanya (yang jumlah elemennya lebih banyak) mempunyai nilai 0.\n",
        "\n",
        "Pencarian solusi *sparse matrix* akan lebih efisien jika kita menggunakan algoritma yang memang dimaksudkan untuk itu. Umumnya digunakan algoritma penyelesaian yang bersifat iteratif. Ingat pada matakuliah Metode Numerik, kita pernah mempelajari metode iteratif untuk penyelesaian sistem persamaan linear, seperti metode Jacobi dan Gauss-Seidel. Namun di python terdapat algoritma yang lebih efisien dan efektif.\n",
        "\n",
        "Ada beberapa algoritma yang dapat digunakan dan dapat diperoleh dari modul **scipy**, antara lain :\n",
        "- Generalized Minimal RESidual (GMRES) : **scipy.sparse.linalg.gmres**\n",
        "- BIConjugate Gradient STABilized (BICGSTAB) : **scipy.sparse.linalg.bicgstab**\n",
        "- Conjugate Gradient Squared (CGS) : **scipy.sparse.linalg.cgs**\n",
        "-  Generalized Conjugate Residual with inner Orthogonalization and outer Truncation (GCROT) : **scipy.sparse.linalg.gcrotmk**\n",
        "\n",
        "Sebelum menyelesaikan permasalahan menggunakan metode-metode di atas, perlu dilakukan pengolahan awal matriks atau yang biasa disebut dengan *preconditioning*. Ide utama dari *preconditioning* ini adalah untuk mentransformasi sistem linear awal menjadi sistem linear yang ekivalen dengan sifat-sifat yang lebih baik untuk mencapai konvergensi.\n",
        "\n",
        "Tujuan utama dari *preconditioning* adalah :\n",
        "- mempercepat konvergensi\n",
        "- mengurangi jumlah iterasi:\n",
        "- meningkatkan *robustness*\n",
        "\n",
        "Ada beberapa teknik atau *preconditioner* yang dapat digunakan, misal :\n",
        "- *Incomplete LU (ILU) Preconditioner* : **scipy.sparse.linalg.spilu**\n",
        "- *Preconditioned Conjugate Gradient (PCG) Preconditioner*\n",
        "- *Algebraic Multigrid (AMG) Preconditioner*\n",
        "\n",
        "Di bawah ini contoh untuk melakukan penyelesaian masalah menggunakan metode GMRES dengan ILU preconditioner."
      ]
    },
    {
      "cell_type": "code",
      "execution_count": 10,
      "id": "b467e864",
      "metadata": {
        "id": "b467e864"
      },
      "outputs": [],
      "source": [
        "import scipy.sparse as sparse\n",
        "import scipy.sparse.linalg as sla\n",
        "from scipy.sparse import csc_matrix"
      ]
    },
    {
      "cell_type": "code",
      "execution_count": 11,
      "id": "66c2cc32",
      "metadata": {
        "id": "66c2cc32"
      },
      "outputs": [
        {
          "name": "stdout",
          "output_type": "stream",
          "text": [
            "[1.00000000e+00 9.89950049e-01 9.79801124e-01 9.69554303e-01\n",
            " 9.59210712e-01 9.48771535e-01 9.38238008e-01 9.27611423e-01\n",
            " 9.16893130e-01 9.06084536e-01 8.95187108e-01 8.84202375e-01\n",
            " 8.73131924e-01 8.61977411e-01 8.50740551e-01 8.39423130e-01\n",
            " 8.28026997e-01 8.16554073e-01 8.05006349e-01 7.93385885e-01\n",
            " 7.81694817e-01 7.69935355e-01 7.58109785e-01 7.46220471e-01\n",
            " 7.34269855e-01 7.22260462e-01 7.10194898e-01 6.98075855e-01\n",
            " 6.85906109e-01 6.73688525e-01 6.61426057e-01 6.49121751e-01\n",
            " 6.36778745e-01 6.24400271e-01 6.11989660e-01 5.99550340e-01\n",
            " 5.87085841e-01 5.74599794e-01 5.62095934e-01 5.49578105e-01\n",
            " 5.37050257e-01 5.24516453e-01 5.11980866e-01 4.99447788e-01\n",
            " 4.86921623e-01 4.74406899e-01 4.61908264e-01 4.49430488e-01\n",
            " 4.36978470e-01 4.24557236e-01 4.12171945e-01 3.99827887e-01\n",
            " 3.87530490e-01 3.75285320e-01 3.63098084e-01 3.50974632e-01\n",
            " 3.38920963e-01 3.26943221e-01 3.15047707e-01 3.03240871e-01\n",
            " 2.91529326e-01 2.79919841e-01 2.68419350e-01 2.57034955e-01\n",
            " 2.45773923e-01 2.34643698e-01 2.23651897e-01 2.12806314e-01\n",
            " 2.02114930e-01 1.91585904e-01 1.81227591e-01 1.71048531e-01\n",
            " 1.61057463e-01 1.51263324e-01 1.41675253e-01 1.32302594e-01\n",
            " 1.23154901e-01 1.14241942e-01 1.05573699e-01 9.71603785e-02\n",
            " 8.90124078e-02 8.11404448e-02 7.35553790e-02 6.62683366e-02\n",
            " 5.92906841e-02 5.26340329e-02 4.63102433e-02 4.03314288e-02\n",
            " 3.47099604e-02 2.94584715e-02 2.45898616e-02 2.01173017e-02\n",
            " 1.60542383e-02 1.24143985e-02 9.21179471e-03 6.46072931e-03\n",
            " 4.17579982e-03 2.37190380e-03 1.06424391e-03 2.68333145e-04\n",
            " 0.00000000e+00]\n"
          ]
        },
        {
          "data": {
            "image/png": "[encoded data removed]",
            "text/plain": [
              "<Figure size 432x288 with 1 Axes>"
            ]
          },
          "metadata": {
            "needs_background": "light"
          },
          "output_type": "display_data"
        }
      ],
      "source": [
        "## Contoh penyelesaian masalah menggunakan GMRES dengan ILU preconditioner\n",
        "\n",
        "\n",
        "# Preconditioning menggunakan ILU Preconditioner\n",
        "\n",
        "B = csc_matrix(A, dtype=float)\n",
        "ILUfact = sla.spilu(B)\n",
        "\n",
        "M = sla.LinearOperator(\n",
        "    shape = B.shape,\n",
        "    matvec = lambda b: ILUfact.solve(b)\n",
        ")\n",
        "\n",
        "# mencari solusi menggunakan GMRES\n",
        "y, exit = sla.gmres(B, b, M=M)\n",
        "\n",
        "# Plot\n",
        "print(y)\n",
        "plt.plot(x,y)\n",
        "plt.xlabel(\"x\")\n",
        "plt.ylabel(\"y\")\n",
        "plt.show()"
      ]
    },
    {
      "cell_type": "markdown",
      "id": "a869e8a5",
      "metadata": {
        "id": "a869e8a5"
      },
      "source": [
        "Mari kita bandingkan waktu yang diperlukan jika menggunakan metode GMRES"
      ]
    },
    {
      "cell_type": "code",
      "execution_count": 12,
      "id": "f34a06dc",
      "metadata": {
        "id": "f34a06dc"
      },
      "outputs": [
        {
          "name": "stdout",
          "output_type": "stream",
          "text": [
            "Percobaan # 0 GMRES dengan Preconditioning: Waktu yang diperlukan = 1.233e-03 detik\n",
            "Percobaan # 1 GMRES dengan Preconditioning: Waktu yang diperlukan = 1.778e-03 detik\n",
            "Percobaan # 2 GMRES dengan Preconditioning: Waktu yang diperlukan = 1.361e-03 detik\n",
            "Percobaan # 3 GMRES dengan Preconditioning: Waktu yang diperlukan = 1.326e-03 detik\n",
            "Percobaan # 4 GMRES dengan Preconditioning: Waktu yang diperlukan = 1.306e-03 detik\n",
            "Percobaan # 5 GMRES dengan Preconditioning: Waktu yang diperlukan = 1.318e-03 detik\n",
            "Percobaan # 6 GMRES dengan Preconditioning: Waktu yang diperlukan = 1.303e-03 detik\n",
            "Percobaan # 7 GMRES dengan Preconditioning: Waktu yang diperlukan = 1.302e-03 detik\n",
            "Percobaan # 8 GMRES dengan Preconditioning: Waktu yang diperlukan = 1.312e-03 detik\n",
            "Percobaan # 9 GMRES dengan Preconditioning: Waktu yang diperlukan = 8.492e-04 detik\n",
            "Rerata waktu = 0.0013088941574096679 detik\n"
          ]
        }
      ],
      "source": [
        "n = 10\n",
        "waktu = np.zeros(n)\n",
        "\n",
        "for i in range(n):\n",
        "    tic = time.time()\n",
        "    y, exit = sla.gmres(B, b, M=M)\n",
        "    toc = time.time()\n",
        "    waktu[i] = toc-tic\n",
        "    print(\"Percobaan #\",i,\"GMRES dengan Preconditioning: Waktu yang diperlukan = {:.3e} detik\".format(waktu[i]))\n",
        "\n",
        "print(\"Rerata waktu =\",np.average(waktu),\"detik\")"
      ]
    },
    {
      "cell_type": "markdown",
      "id": "8d8b8d0c",
      "metadata": {
        "id": "8d8b8d0c"
      },
      "source": [
        "Sekarang silakan Anda menyelesaikan permasalahan di atas menggunakan metode yang lain."
      ]
    },
    {
      "cell_type": "markdown",
      "id": "8afb276f",
      "metadata": {},
      "source": [
        "#### Langkah 7 (BICGSTAB)"
      ]
    },
    {
      "cell_type": "code",
      "execution_count": 13,
      "id": "d19b9c8d",
      "metadata": {
        "id": "d19b9c8d"
      },
      "outputs": [
        {
          "name": "stdout",
          "output_type": "stream",
          "text": [
            "[1.00000000e+00 9.89950049e-01 9.79801124e-01 9.69554303e-01\n",
            " 9.59210712e-01 9.48771535e-01 9.38238008e-01 9.27611423e-01\n",
            " 9.16893130e-01 9.06084536e-01 8.95187108e-01 8.84202375e-01\n",
            " 8.73131924e-01 8.61977411e-01 8.50740551e-01 8.39423130e-01\n",
            " 8.28026997e-01 8.16554073e-01 8.05006349e-01 7.93385885e-01\n",
            " 7.81694817e-01 7.69935355e-01 7.58109785e-01 7.46220471e-01\n",
            " 7.34269855e-01 7.22260462e-01 7.10194898e-01 6.98075855e-01\n",
            " 6.85906109e-01 6.73688525e-01 6.61426057e-01 6.49121751e-01\n",
            " 6.36778745e-01 6.24400271e-01 6.11989660e-01 5.99550340e-01\n",
            " 5.87085841e-01 5.74599794e-01 5.62095934e-01 5.49578105e-01\n",
            " 5.37050257e-01 5.24516453e-01 5.11980866e-01 4.99447788e-01\n",
            " 4.86921623e-01 4.74406899e-01 4.61908264e-01 4.49430488e-01\n",
            " 4.36978470e-01 4.24557236e-01 4.12171945e-01 3.99827887e-01\n",
            " 3.87530490e-01 3.75285320e-01 3.63098084e-01 3.50974632e-01\n",
            " 3.38920963e-01 3.26943221e-01 3.15047707e-01 3.03240871e-01\n",
            " 2.91529326e-01 2.79919841e-01 2.68419350e-01 2.57034955e-01\n",
            " 2.45773923e-01 2.34643698e-01 2.23651897e-01 2.12806314e-01\n",
            " 2.02114930e-01 1.91585904e-01 1.81227591e-01 1.71048531e-01\n",
            " 1.61057463e-01 1.51263324e-01 1.41675253e-01 1.32302594e-01\n",
            " 1.23154901e-01 1.14241942e-01 1.05573699e-01 9.71603785e-02\n",
            " 8.90124078e-02 8.11404448e-02 7.35553790e-02 6.62683366e-02\n",
            " 5.92906841e-02 5.26340329e-02 4.63102433e-02 4.03314288e-02\n",
            " 3.47099604e-02 2.94584715e-02 2.45898616e-02 2.01173017e-02\n",
            " 1.60542383e-02 1.24143985e-02 9.21179471e-03 6.46072931e-03\n",
            " 4.17579982e-03 2.37190380e-03 1.06424391e-03 2.68333145e-04\n",
            " 0.00000000e+00]\n"
          ]
        },
        {
          "data": {
            "image/png": "[encoded data removed]",
            "text/plain": [
              "<Figure size 432x288 with 1 Axes>"
            ]
          },
          "metadata": {
            "needs_background": "light"
          },
          "output_type": "display_data"
        }
      ],
      "source": [
        "# Langkah 7 : mencari solusi menggunakan metode BICGSTAB\n",
        "\n",
        "# Preconditioning menggunakan ILU Preconditioner\n",
        "\n",
        "B = csc_matrix(A, dtype=float)\n",
        "ILUfact = sla.spilu(B)\n",
        "\n",
        "M = sla.LinearOperator(\n",
        "    shape = B.shape,\n",
        "    matvec = lambda b: ILUfact.solve(b)\n",
        ")\n",
        "\n",
        "# mencari solusi menggunakan GMRES\n",
        "y, exit = sla.bicgstab(B, b, M=M)\n",
        "\n",
        "# Plot\n",
        "print(y)\n",
        "plt.plot(x,y)\n",
        "plt.xlabel(\"x\")\n",
        "plt.ylabel(\"y\")\n",
        "plt.show()"
      ]
    },
    {
      "cell_type": "code",
      "execution_count": 14,
      "id": "8b6aa47c",
      "metadata": {},
      "outputs": [
        {
          "name": "stdout",
          "output_type": "stream",
          "text": [
            "Percobaan # 0 BICGSTAB dengan Preconditioning: Waktu yang diperlukan = 6.363e-04 detik\n",
            "Percobaan # 1 BICGSTAB dengan Preconditioning: Waktu yang diperlukan = 1.172e-03 detik\n",
            "Percobaan # 2 BICGSTAB dengan Preconditioning: Waktu yang diperlukan = 9.294e-04 detik\n",
            "Percobaan # 3 BICGSTAB dengan Preconditioning: Waktu yang diperlukan = 9.108e-04 detik\n",
            "Percobaan # 4 BICGSTAB dengan Preconditioning: Waktu yang diperlukan = 8.717e-04 detik\n",
            "Percobaan # 5 BICGSTAB dengan Preconditioning: Waktu yang diperlukan = 9.406e-04 detik\n",
            "Percobaan # 6 BICGSTAB dengan Preconditioning: Waktu yang diperlukan = 8.669e-04 detik\n",
            "Percobaan # 7 BICGSTAB dengan Preconditioning: Waktu yang diperlukan = 8.507e-04 detik\n",
            "Percobaan # 8 BICGSTAB dengan Preconditioning: Waktu yang diperlukan = 8.006e-04 detik\n",
            "Percobaan # 9 BICGSTAB dengan Preconditioning: Waktu yang diperlukan = 7.961e-04 detik\n",
            "Rerata waktu = 0.0008774518966674805 detik\n"
          ]
        }
      ],
      "source": [
        "n = 10\n",
        "waktu = np.zeros(n)\n",
        "\n",
        "for i in range(n):\n",
        "    tic = time.time()\n",
        "    y, exit = sla.bicgstab(B, b, M=M)\n",
        "    toc = time.time()\n",
        "    waktu[i] = toc-tic\n",
        "    print(\"Percobaan #\",i,\"BICGSTAB dengan Preconditioning: Waktu yang diperlukan = {:.3e} detik\".format(waktu[i]))\n",
        "\n",
        "print(\"Rerata waktu =\",np.average(waktu),\"detik\")"
      ]
    },
    {
      "cell_type": "markdown",
      "id": "139cae29",
      "metadata": {},
      "source": [
        "#### Langkah 8"
      ]
    },
    {
      "cell_type": "code",
      "execution_count": 15,
      "id": "30158d38",
      "metadata": {
        "id": "30158d38"
      },
      "outputs": [
        {
          "name": "stdout",
          "output_type": "stream",
          "text": [
            "[1.00000000e+00 9.89950049e-01 9.79801124e-01 9.69554303e-01\n",
            " 9.59210712e-01 9.48771535e-01 9.38238008e-01 9.27611423e-01\n",
            " 9.16893130e-01 9.06084536e-01 8.95187108e-01 8.84202375e-01\n",
            " 8.73131924e-01 8.61977411e-01 8.50740551e-01 8.39423130e-01\n",
            " 8.28026997e-01 8.16554073e-01 8.05006349e-01 7.93385885e-01\n",
            " 7.81694817e-01 7.69935355e-01 7.58109785e-01 7.46220471e-01\n",
            " 7.34269855e-01 7.22260462e-01 7.10194898e-01 6.98075855e-01\n",
            " 6.85906109e-01 6.73688525e-01 6.61426057e-01 6.49121751e-01\n",
            " 6.36778745e-01 6.24400271e-01 6.11989660e-01 5.99550340e-01\n",
            " 5.87085841e-01 5.74599794e-01 5.62095934e-01 5.49578105e-01\n",
            " 5.37050257e-01 5.24516453e-01 5.11980866e-01 4.99447788e-01\n",
            " 4.86921623e-01 4.74406899e-01 4.61908264e-01 4.49430488e-01\n",
            " 4.36978470e-01 4.24557236e-01 4.12171945e-01 3.99827887e-01\n",
            " 3.87530490e-01 3.75285320e-01 3.63098084e-01 3.50974632e-01\n",
            " 3.38920963e-01 3.26943221e-01 3.15047707e-01 3.03240871e-01\n",
            " 2.91529326e-01 2.79919841e-01 2.68419350e-01 2.57034955e-01\n",
            " 2.45773923e-01 2.34643698e-01 2.23651897e-01 2.12806314e-01\n",
            " 2.02114930e-01 1.91585904e-01 1.81227591e-01 1.71048531e-01\n",
            " 1.61057463e-01 1.51263324e-01 1.41675253e-01 1.32302594e-01\n",
            " 1.23154901e-01 1.14241942e-01 1.05573699e-01 9.71603785e-02\n",
            " 8.90124078e-02 8.11404448e-02 7.35553790e-02 6.62683366e-02\n",
            " 5.92906841e-02 5.26340329e-02 4.63102433e-02 4.03314288e-02\n",
            " 3.47099604e-02 2.94584715e-02 2.45898616e-02 2.01173017e-02\n",
            " 1.60542383e-02 1.24143985e-02 9.21179471e-03 6.46072931e-03\n",
            " 4.17579982e-03 2.37190380e-03 1.06424391e-03 2.68333145e-04\n",
            " 0.00000000e+00]\n"
          ]
        },
        {
          "data": {
            "image/png": "[encoded data removed]",
            "text/plain": [
              "<Figure size 432x288 with 1 Axes>"
            ]
          },
          "metadata": {
            "needs_background": "light"
          },
          "output_type": "display_data"
        }
      ],
      "source": [
        "# Langkah 8: Mencari solusi menggunakan metode CGS\n",
        "\n",
        "\n",
        "# Preconditioning menggunakan ILU Preconditioner\n",
        "\n",
        "B = csc_matrix(A, dtype=float)\n",
        "ILUfact = sla.spilu(B)\n",
        "\n",
        "M = sla.LinearOperator(\n",
        "    shape = B.shape,\n",
        "    matvec = lambda b: ILUfact.solve(b)\n",
        ")\n",
        "\n",
        "# mencari solusi menggunakan CGS\n",
        "y, exit = sla.cgs(B, b, M=M)\n",
        "\n",
        "# Plot\n",
        "print(y)\n",
        "plt.plot(x,y)\n",
        "plt.xlabel(\"x\")\n",
        "plt.ylabel(\"y\")\n",
        "plt.show()"
      ]
    },
    {
      "cell_type": "code",
      "execution_count": 16,
      "id": "858a96e9",
      "metadata": {},
      "outputs": [
        {
          "name": "stdout",
          "output_type": "stream",
          "text": [
            "Percobaan # 0 CGS dengan Preconditioning: Waktu yang diperlukan = 8.419e-04 detik\n",
            "Percobaan # 1 CGS dengan Preconditioning: Waktu yang diperlukan = 1.592e-03 detik\n",
            "Percobaan # 2 CGS dengan Preconditioning: Waktu yang diperlukan = 1.086e-03 detik\n",
            "Percobaan # 3 CGS dengan Preconditioning: Waktu yang diperlukan = 1.203e-03 detik\n",
            "Percobaan # 4 CGS dengan Preconditioning: Waktu yang diperlukan = 1.267e-03 detik\n",
            "Percobaan # 5 CGS dengan Preconditioning: Waktu yang diperlukan = 1.224e-03 detik\n",
            "Percobaan # 6 CGS dengan Preconditioning: Waktu yang diperlukan = 1.433e-03 detik\n",
            "Percobaan # 7 CGS dengan Preconditioning: Waktu yang diperlukan = 1.229e-03 detik\n",
            "Percobaan # 8 CGS dengan Preconditioning: Waktu yang diperlukan = 1.225e-03 detik\n",
            "Percobaan # 9 CGS dengan Preconditioning: Waktu yang diperlukan = 1.242e-03 detik\n",
            "Rerata waktu = 0.0012343645095825196 detik\n"
          ]
        }
      ],
      "source": [
        "n = 10\n",
        "waktu = np.zeros(n)\n",
        "\n",
        "for i in range(n):\n",
        "    tic = time.time()\n",
        "    y, exit = sla.cgs(B, b, M=M)\n",
        "    toc = time.time()\n",
        "    waktu[i] = toc-tic\n",
        "    print(\"Percobaan #\",i,\"CGS dengan Preconditioning: Waktu yang diperlukan = {:.3e} detik\".format(waktu[i]))\n",
        "\n",
        "print(\"Rerata waktu =\",np.average(waktu),\"detik\")"
      ]
    },
    {
      "cell_type": "markdown",
      "id": "c8e796e4",
      "metadata": {},
      "source": [
        "#### Langkah 9"
      ]
    },
    {
      "cell_type": "code",
      "execution_count": 17,
      "id": "c6b834ca",
      "metadata": {
        "id": "c6b834ca"
      },
      "outputs": [
        {
          "name": "stdout",
          "output_type": "stream",
          "text": [
            "[1.00000000e+00 9.89950049e-01 9.79801124e-01 9.69554303e-01\n",
            " 9.59210712e-01 9.48771535e-01 9.38238008e-01 9.27611423e-01\n",
            " 9.16893130e-01 9.06084536e-01 8.95187108e-01 8.84202375e-01\n",
            " 8.73131924e-01 8.61977411e-01 8.50740551e-01 8.39423130e-01\n",
            " 8.28026997e-01 8.16554073e-01 8.05006349e-01 7.93385885e-01\n",
            " 7.81694817e-01 7.69935355e-01 7.58109785e-01 7.46220471e-01\n",
            " 7.34269855e-01 7.22260462e-01 7.10194898e-01 6.98075855e-01\n",
            " 6.85906109e-01 6.73688525e-01 6.61426057e-01 6.49121751e-01\n",
            " 6.36778745e-01 6.24400271e-01 6.11989660e-01 5.99550340e-01\n",
            " 5.87085841e-01 5.74599794e-01 5.62095934e-01 5.49578105e-01\n",
            " 5.37050257e-01 5.24516453e-01 5.11980866e-01 4.99447788e-01\n",
            " 4.86921623e-01 4.74406899e-01 4.61908264e-01 4.49430488e-01\n",
            " 4.36978470e-01 4.24557236e-01 4.12171945e-01 3.99827887e-01\n",
            " 3.87530490e-01 3.75285320e-01 3.63098084e-01 3.50974632e-01\n",
            " 3.38920963e-01 3.26943221e-01 3.15047707e-01 3.03240871e-01\n",
            " 2.91529326e-01 2.79919841e-01 2.68419350e-01 2.57034955e-01\n",
            " 2.45773923e-01 2.34643698e-01 2.23651897e-01 2.12806314e-01\n",
            " 2.02114930e-01 1.91585904e-01 1.81227591e-01 1.71048531e-01\n",
            " 1.61057463e-01 1.51263324e-01 1.41675253e-01 1.32302594e-01\n",
            " 1.23154901e-01 1.14241942e-01 1.05573699e-01 9.71603785e-02\n",
            " 8.90124078e-02 8.11404448e-02 7.35553790e-02 6.62683366e-02\n",
            " 5.92906841e-02 5.26340329e-02 4.63102433e-02 4.03314288e-02\n",
            " 3.47099604e-02 2.94584715e-02 2.45898616e-02 2.01173017e-02\n",
            " 1.60542383e-02 1.24143985e-02 9.21179471e-03 6.46072931e-03\n",
            " 4.17579982e-03 2.37190380e-03 1.06424391e-03 2.68333145e-04\n",
            " 0.00000000e+00]\n"
          ]
        },
        {
          "data": {
            "image/png": "[encoded data removed]",
            "text/plain": [
              "<Figure size 432x288 with 1 Axes>"
            ]
          },
          "metadata": {
            "needs_background": "light"
          },
          "output_type": "display_data"
        }
      ],
      "source": [
        "# Langkah 9 : mencari solusi menggunakan metode GCROT\n",
        "\n",
        "# Preconditioning menggunakan ILU Preconditioner\n",
        "\n",
        "B = csc_matrix(A, dtype=float)\n",
        "ILUfact = sla.spilu(B)\n",
        "\n",
        "M = sla.LinearOperator(\n",
        "    shape = B.shape,\n",
        "    matvec = lambda b: ILUfact.solve(b)\n",
        ")\n",
        "\n",
        "# mencari solusi menggunakan GCROT\n",
        "y, exit = sla.gcrotmk(B, b, M=M, atol=1e-5)\n",
        "\n",
        "# Plot\n",
        "print(y)\n",
        "plt.plot(x,y)\n",
        "plt.xlabel(\"x\")\n",
        "plt.ylabel(\"y\")\n",
        "plt.show()"
      ]
    },
    {
      "cell_type": "code",
      "execution_count": 18,
      "id": "de40ab57",
      "metadata": {},
      "outputs": [
        {
          "name": "stdout",
          "output_type": "stream",
          "text": [
            "Percobaan # 0 GCROT dengan Preconditioning: Waktu yang diperlukan = 1.881e-03 detik\n",
            "Percobaan # 1 GCROT dengan Preconditioning: Waktu yang diperlukan = 1.403e-03 detik\n",
            "Percobaan # 2 GCROT dengan Preconditioning: Waktu yang diperlukan = 1.307e-03 detik\n",
            "Percobaan # 3 GCROT dengan Preconditioning: Waktu yang diperlukan = 1.315e-03 detik\n",
            "Percobaan # 4 GCROT dengan Preconditioning: Waktu yang diperlukan = 1.335e-03 detik\n",
            "Percobaan # 5 GCROT dengan Preconditioning: Waktu yang diperlukan = 1.207e-03 detik\n",
            "Percobaan # 6 GCROT dengan Preconditioning: Waktu yang diperlukan = 1.117e-03 detik\n",
            "Percobaan # 7 GCROT dengan Preconditioning: Waktu yang diperlukan = 1.119e-03 detik\n",
            "Percobaan # 8 GCROT dengan Preconditioning: Waktu yang diperlukan = 1.116e-03 detik\n",
            "Percobaan # 9 GCROT dengan Preconditioning: Waktu yang diperlukan = 1.126e-03 detik\n",
            "Rerata waktu = 0.0012925624847412109 detik\n"
          ]
        },
        {
          "name": "stderr",
          "output_type": "stream",
          "text": [
            "/raid/rhendiya/.conda/envs/thesis/lib/python3.7/site-packages/ipykernel_launcher.py:6: DeprecationWarning: scipy.sparse.linalg.gcrotmk called without specifying `atol`. The default value will change in the future. To preserve current behavior, set ``atol=tol``.\n",
            "  \n"
          ]
        }
      ],
      "source": [
        "n = 10\n",
        "waktu = np.zeros(n)\n",
        "\n",
        "for i in range(n):\n",
        "    tic = time.time()\n",
        "    y, exit = sla.gcrotmk(B, b, M=M)\n",
        "    toc = time.time()\n",
        "    waktu[i] = toc-tic\n",
        "    print(\"Percobaan #\",i,\"GCROT dengan Preconditioning: Waktu yang diperlukan = {:.3e} detik\".format(waktu[i]))\n",
        "\n",
        "print(\"Rerata waktu =\",np.average(waktu),\"detik\")"
      ]
    },
    {
      "cell_type": "markdown",
      "id": "83ee4977",
      "metadata": {
        "id": "83ee4977"
      },
      "source": [
        "# <div class=\"alert alert-block alert-success\"><h2><b> Syarat Batas Neumann </b></h2></div>\n",
        "\n",
        "$$P(x)y''+Q(x)y'+R(x)y = W(x)$$\n",
        "\n",
        "$$ y(x_0)=y_0,\\qquad y'(x_n)=\\gamma_n$$\n",
        "\n",
        "Mari kita tinjau grid beda hingga di sekitar titik $x_n$\n",
        "\n",
        "<img src=\"fig_neumann2.png\" width=\"300\"/>\n",
        "\n",
        "Pendekatan beda hingga orde 2 yang dievaluasi pada titik $i=n$\n",
        "\n",
        "$$\\left(\\dfrac{P_n}{h^2} - \\dfrac{Q_n}{2h} \\right)y_{n-1}+\\left(\\dfrac{-2P_n}{h^2} +R_n \\right)y_n + \\left(\\dfrac{P_n}{h^2} + \\dfrac{Q_n}{2h} \\right)y_{n+1}= W_n$$\n",
        "\n",
        "Titik $n+1$ berada di luar domain penyelesaian, dan nilai $y_{n+1}$ tidak diketahui. Oleh karena itu digunakan pendekatan syarat batas turunan di titik $n$ :\n",
        "\n",
        " $$\\left.y'\\right|_n = \\dfrac{y_{n+1}-  y_{n-1}}{2h}  + \\mathcal{O}(h^2) = \\gamma_n$$\n",
        "\n",
        " Dengan memotong suku sisa orde 2, diperoleh rumusan untuk $y_{n+1}$\n",
        "\n",
        " $$y_{n+1} = y_{n-1} + 2h\\left.y'\\right|_n = y_{n-1} + 2h\\gamma_n$$\n",
        "\n",
        " Substitusi ke persamaan beda hingga, diperoleh :\n",
        "\n",
        " $$ \\boxed{\\dfrac{2P_n}{h^2}y_{n-1}+\\left(\\dfrac{-2P_n}{h^2} +R_n \\right)y_n  = W_n - 2h\\gamma_n\\left(\\dfrac{P_n}{h^2} + \\dfrac{Q_n}{2h} \\right)} $$\n",
        "\n",
        " Cara yang serupa juga dilakukan untuk problem dengan syarat batas Neumann pada $x = x_0$ atau $i = 0$."
      ]
    },
    {
      "cell_type": "markdown",
      "id": "a907e9e1",
      "metadata": {
        "id": "a907e9e1"
      },
      "source": [
        "# <div class=\"alert alert-block alert-warning\"><h1><b> Latihan 2</b></h1>    </div>\n",
        "\n",
        "\n",
        ">\n",
        "> Carilah solusi dari  BVP berikut ini\n",
        "> $$ \\dfrac{d^2y}{dx^2}-2\\dfrac{dy}{dx} + y = 2e^x $$\n",
        "> dengan syarat batas\n",
        "> \\begin{align}\n",
        "y'(0) &= 1 \\\\\n",
        "y'(1) &= 0\n",
        "\\end{align}\n",
        ">\n",
        "> Solusi :\n",
        "\n",
        "<img src=\"fig_solusi_neumann.png\" width=\"500\"/>\n",
        "\n",
        "> Solusi secara analitik (sebagai validasi) :\n",
        "\n",
        "<img src=\"fig_solusi_bvp2.png\" width=\"500\"/>"
      ]
    },
    {
      "cell_type": "markdown",
      "metadata": {},
      "source": [
        "Kanan\n",
        " $$ \\boxed{\\dfrac{2P_n}{h^2}y_{n-1}+\\left(\\dfrac{-2P_n}{h^2} +R_n \\right)y_n  = W_n - 2h\\gamma_n\\left(\\dfrac{P_n}{h^2} + \\dfrac{Q_n}{2h} \\right)} $$\n",
        "\n",
        "Kiri\n",
        " $$ \\boxed{\\dfrac{2P_n}{h^2}y_{n+1}+\\left(\\dfrac{-2P_n}{h^2} +R_n \\right)y_n  = W_n + 2h\\gamma_n\\left(\\dfrac{P_n}{h^2} - \\dfrac{Q_n}{2h} \\right)} $$\n",
        "\n",
        "Lainnnya\n",
        "$$\\left(\\dfrac{P_n}{h^2} - \\dfrac{Q_n}{2h} \\right)y_{n-1}+\\left(\\dfrac{-2P_n}{h^2} +R_n \\right)y_n + \\left(\\dfrac{P_n}{h^2} + \\dfrac{Q_n}{2h} \\right)y_{n+1}= W_n$$\n",
        "\n",
        "syarat batas\n",
        " $$y_{n+1} = y_{n-1} + 2h\\gamma_n$$\n",
        " $$y_{n-1} = y_{n+1} - 2h\\gamma_n$$"
      ]
    },
    {
      "cell_type": "markdown",
      "id": "f3107686",
      "metadata": {},
      "source": [
        "### Persiapan"
      ]
    },
    {
      "cell_type": "markdown",
      "id": "11ae43cf",
      "metadata": {},
      "source": [
        "#### Langkah 1"
      ]
    },
    {
      "cell_type": "code",
      "execution_count": 19,
      "id": "c439124d",
      "metadata": {
        "id": "c439124d"
      },
      "outputs": [],
      "source": [
        "# Menyusun matriks A dan vektor b\n",
        "# untuk BVP linear orde 2 dengan syarat batas Dirichlet\n",
        "# di kedua ujung\n",
        "\n",
        "\n",
        "# Langkah 1 : Inisialisasi\n",
        "             \n",
        "gmin=1                          # batas bawah x (neuman)\n",
        "gmax=0                          # batas atas x (neuman)\n",
        "n = 100                       # banyaknya interval\n",
        "h = (xmax-xmin)/n                         # lebar interval\n",
        "x = np.linspace(xmin, xmax, n+1)  # nilai x dengan lebar yang seragam\n"
      ]
    },
    {
      "cell_type": "markdown",
      "id": "774b6dfb",
      "metadata": {},
      "source": [
        "#### Langkah 2"
      ]
    },
    {
      "cell_type": "code",
      "execution_count": 20,
      "id": "3be28f18",
      "metadata": {
        "id": "3be28f18"
      },
      "outputs": [],
      "source": [
        "# Langkah 2 : Susun matriks A\n",
        "\n",
        "A = np.zeros((n+1,n+1))        # inisialisasi\n",
        "p=1\n",
        "q=-2\n",
        "r=1\n",
        "for i in range(0, n+1):\n",
        "    if i==0: #atur batas kiri\n",
        "        A[i,i] = -2*p/(h**2)+r # diagonal\n",
        "        A[i,i+1] = 2*p/(h**2) # kanan (east)\n",
        "    elif i==n: #atur batas kanan\n",
        "        A[i,i] = -2*p/(h**2)+r # diagonal\n",
        "        A[i,i-1] = 2*p/(h**2)     # kiri (west)\n",
        "    else:\n",
        "        A[i,i] = -2*p/(h**2)+r     # diagonal\n",
        "        A[i,i-1] = p/(h**2)-q/(2*h)     # kiri (west)\n",
        "        A[i,i+1] = p/(h**2)+q/(2*h)        # kanan (east)"
      ]
    },
    {
      "cell_type": "markdown",
      "id": "e16999fc",
      "metadata": {},
      "source": [
        "#### Langkah 3"
      ]
    },
    {
      "cell_type": "code",
      "execution_count": 21,
      "id": "df383402",
      "metadata": {},
      "outputs": [
        {
          "name": "stdout",
          "output_type": "stream",
          "text": [
            "[0. 0. 0. 0. 0. 0. 0. 0. 0. 0. 0. 0. 0. 0. 0. 0. 0. 0. 0. 0. 0. 0. 0. 0.\n",
            " 0. 0. 0. 0. 0. 0. 0. 0. 0. 0. 0. 0. 0. 0. 0. 0. 0. 0. 0. 0. 0. 0. 0. 0.\n",
            " 0. 0. 0. 0. 0. 0. 0. 0. 0. 0. 0. 0. 0. 0. 0. 0. 0. 0. 0. 0. 0. 0. 0. 0.\n",
            " 0. 0. 0. 0. 0. 0. 0. 0. 0. 0. 0. 0. 0. 0. 0. 0. 0. 0. 0. 0. 0. 0. 0. 0.\n",
            " 0. 0. 0. 0. 0.]\n",
            "[204.           2.02010033   2.04040268   2.06090907   2.08162155\n",
            "   2.10254219   2.12367309   2.14501636   2.16657414   2.18834857\n",
            "   2.21034184   2.23255614   2.2549937    2.27765677   2.3005476\n",
            "   2.32366849   2.34702174   2.3706097    2.39443473   2.4184992\n",
            "   2.44280552   2.46735612   2.49215346   2.51720002   2.5424983\n",
            "   2.56805083   2.59386017   2.6199289    2.64625962   2.67285498\n",
            "   2.69971762   2.72685023   2.75425553   2.78193626   2.80989518\n",
            "   2.8381351    2.86665883   2.89546923   2.92456918   2.95396159\n",
            "   2.9836494    3.01363557   3.04392311   3.07451505   3.10541444\n",
            "   3.13662437   3.16814797   3.19998839   3.2321488    3.26463244\n",
            "   3.29744254   3.33058239   3.3640553    3.39786462   3.43201372\n",
            "   3.46650604   3.501345     3.5365341    3.57207686   3.60797683\n",
            "   3.6442376    3.6808628    3.71785608   3.75522116   3.79296176\n",
            "   3.83108166   3.86958467   3.90847464   3.94775546   3.98743107\n",
            "   4.02750541   4.06798252   4.10886642   4.15016122   4.19187103\n",
            "   4.23400003   4.27655244   4.31953251   4.36294453   4.40679285\n",
            "   4.45108186   4.49581597   4.54099968   4.58663748   4.63273395\n",
            "   4.6792937    4.72632139   4.77382171   4.82179941   4.8702593\n",
            "   4.91920622   4.96864507   5.01858078   5.06901836   5.11996284\n",
            "   5.17141932   5.22339295   5.27588892   5.32891248   5.38246894\n",
            "   5.43656366]\n"
          ]
        }
      ],
      "source": [
        "# Langkah 3 : Susun vektor b\n",
        "b = np.zeros(n+1)\n",
        "for i in range(0, n+1):\n",
        "    if i==0: #atur batas kiri\n",
        "        b[i]= 2*np.exp(x[i]) + 2*h*gmin*(p/(h**2)-q/(2*h))\n",
        "    elif i==n: #atur batas kanan\n",
        "        b[i]= 2*np.exp(x[i]) - 2*h*gmax*(p/(h**2)+q/(2*h))\n",
        "    else:\n",
        "        b[i] = 2*np.exp(x[i])"
      ]
    },
    {
      "cell_type": "markdown",
      "id": "e9b6029f",
      "metadata": {},
      "source": [
        "#### Langkah 4"
      ]
    },
    {
      "cell_type": "code",
      "execution_count": 22,
      "id": "32255c2f",
      "metadata": {},
      "outputs": [
        {
          "name": "stdout",
          "output_type": "stream",
          "text": [
            "Matrix x : \n",
            "[0.   0.01 0.02 0.03 0.04 0.05 0.06 0.07 0.08 0.09 0.1  0.11 0.12 0.13\n",
            " 0.14 0.15 0.16 0.17 0.18 0.19 0.2  0.21 0.22 0.23 0.24 0.25 0.26 0.27\n",
            " 0.28 0.29 0.3  0.31 0.32 0.33 0.34 0.35 0.36 0.37 0.38 0.39 0.4  0.41\n",
            " 0.42 0.43 0.44 0.45 0.46 0.47 0.48 0.49 0.5  0.51 0.52 0.53 0.54 0.55\n",
            " 0.56 0.57 0.58 0.59 0.6  0.61 0.62 0.63 0.64 0.65 0.66 0.67 0.68 0.69\n",
            " 0.7  0.71 0.72 0.73 0.74 0.75 0.76 0.77 0.78 0.79 0.8  0.81 0.82 0.83\n",
            " 0.84 0.85 0.86 0.87 0.88 0.89 0.9  0.91 0.92 0.93 0.94 0.95 0.96 0.97\n",
            " 0.98 0.99 1.  ]\n",
            "Matrix B : \n",
            "[204.           2.02010033   2.04040268   2.06090907   2.08162155\n",
            "   2.10254219   2.12367309   2.14501636   2.16657414   2.18834857\n",
            "   2.21034184   2.23255614   2.2549937    2.27765677   2.3005476\n",
            "   2.32366849   2.34702174   2.3706097    2.39443473   2.4184992\n",
            "   2.44280552   2.46735612   2.49215346   2.51720002   2.5424983\n",
            "   2.56805083   2.59386017   2.6199289    2.64625962   2.67285498\n",
            "   2.69971762   2.72685023   2.75425553   2.78193626   2.80989518\n",
            "   2.8381351    2.86665883   2.89546923   2.92456918   2.95396159\n",
            "   2.9836494    3.01363557   3.04392311   3.07451505   3.10541444\n",
            "   3.13662437   3.16814797   3.19998839   3.2321488    3.26463244\n",
            "   3.29744254   3.33058239   3.3640553    3.39786462   3.43201372\n",
            "   3.46650604   3.501345     3.5365341    3.57207686   3.60797683\n",
            "   3.6442376    3.6808628    3.71785608   3.75522116   3.79296176\n",
            "   3.83108166   3.86958467   3.90847464   3.94775546   3.98743107\n",
            "   4.02750541   4.06798252   4.10886642   4.15016122   4.19187103\n",
            "   4.23400003   4.27655244   4.31953251   4.36294453   4.40679285\n",
            "   4.45108186   4.49581597   4.54099968   4.58663748   4.63273395\n",
            "   4.6792937    4.72632139   4.77382171   4.82179941   4.8702593\n",
            "   4.91920622   4.96864507   5.01858078   5.06901836   5.11996284\n",
            "   5.17141932   5.22339295   5.27588892   5.32891248   5.38246894\n",
            "   5.43656366]\n",
            "Matrix A : \n",
            "[[-19999.  20000.      0. ...      0.      0.      0.]\n",
            " [ 10100. -19999.   9900. ...      0.      0.      0.]\n",
            " [     0.  10100. -19999. ...      0.      0.      0.]\n",
            " ...\n",
            " [     0.      0.      0. ... -19999.   9900.      0.]\n",
            " [     0.      0.      0. ...  10100. -19999.   9900.]\n",
            " [     0.      0.      0. ...      0.  20000. -19999.]]\n"
          ]
        },
        {
          "data": {
            "text/plain": [
              "<matplotlib.image.AxesImage at 0x7f8873416390>"
            ]
          },
          "execution_count": 22,
          "metadata": {},
          "output_type": "execute_result"
        },
        {
          "data": {
            "image/png": "[encoded data removed]",
            "text/plain": [
              "<Figure size 432x288 with 1 Axes>"
            ]
          },
          "metadata": {
            "needs_background": "light"
          },
          "output_type": "display_data"
        }
      ],
      "source": [
        "# Langkah 4 :\n",
        "# Tampilkan vektor x, matriks A dan vektor b\n",
        "\n",
        "\n",
        "print(\"Matrix x : \\n{}\".format(x))\n",
        "print(\"Matrix B : \\n{}\".format(b))\n",
        "print(\"Matrix A : \\n{}\".format(A))\n",
        "\n",
        "# visualisasikan matriks A menggunakan perintah spy yang\n",
        "# ada pada modul pyplot\n",
        "\n",
        "plt.spy(A)"
      ]
    },
    {
      "cell_type": "markdown",
      "id": "5c2e1080",
      "metadata": {},
      "source": [
        "## <code style=\"color:black\">**Mencari solusi** :</code>\n",
        "\n",
        "Persamaan linear yang dinyatakan dalam bentuk matriks\n",
        "\n",
        "$$\\mathbf{A\\,y} = \\mathbf{b}$$\n",
        "\n",
        "dapat diselesaikan dengan inverse dari matriks **A** ke persamaan tersebut.\n",
        "\n",
        "$$\\mathbf{A^{-1}\\,A\\,y} = \\mathbf{A^{-1}b}$$\n",
        "atau\n",
        "$$\\mathbf{y} = \\mathbf{A^{-1}b}$$\n",
        "\n",
        "\n",
        "Untuk keperluan ini kita dapat menggunakan **numpy.linalg.inv(a)** untuk mencari inverse matriks dan **numpy.matmul(x1, x2)** untuk melakukan perkalian matriks."
      ]
    },
    {
      "cell_type": "markdown",
      "id": "86a12de7",
      "metadata": {},
      "source": [
        "#### Langkah 5"
      ]
    },
    {
      "cell_type": "code",
      "execution_count": 23,
      "id": "19a264a4",
      "metadata": {},
      "outputs": [
        {
          "name": "stdout",
          "output_type": "stream",
          "text": [
            "[5.00003681 5.00998681 5.0198358  5.02958282 5.03922688 5.04876702\n",
            " 5.05820229 5.06753176 5.0767545  5.0858696  5.09487616 5.10377331\n",
            " 5.11256017 5.12123591 5.12979968 5.13825067 5.14658809 5.15481116\n",
            " 5.16291912 5.17091123 5.17878677 5.18654506 5.19418541 5.20170718\n",
            " 5.20910975 5.2163925  5.22355487 5.23059632 5.23751631 5.24431435\n",
            " 5.25098998 5.25754278 5.26397232 5.27027825 5.27646023 5.28251794\n",
            " 5.28845112 5.29425955 5.29994301 5.30550135 5.31093445 5.31624224\n",
            " 5.32142466 5.32648173 5.33141349 5.33622003 5.3409015  5.34545807\n",
            " 5.34988998 5.3541975  5.35838098 5.3624408  5.3663774  5.37019127\n",
            " 5.37388297 5.37745309 5.38090232 5.38423137 5.38744104 5.39053218\n",
            " 5.39350571 5.39636262 5.39910396 5.40173086 5.40424451 5.40664619\n",
            " 5.40893724 5.41111909 5.41319323 5.41516124 5.4170248  5.41878565\n",
            " 5.42044563 5.42200666 5.42347076 5.42484003 5.42611668 5.427303\n",
            " 5.42840139 5.42941435 5.43034448 5.43119448 5.43196717 5.43266548\n",
            " 5.43329243 5.43385119 5.43434501 5.4347773  5.43515155 5.43547141\n",
            " 5.43574064 5.43596313 5.43614292 5.43628416 5.43639115 5.43646835\n",
            " 5.43652033 5.43655183 5.43656774 5.4365731  5.4365731 ]\n"
          ]
        },
        {
          "data": {
            "image/png": "[encoded data removed]",
            "text/plain": [
              "<Figure size 432x288 with 1 Axes>"
            ]
          },
          "metadata": {
            "needs_background": "light"
          },
          "output_type": "display_data"
        }
      ],
      "source": [
        "# Langkah 5 : mencari solusi menggunakan inverse matriks\n",
        "\n",
        "A_inv=np.linalg.inv(A)\n",
        "y = np.matmul(A_inv, b)\n",
        "\n",
        "# plot\n",
        "print(y)\n",
        "plt.plot(x,y)\n",
        "plt.xlabel(\"x\")\n",
        "plt.ylabel(\"y\")\n",
        "plt.show()"
      ]
    },
    {
      "cell_type": "markdown",
      "id": "813ba383",
      "metadata": {},
      "source": [
        "#### Langkah 6"
      ]
    },
    {
      "cell_type": "code",
      "execution_count": 24,
      "id": "aeb020f9",
      "metadata": {},
      "outputs": [
        {
          "name": "stdout",
          "output_type": "stream",
          "text": [
            "[5.00003681 5.00998681 5.0198358  5.02958282 5.03922688 5.04876702\n",
            " 5.05820229 5.06753176 5.0767545  5.0858696  5.09487616 5.10377331\n",
            " 5.11256017 5.12123591 5.12979968 5.13825067 5.14658809 5.15481116\n",
            " 5.16291912 5.17091123 5.17878677 5.18654506 5.19418541 5.20170718\n",
            " 5.20910975 5.2163925  5.22355487 5.23059632 5.23751631 5.24431435\n",
            " 5.25098998 5.25754278 5.26397232 5.27027825 5.27646023 5.28251794\n",
            " 5.28845112 5.29425955 5.29994301 5.30550135 5.31093445 5.31624224\n",
            " 5.32142466 5.32648173 5.33141349 5.33622003 5.3409015  5.34545807\n",
            " 5.34988998 5.3541975  5.35838098 5.3624408  5.3663774  5.37019127\n",
            " 5.37388297 5.37745309 5.38090232 5.38423137 5.38744104 5.39053218\n",
            " 5.39350571 5.39636262 5.39910396 5.40173086 5.40424451 5.40664619\n",
            " 5.40893724 5.41111909 5.41319323 5.41516124 5.4170248  5.41878565\n",
            " 5.42044563 5.42200666 5.42347076 5.42484003 5.42611668 5.427303\n",
            " 5.42840139 5.42941435 5.43034448 5.43119448 5.43196717 5.43266548\n",
            " 5.43329243 5.43385119 5.43434501 5.4347773  5.43515155 5.43547141\n",
            " 5.43574064 5.43596313 5.43614292 5.43628416 5.43639115 5.43646835\n",
            " 5.43652033 5.43655183 5.43656774 5.4365731  5.4365731 ]\n"
          ]
        },
        {
          "data": {
            "image/png": "[encoded data removed]",
            "text/plain": [
              "<Figure size 432x288 with 1 Axes>"
            ]
          },
          "metadata": {
            "needs_background": "light"
          },
          "output_type": "display_data"
        }
      ],
      "source": [
        "# Langkah 6: mencari solusi menggunakan dekomposisi LU\n",
        "\n",
        "y = np.linalg.solve(A,b)\n",
        "\n",
        "# plot\n",
        "print(y)\n",
        "plt.plot(x,y)\n",
        "plt.xlabel(\"x\")\n",
        "plt.ylabel(\"y\")\n",
        "plt.show()"
      ]
    },
    {
      "cell_type": "code",
      "execution_count": 25,
      "id": "24551a6f",
      "metadata": {},
      "outputs": [
        {
          "name": "stdout",
          "output_type": "stream",
          "text": [
            "Percobaan # 0 LU dengan pivoting parsial. Waktu yang diperlukan = 4.087e-02 detik\n",
            "Percobaan # 1 LU dengan pivoting parsial. Waktu yang diperlukan = 2.550e-02 detik\n",
            "Percobaan # 2 LU dengan pivoting parsial. Waktu yang diperlukan = 2.520e-02 detik\n",
            "Percobaan # 3 LU dengan pivoting parsial. Waktu yang diperlukan = 3.483e-02 detik\n",
            "Percobaan # 4 LU dengan pivoting parsial. Waktu yang diperlukan = 7.589e-03 detik\n",
            "Percobaan # 5 LU dengan pivoting parsial. Waktu yang diperlukan = 3.723e-02 detik\n",
            "Percobaan # 6 LU dengan pivoting parsial. Waktu yang diperlukan = 4.673e-04 detik\n",
            "Percobaan # 7 LU dengan pivoting parsial. Waktu yang diperlukan = 4.287e-04 detik\n",
            "Percobaan # 8 LU dengan pivoting parsial. Waktu yang diperlukan = 4.158e-04 detik\n",
            "Percobaan # 9 LU dengan pivoting parsial. Waktu yang diperlukan = 1.002e-02 detik\n",
            "Rerata waktu = 0.018254733085632323 detik\n"
          ]
        }
      ],
      "source": [
        "n = 10\n",
        "waktu = np.zeros(n)\n",
        "\n",
        "for i in range(n):\n",
        "    tic = time.time()\n",
        "    y = np.linalg.solve(A, b)\n",
        "    toc = time.time()\n",
        "    waktu[i] = toc-tic\n",
        "    print(\"Percobaan #\",i,\"LU dengan pivoting parsial. Waktu yang diperlukan = {:.3e} detik\".format(waktu[i]))\n",
        "\n",
        "\n",
        "print(\"Rerata waktu =\",np.average(waktu),\"detik\")\n"
      ]
    },
    {
      "cell_type": "code",
      "execution_count": 26,
      "id": "6a7b3e87",
      "metadata": {},
      "outputs": [
        {
          "name": "stdout",
          "output_type": "stream",
          "text": [
            "[5.00003681 5.00998681 5.0198358  5.02958282 5.03922688 5.04876702\n",
            " 5.05820229 5.06753176 5.0767545  5.0858696  5.09487616 5.10377331\n",
            " 5.11256017 5.12123591 5.12979968 5.13825067 5.14658809 5.15481116\n",
            " 5.16291912 5.17091123 5.17878677 5.18654506 5.19418541 5.20170718\n",
            " 5.20910975 5.2163925  5.22355487 5.23059632 5.23751631 5.24431435\n",
            " 5.25098998 5.25754278 5.26397232 5.27027825 5.27646023 5.28251794\n",
            " 5.28845112 5.29425955 5.29994301 5.30550135 5.31093445 5.31624224\n",
            " 5.32142466 5.32648173 5.33141349 5.33622003 5.3409015  5.34545807\n",
            " 5.34988998 5.3541975  5.35838098 5.3624408  5.3663774  5.37019127\n",
            " 5.37388297 5.37745309 5.38090232 5.38423137 5.38744104 5.39053218\n",
            " 5.39350571 5.39636262 5.39910396 5.40173086 5.40424451 5.40664619\n",
            " 5.40893724 5.41111909 5.41319323 5.41516124 5.4170248  5.41878565\n",
            " 5.42044563 5.42200666 5.42347076 5.42484003 5.42611668 5.427303\n",
            " 5.42840139 5.42941435 5.43034448 5.43119448 5.43196717 5.43266548\n",
            " 5.43329243 5.43385119 5.43434501 5.4347773  5.43515155 5.43547141\n",
            " 5.43574064 5.43596313 5.43614292 5.43628416 5.43639115 5.43646835\n",
            " 5.43652033 5.43655183 5.43656774 5.4365731  5.4365731 ]\n"
          ]
        },
        {
          "data": {
            "image/png": "[encoded data removed]",
            "text/plain": [
              "<Figure size 432x288 with 1 Axes>"
            ]
          },
          "metadata": {
            "needs_background": "light"
          },
          "output_type": "display_data"
        }
      ],
      "source": [
        "## Contoh penyelesaian masalah menggunakan GMRES dengan ILU preconditioner\n",
        "\n",
        "\n",
        "# Preconditioning menggunakan ILU Preconditioner\n",
        "\n",
        "B = csc_matrix(A, dtype=float)\n",
        "ILUfact = sla.spilu(B)\n",
        "\n",
        "M = sla.LinearOperator(\n",
        "    shape = B.shape,\n",
        "    matvec = lambda b: ILUfact.solve(b)\n",
        ")\n",
        "\n",
        "# mencari solusi menggunakan GMRES\n",
        "y, exit = sla.gmres(B, b, M=M)\n",
        "\n",
        "# Plot\n",
        "print(y)\n",
        "plt.plot(x,y)\n",
        "plt.xlabel(\"x\")\n",
        "plt.ylabel(\"y\")\n",
        "plt.show()"
      ]
    },
    {
      "cell_type": "code",
      "execution_count": 27,
      "id": "b7c5673a",
      "metadata": {},
      "outputs": [
        {
          "name": "stdout",
          "output_type": "stream",
          "text": [
            "Percobaan # 0 GMRES dengan Preconditioning: Waktu yang diperlukan = 9.372e-04 detik\n",
            "Percobaan # 1 GMRES dengan Preconditioning: Waktu yang diperlukan = 1.325e-03 detik\n",
            "Percobaan # 2 GMRES dengan Preconditioning: Waktu yang diperlukan = 1.021e-03 detik\n",
            "Percobaan # 3 GMRES dengan Preconditioning: Waktu yang diperlukan = 1.015e-03 detik\n",
            "Percobaan # 4 GMRES dengan Preconditioning: Waktu yang diperlukan = 1.083e-03 detik\n",
            "Percobaan # 5 GMRES dengan Preconditioning: Waktu yang diperlukan = 8.721e-04 detik\n",
            "Percobaan # 6 GMRES dengan Preconditioning: Waktu yang diperlukan = 8.726e-04 detik\n",
            "Percobaan # 7 GMRES dengan Preconditioning: Waktu yang diperlukan = 1.086e-03 detik\n",
            "Percobaan # 8 GMRES dengan Preconditioning: Waktu yang diperlukan = 9.418e-04 detik\n",
            "Percobaan # 9 GMRES dengan Preconditioning: Waktu yang diperlukan = 8.521e-04 detik\n",
            "Rerata waktu = 0.0010005950927734375 detik\n"
          ]
        }
      ],
      "source": [
        "n = 10\n",
        "waktu = np.zeros(n)\n",
        "\n",
        "for i in range(n):\n",
        "    tic = time.time()\n",
        "    y, exit = sla.gmres(B, b, M=M)\n",
        "    toc = time.time()\n",
        "    waktu[i] = toc-tic\n",
        "    print(\"Percobaan #\",i,\"GMRES dengan Preconditioning: Waktu yang diperlukan = {:.3e} detik\".format(waktu[i]))\n",
        "\n",
        "print(\"Rerata waktu =\",np.average(waktu),\"detik\")"
      ]
    },
    {
      "cell_type": "markdown",
      "id": "06edab19",
      "metadata": {},
      "source": [
        "#### Langkah 7"
      ]
    },
    {
      "cell_type": "code",
      "execution_count": 28,
      "id": "12bd4939",
      "metadata": {},
      "outputs": [
        {
          "name": "stdout",
          "output_type": "stream",
          "text": [
            "[5.00003681 5.00998681 5.0198358  5.02958282 5.03922688 5.04876702\n",
            " 5.05820229 5.06753176 5.0767545  5.0858696  5.09487616 5.10377331\n",
            " 5.11256017 5.12123591 5.12979968 5.13825067 5.14658809 5.15481116\n",
            " 5.16291912 5.17091123 5.17878677 5.18654506 5.19418541 5.20170718\n",
            " 5.20910975 5.2163925  5.22355487 5.23059632 5.23751631 5.24431435\n",
            " 5.25098998 5.25754278 5.26397232 5.27027825 5.27646023 5.28251794\n",
            " 5.28845112 5.29425955 5.29994301 5.30550135 5.31093445 5.31624224\n",
            " 5.32142466 5.32648173 5.33141349 5.33622003 5.3409015  5.34545807\n",
            " 5.34988998 5.3541975  5.35838098 5.3624408  5.3663774  5.37019127\n",
            " 5.37388297 5.37745309 5.38090232 5.38423137 5.38744104 5.39053218\n",
            " 5.39350571 5.39636262 5.39910396 5.40173086 5.40424451 5.40664619\n",
            " 5.40893724 5.41111909 5.41319323 5.41516124 5.4170248  5.41878565\n",
            " 5.42044563 5.42200666 5.42347076 5.42484003 5.42611668 5.427303\n",
            " 5.42840139 5.42941435 5.43034448 5.43119448 5.43196717 5.43266548\n",
            " 5.43329243 5.43385119 5.43434501 5.4347773  5.43515155 5.43547141\n",
            " 5.43574064 5.43596313 5.43614292 5.43628416 5.43639115 5.43646835\n",
            " 5.43652033 5.43655183 5.43656774 5.4365731  5.4365731 ]\n"
          ]
        },
        {
          "data": {
            "image/png": "[encoded data removed]",
            "text/plain": [
              "<Figure size 432x288 with 1 Axes>"
            ]
          },
          "metadata": {
            "needs_background": "light"
          },
          "output_type": "display_data"
        }
      ],
      "source": [
        "# Langkah 7 : mencari solusi menggunakan metode BICGSTAB\n",
        "\n",
        "# Preconditioning menggunakan ILU Preconditioner\n",
        "\n",
        "B = csc_matrix(A, dtype=float)\n",
        "ILUfact = sla.spilu(B)\n",
        "\n",
        "M = sla.LinearOperator(\n",
        "    shape = B.shape,\n",
        "    matvec = lambda b: ILUfact.solve(b)\n",
        ")\n",
        "\n",
        "# mencari solusi menggunakan GMRES\n",
        "y, exit = sla.bicgstab(B, b, M=M)\n",
        "\n",
        "# Plot\n",
        "print(y)\n",
        "plt.plot(x,y)\n",
        "plt.xlabel(\"x\")\n",
        "plt.ylabel(\"y\")\n",
        "plt.show()"
      ]
    },
    {
      "cell_type": "code",
      "execution_count": 29,
      "id": "b8bc2f80",
      "metadata": {},
      "outputs": [
        {
          "name": "stdout",
          "output_type": "stream",
          "text": [
            "[5.00003681 5.00998681 5.0198358  5.02958282 5.03922688 5.04876702\n",
            " 5.05820229 5.06753176 5.0767545  5.0858696  5.09487616 5.10377331\n",
            " 5.11256017 5.12123591 5.12979968 5.13825067 5.14658809 5.15481116\n",
            " 5.16291912 5.17091123 5.17878677 5.18654506 5.19418541 5.20170718\n",
            " 5.20910975 5.2163925  5.22355487 5.23059632 5.23751631 5.24431435\n",
            " 5.25098998 5.25754278 5.26397232 5.27027825 5.27646023 5.28251794\n",
            " 5.28845112 5.29425955 5.29994301 5.30550135 5.31093445 5.31624224\n",
            " 5.32142466 5.32648173 5.33141349 5.33622003 5.3409015  5.34545807\n",
            " 5.34988998 5.3541975  5.35838098 5.3624408  5.3663774  5.37019127\n",
            " 5.37388297 5.37745309 5.38090232 5.38423137 5.38744104 5.39053218\n",
            " 5.39350571 5.39636262 5.39910396 5.40173086 5.40424451 5.40664619\n",
            " 5.40893724 5.41111909 5.41319323 5.41516124 5.4170248  5.41878565\n",
            " 5.42044563 5.42200666 5.42347076 5.42484003 5.42611668 5.427303\n",
            " 5.42840139 5.42941435 5.43034448 5.43119448 5.43196717 5.43266548\n",
            " 5.43329243 5.43385119 5.43434501 5.4347773  5.43515155 5.43547141\n",
            " 5.43574064 5.43596313 5.43614292 5.43628416 5.43639115 5.43646835\n",
            " 5.43652033 5.43655183 5.43656774 5.4365731  5.4365731 ]\n"
          ]
        },
        {
          "data": {
            "image/png": "[encoded data removed]",
            "text/plain": [
              "<Figure size 432x288 with 1 Axes>"
            ]
          },
          "metadata": {
            "needs_background": "light"
          },
          "output_type": "display_data"
        }
      ],
      "source": [
        "# Langkah 7 : mencari solusi menggunakan metode BICGSTAB\n",
        "\n",
        "# Preconditioning menggunakan ILU Preconditioner\n",
        "\n",
        "B = csc_matrix(A, dtype=float)\n",
        "ILUfact = sla.spilu(B)\n",
        "\n",
        "M = sla.LinearOperator(\n",
        "    shape = B.shape,\n",
        "    matvec = lambda b: ILUfact.solve(b)\n",
        ")\n",
        "\n",
        "# mencari solusi menggunakan GMRES\n",
        "y, exit = sla.bicgstab(B, b, M=M)\n",
        "\n",
        "# Plot\n",
        "print(y)\n",
        "plt.plot(x,y)\n",
        "plt.xlabel(\"x\")\n",
        "plt.ylabel(\"y\")\n",
        "plt.show()"
      ]
    },
    {
      "cell_type": "markdown",
      "id": "bc0afc9d",
      "metadata": {},
      "source": [
        "#### Langkah 8"
      ]
    },
    {
      "cell_type": "code",
      "execution_count": 30,
      "id": "9db66480",
      "metadata": {},
      "outputs": [
        {
          "name": "stdout",
          "output_type": "stream",
          "text": [
            "[5.00003681 5.00998681 5.0198358  5.02958282 5.03922688 5.04876702\n",
            " 5.05820229 5.06753176 5.0767545  5.0858696  5.09487616 5.10377331\n",
            " 5.11256017 5.12123591 5.12979968 5.13825067 5.14658809 5.15481116\n",
            " 5.16291912 5.17091123 5.17878677 5.18654506 5.19418541 5.20170718\n",
            " 5.20910975 5.2163925  5.22355487 5.23059632 5.23751631 5.24431435\n",
            " 5.25098998 5.25754278 5.26397232 5.27027825 5.27646023 5.28251794\n",
            " 5.28845112 5.29425955 5.29994301 5.30550135 5.31093445 5.31624224\n",
            " 5.32142466 5.32648173 5.33141349 5.33622003 5.3409015  5.34545807\n",
            " 5.34988998 5.3541975  5.35838098 5.3624408  5.3663774  5.37019127\n",
            " 5.37388297 5.37745309 5.38090232 5.38423137 5.38744104 5.39053218\n",
            " 5.39350571 5.39636262 5.39910396 5.40173086 5.40424451 5.40664619\n",
            " 5.40893724 5.41111909 5.41319323 5.41516124 5.4170248  5.41878565\n",
            " 5.42044563 5.42200666 5.42347076 5.42484003 5.42611668 5.427303\n",
            " 5.42840139 5.42941435 5.43034448 5.43119448 5.43196717 5.43266548\n",
            " 5.43329243 5.43385119 5.43434501 5.4347773  5.43515155 5.43547141\n",
            " 5.43574064 5.43596313 5.43614292 5.43628416 5.43639115 5.43646835\n",
            " 5.43652033 5.43655183 5.43656774 5.4365731  5.4365731 ]\n"
          ]
        },
        {
          "data": {
            "image/png": "[encoded data removed]",
            "text/plain": [
              "<Figure size 432x288 with 1 Axes>"
            ]
          },
          "metadata": {
            "needs_background": "light"
          },
          "output_type": "display_data"
        }
      ],
      "source": [
        "# Langkah 8: Mencari solusi menggunakan metode CGS\n",
        "\n",
        "\n",
        "# Preconditioning menggunakan ILU Preconditioner\n",
        "\n",
        "B = csc_matrix(A, dtype=float)\n",
        "ILUfact = sla.spilu(B)\n",
        "\n",
        "M = sla.LinearOperator(\n",
        "    shape = B.shape,\n",
        "    matvec = lambda b: ILUfact.solve(b)\n",
        ")\n",
        "\n",
        "# mencari solusi menggunakan GMRES\n",
        "y, exit = sla.cgs(B, b, M=M)\n",
        "\n",
        "# Plot\n",
        "print(y)\n",
        "plt.plot(x,y)\n",
        "plt.xlabel(\"x\")\n",
        "plt.ylabel(\"y\")\n",
        "plt.show()"
      ]
    },
    {
      "cell_type": "code",
      "execution_count": 31,
      "id": "9899197c",
      "metadata": {},
      "outputs": [
        {
          "name": "stdout",
          "output_type": "stream",
          "text": [
            "Percobaan # 0 CGS dengan Preconditioning: Waktu yang diperlukan = 7.081e-04 detik\n",
            "Percobaan # 1 CGS dengan Preconditioning: Waktu yang diperlukan = 1.517e-03 detik\n",
            "Percobaan # 2 CGS dengan Preconditioning: Waktu yang diperlukan = 3.295e-04 detik\n",
            "Percobaan # 3 CGS dengan Preconditioning: Waktu yang diperlukan = 3.374e-04 detik\n",
            "Percobaan # 4 CGS dengan Preconditioning: Waktu yang diperlukan = 1.329e-03 detik\n",
            "Percobaan # 5 CGS dengan Preconditioning: Waktu yang diperlukan = 1.257e-03 detik\n",
            "Percobaan # 6 CGS dengan Preconditioning: Waktu yang diperlukan = 1.089e-03 detik\n",
            "Percobaan # 7 CGS dengan Preconditioning: Waktu yang diperlukan = 1.215e-03 detik\n",
            "Percobaan # 8 CGS dengan Preconditioning: Waktu yang diperlukan = 1.188e-03 detik\n",
            "Percobaan # 9 CGS dengan Preconditioning: Waktu yang diperlukan = 1.091e-03 detik\n",
            "Rerata waktu = 0.0010060548782348632 detik\n"
          ]
        }
      ],
      "source": [
        "n = 10\n",
        "waktu = np.zeros(n)\n",
        "\n",
        "for i in range(n):\n",
        "    tic = time.time()\n",
        "    y, exit = sla.cgs(B, b, M=M)\n",
        "    toc = time.time()\n",
        "    waktu[i] = toc-tic\n",
        "    print(\"Percobaan #\",i,\"CGS dengan Preconditioning: Waktu yang diperlukan = {:.3e} detik\".format(waktu[i]))\n",
        "\n",
        "print(\"Rerata waktu =\",np.average(waktu),\"detik\")"
      ]
    },
    {
      "cell_type": "markdown",
      "id": "c1881cb3",
      "metadata": {},
      "source": [
        "#### Langkah 9"
      ]
    },
    {
      "cell_type": "code",
      "execution_count": 32,
      "id": "b8eeab20",
      "metadata": {},
      "outputs": [
        {
          "name": "stdout",
          "output_type": "stream",
          "text": [
            "[5.00003681 5.00998681 5.0198358  5.02958282 5.03922688 5.04876702\n",
            " 5.05820229 5.06753176 5.0767545  5.0858696  5.09487616 5.10377331\n",
            " 5.11256017 5.12123591 5.12979968 5.13825067 5.14658809 5.15481116\n",
            " 5.16291912 5.17091123 5.17878677 5.18654506 5.19418541 5.20170718\n",
            " 5.20910975 5.2163925  5.22355487 5.23059632 5.23751631 5.24431435\n",
            " 5.25098998 5.25754278 5.26397232 5.27027825 5.27646023 5.28251794\n",
            " 5.28845112 5.29425955 5.29994301 5.30550135 5.31093445 5.31624224\n",
            " 5.32142466 5.32648173 5.33141349 5.33622003 5.3409015  5.34545807\n",
            " 5.34988998 5.3541975  5.35838098 5.3624408  5.3663774  5.37019127\n",
            " 5.37388297 5.37745309 5.38090232 5.38423137 5.38744104 5.39053218\n",
            " 5.39350571 5.39636262 5.39910396 5.40173086 5.40424451 5.40664619\n",
            " 5.40893724 5.41111909 5.41319323 5.41516124 5.4170248  5.41878565\n",
            " 5.42044563 5.42200666 5.42347076 5.42484003 5.42611668 5.427303\n",
            " 5.42840139 5.42941435 5.43034448 5.43119448 5.43196717 5.43266548\n",
            " 5.43329243 5.43385119 5.43434501 5.4347773  5.43515155 5.43547141\n",
            " 5.43574064 5.43596313 5.43614292 5.43628416 5.43639115 5.43646835\n",
            " 5.43652033 5.43655183 5.43656774 5.4365731  5.4365731 ]\n"
          ]
        },
        {
          "data": {
            "image/png": "[encoded data removed]",
            "text/plain": [
              "<Figure size 432x288 with 1 Axes>"
            ]
          },
          "metadata": {
            "needs_background": "light"
          },
          "output_type": "display_data"
        }
      ],
      "source": [
        "# Langkah 9 : mencari solusi menggunakan metode GCROT\n",
        "\n",
        "# Preconditioning menggunakan ILU Preconditioner\n",
        "\n",
        "B = csc_matrix(A, dtype=float)\n",
        "ILUfact = sla.spilu(B)\n",
        "\n",
        "M = sla.LinearOperator(\n",
        "    shape = B.shape,\n",
        "    matvec = lambda b: ILUfact.solve(b)\n",
        ")\n",
        "\n",
        "# mencari solusi menggunakan GMRES\n",
        "y, exit = sla.gcrotmk(B, b, M=M, atol=1e-5)\n",
        "\n",
        "# Plot\n",
        "print(y)\n",
        "plt.plot(x,y)\n",
        "plt.xlabel(\"x\")\n",
        "plt.ylabel(\"y\")\n",
        "plt.show()"
      ]
    },
    {
      "cell_type": "code",
      "execution_count": 34,
      "id": "0bb95473",
      "metadata": {},
      "outputs": [
        {
          "name": "stdout",
          "output_type": "stream",
          "text": [
            "Percobaan # 0 GCROT dengan Preconditioning: Waktu yang diperlukan = 2.003e-03 detik\n",
            "Percobaan # 1 GCROT dengan Preconditioning: Waktu yang diperlukan = 2.222e-03 detik\n",
            "Percobaan # 2 GCROT dengan Preconditioning: Waktu yang diperlukan = 1.830e-03 detik\n",
            "Percobaan # 3 GCROT dengan Preconditioning: Waktu yang diperlukan = 1.386e-03 detik\n",
            "Percobaan # 4 GCROT dengan Preconditioning: Waktu yang diperlukan = 1.170e-03 detik\n",
            "Percobaan # 5 GCROT dengan Preconditioning: Waktu yang diperlukan = 1.065e-03 detik\n",
            "Percobaan # 6 GCROT dengan Preconditioning: Waktu yang diperlukan = 1.130e-03 detik\n",
            "Percobaan # 7 GCROT dengan Preconditioning: Waktu yang diperlukan = 1.239e-03 detik\n",
            "Percobaan # 8 GCROT dengan Preconditioning: Waktu yang diperlukan = 1.088e-03 detik\n",
            "Percobaan # 9 GCROT dengan Preconditioning: Waktu yang diperlukan = 1.045e-03 detik\n",
            "Rerata waktu = 0.0014177322387695312 detik\n"
          ]
        }
      ],
      "source": [
        "n = 10\n",
        "waktu = np.zeros(n)\n",
        "\n",
        "for i in range(n):\n",
        "    tic = time.time()\n",
        "    y, exit = sla.gcrotmk(B, b, M=M, atol=1e-5)\n",
        "    toc = time.time()\n",
        "    waktu[i] = toc-tic\n",
        "    print(\"Percobaan #\",i,\"GCROT dengan Preconditioning: Waktu yang diperlukan = {:.3e} detik\".format(waktu[i]))\n",
        "\n",
        "print(\"Rerata waktu =\",np.average(waktu),\"detik\")"
      ]
    },
    {
      "cell_type": "markdown",
      "id": "5df98dc0",
      "metadata": {},
      "source": [
        "# Latihan 2 (Pengayaan)"
      ]
    },
    {
      "cell_type": "markdown",
      "id": "b246c42d",
      "metadata": {},
      "source": [
        "## Mencari nilai n yang efisien dan menggunakan GPU"
      ]
    },
    {
      "cell_type": "code",
      "execution_count": null,
      "id": "447cd081",
      "metadata": {},
      "outputs": [],
      "source": [
        "# Langkah 1 : Inisialisasi           \n",
        "gmin=1                          # batas bawah x (neuman)\n",
        "gmax=0                          # batas atas x (neuman)\n",
        "n = 100                       # banyaknya interval\n",
        "h = (xmax-xmin)/n                         # lebar interval\n",
        "x = np.linspace(xmin, xmax, n+1)  # nilai x dengan lebar yang seragam\n",
        "\n",
        "# Langkah 2 : Susun matriks A\n",
        "A = np.zeros((n+1,n+1))        # inisialisasi\n",
        "p=1\n",
        "q=-2\n",
        "r=1\n",
        "for i in range(0, n+1):\n",
        "    if i==0: #atur batas kiri\n",
        "        A[i,i] = -2*p/(h**2)+r # diagonal\n",
        "        A[i,i+1] = 2*p/(h**2) # kanan (east)\n",
        "    elif i==n: #atur batas kanan\n",
        "        A[i,i] = -2*p/(h**2)+r # diagonal\n",
        "        A[i,i-1] = 2*p/(h**2)     # kiri (west)\n",
        "    else:\n",
        "        A[i,i] = -2*p/(h**2)+r     # diagonal\n",
        "        A[i,i-1] = p/(h**2)-q/(2*h)     # kiri (west)\n",
        "        A[i,i+1] = p/(h**2)+q/(2*h)        # kanan (east)\n",
        "\n",
        "# Langkah 3 : Susun vektor b\n",
        "b = np.zeros(n+1)\n",
        "for i in range(0, n+1):\n",
        "    if i==0: #atur batas kiri\n",
        "        b[i]= 2*np.exp(x[i]) + 2*h*gmin*(p/(h**2)-q/(2*h))\n",
        "    elif i==n: #atur batas kanan\n",
        "        b[i]= 2*np.exp(x[i]) - 2*h*gmax*(p/(h**2)+q/(2*h))\n",
        "    else:\n",
        "        b[i] = 2*np.exp(x[i])"
      ]
    },
    {
      "cell_type": "markdown",
      "id": "395cf63e",
      "metadata": {},
      "source": [
        "## Metode mana yang paling bagus"
      ]
    },
    {
      "cell_type": "code",
      "execution_count": null,
      "id": "1901f35e",
      "metadata": {},
      "outputs": [],
      "source": []
    }
  ],
  "metadata": {
    "colab": {
      "provenance": []
    },
    "kernelspec": {
      "display_name": "Python 3 (ipykernel)",
      "language": "python",
      "name": "python3"
    },
    "language_info": {
      "codemirror_mode": {
        "name": "ipython",
        "version": 3
      },
      "file_extension": ".py",
      "mimetype": "text/x-python",
      "name": "python",
      "nbconvert_exporter": "python",
      "pygments_lexer": "ipython3",
      "version": "3.7.12"
    }
  },
  "nbformat": 4,
  "nbformat_minor": 5
}
