{
  "cells": [
    {
      "cell_type": "markdown",
      "metadata": {
        "id": "view-in-github",
        "colab_type": "text"
      },
      "source": [
        "<a href=\"https://colab.research.google.com/github/RendiZein/Metode-Rekayasa-Komputasi/blob/main/02_Boundary_value_problem_2024_indonesia.ipynb\" target=\"_parent\"><img src=\"https://colab.research.google.com/assets/colab-badge.svg\" alt=\"Open In Colab\"/></a>"
      ]
    },
    {
      "cell_type": "markdown",
      "id": "1bacc3ff",
      "metadata": {
        "id": "1bacc3ff"
      },
      "source": [
        "<div class=\"alert alert-block alert-success\"><h1><b> Pendekatan beda hingga (finite difference) </b></h3></div>\n",
        "\n",
        "Fungsi $y(x)$ dapat dibentuk menjadi persamaan diferensi menggunakan pendekatan Taylor.\n",
        "\n",
        "$$y(x) = y(x_0) + (x-x_0)y'(x_0) + \\dfrac{(x-x_0)^2}{2!}y''(x_0)+\\ldots+\\dfrac{(x-x_0)^n}{n!}y(x_0)^{(n)} + \\ldots$$\n",
        "\n",
        "Domain yang kontinyu dengan interval $[a,b]$ diibagi menjadi $n$ subinterval yang sama panjang, $h = \\Delta x$.\n",
        "\n",
        "<img src=\"fig_diskretisasi2.png\" width=\"500\"/>\n",
        "\n",
        "Untuk ruang $x$ yang didiskretisasi, $y(x_i) = y_i$, dengan indeks $i$ menyatakan lokasi spasial tertentu.\n",
        "\n",
        "Dengan menggunakan skema diskretisasi di atas, maka ekspansi Taylor dari fungsi $y(x)$ menjadi\n",
        "\n",
        "\\begin{align}\n",
        "y_{i+1} &= y_i + hy_i' + \\dfrac{h^2}{2!}y_i''+\\dfrac{h^3}{3!}y_i''' + \\dfrac{h^4}{4!}y_i^{(4)} + \\ldots \\\\\n",
        "y_{i-1} &= y_i - hy_i' + \\dfrac{h^2}{2!}y_i''-\\dfrac{h^3}{3!}y_i''' + \\dfrac{h^4}{4!}y_i^{(4)} + \\ldots \\\\\n",
        "\\end{align}\n",
        "\n",
        "Dengan menjumlahkan kedua deret di atas akan diperoleh:\n",
        "\n",
        "$$ y_{i+1} + y_{i-1} = 2y_i +  h^2y_i'' + \\dfrac{h^4}{12}y_i^{(4)} + \\ldots $$\n",
        "\n",
        "atau\n",
        "\n",
        "$$ y''(x) = y''_i = \\dfrac{y_{i+1} -2y_i +  y_{i-1}}{h^2}  - \\dfrac{h^2}{12}y_i^{(4)} + \\ldots $$\n",
        "\n",
        "atau\n",
        "\n",
        "$$  \\boxed{y''_i = \\dfrac{y_{i+1} -2y_i +  y_{i-1}}{h^2}  + \\mathcal{O}(h^2)}$$\n",
        "\n",
        "Persamaan di atas merupakan bentuk turunan kedua untuk persamaan diferensi.\n",
        "\n",
        "\n",
        "Selanjutnya dengan mengurangkan kedua deret akan diperoleh\n",
        "\n",
        "$$y_{i+1} - y_{i-1} = 2hy'_i +  \\dfrac{h^3}{3}y'''_i + \\ldots $$\n",
        "\n",
        "atau\n",
        "\n",
        "$$ y'(x) = y'_i = \\dfrac{y_{i+1} - y_{i-1}}{2h}  - \\dfrac{h^2}{6}y'''_i - \\ldots $$\n",
        "\n",
        "atau\n",
        "\n",
        "$$  \\boxed{y'_i = \\dfrac{y_{i+1}-  y_{i-1}}{2h}  + \\mathcal{O}(h^2)}$$\n",
        "\n",
        "Persamaan di atas merupakan bentuk turunan pertama untuk persamaan diferensi.\n",
        "\n",
        "Kedua bentuk beda hingga di atas  digunakan untuk menggantikan turunan-turunan dari $y$ pada persamaan diferensial, dan mengubahnya menjadi $n+1$ persamaan aljabar linear.\n",
        "\n",
        "<div class=\"alert alert-block alert-success\"><h2><b>Syarat Batas Dirichlet</b></h2></div>\n",
        "\n",
        "$$P(x)y''+Q(x)y'+R(x)y = W(x)$$\n",
        "\n",
        "$$y(x_0)=y_0 = y_a,\\qquad y(x_n)=y_n = y_b$$\n",
        "\n",
        "<img src=\"fig_dirichlet2.png\" width=\"500\"/>\n",
        "\n",
        "Bentuk diskret dari persamaan diferensial :\n",
        "$$ P(x_i)y_i''+Q(x_i)y_i'+R(x_i)y_i = W(x_i) $$\n",
        "\n",
        "Jika koefisien dinyatakan dengan $P_i = P(x_i), Q_i = Q(x_i),  R_i = R(x_i)$, dan $W_i = W(x_i)$, maka\n",
        "\n",
        "$$P_i y_i''+Q_iy_i'+R_iy_i = W_i$$\n",
        "\n",
        "Dengan mensubstitusi bentuk beda hingga $y''_i$  dan $y'_i$  ke persamaan diferensi, diperoleh\n",
        "\n",
        "$$P_i \\dfrac{ y_{i+1}-2y_i + y_{i-1}}{h^2}+Q_i \\dfrac{y_{i+1}-y_{i-1}}{2h}+R_iy_i = W_i$$\n",
        "\n",
        "Dengan menyusun ulang persamaan di atas dalam urutan $y_{i−1}$, $y_i$ dan $y_{i+1}$, kita dapatkan formula beda hingga :\n",
        "\n",
        "$$ \\boxed{ \\left(\\dfrac{P_i}{h^2} - \\dfrac{Q_i}{2h} \\right)y_{i-1}+\\left(\\dfrac{-2P_i}{h^2} +R_i \\right)y_i + \\left(\\dfrac{P_i}{h^2} + \\dfrac{Q_i}{2h} \\right)y_{i+1}= W_i } $$\n",
        "\n",
        "Terdapat $n-1$ variabel tak diketahui pada sistem, $y_i$ untuk $i = 1, 2, \\ldots, n-1$ yang bersama-sama dengan nilai syarat batas pada $i=0$ dan $i=n$  akan membentuk sistem persamaan linear $(n+1) \\times (n+1)$.\n",
        "\n",
        "**Untuk $i=0$ :**\n",
        "\n",
        "$$y_0 = y_a$$\n",
        "\n",
        "**Untuk $i=1$ :**\n",
        "\n",
        "$$ \\left(\\dfrac{P_1}{h^2} - \\dfrac{Q_1}{2h} \\right)y_{0}+\\left(\\dfrac{-2P_1}{h^2} +R_1 \\right)y_1 + \\left(\\dfrac{P_1}{h^2} + \\dfrac{Q_1}{2h} \\right)y_{2}= W_1$$\n",
        "\n",
        "**Untuk $i=2$ :**\n",
        "\n",
        "$$ \\left(\\dfrac{P_2}{h^2} - \\dfrac{Q_2}{2h} \\right)y_{1}+\\left(\\dfrac{-2P_2}{h^2} +R_2 \\right)y_2 + \\left(\\dfrac{P_2}{h^2} + \\dfrac{Q_2}{2h} \\right)y_{3}= W_2$$\n",
        "\n",
        "dan seterusnya sampai dengan\n",
        "\n",
        "**Untuk $i=n-1$ :**\n",
        "\n",
        "$$\\left(\\dfrac{P_{n-1}}{h^2} - \\dfrac{Q_{n-1}}{2h} \\right)y_{n-2}+\\left(\\dfrac{-2P_{n-1}}{h^2} +R_{n-1} \\right)y_{n-1} + \\left(\\dfrac{P_{n-1}}{h^2} + \\dfrac{Q_{n-1}}{2h} \\right)y_{n}= W_{n-1}$$\n",
        "\n",
        "dan\n",
        "\n",
        "**Untuk $i=n$ :**\n",
        "\n",
        "$$ y_n = y_b  $$\n",
        "\n",
        "Dengan mengatur kembali semua persamaan beda hingga yang diperoleh menjadi bentuk matriks, kita akan mendapatkan sistem persamaan linear  dengan ukuran $(n+1) \\times (n+1)$\n",
        "\n",
        "$$\\mathbf{A\\,y} = \\mathbf{b}$$\n",
        "\n",
        "dengan\n",
        "\n",
        "\\begin{equation}\n",
        "\\mathbf{A} =\n",
        "\\begin{pmatrix}\n",
        "1      & 0      & 0      & 0       & \\cdots & 0 & 0 & 0 & 0 & 0 \\\\\n",
        "a_{21} & a_{22} & a_{23} & 0       & \\cdots & 0 & 0 & 0 & 0 & 0 \\\\\n",
        "0      & a_{32} & a_{33} & a_{34}  & \\cdots & 0 & 0 & 0 & 0 & 0 \\\\\n",
        "0      & 0      & a_{43} &  a_{44} & \\cdots & 0 & 0 & 0 & 0 & 0 \\\\  \n",
        "\\vdots & \\vdots & \\vdots & \\vdots  & \\ddots & \\vdots & \\vdots & \\vdots & \\vdots & \\vdots \\\\\n",
        "0      & 0      & 0      & 0       & \\cdots & a_{(n-3)(n-4)}& a_{(n-3)(n-3)} & a_{(n-3)(n-2)} & 0 & 0 \\\\  \n",
        "0      & 0      & 0      & 0       & \\cdots & 0 & a_{(n-2)(n-3)} & a_{(n-2)(n-2)} & a_{(n-2)(n-1)} & 0\\\\\n",
        "0      & 0      & 0      & 0       & \\cdots & 0 & 0 & a_{(n-1)(n-2)} & a_{(n-1)(n-1)} & a_{(n-1)(n)} \\\\\n",
        "0      & 0      & 0      & 0       & \\cdots & 0 & 0 & 0 & 0 & 1\n",
        "\\end{pmatrix}\n",
        "\\end{equation}\n",
        "\n",
        "$$\\mathbf{y} = [y_0 \\ y_1 \\ y_2 \\ y_3 \\ y_4 \\ \\cdots \\ y_{n-4} \\ y_{n-3} \\ y_{n-2} \\ y_{n-1} \\ y_n]^T$$\n",
        "\n",
        "$$ \\mathbf{b} = [b_0 \\ b_1 \\ b_2 \\ b_3 \\ b_4 \\ \\cdots \\ b_{n-4} \\ b_{n-3} \\ b_{n-2} \\ b_{n-1}\\ b_n]^T$$\n",
        "\n",
        "Nilai untuk masing-masing elemen matriks **A** dan vektor **b** adalah\n",
        "\n",
        "\n",
        "\\begin{equation}\n",
        "a_{ij} =\n",
        "\\begin{cases}\n",
        " \\dfrac{-2P_i}{h^2} + R_i \\ &\\text{ untuk } j=i  \\\\\n",
        "\\dfrac{P_i}{h^2} + \\dfrac{Q_i}{2h} \\ &\\text{ untuk } j=i+1  \\\\\n",
        "\\dfrac{P_i}{h^2} - \\dfrac{Q_i}{2h} \\ &\\text{ untuk } j=i-1  \\\\\n",
        "\\end{cases}\n",
        "\\qquad \\text{dengan }  i=2,\\ldots,n-1\n",
        "\\end{equation}\n",
        "\n",
        "\n",
        "\n",
        "\\begin{equation}\n",
        "b_{i} = w_i, \\qquad \\text{dengan } i=2,\\ldots,n-1\n",
        "\\end{equation}"
      ]
    },
    {
      "cell_type": "markdown",
      "id": "2d52b8d0",
      "metadata": {
        "id": "2d52b8d0"
      },
      "source": [
        "<div class=\"alert alert-block alert-warning\"><h1><b> Latihan 1</b></h1>    </div>\n",
        "\n",
        "\n",
        ">\n",
        "> Carilah solusi dari BVP berikut ini\n",
        "> $$ \\dfrac{d^2y}{dx^2}-2\\dfrac{dy}{dx} + y = 2e^x $$\n",
        "> dengan syarat batas\n",
        "> \\begin{align}\n",
        "y(0) &= 1 \\\\\n",
        "y(1) &= 0\n",
        "\\end{align}\n",
        ">\n",
        "> Solusi :\n",
        "\n",
        "<img src=\"fig_solusi_dirichlet2.png\" width=\"500\"/>\n",
        "\n",
        "> Solusi secara analitik (sebagai validasi) :\n",
        "\n",
        "<img src=\"fig_solusi_bvp1.png\" width=\"500\"/>\n",
        "\n",
        "> *Jawab* :\n",
        ">\n",
        "> $P = 1, Q = -2, R = 1, W = 2e^x$\n",
        ">\n",
        "> Elemen matriks **A** dan vektor **b** menjadi\n",
        ">\n",
        "> \\begin{equation}\n",
        "a_{ij} =\n",
        "\\begin{cases}\n",
        " \\dfrac{-2}{h^2} + 1 \\ &\\text{ untuk } j=i \\\\\n",
        "\\dfrac{1}{h^2} - \\dfrac{1}{h} \\ &\\text{ untuk } j=i+1 \\qquad \\text{ dengan } i= 2,\\ldots,n-1 \\\\\n",
        "\\dfrac{1}{h^2} + \\dfrac{1}{1h} \\ &\\text{ untuk } j=i-1 \\\\\n",
        "\\end{cases}\n",
        "\\end{equation}\n",
        ">\n",
        ">\\begin{equation}\n",
        "b_{i} = 2e^{x_i} \\qquad \\text{ dengan } i= 2,\\ldots,n-1\n",
        "\\end{equation}\n",
        ">\n",
        "> Implementasi menjadi code Python dapat dilihat berikut ini\n",
        "\n"
      ]
    },
    {
      "cell_type": "code",
      "execution_count": null,
      "id": "adf66d4c",
      "metadata": {
        "id": "adf66d4c"
      },
      "outputs": [],
      "source": [
        "import numpy as np\n",
        "import matplotlib.pyplot as plt"
      ]
    },
    {
      "cell_type": "code",
      "execution_count": null,
      "id": "1a5c64dc",
      "metadata": {
        "id": "1a5c64dc"
      },
      "outputs": [],
      "source": [
        "# Menyusun matriks A dan vektor b\n",
        "# untuk BVP linear orde 2 dengan syarat batas Dirichlet\n",
        "# di kedua ujung\n",
        "\n",
        "\n",
        "# Langkah 1 : Inisialisasi\n",
        "\n",
        "xmin = 0                        # batas bawah x\n",
        "xmax = 1                        # batas atas x\n",
        "n = 100                         # banyaknya interval\n",
        "h = (xmax-xmin)/n                         # lebar interval\n",
        "x = np.linspace(xmin, xmax, n+1)  # nilai x dengan lebar yang seragam\n"
      ]
    },
    {
      "cell_type": "code",
      "source": [
        "print(h)\n",
        "print(x)"
      ],
      "metadata": {
        "colab": {
          "base_uri": "https://localhost:8080/"
        },
        "id": "kZbgAdmCNhG_",
        "outputId": "e6f646b6-c531-4bf9-ef0d-8620e3083fd4"
      },
      "id": "kZbgAdmCNhG_",
      "execution_count": null,
      "outputs": [
        {
          "output_type": "stream",
          "name": "stdout",
          "text": [
            "0.01\n",
            "[0.   0.01 0.02 0.03 0.04 0.05 0.06 0.07 0.08 0.09 0.1  0.11 0.12 0.13\n",
            " 0.14 0.15 0.16 0.17 0.18 0.19 0.2  0.21 0.22 0.23 0.24 0.25 0.26 0.27\n",
            " 0.28 0.29 0.3  0.31 0.32 0.33 0.34 0.35 0.36 0.37 0.38 0.39 0.4  0.41\n",
            " 0.42 0.43 0.44 0.45 0.46 0.47 0.48 0.49 0.5  0.51 0.52 0.53 0.54 0.55\n",
            " 0.56 0.57 0.58 0.59 0.6  0.61 0.62 0.63 0.64 0.65 0.66 0.67 0.68 0.69\n",
            " 0.7  0.71 0.72 0.73 0.74 0.75 0.76 0.77 0.78 0.79 0.8  0.81 0.82 0.83\n",
            " 0.84 0.85 0.86 0.87 0.88 0.89 0.9  0.91 0.92 0.93 0.94 0.95 0.96 0.97\n",
            " 0.98 0.99 1.  ]\n"
          ]
        }
      ]
    },
    {
      "cell_type": "code",
      "execution_count": null,
      "id": "40361cab",
      "metadata": {
        "id": "40361cab"
      },
      "outputs": [],
      "source": [
        "# Langkah 2 : Susun matriks A\n",
        "\n",
        "A = np.zeros((101,101))        # inisialisasi\n",
        "A[0, 0] = xmin                     # batas kiri\n",
        "A[-1, -1] = xmax                   # batas kanan\n",
        "p=1\n",
        "q=-2\n",
        "r=1\n",
        "for i in range(2, n):\n",
        "    A[i,i] = (-2*(p*i)/(h**2 ))+(r*i)     # diagonal\n",
        "    A[i,i+1] = ((p*i)/(h**2))-((q*i)/(2*h))     # kiri (west)\n",
        "    A[i,i-1] = ((p*i)/(h**2))+((q*i)/(2*h))       # kanan (east)"
      ]
    },
    {
      "cell_type": "code",
      "execution_count": null,
      "id": "ac516c62",
      "metadata": {
        "id": "ac516c62"
      },
      "outputs": [],
      "source": [
        "# Langkah 3 : Susun vektor b\n",
        "\n",
        "b = np.zeros(n+1)\n",
        "b[0] = 1\n",
        "b[1] = 0\n",
        "\n",
        "for i in range(2, n):\n",
        "    b[i] = 2*np.exp(i)"
      ]
    },
    {
      "cell_type": "code",
      "execution_count": null,
      "id": "4fa64403",
      "metadata": {
        "id": "4fa64403"
      },
      "outputs": [],
      "source": [
        "# Langkah 4 :\n",
        "# Tampilkan vektor x, matriks A dan vektor b\n",
        "\n",
        "\n",
        "print(x)\n",
        "print(a)\n",
        "print(b)\n",
        "\n",
        "# visualisasikan matriks A menggunakan perintah spy yang\n",
        "# ada pada modul pyplot\n",
        "\n",
        "plt...."
      ]
    },
    {
      "cell_type": "markdown",
      "id": "5358610e",
      "metadata": {
        "id": "5358610e"
      },
      "source": [
        "\n",
        "\n",
        "## <code style=\"color:black\">**Mencari solusi** :</code>\n",
        "\n",
        "Persamaan linear yang dinyatakan dalam bentuk matriks\n",
        "\n",
        "$$\\mathbf{A\\,y} = \\mathbf{b}$$\n",
        "\n",
        "dapat diselesaikan dengan inverse dari matriks **A** ke persamaan tersebut.\n",
        "\n",
        "$$\\mathbf{A^{-1}\\,A\\,y} = \\mathbf{A^{-1}b}$$\n",
        "atau\n",
        "$$\\mathbf{y} = \\mathbf{A^{-1}b}$$\n",
        "\n",
        "\n",
        "Untuk keperluan ini kita dapat menggunakan **numpy.linalg.inv(a)** untuk mencari inverse matriks dan **numpy.matmul(x1, x2)** untuk melakukan perkalian matriks."
      ]
    },
    {
      "cell_type": "code",
      "execution_count": null,
      "id": "b4965533",
      "metadata": {
        "colab": {
          "base_uri": "https://localhost:8080/",
          "height": 935
        },
        "id": "b4965533",
        "outputId": "80f73fe3-2335-4799-a0f6-0c56470dbe44"
      },
      "outputs": [
        {
          "output_type": "stream",
          "name": "stdout",
          "text": [
            "[ 0.00000000e+00  0.00000000e+00  1.02146165e+05  4.26920998e+05\n",
            "  1.16049159e+06  3.15454320e+06  8.57493747e+06  2.33090967e+07\n",
            "  6.33606940e+07  1.72232223e+08  4.68175722e+08  1.27263356e+09\n",
            "  3.45937668e+09  9.40356076e+09  2.55615283e+10  6.94834380e+10\n",
            "  1.88875567e+11  5.13417021e+11  1.39561216e+12  3.79366717e+12\n",
            "  1.03122565e+13  2.80316196e+13  7.61978421e+13  2.07127209e+14\n",
            "  5.63030130e+14  1.53047457e+15  4.16026121e+15  1.13087625e+16\n",
            "  3.07404035e+16  8.35610802e+16  2.27142566e+17  6.17437509e+17\n",
            "  1.67836916e+18  4.56228039e+18  1.24015639e+19  3.37109458e+19\n",
            "  9.16358513e+19  2.49092069e+20  6.77102446e+20  1.84055527e+21\n",
            "  5.00314796e+21  1.35999662e+22  3.69685409e+22  1.00490913e+23\n",
            "  2.73162623e+23  7.42532994e+23  2.01841394e+24  5.48661795e+24\n",
            "  1.49141739e+25  4.05409278e+25  1.10201667e+26  2.99559190e+26\n",
            "  8.14286302e+26  2.21345966e+27  6.01680717e+27  1.63553776e+28\n",
            "  4.44585257e+28  1.20850803e+29  3.28506540e+29  8.92973360e+29\n",
            "  2.42735326e+30  6.59823025e+30  1.79358494e+31  4.87546935e+31\n",
            "  1.32528997e+32  3.60251165e+32  9.79264196e+32  2.66191607e+33\n",
            "  7.23583808e+33  1.96690472e+34  5.34660135e+34  1.45335693e+35\n",
            "  3.95063373e+35  1.07389359e+36  2.91914543e+36  7.93505996e+36\n",
            "  2.15697293e+37  5.86326032e+37  1.59379940e+38  4.33239594e+38\n",
            "  1.17766732e+39  3.20123167e+39  8.70184987e+39  2.36540804e+40\n",
            "  6.42984569e+40  1.74781327e+41  4.75104905e+41  1.29146903e+42\n",
            "  3.51057679e+42  9.54273711e+42  2.59398489e+43  7.05118198e+43\n",
            "  1.91670999e+44  5.21015792e+44  1.41626776e+45  3.84981492e+45\n",
            "  1.04648819e+46  2.84464984e+46  7.73255997e+46 -3.22054422e+47\n",
            "  0.00000000e+00]\n"
          ]
        },
        {
          "output_type": "display_data",
          "data": {
            "text/plain": [
              "<Figure size 640x480 with 1 Axes>"
            ],
            "image/png": "[encoded data removed]"
          },
          "metadata": {}
        }
      ],
      "source": [
        "# Langkah 5 : mencari solusi menggunakan inverse matriks\n",
        "\n",
        "y = np.matmul(A, b)\n",
        "\n",
        "# plot\n",
        "print(y)\n",
        "plt.plot(x,y)\n",
        "plt.xlabel(\"x\")\n",
        "plt.ylabel(\"y\")\n",
        "plt.show()"
      ]
    },
    {
      "cell_type": "markdown",
      "id": "b6a5740b",
      "metadata": {
        "id": "b6a5740b"
      },
      "source": [
        "Alternatif lain untuk mencari solusi persamaan matriks adalah menggunakan **numpy.linalg.solve(a, b)**. Metode ini menggunakan algoritma dekomposisi LU dengan pivoting parsial."
      ]
    },
    {
      "cell_type": "code",
      "execution_count": null,
      "id": "4c72e963",
      "metadata": {
        "id": "4c72e963"
      },
      "outputs": [],
      "source": [
        "# Langkah 6: mencari solusi menggunakan dekomposisi LU\n",
        "\n",
        "y = np.linalg.solve(..., ...)\n",
        "\n",
        "# plot\n",
        "print(y)\n",
        "plt.plot(x,y)\n",
        "plt.xlabel(\"x\")\n",
        "plt.ylabel(\"y\")\n",
        "plt.show()"
      ]
    },
    {
      "cell_type": "markdown",
      "id": "94894948",
      "metadata": {
        "id": "94894948"
      },
      "source": [
        "Kita dapat mencari waktu yang diperlukan untuk mencari solusi menggunakan metode di atas."
      ]
    },
    {
      "cell_type": "code",
      "execution_count": null,
      "id": "9b2de0b2",
      "metadata": {
        "id": "9b2de0b2"
      },
      "outputs": [],
      "source": [
        "import time"
      ]
    },
    {
      "cell_type": "code",
      "execution_count": null,
      "id": "cbeb7609",
      "metadata": {
        "id": "cbeb7609"
      },
      "outputs": [],
      "source": [
        "n = 10\n",
        "waktu = np.zeros(n)\n",
        "\n",
        "for i in range(n):\n",
        "    tic = time.time()\n",
        "    y = np.linalg.solve(..., ...)\n",
        "    toc = time.time()\n",
        "    waktu[i] = toc-tic\n",
        "    print(\"Percobaan #\",i,\"LU dengan pivoting parsial. Waktu yang diperlukan = {:.3e} detik\".format(waktu[i]))\n",
        "\n",
        "\n",
        "print(\"Rerata waktu =\",np.average(waktu),\"detik\")\n"
      ]
    },
    {
      "cell_type": "markdown",
      "id": "54fe201a",
      "metadata": {
        "id": "54fe201a"
      },
      "source": [
        "Dari plot hasil **spy** dapat kita lihat bahwa matriks **A** adalah *sparse matrix*. Artinya elemen matriks pada posisi tridiagonal mempunyai nilai tertentu, dan sisanya (yang jumlah elemennya lebih banyak) mempunyai nilai 0.\n",
        "\n",
        "Pencarian solusi *sparse matrix* akan lebih efisien jika kita menggunakan algoritma yang memang dimaksudkan untuk itu. Umumnya digunakan algoritma penyelesaian yang bersifat iteratif. Ingat pada matakuliah Metode Numerik, kita pernah mempelajari metode iteratif untuk penyelesaian sistem persamaan linear, seperti metode Jacobi dan Gauss-Seidel. Namun di python terdapat algoritma yang lebih efisien dan efektif.\n",
        "\n",
        "Ada beberapa algoritma yang dapat digunakan dan dapat diperoleh dari modul **scipy**, antara lain :\n",
        "- Generalized Minimal RESidual (GMRES) : **scipy.sparse.linalg.gmres**\n",
        "- BIConjugate Gradient STABilized (BICGSTAB) : **scipy.sparse.linalg.bicgstab**\n",
        "- Conjugate Gradient Squared (CGS) : **scipy.sparse.linalg.cgs**\n",
        "-  Generalized Conjugate Residual with inner Orthogonalization and outer Truncation (GCROT) : **scipy.sparse.linalg.gcrotmk**\n",
        "\n",
        "Sebelum menyelesaikan permasalahan menggunakan metode-metode di atas, perlu dilakukan pengolahan awal matriks atau yang biasa disebut dengan *preconditioning*. Ide utama dari *preconditioning* ini adalah untuk mentransformasi sistem linear awal menjadi sistem linear yang ekivalen dengan sifat-sifat yang lebih baik untuk mencapai konvergensi.\n",
        "\n",
        "Tujuan utama dari *preconditioning* adalah :\n",
        "- mempercepat konvergensi\n",
        "- mengurangi jumlah iterasi:\n",
        "- meningkatkan *robustness*\n",
        "\n",
        "Ada beberapa teknik atau *preconditioner* yang dapat digunakan, misal :\n",
        "- *Incomplete LU (ILU) Preconditioner* : **scipy.sparse.linalg.spilu**\n",
        "- *Preconditioned Conjugate Gradient (PCG) Preconditioner*\n",
        "- *Algebraic Multigrid (AMG) Preconditioner*\n",
        "\n",
        "Di bawah ini contoh untuk melakukan penyelesaian masalah menggunakan metode GMRES dengan ILU preconditioner."
      ]
    },
    {
      "cell_type": "code",
      "execution_count": null,
      "id": "b467e864",
      "metadata": {
        "id": "b467e864"
      },
      "outputs": [],
      "source": [
        "import scipy.sparse as sparse\n",
        "import scipy.sparse.linalg as sla\n",
        "from scipy.sparse import csc_matrix"
      ]
    },
    {
      "cell_type": "code",
      "execution_count": null,
      "id": "66c2cc32",
      "metadata": {
        "id": "66c2cc32"
      },
      "outputs": [],
      "source": [
        "## Contoh penyelesaian masalah menggunakan GMRES dengan ILU preconditioner\n",
        "\n",
        "\n",
        "\n",
        "# Preconditioning menggunakan ILU Preconditioner\n",
        "\n",
        "B = csc_matrix(A, dtype=float)\n",
        "ILUfact = sla.spilu(B)\n",
        "\n",
        "M = sla.LinearOperator(\n",
        "    shape = B.shape,\n",
        "    matvec = lambda b: ILUfact.solve(b)\n",
        ")\n",
        "\n",
        "# mencari solusi menggunakan GMRES\n",
        "y, exit = sla.gmres(B, b, M=M)\n",
        "\n",
        "# Plot\n",
        "print(y)\n",
        "plt.plot(x,y)\n",
        "plt.xlabel(\"x\")\n",
        "plt.ylabel(\"y\")\n",
        "plt.show()"
      ]
    },
    {
      "cell_type": "markdown",
      "id": "a869e8a5",
      "metadata": {
        "id": "a869e8a5"
      },
      "source": [
        "Mari kita bandingkan waktu yang diperlukan jika menggunakan metode GMRES"
      ]
    },
    {
      "cell_type": "code",
      "execution_count": null,
      "id": "f34a06dc",
      "metadata": {
        "id": "f34a06dc"
      },
      "outputs": [],
      "source": [
        "n = 10\n",
        "waktu = np.zeros(n)\n",
        "\n",
        "for i in range(n):\n",
        "    tic = time.time()\n",
        "    y, exit = sla.gmres(B, b, M=M)\n",
        "    toc = time.time()\n",
        "    waktu[i] = toc-tic\n",
        "    print(\"Percobaan #\",i,\"GMRES dengan Preconditioning: Waktu yang diperlukan = {:.3e} detik\".format(waktu[i]))\n",
        "\n",
        "print(\"Rerata waktu =\",np.average(waktu),\"detik\")"
      ]
    },
    {
      "cell_type": "markdown",
      "id": "8d8b8d0c",
      "metadata": {
        "id": "8d8b8d0c"
      },
      "source": [
        "Sekarang silakan Anda menyelesaikan permasalahan di atas menggunakan metode yang lain."
      ]
    },
    {
      "cell_type": "code",
      "execution_count": null,
      "id": "d19b9c8d",
      "metadata": {
        "id": "d19b9c8d"
      },
      "outputs": [],
      "source": [
        "# Langkah 7 : mencari solusi menggunakan metode BICGSTAB\n",
        "\n",
        "..."
      ]
    },
    {
      "cell_type": "code",
      "execution_count": null,
      "id": "30158d38",
      "metadata": {
        "id": "30158d38"
      },
      "outputs": [],
      "source": [
        "# Langkah 8: Mencari solusi menggunakan metode CGS\n",
        "\n",
        "..."
      ]
    },
    {
      "cell_type": "code",
      "execution_count": null,
      "id": "c6b834ca",
      "metadata": {
        "id": "c6b834ca"
      },
      "outputs": [],
      "source": [
        "# Langkah 9 : mencari solusi menggunakan metode GCROT\n",
        "\n",
        "..."
      ]
    },
    {
      "cell_type": "markdown",
      "id": "de643ac1",
      "metadata": {
        "id": "de643ac1"
      },
      "source": []
    },
    {
      "cell_type": "code",
      "execution_count": null,
      "id": "8a0f7720",
      "metadata": {
        "id": "8a0f7720"
      },
      "outputs": [],
      "source": []
    },
    {
      "cell_type": "markdown",
      "id": "83ee4977",
      "metadata": {
        "id": "83ee4977"
      },
      "source": [
        "<div class=\"alert alert-block alert-success\"><h2><b> Syarat Batas Neumann </b></h2></div>\n",
        "\n",
        "$$P(x)y''+Q(x)y'+R(x)y = W(x)$$\n",
        "\n",
        "$$ y(x_0)=y_0,\\qquad y'(x_n)=\\gamma_n$$\n",
        "\n",
        "Mari kita tinjau grid beda hingga di sekitar titik $x_n$\n",
        "\n",
        "<img src=\"fig_neumann2.png\" width=\"300\"/>\n",
        "\n",
        "Pendekatan beda hingga orde 2 yang dievaluasi pada titik $i=n$\n",
        "\n",
        "$$\\left(\\dfrac{P_n}{h^2} - \\dfrac{Q_n}{2h} \\right)y_{n-1}+\\left(\\dfrac{-2P_n}{h^2} +R_n \\right)y_n + \\left(\\dfrac{P_n}{h^2} + \\dfrac{Q_n}{2h} \\right)y_{n+1}= W_n$$\n",
        "\n",
        "Titik $n+1$ berada di luar domain penyelesaian, dan nilai $y_{n+1}$ tidak diketahui. Oleh karena itu digunakan pendekatan syarat batas turunan di titik $n$ :\n",
        "\n",
        " $$\\left.y'\\right|_n = \\dfrac{y_{n+1}-  y_{n-1}}{2h}  + \\mathcal{O}(h^2) = \\gamma_n$$\n",
        "\n",
        " Dengan memotong suku sisa orde 2, diperoleh rumusan untuk $y_{n+1}$\n",
        "\n",
        " $$y_{n+1} = y_{n-1} + 2h\\left.y'\\right|_n = y_{n-1} + 2h\\gamma_n$$\n",
        "\n",
        " Substitusi ke persamaan beda hingga, diperoleh :\n",
        "\n",
        " $$ \\boxed{\\dfrac{2P_n}{h^2}y_{n-1}+\\left(\\dfrac{-2P_n}{h^2} +R_n \\right)y_n  = W_n - 2h\\gamma_n\\left(\\dfrac{P_n}{h^2} + \\dfrac{Q_n}{2h} \\right)} $$\n",
        "\n",
        " Cara yang serupa juga dilakukan untuk problem dengan syarat batas Neumann pada $x = x_0$ atau $i = 0$."
      ]
    },
    {
      "cell_type": "markdown",
      "id": "a907e9e1",
      "metadata": {
        "id": "a907e9e1"
      },
      "source": [
        "<div class=\"alert alert-block alert-warning\"><h1><b> Latihan 2</b></h1>    </div>\n",
        "\n",
        "\n",
        ">\n",
        "> Carilah solusi dari  BVP berikut ini\n",
        "> $$ \\dfrac{d^2y}{dx^2}-2\\dfrac{dy}{dx} + y = 2e^x $$\n",
        "> dengan syarat batas\n",
        "> \\begin{align}\n",
        "y'(0) &= 1 \\\\\n",
        "y'(1) &= 0\n",
        "\\end{align}\n",
        ">\n",
        "> Solusi :\n",
        "\n",
        "<img src=\"fig_solusi_neumann.png\" width=\"500\"/>\n",
        "\n",
        "> Solusi secara analitik (sebagai validasi) :\n",
        "\n",
        "<img src=\"fig_solusi_bvp2.png\" width=\"500\"/>"
      ]
    },
    {
      "cell_type": "code",
      "execution_count": null,
      "id": "c439124d",
      "metadata": {
        "id": "c439124d"
      },
      "outputs": [],
      "source": [
        "# Buatlah python script untuk menyelesaikan BVP di atas.\n"
      ]
    },
    {
      "cell_type": "code",
      "execution_count": null,
      "id": "3be28f18",
      "metadata": {
        "id": "3be28f18"
      },
      "outputs": [],
      "source": []
    }
  ],
  "metadata": {
    "kernelspec": {
      "display_name": "Python 3 (ipykernel)",
      "language": "python",
      "name": "python3"
    },
    "language_info": {
      "codemirror_mode": {
        "name": "ipython",
        "version": 3
      },
      "file_extension": ".py",
      "mimetype": "text/x-python",
      "name": "python",
      "nbconvert_exporter": "python",
      "pygments_lexer": "ipython3",
      "version": "3.9.6"
    },
    "colab": {
      "provenance": [],
      "include_colab_link": true
    }
  },
  "nbformat": 4,
  "nbformat_minor": 5
}